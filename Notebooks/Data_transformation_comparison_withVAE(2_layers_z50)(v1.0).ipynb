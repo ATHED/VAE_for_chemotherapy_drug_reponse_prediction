{
 "cells": [
  {
   "cell_type": "markdown",
   "metadata": {},
   "source": [
    "# Load packages and use tensorflow as backend"
   ]
  },
  {
   "cell_type": "code",
   "execution_count": 1,
   "metadata": {
    "scrolled": true
   },
   "outputs": [
    {
     "name": "stderr",
     "output_type": "stream",
     "text": [
      "Using TensorFlow backend.\n"
     ]
    }
   ],
   "source": [
    "# Install a pip package in the current Jupyter kernel\n",
    "import sys\n",
    "#!{sys.executable} -m pip install numpy\n",
    "#!{sys.executable} -m pip install requests\n",
    "#import requests\n",
    "\n",
    "import numpy as np\n",
    "import pandas as pd\n",
    "import matplotlib.pyplot as plt\n",
    "import math\n",
    "from sklearn import preprocessing\n",
    "import tensorflow as tf\n",
    "import keras\n",
    "from tensorflow.python.client import device_lib\n",
    "import os\n",
    "import seaborn as sns\n",
    "\n",
    "import tensorflow as tf\n",
    "from keras.layers import Input, Dense, Lambda, Layer, Activation\n",
    "from keras.layers.normalization import BatchNormalization\n",
    "from keras.models import Model\n",
    "from keras import backend as K\n",
    "from keras import metrics, optimizers\n",
    "from keras import losses\n",
    "from keras.callbacks import Callback\n",
    "import keras\n",
    "from keras import utils\n",
    "\n",
    "import pydot\n",
    "import graphviz\n",
    "from keras.utils import plot_model\n",
    "from keras_tqdm import TQDMNotebookCallback\n",
    "#from .tqdm_callback import TQDMNotebookCallback\n",
    "from IPython.display import SVG\n",
    "from keras.utils.vis_utils import model_to_dot"
   ]
  },
  {
   "cell_type": "code",
   "execution_count": 2,
   "metadata": {},
   "outputs": [
    {
     "name": "stdout",
     "output_type": "stream",
     "text": [
      "b'Hello, TensorFlow!'\n",
      "10 + 32 =  42\n"
     ]
    }
   ],
   "source": [
    "#test tensorflow, remember to change the kernel\n",
    "import tensorflow as tf\n",
    "hello = tf.constant('Hello, TensorFlow!')\n",
    "sess = tf.Session()\n",
    "print(sess.run(hello))\n",
    "\n",
    "a = tf.constant(10)\n",
    "b = tf.constant(32)\n",
    "print(\"10 + 32 = \", sess.run(a + b))"
   ]
  },
  {
   "cell_type": "markdown",
   "metadata": {},
   "source": [
    "# Check the system information"
   ]
  },
  {
   "cell_type": "code",
   "execution_count": 3,
   "metadata": {},
   "outputs": [
    {
     "name": "stdout",
     "output_type": "stream",
     "text": [
      "whether tensorflow is built with cuda:  True\n",
      "whether gpu computing is available for tensorflow:  True\n",
      "using keras version:  2.1.3\n",
      "using tensorflow version:  1.4.1\n",
      "\n",
      "\n",
      "Device details:\n",
      " [name: \"/device:CPU:0\"\n",
      "device_type: \"CPU\"\n",
      "memory_limit: 268435456\n",
      "locality {\n",
      "}\n",
      "incarnation: 2929110242036256028\n",
      ", name: \"/device:GPU:0\"\n",
      "device_type: \"GPU\"\n",
      "memory_limit: 985661440\n",
      "locality {\n",
      "  bus_id: 1\n",
      "}\n",
      "incarnation: 3445248928938943208\n",
      "physical_device_desc: \"device: 0, name: TITAN RTX, pci bus id: 0000:01:00.0, compute capability: 7.5\"\n",
      "]\n",
      "Default GPU Device: /device:GPU:0\n"
     ]
    }
   ],
   "source": [
    "#######################################################################################################\n",
    "#check the system information, check if cuda and gpu computing for tensorflow is installed properly\n",
    "######################################################################################################\n",
    "print(\"whether tensorflow is built with cuda: \", tf.test.is_built_with_cuda())\n",
    "print(\"whether gpu computing is available for tensorflow: \", tf.test.is_gpu_available())\n",
    "print(\"using keras version: \", keras.__version__)\n",
    "print(\"using tensorflow version: \", tf.__version__)\n",
    "print(\"\\n\")\n",
    "print(\"Device details:\\n\", device_lib.list_local_devices())\n",
    "if tf.test.gpu_device_name():\n",
    "    print('Default GPU Device: {}'.format(tf.test.gpu_device_name()))\n",
    "else:\n",
    "    print(\"Please install GPU version of TF\")"
   ]
  },
  {
   "cell_type": "markdown",
   "metadata": {},
   "source": [
    "# Reading files/documents"
   ]
  },
  {
   "cell_type": "code",
   "execution_count": 4,
   "metadata": {},
   "outputs": [
    {
     "name": "stdout",
     "output_type": "stream",
     "text": [
      "The dimension of input dataset is:  (2606, 13854)\n"
     ]
    }
   ],
   "source": [
    "#Reading files/documents\n",
    "#using all unlabeled data\n",
    "path = '/media/qiwei/work/Python_playground/VAE/TCGA_5_cancers/counts_data/high_var_counts_data/TCGA_(BLCA_COAD_SARC_PAAD_BRCA)_(0.2chemo)VSTnrom_count_expr_clinical_data.txt'\n",
    "\n",
    "#only use labeled data\n",
    "#path = \"counts_data/counts_data_without_label/TCGA_SARC_(0.2chemo_45samples)VSTnrom_count_expr_clinical_data.tsv\"\n",
    "\n",
    "#open(path).readline()\n",
    "#gene expression RNAseq, Batch effects normalized mRNA data\n",
    "\n",
    "ExprAlldata = pd.read_csv(path, sep = \"\\t\", index_col = 0)\n",
    "ExprAlldata = ExprAlldata.dropna(axis='columns')\n",
    "#ExprAlldata.columns = [\"Gene\", \"Counts\"]\n",
    "print(\"The dimension of input dataset is: \", ExprAlldata.shape)"
   ]
  },
  {
   "cell_type": "code",
   "execution_count": 5,
   "metadata": {},
   "outputs": [
    {
     "data": {
      "text/html": [
       "<div>\n",
       "<style scoped>\n",
       "    .dataframe tbody tr th:only-of-type {\n",
       "        vertical-align: middle;\n",
       "    }\n",
       "\n",
       "    .dataframe tbody tr th {\n",
       "        vertical-align: top;\n",
       "    }\n",
       "\n",
       "    .dataframe thead th {\n",
       "        text-align: right;\n",
       "    }\n",
       "</style>\n",
       "<table border=\"1\" class=\"dataframe\">\n",
       "  <thead>\n",
       "    <tr style=\"text-align: right;\">\n",
       "      <th></th>\n",
       "      <th>ENSG00000000003.13</th>\n",
       "      <th>ENSG00000000419.11</th>\n",
       "      <th>ENSG00000000457.12</th>\n",
       "      <th>ENSG00000000460.15</th>\n",
       "      <th>ENSG00000000938.11</th>\n",
       "      <th>ENSG00000000971.14</th>\n",
       "      <th>ENSG00000001036.12</th>\n",
       "      <th>ENSG00000001084.9</th>\n",
       "      <th>ENSG00000001167.13</th>\n",
       "      <th>ENSG00000001460.16</th>\n",
       "      <th>...</th>\n",
       "      <th>ENSG00000280237.1</th>\n",
       "      <th>ENSG00000280411.1</th>\n",
       "      <th>ENSG00000280734.1</th>\n",
       "      <th>ENSG00000280789.1</th>\n",
       "      <th>ENSG00000280798.1</th>\n",
       "      <th>ENSG00000280832.1</th>\n",
       "      <th>ENSG00000281332.1</th>\n",
       "      <th>ENSG00000281398.1</th>\n",
       "      <th>ENSG00000281406.1</th>\n",
       "      <th>ENSG00000281649.1</th>\n",
       "    </tr>\n",
       "  </thead>\n",
       "  <tbody>\n",
       "    <tr>\n",
       "      <th>TCGA-2F-A9KO-01A</th>\n",
       "      <td>12.799987</td>\n",
       "      <td>11.730276</td>\n",
       "      <td>10.407923</td>\n",
       "      <td>9.657609</td>\n",
       "      <td>8.874620</td>\n",
       "      <td>13.307831</td>\n",
       "      <td>11.095982</td>\n",
       "      <td>13.282889</td>\n",
       "      <td>10.770459</td>\n",
       "      <td>8.746838</td>\n",
       "      <td>...</td>\n",
       "      <td>6.144644</td>\n",
       "      <td>7.890611</td>\n",
       "      <td>9.487477</td>\n",
       "      <td>8.197412</td>\n",
       "      <td>8.170328</td>\n",
       "      <td>6.616274</td>\n",
       "      <td>7.787851</td>\n",
       "      <td>7.497947</td>\n",
       "      <td>5.870692</td>\n",
       "      <td>11.652532</td>\n",
       "    </tr>\n",
       "    <tr>\n",
       "      <th>TCGA-2F-A9KP-01A</th>\n",
       "      <td>13.361298</td>\n",
       "      <td>11.061773</td>\n",
       "      <td>9.586506</td>\n",
       "      <td>9.498557</td>\n",
       "      <td>7.200246</td>\n",
       "      <td>8.611701</td>\n",
       "      <td>11.850127</td>\n",
       "      <td>12.652118</td>\n",
       "      <td>10.921566</td>\n",
       "      <td>9.844942</td>\n",
       "      <td>...</td>\n",
       "      <td>5.771074</td>\n",
       "      <td>4.784194</td>\n",
       "      <td>7.916190</td>\n",
       "      <td>8.448300</td>\n",
       "      <td>8.392858</td>\n",
       "      <td>8.582964</td>\n",
       "      <td>7.607547</td>\n",
       "      <td>8.687574</td>\n",
       "      <td>5.683720</td>\n",
       "      <td>10.179641</td>\n",
       "    </tr>\n",
       "    <tr>\n",
       "      <th>TCGA-2F-A9KQ-01A</th>\n",
       "      <td>12.427114</td>\n",
       "      <td>10.858984</td>\n",
       "      <td>10.020076</td>\n",
       "      <td>8.675861</td>\n",
       "      <td>8.320863</td>\n",
       "      <td>9.012543</td>\n",
       "      <td>12.080271</td>\n",
       "      <td>11.863083</td>\n",
       "      <td>10.551890</td>\n",
       "      <td>9.549010</td>\n",
       "      <td>...</td>\n",
       "      <td>5.740098</td>\n",
       "      <td>3.684469</td>\n",
       "      <td>8.097340</td>\n",
       "      <td>8.346210</td>\n",
       "      <td>8.335397</td>\n",
       "      <td>8.058829</td>\n",
       "      <td>7.888971</td>\n",
       "      <td>7.463664</td>\n",
       "      <td>6.561208</td>\n",
       "      <td>10.483294</td>\n",
       "    </tr>\n",
       "  </tbody>\n",
       "</table>\n",
       "<p>3 rows × 13854 columns</p>\n",
       "</div>"
      ],
      "text/plain": [
       "                  ENSG00000000003.13  ENSG00000000419.11  ENSG00000000457.12  \\\n",
       "TCGA-2F-A9KO-01A           12.799987           11.730276           10.407923   \n",
       "TCGA-2F-A9KP-01A           13.361298           11.061773            9.586506   \n",
       "TCGA-2F-A9KQ-01A           12.427114           10.858984           10.020076   \n",
       "\n",
       "                  ENSG00000000460.15  ENSG00000000938.11  ENSG00000000971.14  \\\n",
       "TCGA-2F-A9KO-01A            9.657609            8.874620           13.307831   \n",
       "TCGA-2F-A9KP-01A            9.498557            7.200246            8.611701   \n",
       "TCGA-2F-A9KQ-01A            8.675861            8.320863            9.012543   \n",
       "\n",
       "                  ENSG00000001036.12  ENSG00000001084.9  ENSG00000001167.13  \\\n",
       "TCGA-2F-A9KO-01A           11.095982          13.282889           10.770459   \n",
       "TCGA-2F-A9KP-01A           11.850127          12.652118           10.921566   \n",
       "TCGA-2F-A9KQ-01A           12.080271          11.863083           10.551890   \n",
       "\n",
       "                  ENSG00000001460.16        ...          ENSG00000280237.1  \\\n",
       "TCGA-2F-A9KO-01A            8.746838        ...                   6.144644   \n",
       "TCGA-2F-A9KP-01A            9.844942        ...                   5.771074   \n",
       "TCGA-2F-A9KQ-01A            9.549010        ...                   5.740098   \n",
       "\n",
       "                  ENSG00000280411.1  ENSG00000280734.1  ENSG00000280789.1  \\\n",
       "TCGA-2F-A9KO-01A           7.890611           9.487477           8.197412   \n",
       "TCGA-2F-A9KP-01A           4.784194           7.916190           8.448300   \n",
       "TCGA-2F-A9KQ-01A           3.684469           8.097340           8.346210   \n",
       "\n",
       "                  ENSG00000280798.1  ENSG00000280832.1  ENSG00000281332.1  \\\n",
       "TCGA-2F-A9KO-01A           8.170328           6.616274           7.787851   \n",
       "TCGA-2F-A9KP-01A           8.392858           8.582964           7.607547   \n",
       "TCGA-2F-A9KQ-01A           8.335397           8.058829           7.888971   \n",
       "\n",
       "                  ENSG00000281398.1  ENSG00000281406.1  ENSG00000281649.1  \n",
       "TCGA-2F-A9KO-01A           7.497947           5.870692          11.652532  \n",
       "TCGA-2F-A9KP-01A           8.687574           5.683720          10.179641  \n",
       "TCGA-2F-A9KQ-01A           7.463664           6.561208          10.483294  \n",
       "\n",
       "[3 rows x 13854 columns]"
      ]
     },
     "execution_count": 5,
     "metadata": {},
     "output_type": "execute_result"
    }
   ],
   "source": [
    "ExprAlldata.head(3)"
   ]
  },
  {
   "cell_type": "markdown",
   "metadata": {},
   "source": [
    "## Sanity check"
   ]
  },
  {
   "cell_type": "code",
   "execution_count": 6,
   "metadata": {},
   "outputs": [
    {
     "name": "stdout",
     "output_type": "stream",
     "text": [
      "There exists NA value: ENSG00000000003.13    False\n",
      "ENSG00000000419.11    False\n",
      "ENSG00000000457.12    False\n",
      "ENSG00000000460.15    False\n",
      "ENSG00000000938.11    False\n",
      "ENSG00000000971.14    False\n",
      "ENSG00000001036.12    False\n",
      "ENSG00000001084.9     False\n",
      "ENSG00000001167.13    False\n",
      "ENSG00000001460.16    False\n",
      "ENSG00000001461.15    False\n",
      "ENSG00000001497.15    False\n",
      "ENSG00000001561.6     False\n",
      "ENSG00000001617.10    False\n",
      "ENSG00000001626.13    False\n",
      "ENSG00000001629.8     False\n",
      "ENSG00000001630.14    False\n",
      "ENSG00000001631.13    False\n",
      "ENSG00000002016.15    False\n",
      "ENSG00000002330.12    False\n",
      "ENSG00000002549.11    False\n",
      "ENSG00000002586.16    False\n",
      "ENSG00000002587.8     False\n",
      "ENSG00000002726.18    False\n",
      "ENSG00000002822.14    False\n",
      "ENSG00000002834.16    False\n",
      "ENSG00000002919.13    False\n",
      "ENSG00000002933.6     False\n",
      "ENSG00000003056.6     False\n",
      "ENSG00000003096.12    False\n",
      "                      ...  \n",
      "ENSG00000278948.1     False\n",
      "ENSG00000278970.1     False\n",
      "ENSG00000278978.1     False\n",
      "ENSG00000279010.1     False\n",
      "ENSG00000279088.1     False\n",
      "ENSG00000279095.1     False\n",
      "ENSG00000279117.1     False\n",
      "ENSG00000279207.1     False\n",
      "ENSG00000279453.1     False\n",
      "ENSG00000279483.1     False\n",
      "ENSG00000279496.1     False\n",
      "ENSG00000279528.1     False\n",
      "ENSG00000279978.1     False\n",
      "ENSG00000280088.1     False\n",
      "ENSG00000280111.1     False\n",
      "ENSG00000280128.1     False\n",
      "ENSG00000280138.1     False\n",
      "ENSG00000280143.1     False\n",
      "ENSG00000280202.1     False\n",
      "ENSG00000280206.1     False\n",
      "ENSG00000280237.1     False\n",
      "ENSG00000280411.1     False\n",
      "ENSG00000280734.1     False\n",
      "ENSG00000280789.1     False\n",
      "ENSG00000280798.1     False\n",
      "ENSG00000280832.1     False\n",
      "ENSG00000281332.1     False\n",
      "ENSG00000281398.1     False\n",
      "ENSG00000281406.1     False\n",
      "ENSG00000281649.1     False\n",
      "Length: 13854, dtype: bool\n",
      "All values are finite: ENSG00000000003.13    True\n",
      "ENSG00000000419.11    True\n",
      "ENSG00000000457.12    True\n",
      "ENSG00000000460.15    True\n",
      "ENSG00000000938.11    True\n",
      "ENSG00000000971.14    True\n",
      "ENSG00000001036.12    True\n",
      "ENSG00000001084.9     True\n",
      "ENSG00000001167.13    True\n",
      "ENSG00000001460.16    True\n",
      "ENSG00000001461.15    True\n",
      "ENSG00000001497.15    True\n",
      "ENSG00000001561.6     True\n",
      "ENSG00000001617.10    True\n",
      "ENSG00000001626.13    True\n",
      "ENSG00000001629.8     True\n",
      "ENSG00000001630.14    True\n",
      "ENSG00000001631.13    True\n",
      "ENSG00000002016.15    True\n",
      "ENSG00000002330.12    True\n",
      "ENSG00000002549.11    True\n",
      "ENSG00000002586.16    True\n",
      "ENSG00000002587.8     True\n",
      "ENSG00000002726.18    True\n",
      "ENSG00000002822.14    True\n",
      "ENSG00000002834.16    True\n",
      "ENSG00000002919.13    True\n",
      "ENSG00000002933.6     True\n",
      "ENSG00000003056.6     True\n",
      "ENSG00000003096.12    True\n",
      "                      ... \n",
      "ENSG00000278948.1     True\n",
      "ENSG00000278970.1     True\n",
      "ENSG00000278978.1     True\n",
      "ENSG00000279010.1     True\n",
      "ENSG00000279088.1     True\n",
      "ENSG00000279095.1     True\n",
      "ENSG00000279117.1     True\n",
      "ENSG00000279207.1     True\n",
      "ENSG00000279453.1     True\n",
      "ENSG00000279483.1     True\n",
      "ENSG00000279496.1     True\n",
      "ENSG00000279528.1     True\n",
      "ENSG00000279978.1     True\n",
      "ENSG00000280088.1     True\n",
      "ENSG00000280111.1     True\n",
      "ENSG00000280128.1     True\n",
      "ENSG00000280138.1     True\n",
      "ENSG00000280143.1     True\n",
      "ENSG00000280202.1     True\n",
      "ENSG00000280206.1     True\n",
      "ENSG00000280237.1     True\n",
      "ENSG00000280411.1     True\n",
      "ENSG00000280734.1     True\n",
      "ENSG00000280789.1     True\n",
      "ENSG00000280798.1     True\n",
      "ENSG00000280832.1     True\n",
      "ENSG00000281332.1     True\n",
      "ENSG00000281398.1     True\n",
      "ENSG00000281406.1     True\n",
      "ENSG00000281649.1     True\n",
      "Length: 13854, dtype: bool\n"
     ]
    }
   ],
   "source": [
    "any_na = np.any(np.isnan(ExprAlldata))\n",
    "print ('There exists NA value: ' + repr (any_na))\n",
    "\n",
    "all_finite = np.all(np.isfinite(ExprAlldata))\n",
    "print ('All values are finite: ' + repr (all_finite))"
   ]
  },
  {
   "cell_type": "markdown",
   "metadata": {},
   "source": [
    "# Data normalization choices"
   ]
  },
  {
   "cell_type": "code",
   "execution_count": 7,
   "metadata": {},
   "outputs": [
    {
     "data": {
      "text/plain": [
       "(2606, 13854)"
      ]
     },
     "execution_count": 7,
     "metadata": {},
     "output_type": "execute_result"
    }
   ],
   "source": [
    "#minmax data transformation\n",
    "from sklearn import preprocessing\n",
    "\n",
    "#built up data frame\n",
    "from pandas import DataFrame, Series\n",
    "Exprframe = DataFrame(ExprAlldata)\n",
    "#Exprframe = ExprAlldata.T\n",
    "Exprframe_og = Exprframe\n",
    "\n",
    "# Scale RNAseq data using zero-one normalization\n",
    "Exprframe_zerone = preprocessing.MinMaxScaler().fit_transform(Exprframe)\n",
    "Exprframe_zerone.shape\n",
    "\n",
    "#change column name\n",
    "#Exprframe.columns.values[0] = \"Gene\"\n",
    "\n",
    "#set rownames\n",
    "#Exprframe = Exprframe.set_index('Gene')\n",
    "#Exprframe"
   ]
  },
  {
   "cell_type": "code",
   "execution_count": 8,
   "metadata": {},
   "outputs": [],
   "source": [
    "# logistic transformation, logistic sigmoid function\n",
    "#def logits(x):\n",
    "#    return 1 / (1 + np.exp(-x))\n",
    "\n",
    "#Exprframe_logit = logits(Exprframe)\n",
    "#Exprframe_logit.shape"
   ]
  },
  {
   "cell_type": "code",
   "execution_count": 9,
   "metadata": {},
   "outputs": [],
   "source": [
    "# Standardize\n",
    "#scaler = preprocessing.StandardScaler()\n",
    "#scaler.fit((Exprframe))\n",
    "#Exprfram_std = scaler.transform(Exprframe)\n",
    "#Exprfram_std.shape"
   ]
  },
  {
   "cell_type": "code",
   "execution_count": 10,
   "metadata": {},
   "outputs": [],
   "source": [
    "# If select the minmax method\n",
    "Exprframe = pd.DataFrame(Exprframe_zerone,\n",
    "                         columns=Exprframe.columns,\n",
    "                         index=Exprframe.index)\n",
    "\n",
    "# If select the logistic transformation method\n",
    "#Exprframe = pd.DataFrame(Exprframe_logit,\n",
    "#                         columns=Exprframe.columns,\n",
    "#                         index=Exprframe.index)\n",
    "\n",
    "# If select the Standardization method\n",
    "#Exprframe = pd.DataFrame(Exprfram_std,\n",
    "#                         columns=Exprframe.columns,\n",
    "#                         index=Exprframe.index)\n",
    "\n",
    "# If use no transformation\n",
    "#Exprframe = Exprframe_og\n",
    "\n",
    "#print(Exprframe.shape)\n",
    "#Exprframe.head(3)\n",
    "\n",
    "#output log transformed data\n",
    "#log_file = \"counts_data/vae_compressed/log_transformed(0.2_var,3layers,0.1test,log).tsv\"\n",
    "#Exprframe.to_csv(log_file, sep='\\t')"
   ]
  },
  {
   "cell_type": "code",
   "execution_count": 11,
   "metadata": {},
   "outputs": [
    {
     "name": "stdout",
     "output_type": "stream",
     "text": [
      "number of genes is 13854\n"
     ]
    }
   ],
   "source": [
    "import math\n",
    "#contruct training dataset\n",
    "n_genes = Exprframe.shape[1]\n",
    "print ('number of genes is ' + repr (n_genes))"
   ]
  },
  {
   "cell_type": "markdown",
   "metadata": {},
   "source": [
    "## Split 10% of the data as test set randomly"
   ]
  },
  {
   "cell_type": "code",
   "execution_count": 12,
   "metadata": {},
   "outputs": [
    {
     "name": "stdout",
     "output_type": "stream",
     "text": [
      "The dimension of training dataset is:  (2345, 13854)\n"
     ]
    }
   ],
   "source": [
    "#import the data as training data\n",
    "#set the random state to 42\n",
    "\n",
    "# Split 10% test set randomly\n",
    "test_set_percent = 0.1\n",
    "Exprframe_test = Exprframe.sample(frac=test_set_percent, random_state = 42)\n",
    "Exprframe_train = Exprframe.drop(Exprframe_test.index)\n",
    "print(\"The dimension of training dataset is: \",Exprframe_train.shape)"
   ]
  },
  {
   "cell_type": "markdown",
   "metadata": {},
   "source": [
    "# Load functions and classes\n",
    "* This will facilitate connections between layers and also custom hyperparameters"
   ]
  },
  {
   "cell_type": "code",
   "execution_count": 13,
   "metadata": {},
   "outputs": [],
   "source": [
    "# Function for reparameterization trick to make model differentiable\n",
    "def sampling(args):\n",
    "    \n",
    "    import tensorflow as tf\n",
    "    # Function with args required for Keras Lambda function\n",
    "    z_mean, z_log_var = args\n",
    "\n",
    "    # Draw epsilon of the same shape from a standard normal distribution\n",
    "    epsilon = K.random_normal(shape=tf.shape(z_mean), mean=0.,\n",
    "                              stddev=epsilon_std)\n",
    "    \n",
    "    # The latent vector is non-deterministic and differentiable\n",
    "    # in respect to z_mean and z_log_var\n",
    "    z = z_mean + K.exp(z_log_var / 2) * epsilon\n",
    "    return z\n",
    "\n",
    "\n",
    "class CustomVariationalLayer(Layer):\n",
    "    \"\"\"\n",
    "    Define a custom layer that learns and performs the training\n",
    "    This function is borrowed from:\n",
    "    https://github.com/fchollet/keras/blob/master/examples/variational_autoencoder.py\n",
    "    \"\"\"\n",
    "    def __init__(self, **kwargs):\n",
    "        # https://keras.io/layers/writing-your-own-keras-layers/\n",
    "        self.is_placeholder = True\n",
    "        super(CustomVariationalLayer, self).__init__(**kwargs)\n",
    "\n",
    "    #def vae_loss(self, x_input, x_decoded):\n",
    "    #    reconstruction_loss = original_dim * metrics.binary_crossentropy(x_input, x_decoded)\n",
    "    #    kl_loss = - 0.5 * K.sum(1 + z_log_var_encoded - K.square(z_mean_encoded) - \n",
    "    #                            K.exp(z_log_var_encoded), axis=-1)\n",
    "    #    return K.mean(reconstruction_loss + (K.get_value(beta) * kl_loss))\n",
    "    \n",
    "    def vae_loss(self, x_input, x_decoded):\n",
    "        #per sample\n",
    "        reconstruction_loss = original_dim * losses.mean_absolute_error(x_input, x_decoded)\n",
    "        kl_loss = - 0.5 * K.sum(1 + z_log_var_encoded - K.square(z_mean_encoded) - \n",
    "                                K.exp(z_log_var_encoded), axis=-1)\n",
    "        \n",
    "        #\n",
    "        #per data point\n",
    "        #reconstruction_loss = losses.mean_absolute_error(x_input, x_decoded)\n",
    "        #kl_loss = - 0.5 * K.sum(1 + z_log_var_encoded - K.square(z_mean_encoded) - \n",
    "        #                        K.exp(z_log_var_encoded), axis=-1) / latent_dim\n",
    "        \n",
    "        \n",
    "        return K.mean(reconstruction_loss + alpha * (kl_loss))#K.mean(reconstruction_loss + (K.get_value(beta) * kl_loss))\n",
    "\n",
    "\n",
    "    def call(self, inputs):\n",
    "        x = inputs[0]\n",
    "        x_decoded = inputs[1]\n",
    "        loss = self.vae_loss(x, x_decoded)\n",
    "        self.add_loss(loss, inputs=inputs)\n",
    "        # We won't actually use the output.\n",
    "        return x"
   ]
  },
  {
   "cell_type": "markdown",
   "metadata": {},
   "source": [
    "## Implementing Warm-up as described in Sonderby et al. LVAE\n",
    "\n",
    "* This is modified code from https://github.com/fchollet/keras/issues/2595"
   ]
  },
  {
   "cell_type": "code",
   "execution_count": 14,
   "metadata": {},
   "outputs": [],
   "source": [
    "class WarmUpCallback(Callback):\n",
    "    def __init__(self, beta, kappa):\n",
    "        self.beta = beta\n",
    "        self.kappa = kappa\n",
    "    # Behavior on each epoch\n",
    "    def on_epoch_end(self, epoch, logs={}):\n",
    "        if K.get_value(self.beta) <= 1:\n",
    "            K.set_value(self.beta, K.get_value(self.beta) + self.kappa)"
   ]
  },
  {
   "cell_type": "markdown",
   "metadata": {},
   "source": [
    "## Set hyper parameters"
   ]
  },
  {
   "cell_type": "code",
   "execution_count": 15,
   "metadata": {},
   "outputs": [
    {
     "name": "stdout",
     "output_type": "stream",
     "text": [
      "The dimension of input layer is:  13854\n"
     ]
    }
   ],
   "source": [
    "# Set hyper parameters\n",
    "original_dim = Exprframe.shape[1]\n",
    "print(\"The dimension of input layer is: \", original_dim)\n",
    "\n",
    "layer1_dim = 12000\n",
    "latent_dim = 50\n",
    "\n",
    "batch_size = Exprframe.shape[0]\n",
    "epochs = 700\n",
    "learning_rate = 0.002\n",
    "\n",
    "#set kernel initializer\n",
    "# Casey paper 'glorot_uniform'\n",
    "#initial_method = 'glorot_uniform'\n",
    "#initial_method = keras.initializers.glorot_uniform(seed=807)\n",
    "\n",
    "initial_method = keras.initializers.glorot_normal(seed=42)\n",
    "\n",
    "epsilon_std = 1.0\n",
    "alpha = 1.0\n",
    "\n",
    "beta = K.variable(0)\n",
    "kappa = 0.002"
   ]
  },
  {
   "cell_type": "markdown",
   "metadata": {},
   "source": [
    "# Encoder network"
   ]
  },
  {
   "cell_type": "code",
   "execution_count": 16,
   "metadata": {},
   "outputs": [],
   "source": [
    "#simple neural network version with two layers\n",
    "#Layer 1\n",
    "# Input place holder for RNAseq data with specific input size\n",
    "rnaseq_input = Input(shape=(original_dim, ))\n",
    "\n",
    "#L1\n",
    "l1_dense_linear = Dense(layer1_dim, kernel_initializer=initial_method)(rnaseq_input)\n",
    "l1_dense_batchnorm = BatchNormalization()(l1_dense_linear)\n",
    "l1 = Activation('relu')(l1_dense_batchnorm)"
   ]
  },
  {
   "cell_type": "code",
   "execution_count": 17,
   "metadata": {},
   "outputs": [],
   "source": [
    "#Layer 6\n",
    "# Input layer is compressed into a mean and log variance vector of size `latent_dim`\n",
    "# Each layer is initialized with glorot uniform weights and each step (dense connections,\n",
    "# batch norm, and relu activation) are funneled separately\n",
    "# Each vector of length `latent_dim` are connected to the rnaseq input tensor\n",
    "\n",
    "z_mean_dense_linear = Dense(latent_dim, kernel_initializer=initial_method)(l1)\n",
    "z_mean_dense_batchnorm = BatchNormalization()(z_mean_dense_linear)\n",
    "z_mean_encoded = Activation('relu')(z_mean_dense_batchnorm)\n",
    "\n",
    "z_log_var_dense_linear = Dense(latent_dim, kernel_initializer=initial_method)(l1)\n",
    "z_log_var_dense_batchnorm = BatchNormalization()(z_log_var_dense_linear)\n",
    "z_log_var_encoded = Activation('relu')(z_log_var_dense_batchnorm)\n",
    "\n",
    "# return the encoded and randomly sampled z vector\n",
    "# Takes two keras layers as input to the custom sampling function layer with a `latent_dim` output\n",
    "z = Lambda(sampling, output_shape=(latent_dim, ))([z_mean_encoded, z_log_var_encoded])"
   ]
  },
  {
   "cell_type": "markdown",
   "metadata": {},
   "source": [
    "# Decoder Network"
   ]
  },
  {
   "cell_type": "code",
   "execution_count": 18,
   "metadata": {},
   "outputs": [],
   "source": [
    "# The decoding layers have 2 layers and relu activation\n",
    "decoderl1_reconstruct = Dense(layer1_dim, kernel_initializer=initial_method, activation='relu')\n",
    "decoder_l1 = decoderl1_reconstruct(z)\n",
    "\n",
    "decoderl0_reconstruct = Dense(original_dim, kernel_initializer=initial_method, activation='relu')\n",
    "rnaseq_reconstruct = decoderl0_reconstruct(decoder_l1)"
   ]
  },
  {
   "cell_type": "markdown",
   "metadata": {},
   "source": [
    "## Connect the encoder and decoder to make the VAE\n",
    "\n",
    "* The CustomVariationalLayer() includes the VAE loss function (reconstruction + (beta * KL)), which is what will drive our model to learn an interpretable representation of gene expression space.\n",
    "\n",
    "* The VAE is compiled with an Adam optimizer and built-in custom loss function. The loss_weights parameter ensures beta is updated at each epoch end callback"
   ]
  },
  {
   "cell_type": "code",
   "execution_count": 19,
   "metadata": {},
   "outputs": [
    {
     "name": "stderr",
     "output_type": "stream",
     "text": [
      "/home/qiwei/anaconda2/envs/tensorflow-gpu-test/lib/python3.5/site-packages/ipykernel/__main__.py:5: UserWarning: Output \"custom_variational_layer_1\" missing from loss dictionary. We assume this was done on purpose, and we will not be expecting any data to be passed to \"custom_variational_layer_1\" during training.\n"
     ]
    },
    {
     "name": "stdout",
     "output_type": "stream",
     "text": [
      "__________________________________________________________________________________________________\n",
      "Layer (type)                    Output Shape         Param #     Connected to                     \n",
      "==================================================================================================\n",
      "input_1 (InputLayer)            (None, 13854)        0                                            \n",
      "__________________________________________________________________________________________________\n",
      "dense_1 (Dense)                 (None, 12000)        166260000   input_1[0][0]                    \n",
      "__________________________________________________________________________________________________\n",
      "batch_normalization_1 (BatchNor (None, 12000)        48000       dense_1[0][0]                    \n",
      "__________________________________________________________________________________________________\n",
      "activation_1 (Activation)       (None, 12000)        0           batch_normalization_1[0][0]      \n",
      "__________________________________________________________________________________________________\n",
      "dense_2 (Dense)                 (None, 50)           600050      activation_1[0][0]               \n",
      "__________________________________________________________________________________________________\n",
      "dense_3 (Dense)                 (None, 50)           600050      activation_1[0][0]               \n",
      "__________________________________________________________________________________________________\n",
      "batch_normalization_2 (BatchNor (None, 50)           200         dense_2[0][0]                    \n",
      "__________________________________________________________________________________________________\n",
      "batch_normalization_3 (BatchNor (None, 50)           200         dense_3[0][0]                    \n",
      "__________________________________________________________________________________________________\n",
      "activation_2 (Activation)       (None, 50)           0           batch_normalization_2[0][0]      \n",
      "__________________________________________________________________________________________________\n",
      "activation_3 (Activation)       (None, 50)           0           batch_normalization_3[0][0]      \n",
      "__________________________________________________________________________________________________\n",
      "lambda_1 (Lambda)               (None, 50)           0           activation_2[0][0]               \n",
      "                                                                 activation_3[0][0]               \n",
      "__________________________________________________________________________________________________\n",
      "dense_4 (Dense)                 (None, 12000)        612000      lambda_1[0][0]                   \n",
      "__________________________________________________________________________________________________\n",
      "dense_5 (Dense)                 (None, 13854)        166261854   dense_4[0][0]                    \n",
      "__________________________________________________________________________________________________\n",
      "custom_variational_layer_1 (Cus [(None, 13854), (Non 0           input_1[0][0]                    \n",
      "                                                                 dense_5[0][0]                    \n",
      "==================================================================================================\n",
      "Total params: 334,382,354\n",
      "Trainable params: 334,358,154\n",
      "Non-trainable params: 24,200\n",
      "__________________________________________________________________________________________________\n"
     ]
    }
   ],
   "source": [
    "from keras import losses\n",
    "adam = optimizers.Adam(lr=learning_rate, beta_1=0.9, beta_2=0.999)\n",
    "vae_layer = CustomVariationalLayer()([rnaseq_input, rnaseq_reconstruct])\n",
    "vae = Model(rnaseq_input, vae_layer)\n",
    "vae.compile(optimizer=adam, loss=None, loss_weights=[beta])\n",
    "#vae.compile(optimizer=adam, loss=losses.kullback_leibler_divergence)\n",
    "\n",
    "#########################################################################\n",
    "#only use to manually set initial weights, otherwise change the initializer\n",
    "weights = vae.get_weights()\n",
    "#new_weight = [item*0+0.01 for item in weights]\n",
    "#vae.set_weights(new_weight)\n",
    "vae.summary()"
   ]
  },
  {
   "cell_type": "markdown",
   "metadata": {},
   "source": [
    "# Train the model\n",
    "\n",
    "* The training data is shuffled after every epoch and 10% of the data is heldout for calculating validation loss."
   ]
  },
  {
   "cell_type": "code",
   "execution_count": 20,
   "metadata": {},
   "outputs": [
    {
     "data": {
      "application/vnd.jupyter.widget-view+json": {
       "model_id": "8dc306aeee104cfeae9d6605df241dc1"
      }
     },
     "metadata": {},
     "output_type": "display_data"
    },
    {
     "data": {
      "application/vnd.jupyter.widget-view+json": {
       "model_id": "fc43f6987e3a469a9348221dfd243ed7"
      }
     },
     "metadata": {},
     "output_type": "display_data"
    },
    {
     "data": {
      "application/vnd.jupyter.widget-view+json": {
       "model_id": "ef1572828eeb48e193c986280f6e4676"
      }
     },
     "metadata": {},
     "output_type": "display_data"
    },
    {
     "data": {
      "application/vnd.jupyter.widget-view+json": {
       "model_id": "7836f1517dcb4797a0a91172a1e7ac94"
      }
     },
     "metadata": {},
     "output_type": "display_data"
    },
    {
     "data": {
      "application/vnd.jupyter.widget-view+json": {
       "model_id": "2203ff4d7740431f9880bc1c42afce6f"
      }
     },
     "metadata": {},
     "output_type": "display_data"
    },
    {
     "data": {
      "application/vnd.jupyter.widget-view+json": {
       "model_id": "3800d217d1b7464ba53db9b5e4ad5a74"
      }
     },
     "metadata": {},
     "output_type": "display_data"
    },
    {
     "data": {
      "application/vnd.jupyter.widget-view+json": {
       "model_id": "c071ee0d84fa4c02873ff2a03cd4831c"
      }
     },
     "metadata": {},
     "output_type": "display_data"
    },
    {
     "data": {
      "application/vnd.jupyter.widget-view+json": {
       "model_id": "d98e708cc20d4672ba74725dfbe75bae"
      }
     },
     "metadata": {},
     "output_type": "display_data"
    },
    {
     "data": {
      "application/vnd.jupyter.widget-view+json": {
       "model_id": "230889438a78491581a5ead1582f0ea7"
      }
     },
     "metadata": {},
     "output_type": "display_data"
    },
    {
     "data": {
      "application/vnd.jupyter.widget-view+json": {
       "model_id": "4460be2a213d4231b3e4749713d147f4"
      }
     },
     "metadata": {},
     "output_type": "display_data"
    },
    {
     "data": {
      "application/vnd.jupyter.widget-view+json": {
       "model_id": "7407de0b562640778461988a04ad42ff"
      }
     },
     "metadata": {},
     "output_type": "display_data"
    },
    {
     "data": {
      "application/vnd.jupyter.widget-view+json": {
       "model_id": "ac625418463047b7a6805ebff8ad2c04"
      }
     },
     "metadata": {},
     "output_type": "display_data"
    },
    {
     "data": {
      "application/vnd.jupyter.widget-view+json": {
       "model_id": "89e88124334840d0adcc3aaed5da4b69"
      }
     },
     "metadata": {},
     "output_type": "display_data"
    },
    {
     "data": {
      "application/vnd.jupyter.widget-view+json": {
       "model_id": "ab4e406e1f8c41898c00a3eb1b279676"
      }
     },
     "metadata": {},
     "output_type": "display_data"
    },
    {
     "data": {
      "application/vnd.jupyter.widget-view+json": {
       "model_id": "feb9045b10484468832f7040ccef8a30"
      }
     },
     "metadata": {},
     "output_type": "display_data"
    },
    {
     "data": {
      "application/vnd.jupyter.widget-view+json": {
       "model_id": "9bcf47e9cbf64a119985eb341d6c40e9"
      }
     },
     "metadata": {},
     "output_type": "display_data"
    },
    {
     "data": {
      "application/vnd.jupyter.widget-view+json": {
       "model_id": "f147f272059a45eea06d18c69f39730c"
      }
     },
     "metadata": {},
     "output_type": "display_data"
    },
    {
     "data": {
      "application/vnd.jupyter.widget-view+json": {
       "model_id": "9e724b45caa241ea83d15bdced8a0214"
      }
     },
     "metadata": {},
     "output_type": "display_data"
    },
    {
     "data": {
      "application/vnd.jupyter.widget-view+json": {
       "model_id": "e353dbc866a7482f92f94085bc288658"
      }
     },
     "metadata": {},
     "output_type": "display_data"
    },
    {
     "data": {
      "application/vnd.jupyter.widget-view+json": {
       "model_id": "9f293d13b7d74fcbae73fb8a88b52a1f"
      }
     },
     "metadata": {},
     "output_type": "display_data"
    },
    {
     "data": {
      "application/vnd.jupyter.widget-view+json": {
       "model_id": "49a69b9286fc4c3285f0ac01cf3b1065"
      }
     },
     "metadata": {},
     "output_type": "display_data"
    },
    {
     "data": {
      "application/vnd.jupyter.widget-view+json": {
       "model_id": "efb765f32338408fa06cb5af6fbe8b76"
      }
     },
     "metadata": {},
     "output_type": "display_data"
    },
    {
     "data": {
      "application/vnd.jupyter.widget-view+json": {
       "model_id": "9847f24467a546c785e4ca915f01493d"
      }
     },
     "metadata": {},
     "output_type": "display_data"
    },
    {
     "data": {
      "application/vnd.jupyter.widget-view+json": {
       "model_id": "255418f2defd4754a40b4ce42ef59443"
      }
     },
     "metadata": {},
     "output_type": "display_data"
    },
    {
     "data": {
      "application/vnd.jupyter.widget-view+json": {
       "model_id": "e4e4b356707849bcb3d37c1ca236a53f"
      }
     },
     "metadata": {},
     "output_type": "display_data"
    },
    {
     "data": {
      "application/vnd.jupyter.widget-view+json": {
       "model_id": "0ff9da07cf02482fb27a640dea22303f"
      }
     },
     "metadata": {},
     "output_type": "display_data"
    },
    {
     "data": {
      "application/vnd.jupyter.widget-view+json": {
       "model_id": "35af135fa6ae4656a93600202356a5e7"
      }
     },
     "metadata": {},
     "output_type": "display_data"
    },
    {
     "data": {
      "application/vnd.jupyter.widget-view+json": {
       "model_id": "f5ac10de34ec499ba91b84e52f95eafb"
      }
     },
     "metadata": {},
     "output_type": "display_data"
    },
    {
     "data": {
      "application/vnd.jupyter.widget-view+json": {
       "model_id": "a1487442bb754d3cbadb5f51ec905626"
      }
     },
     "metadata": {},
     "output_type": "display_data"
    },
    {
     "data": {
      "application/vnd.jupyter.widget-view+json": {
       "model_id": "3178242a90c54658a786eec6ad45e3c9"
      }
     },
     "metadata": {},
     "output_type": "display_data"
    },
    {
     "data": {
      "application/vnd.jupyter.widget-view+json": {
       "model_id": "9cac938df54248bdbc28565834c8729b"
      }
     },
     "metadata": {},
     "output_type": "display_data"
    },
    {
     "data": {
      "application/vnd.jupyter.widget-view+json": {
       "model_id": "329e22c8dc09431bacd0196cdd943cd4"
      }
     },
     "metadata": {},
     "output_type": "display_data"
    },
    {
     "data": {
      "application/vnd.jupyter.widget-view+json": {
       "model_id": "fd55b32776ac4cf089e1caee750c5ca8"
      }
     },
     "metadata": {},
     "output_type": "display_data"
    },
    {
     "data": {
      "application/vnd.jupyter.widget-view+json": {
       "model_id": "4b838b59061d445e9149c318b454e4ab"
      }
     },
     "metadata": {},
     "output_type": "display_data"
    },
    {
     "data": {
      "application/vnd.jupyter.widget-view+json": {
       "model_id": "2b3cb040b3304c218f4c7f04da5d9d36"
      }
     },
     "metadata": {},
     "output_type": "display_data"
    },
    {
     "data": {
      "application/vnd.jupyter.widget-view+json": {
       "model_id": "627e85600ad742569b582a2e179bb02e"
      }
     },
     "metadata": {},
     "output_type": "display_data"
    },
    {
     "data": {
      "application/vnd.jupyter.widget-view+json": {
       "model_id": "42b207170858433090bdd06bdf791303"
      }
     },
     "metadata": {},
     "output_type": "display_data"
    },
    {
     "data": {
      "application/vnd.jupyter.widget-view+json": {
       "model_id": "80790792ec63419d9670bdc6d9e9cd85"
      }
     },
     "metadata": {},
     "output_type": "display_data"
    },
    {
     "data": {
      "application/vnd.jupyter.widget-view+json": {
       "model_id": "197c465bf114407eb72ea0db25194f28"
      }
     },
     "metadata": {},
     "output_type": "display_data"
    },
    {
     "data": {
      "application/vnd.jupyter.widget-view+json": {
       "model_id": "f4a894c9accf4ecbb4f75cbd86bdd935"
      }
     },
     "metadata": {},
     "output_type": "display_data"
    },
    {
     "data": {
      "application/vnd.jupyter.widget-view+json": {
       "model_id": "4c02fc1f99614dada921b3c49a5a50c5"
      }
     },
     "metadata": {},
     "output_type": "display_data"
    },
    {
     "data": {
      "application/vnd.jupyter.widget-view+json": {
       "model_id": "69d724e1d1954f4b950ac144d791c980"
      }
     },
     "metadata": {},
     "output_type": "display_data"
    },
    {
     "data": {
      "application/vnd.jupyter.widget-view+json": {
       "model_id": "896467a2212a47d596d11a5e1df8117b"
      }
     },
     "metadata": {},
     "output_type": "display_data"
    },
    {
     "data": {
      "application/vnd.jupyter.widget-view+json": {
       "model_id": "4656f801d33245ac924e6c2c5a4abad7"
      }
     },
     "metadata": {},
     "output_type": "display_data"
    },
    {
     "data": {
      "application/vnd.jupyter.widget-view+json": {
       "model_id": "67ab9e24552043d9847851d41e63d1be"
      }
     },
     "metadata": {},
     "output_type": "display_data"
    },
    {
     "data": {
      "application/vnd.jupyter.widget-view+json": {
       "model_id": "7ab2a126237b4b638d846f1e8db2f75f"
      }
     },
     "metadata": {},
     "output_type": "display_data"
    },
    {
     "data": {
      "application/vnd.jupyter.widget-view+json": {
       "model_id": "84374452de8744f7ad5959e7e039aab2"
      }
     },
     "metadata": {},
     "output_type": "display_data"
    },
    {
     "data": {
      "application/vnd.jupyter.widget-view+json": {
       "model_id": "92f7c061a83e4b3689f0402fbcc69f56"
      }
     },
     "metadata": {},
     "output_type": "display_data"
    },
    {
     "data": {
      "application/vnd.jupyter.widget-view+json": {
       "model_id": "e25426ed477a4bb687b9b022c8400c98"
      }
     },
     "metadata": {},
     "output_type": "display_data"
    },
    {
     "data": {
      "application/vnd.jupyter.widget-view+json": {
       "model_id": "7d7f6c5da3414fab8b20e097623c002a"
      }
     },
     "metadata": {},
     "output_type": "display_data"
    },
    {
     "data": {
      "application/vnd.jupyter.widget-view+json": {
       "model_id": "fd6b2d3628fc4e5eb6bcfefa10335878"
      }
     },
     "metadata": {},
     "output_type": "display_data"
    },
    {
     "data": {
      "application/vnd.jupyter.widget-view+json": {
       "model_id": "c0433692c8784cfc991de58143ae1ddd"
      }
     },
     "metadata": {},
     "output_type": "display_data"
    },
    {
     "data": {
      "application/vnd.jupyter.widget-view+json": {
       "model_id": "3e1cfd196d394eed87d99c2895afa7b5"
      }
     },
     "metadata": {},
     "output_type": "display_data"
    },
    {
     "data": {
      "application/vnd.jupyter.widget-view+json": {
       "model_id": "bc773307315c46e99e96ecb9abfb4e0a"
      }
     },
     "metadata": {},
     "output_type": "display_data"
    },
    {
     "data": {
      "application/vnd.jupyter.widget-view+json": {
       "model_id": "991a514e34054c398f983aee608a7ada"
      }
     },
     "metadata": {},
     "output_type": "display_data"
    },
    {
     "data": {
      "application/vnd.jupyter.widget-view+json": {
       "model_id": "4e22fe54da154229bef96233bfaada22"
      }
     },
     "metadata": {},
     "output_type": "display_data"
    },
    {
     "data": {
      "application/vnd.jupyter.widget-view+json": {
       "model_id": "ec26c5569aa34d2cae4826a1c2fd490e"
      }
     },
     "metadata": {},
     "output_type": "display_data"
    },
    {
     "data": {
      "application/vnd.jupyter.widget-view+json": {
       "model_id": "362361b664e941f68e8e6eb98666565e"
      }
     },
     "metadata": {},
     "output_type": "display_data"
    },
    {
     "data": {
      "application/vnd.jupyter.widget-view+json": {
       "model_id": "7ffc864c50ae4e6383b473939596eaca"
      }
     },
     "metadata": {},
     "output_type": "display_data"
    },
    {
     "data": {
      "application/vnd.jupyter.widget-view+json": {
       "model_id": "3325f9c49d1844ad8906ffdcf836587d"
      }
     },
     "metadata": {},
     "output_type": "display_data"
    },
    {
     "data": {
      "application/vnd.jupyter.widget-view+json": {
       "model_id": "7a09d411673b42cfa2b132766450bb44"
      }
     },
     "metadata": {},
     "output_type": "display_data"
    },
    {
     "data": {
      "application/vnd.jupyter.widget-view+json": {
       "model_id": "c6ffb9b990034da4846ea59c4af9eb19"
      }
     },
     "metadata": {},
     "output_type": "display_data"
    },
    {
     "data": {
      "application/vnd.jupyter.widget-view+json": {
       "model_id": "6dfd3335a6804edc9131a963da250626"
      }
     },
     "metadata": {},
     "output_type": "display_data"
    },
    {
     "data": {
      "application/vnd.jupyter.widget-view+json": {
       "model_id": "fed50868c46143bca59aa3d773eeee60"
      }
     },
     "metadata": {},
     "output_type": "display_data"
    },
    {
     "data": {
      "application/vnd.jupyter.widget-view+json": {
       "model_id": "5d7c65b0cd3745aa8e406a761638b8b8"
      }
     },
     "metadata": {},
     "output_type": "display_data"
    },
    {
     "data": {
      "application/vnd.jupyter.widget-view+json": {
       "model_id": "2e8a9c4c1e444fd88a1a57243b9f6a73"
      }
     },
     "metadata": {},
     "output_type": "display_data"
    },
    {
     "data": {
      "application/vnd.jupyter.widget-view+json": {
       "model_id": "b079158517f54096938bf25694992d22"
      }
     },
     "metadata": {},
     "output_type": "display_data"
    },
    {
     "data": {
      "application/vnd.jupyter.widget-view+json": {
       "model_id": "52db2c12237a4fdba3ddb8360b4cdaf5"
      }
     },
     "metadata": {},
     "output_type": "display_data"
    },
    {
     "data": {
      "application/vnd.jupyter.widget-view+json": {
       "model_id": "a704bb28412e415ebd6b29169289bef1"
      }
     },
     "metadata": {},
     "output_type": "display_data"
    },
    {
     "data": {
      "application/vnd.jupyter.widget-view+json": {
       "model_id": "fdf4aff01ee04badb3efefa47da7ef8f"
      }
     },
     "metadata": {},
     "output_type": "display_data"
    },
    {
     "data": {
      "application/vnd.jupyter.widget-view+json": {
       "model_id": "077edd26a3c546179423b3bc8a8f1a16"
      }
     },
     "metadata": {},
     "output_type": "display_data"
    },
    {
     "data": {
      "application/vnd.jupyter.widget-view+json": {
       "model_id": "5f04f12eb4d94d34bb6b11bd5eb6fd6d"
      }
     },
     "metadata": {},
     "output_type": "display_data"
    },
    {
     "data": {
      "application/vnd.jupyter.widget-view+json": {
       "model_id": "95fe753973644e17a601bf28eb584f0f"
      }
     },
     "metadata": {},
     "output_type": "display_data"
    },
    {
     "data": {
      "application/vnd.jupyter.widget-view+json": {
       "model_id": "1ea36bf2b90b4b3095b4637ea9a4308a"
      }
     },
     "metadata": {},
     "output_type": "display_data"
    },
    {
     "data": {
      "application/vnd.jupyter.widget-view+json": {
       "model_id": "482c96cb2faa4dfe984c17aa0c840563"
      }
     },
     "metadata": {},
     "output_type": "display_data"
    },
    {
     "data": {
      "application/vnd.jupyter.widget-view+json": {
       "model_id": "9dc74d2bd5da4e54adf7afb09c5f4638"
      }
     },
     "metadata": {},
     "output_type": "display_data"
    },
    {
     "data": {
      "application/vnd.jupyter.widget-view+json": {
       "model_id": "7bcb4997f31749879d98197b9ba7342c"
      }
     },
     "metadata": {},
     "output_type": "display_data"
    },
    {
     "data": {
      "application/vnd.jupyter.widget-view+json": {
       "model_id": "10028057a92d424aa6032ac6028dc613"
      }
     },
     "metadata": {},
     "output_type": "display_data"
    },
    {
     "data": {
      "application/vnd.jupyter.widget-view+json": {
       "model_id": "9357bcc7f8ac42cd8fe62cabd0d4059d"
      }
     },
     "metadata": {},
     "output_type": "display_data"
    },
    {
     "data": {
      "application/vnd.jupyter.widget-view+json": {
       "model_id": "6161f6dbb8344b8596b0f7eb7531a901"
      }
     },
     "metadata": {},
     "output_type": "display_data"
    },
    {
     "data": {
      "application/vnd.jupyter.widget-view+json": {
       "model_id": "d70942f0573646ed8742cddd5aeb8ce1"
      }
     },
     "metadata": {},
     "output_type": "display_data"
    },
    {
     "data": {
      "application/vnd.jupyter.widget-view+json": {
       "model_id": "9146414320e549a0aec30b3032f0980e"
      }
     },
     "metadata": {},
     "output_type": "display_data"
    },
    {
     "data": {
      "application/vnd.jupyter.widget-view+json": {
       "model_id": "f5c8feb27c7a45428bbd2021b8ca6041"
      }
     },
     "metadata": {},
     "output_type": "display_data"
    },
    {
     "data": {
      "application/vnd.jupyter.widget-view+json": {
       "model_id": "20b3a2f4899d46f0b50f84ec754685fa"
      }
     },
     "metadata": {},
     "output_type": "display_data"
    },
    {
     "data": {
      "application/vnd.jupyter.widget-view+json": {
       "model_id": "87f96266c506479d9a7e5a6aae39460a"
      }
     },
     "metadata": {},
     "output_type": "display_data"
    },
    {
     "data": {
      "application/vnd.jupyter.widget-view+json": {
       "model_id": "e0c04db03de646e1bc07681987360fcd"
      }
     },
     "metadata": {},
     "output_type": "display_data"
    },
    {
     "data": {
      "application/vnd.jupyter.widget-view+json": {
       "model_id": "efa7df78abe14f68a4b4d00a808b4afe"
      }
     },
     "metadata": {},
     "output_type": "display_data"
    },
    {
     "data": {
      "application/vnd.jupyter.widget-view+json": {
       "model_id": "925bfc58a5d54bff9ba9571714e68a18"
      }
     },
     "metadata": {},
     "output_type": "display_data"
    },
    {
     "data": {
      "application/vnd.jupyter.widget-view+json": {
       "model_id": "ed9f4f44033e41cc9cbf904c443ebbb3"
      }
     },
     "metadata": {},
     "output_type": "display_data"
    },
    {
     "data": {
      "application/vnd.jupyter.widget-view+json": {
       "model_id": "fe90785cd8d347a682f9a5321268b11d"
      }
     },
     "metadata": {},
     "output_type": "display_data"
    },
    {
     "data": {
      "application/vnd.jupyter.widget-view+json": {
       "model_id": "8622cd6a14f94c6a8ce8a4fef0078479"
      }
     },
     "metadata": {},
     "output_type": "display_data"
    },
    {
     "data": {
      "application/vnd.jupyter.widget-view+json": {
       "model_id": "51e1b971066748ac8d2aed6a680535fa"
      }
     },
     "metadata": {},
     "output_type": "display_data"
    },
    {
     "data": {
      "application/vnd.jupyter.widget-view+json": {
       "model_id": "0ce43cb138e944c38c38105180e949b6"
      }
     },
     "metadata": {},
     "output_type": "display_data"
    },
    {
     "data": {
      "application/vnd.jupyter.widget-view+json": {
       "model_id": "cb12c839b4044ec0974b1f588ac049e4"
      }
     },
     "metadata": {},
     "output_type": "display_data"
    },
    {
     "data": {
      "application/vnd.jupyter.widget-view+json": {
       "model_id": "28036951940340039f2d3ebdff86fbe1"
      }
     },
     "metadata": {},
     "output_type": "display_data"
    },
    {
     "data": {
      "application/vnd.jupyter.widget-view+json": {
       "model_id": "c4a8d54b1e6b48e8bd51f370129bbd74"
      }
     },
     "metadata": {},
     "output_type": "display_data"
    },
    {
     "data": {
      "application/vnd.jupyter.widget-view+json": {
       "model_id": "ae49bcba30d14d49b47af750d8f53b1b"
      }
     },
     "metadata": {},
     "output_type": "display_data"
    },
    {
     "data": {
      "application/vnd.jupyter.widget-view+json": {
       "model_id": "13a56a4c87fa4bcf944dce57590dc909"
      }
     },
     "metadata": {},
     "output_type": "display_data"
    },
    {
     "data": {
      "application/vnd.jupyter.widget-view+json": {
       "model_id": "559fb362f1f647ddb5a82a045d0762e2"
      }
     },
     "metadata": {},
     "output_type": "display_data"
    },
    {
     "data": {
      "application/vnd.jupyter.widget-view+json": {
       "model_id": "bef1e867d2614163a87a7eac32661242"
      }
     },
     "metadata": {},
     "output_type": "display_data"
    },
    {
     "data": {
      "application/vnd.jupyter.widget-view+json": {
       "model_id": "f2cf3e6837ec437293a1a65a2da3b561"
      }
     },
     "metadata": {},
     "output_type": "display_data"
    },
    {
     "data": {
      "application/vnd.jupyter.widget-view+json": {
       "model_id": "b12f3b97671c43cbb61bce41ceb6e9c9"
      }
     },
     "metadata": {},
     "output_type": "display_data"
    },
    {
     "data": {
      "application/vnd.jupyter.widget-view+json": {
       "model_id": "282635146e524f8fac63f76609309074"
      }
     },
     "metadata": {},
     "output_type": "display_data"
    },
    {
     "data": {
      "application/vnd.jupyter.widget-view+json": {
       "model_id": "b4c7684c5e414b1f8206728cb88957c4"
      }
     },
     "metadata": {},
     "output_type": "display_data"
    },
    {
     "data": {
      "application/vnd.jupyter.widget-view+json": {
       "model_id": "c5431c5004414de7b06438aa466fb51f"
      }
     },
     "metadata": {},
     "output_type": "display_data"
    },
    {
     "data": {
      "application/vnd.jupyter.widget-view+json": {
       "model_id": "3785207d92d941c59cc7374804c0a692"
      }
     },
     "metadata": {},
     "output_type": "display_data"
    },
    {
     "data": {
      "application/vnd.jupyter.widget-view+json": {
       "model_id": "beca06c160b242a7884aef879f3c1bb6"
      }
     },
     "metadata": {},
     "output_type": "display_data"
    },
    {
     "data": {
      "application/vnd.jupyter.widget-view+json": {
       "model_id": "7451d61143d34873b987c0911a862068"
      }
     },
     "metadata": {},
     "output_type": "display_data"
    },
    {
     "data": {
      "application/vnd.jupyter.widget-view+json": {
       "model_id": "12f163c358454b59919d826e964ad520"
      }
     },
     "metadata": {},
     "output_type": "display_data"
    },
    {
     "data": {
      "application/vnd.jupyter.widget-view+json": {
       "model_id": "9eb60df03ad84a93a0200ac20e33fd47"
      }
     },
     "metadata": {},
     "output_type": "display_data"
    },
    {
     "data": {
      "application/vnd.jupyter.widget-view+json": {
       "model_id": "3816be9afb0b43ce8996536098eecf3f"
      }
     },
     "metadata": {},
     "output_type": "display_data"
    },
    {
     "data": {
      "application/vnd.jupyter.widget-view+json": {
       "model_id": "73eb1bfc96374801aff5b6b9452de9c6"
      }
     },
     "metadata": {},
     "output_type": "display_data"
    },
    {
     "data": {
      "application/vnd.jupyter.widget-view+json": {
       "model_id": "0bff99d1390146cf8839986c7bb10b10"
      }
     },
     "metadata": {},
     "output_type": "display_data"
    },
    {
     "data": {
      "application/vnd.jupyter.widget-view+json": {
       "model_id": "bef6b71210ec49c19e5b79e2de76b25f"
      }
     },
     "metadata": {},
     "output_type": "display_data"
    },
    {
     "data": {
      "application/vnd.jupyter.widget-view+json": {
       "model_id": "3a8f17c39d9b4dcea580738c8d7a444e"
      }
     },
     "metadata": {},
     "output_type": "display_data"
    },
    {
     "data": {
      "application/vnd.jupyter.widget-view+json": {
       "model_id": "eee9717aa93041d1b17cbfedcd404d0a"
      }
     },
     "metadata": {},
     "output_type": "display_data"
    },
    {
     "data": {
      "application/vnd.jupyter.widget-view+json": {
       "model_id": "4e74c9083e074a09a9867af5684192ba"
      }
     },
     "metadata": {},
     "output_type": "display_data"
    },
    {
     "data": {
      "application/vnd.jupyter.widget-view+json": {
       "model_id": "4803259720fe414480addc783536f17f"
      }
     },
     "metadata": {},
     "output_type": "display_data"
    },
    {
     "data": {
      "application/vnd.jupyter.widget-view+json": {
       "model_id": "4675e22096384cfd9cbac6a6ea092eff"
      }
     },
     "metadata": {},
     "output_type": "display_data"
    },
    {
     "data": {
      "application/vnd.jupyter.widget-view+json": {
       "model_id": "a25f7224afd241e9a9fa8edf1398e17b"
      }
     },
     "metadata": {},
     "output_type": "display_data"
    },
    {
     "data": {
      "application/vnd.jupyter.widget-view+json": {
       "model_id": "3d7c82f38465454eb19b8ada3f77fed9"
      }
     },
     "metadata": {},
     "output_type": "display_data"
    },
    {
     "data": {
      "application/vnd.jupyter.widget-view+json": {
       "model_id": "e062c1e0d342432c8acb66be364ab26c"
      }
     },
     "metadata": {},
     "output_type": "display_data"
    },
    {
     "data": {
      "application/vnd.jupyter.widget-view+json": {
       "model_id": "03899123ad9745cb9bde5d08d985435d"
      }
     },
     "metadata": {},
     "output_type": "display_data"
    },
    {
     "data": {
      "application/vnd.jupyter.widget-view+json": {
       "model_id": "45230544c68941158044a46ca7eb614d"
      }
     },
     "metadata": {},
     "output_type": "display_data"
    },
    {
     "data": {
      "application/vnd.jupyter.widget-view+json": {
       "model_id": "b4de0cbe465c4cbdb9961aa810ef27ee"
      }
     },
     "metadata": {},
     "output_type": "display_data"
    },
    {
     "data": {
      "application/vnd.jupyter.widget-view+json": {
       "model_id": "e269a3f130f545718f4dd5ff2655ea0b"
      }
     },
     "metadata": {},
     "output_type": "display_data"
    },
    {
     "data": {
      "application/vnd.jupyter.widget-view+json": {
       "model_id": "b52b53b03f0045d4b6d534fbb969de7d"
      }
     },
     "metadata": {},
     "output_type": "display_data"
    },
    {
     "data": {
      "application/vnd.jupyter.widget-view+json": {
       "model_id": "e6e429ced7234a6781de32d262639ed9"
      }
     },
     "metadata": {},
     "output_type": "display_data"
    },
    {
     "data": {
      "application/vnd.jupyter.widget-view+json": {
       "model_id": "da90e9f93c95469cb6e18d6eea4b88b6"
      }
     },
     "metadata": {},
     "output_type": "display_data"
    },
    {
     "data": {
      "application/vnd.jupyter.widget-view+json": {
       "model_id": "8a7610592ae44693a48dd44701f55522"
      }
     },
     "metadata": {},
     "output_type": "display_data"
    },
    {
     "data": {
      "application/vnd.jupyter.widget-view+json": {
       "model_id": "260244135c5d481aa4a1f300b3c896b1"
      }
     },
     "metadata": {},
     "output_type": "display_data"
    },
    {
     "data": {
      "application/vnd.jupyter.widget-view+json": {
       "model_id": "8160df2c6bf4407fa2550dbd0afdb051"
      }
     },
     "metadata": {},
     "output_type": "display_data"
    },
    {
     "data": {
      "application/vnd.jupyter.widget-view+json": {
       "model_id": "c17efc5001be4f63ab1ff18b109c1dd7"
      }
     },
     "metadata": {},
     "output_type": "display_data"
    },
    {
     "data": {
      "application/vnd.jupyter.widget-view+json": {
       "model_id": "eb02ffab82a64ccf85f49c66c8a1882c"
      }
     },
     "metadata": {},
     "output_type": "display_data"
    },
    {
     "data": {
      "application/vnd.jupyter.widget-view+json": {
       "model_id": "96dd2627e2064c4ea3edf08f6c22af2d"
      }
     },
     "metadata": {},
     "output_type": "display_data"
    },
    {
     "data": {
      "application/vnd.jupyter.widget-view+json": {
       "model_id": "bb225d43be6147c5a7695797d8c131ea"
      }
     },
     "metadata": {},
     "output_type": "display_data"
    },
    {
     "data": {
      "application/vnd.jupyter.widget-view+json": {
       "model_id": "80b0992c2c7c4601bc331fe22d18c542"
      }
     },
     "metadata": {},
     "output_type": "display_data"
    },
    {
     "data": {
      "application/vnd.jupyter.widget-view+json": {
       "model_id": "e9eb3384d22047ffa9b14ebcb0b455fe"
      }
     },
     "metadata": {},
     "output_type": "display_data"
    },
    {
     "data": {
      "application/vnd.jupyter.widget-view+json": {
       "model_id": "de045dd2c0a84bbc8d870a9ce84dbe5e"
      }
     },
     "metadata": {},
     "output_type": "display_data"
    },
    {
     "data": {
      "application/vnd.jupyter.widget-view+json": {
       "model_id": "3767fe37ac684e71a7f9df993b8c34a8"
      }
     },
     "metadata": {},
     "output_type": "display_data"
    },
    {
     "data": {
      "application/vnd.jupyter.widget-view+json": {
       "model_id": "563a0cf0588347cf89f09ee025d292a0"
      }
     },
     "metadata": {},
     "output_type": "display_data"
    },
    {
     "data": {
      "application/vnd.jupyter.widget-view+json": {
       "model_id": "cca9b7e504c54c048bd5e6ed31d8c23e"
      }
     },
     "metadata": {},
     "output_type": "display_data"
    },
    {
     "data": {
      "application/vnd.jupyter.widget-view+json": {
       "model_id": "82e7d3f4a56442218719b673a51ca05c"
      }
     },
     "metadata": {},
     "output_type": "display_data"
    },
    {
     "data": {
      "application/vnd.jupyter.widget-view+json": {
       "model_id": "8b8ba2a216604a79a370c4687adef2da"
      }
     },
     "metadata": {},
     "output_type": "display_data"
    },
    {
     "data": {
      "application/vnd.jupyter.widget-view+json": {
       "model_id": "274ad93b051443b28eecc7f78f1f4b69"
      }
     },
     "metadata": {},
     "output_type": "display_data"
    },
    {
     "data": {
      "application/vnd.jupyter.widget-view+json": {
       "model_id": "8a1af9646d114840b2f5927b5ed929b7"
      }
     },
     "metadata": {},
     "output_type": "display_data"
    },
    {
     "data": {
      "application/vnd.jupyter.widget-view+json": {
       "model_id": "a4435219606a4b7f9db90291ea0a03a1"
      }
     },
     "metadata": {},
     "output_type": "display_data"
    },
    {
     "data": {
      "application/vnd.jupyter.widget-view+json": {
       "model_id": "4fc3e4ecd0a34221bf0953e5787ef404"
      }
     },
     "metadata": {},
     "output_type": "display_data"
    },
    {
     "data": {
      "application/vnd.jupyter.widget-view+json": {
       "model_id": "3e40c20054184a719c143463d2b8b2b0"
      }
     },
     "metadata": {},
     "output_type": "display_data"
    },
    {
     "data": {
      "application/vnd.jupyter.widget-view+json": {
       "model_id": "a4cb26630d24493699539a1b847cc53d"
      }
     },
     "metadata": {},
     "output_type": "display_data"
    },
    {
     "data": {
      "application/vnd.jupyter.widget-view+json": {
       "model_id": "2c8b7dcbf34a4b069758d3741d208a84"
      }
     },
     "metadata": {},
     "output_type": "display_data"
    },
    {
     "data": {
      "application/vnd.jupyter.widget-view+json": {
       "model_id": "daf9ccbddb214779aeb555712c443a63"
      }
     },
     "metadata": {},
     "output_type": "display_data"
    },
    {
     "data": {
      "application/vnd.jupyter.widget-view+json": {
       "model_id": "216beb7b25fb4e7abbbffaef34226187"
      }
     },
     "metadata": {},
     "output_type": "display_data"
    },
    {
     "data": {
      "application/vnd.jupyter.widget-view+json": {
       "model_id": "dadb155b0a06496c8f154bada6c8a2bf"
      }
     },
     "metadata": {},
     "output_type": "display_data"
    },
    {
     "data": {
      "application/vnd.jupyter.widget-view+json": {
       "model_id": "52fd9cb978434c97b33a01d26c9ed48f"
      }
     },
     "metadata": {},
     "output_type": "display_data"
    },
    {
     "data": {
      "application/vnd.jupyter.widget-view+json": {
       "model_id": "816271391f004e90913199ebb8f28dd5"
      }
     },
     "metadata": {},
     "output_type": "display_data"
    },
    {
     "data": {
      "application/vnd.jupyter.widget-view+json": {
       "model_id": "fb92b11b6a8043e9ac141b82342a02dd"
      }
     },
     "metadata": {},
     "output_type": "display_data"
    },
    {
     "data": {
      "application/vnd.jupyter.widget-view+json": {
       "model_id": "1fd4498d535a4de4b54c064a60ab2d3c"
      }
     },
     "metadata": {},
     "output_type": "display_data"
    },
    {
     "data": {
      "application/vnd.jupyter.widget-view+json": {
       "model_id": "cd4e1de607fd4bf2a5db8c3de8d6fd21"
      }
     },
     "metadata": {},
     "output_type": "display_data"
    },
    {
     "data": {
      "application/vnd.jupyter.widget-view+json": {
       "model_id": "a6edec2e7edf4822b389bd8ec4baf901"
      }
     },
     "metadata": {},
     "output_type": "display_data"
    },
    {
     "data": {
      "application/vnd.jupyter.widget-view+json": {
       "model_id": "715d8ffe37c2407788186768cc8af953"
      }
     },
     "metadata": {},
     "output_type": "display_data"
    },
    {
     "data": {
      "application/vnd.jupyter.widget-view+json": {
       "model_id": "b5f35bbd97ed4640a191906dce68e8f1"
      }
     },
     "metadata": {},
     "output_type": "display_data"
    },
    {
     "data": {
      "application/vnd.jupyter.widget-view+json": {
       "model_id": "bae8adff53a846b1b7db5b0fc2a89b2e"
      }
     },
     "metadata": {},
     "output_type": "display_data"
    },
    {
     "data": {
      "application/vnd.jupyter.widget-view+json": {
       "model_id": "9d27074a68f549cda5f7bff525f34581"
      }
     },
     "metadata": {},
     "output_type": "display_data"
    },
    {
     "data": {
      "application/vnd.jupyter.widget-view+json": {
       "model_id": "667fc35a04c0451583341cc018902022"
      }
     },
     "metadata": {},
     "output_type": "display_data"
    },
    {
     "data": {
      "application/vnd.jupyter.widget-view+json": {
       "model_id": "059c0fc92ad0469988d61dd7dffe9021"
      }
     },
     "metadata": {},
     "output_type": "display_data"
    },
    {
     "data": {
      "application/vnd.jupyter.widget-view+json": {
       "model_id": "88b397e6dd9143e48478bf6590c96c50"
      }
     },
     "metadata": {},
     "output_type": "display_data"
    },
    {
     "data": {
      "application/vnd.jupyter.widget-view+json": {
       "model_id": "31a36094f91342029956922638544537"
      }
     },
     "metadata": {},
     "output_type": "display_data"
    },
    {
     "data": {
      "application/vnd.jupyter.widget-view+json": {
       "model_id": "6e3b1630dc6f4bceb3e27496ef00cdbb"
      }
     },
     "metadata": {},
     "output_type": "display_data"
    },
    {
     "data": {
      "application/vnd.jupyter.widget-view+json": {
       "model_id": "0b78f3e93cc94b0c8738e7fdb3b1ac78"
      }
     },
     "metadata": {},
     "output_type": "display_data"
    },
    {
     "data": {
      "application/vnd.jupyter.widget-view+json": {
       "model_id": "7fd9cdc2c9a4436b8fcfdff7cbc7abfb"
      }
     },
     "metadata": {},
     "output_type": "display_data"
    },
    {
     "data": {
      "application/vnd.jupyter.widget-view+json": {
       "model_id": "0c84cc1332ce4d3099f6c03b539f9e9b"
      }
     },
     "metadata": {},
     "output_type": "display_data"
    },
    {
     "data": {
      "application/vnd.jupyter.widget-view+json": {
       "model_id": "b8dac42cecc0492c9182b7b24d8aa2fb"
      }
     },
     "metadata": {},
     "output_type": "display_data"
    },
    {
     "data": {
      "application/vnd.jupyter.widget-view+json": {
       "model_id": "c496e99628394bce8ec2ddd3df38f718"
      }
     },
     "metadata": {},
     "output_type": "display_data"
    },
    {
     "data": {
      "application/vnd.jupyter.widget-view+json": {
       "model_id": "0825e43e7e3f4248a0f5d15d6082ecf6"
      }
     },
     "metadata": {},
     "output_type": "display_data"
    },
    {
     "data": {
      "application/vnd.jupyter.widget-view+json": {
       "model_id": "c66aaaa6d8eb4dac989846fd8f4234a4"
      }
     },
     "metadata": {},
     "output_type": "display_data"
    },
    {
     "data": {
      "application/vnd.jupyter.widget-view+json": {
       "model_id": "ce8e0919d3e940c9a43d8c76b6fac480"
      }
     },
     "metadata": {},
     "output_type": "display_data"
    },
    {
     "data": {
      "application/vnd.jupyter.widget-view+json": {
       "model_id": "67fa38870b97425a8154801ab1fea5ee"
      }
     },
     "metadata": {},
     "output_type": "display_data"
    },
    {
     "data": {
      "application/vnd.jupyter.widget-view+json": {
       "model_id": "267e549671ab492586c99614fd34bad5"
      }
     },
     "metadata": {},
     "output_type": "display_data"
    },
    {
     "data": {
      "application/vnd.jupyter.widget-view+json": {
       "model_id": "8abd027c694a48959378bc76f8093a42"
      }
     },
     "metadata": {},
     "output_type": "display_data"
    },
    {
     "data": {
      "application/vnd.jupyter.widget-view+json": {
       "model_id": "50cae575d5f84c66a29ff3da8db913eb"
      }
     },
     "metadata": {},
     "output_type": "display_data"
    },
    {
     "data": {
      "application/vnd.jupyter.widget-view+json": {
       "model_id": "c3388849e552477c8c327c9ae6b07c6a"
      }
     },
     "metadata": {},
     "output_type": "display_data"
    },
    {
     "data": {
      "application/vnd.jupyter.widget-view+json": {
       "model_id": "b4510df7960e4d4d82961f6aa0ed8d3f"
      }
     },
     "metadata": {},
     "output_type": "display_data"
    },
    {
     "data": {
      "application/vnd.jupyter.widget-view+json": {
       "model_id": "74ae8241c51d4f2894445aa62553911f"
      }
     },
     "metadata": {},
     "output_type": "display_data"
    },
    {
     "data": {
      "application/vnd.jupyter.widget-view+json": {
       "model_id": "8fcf283b22864c6eb717ec6b232cd237"
      }
     },
     "metadata": {},
     "output_type": "display_data"
    },
    {
     "data": {
      "application/vnd.jupyter.widget-view+json": {
       "model_id": "03fd250c44e54239bf4790af8fbbb89a"
      }
     },
     "metadata": {},
     "output_type": "display_data"
    },
    {
     "data": {
      "application/vnd.jupyter.widget-view+json": {
       "model_id": "54fa42274de845fbb7822e14af33c0b5"
      }
     },
     "metadata": {},
     "output_type": "display_data"
    },
    {
     "data": {
      "application/vnd.jupyter.widget-view+json": {
       "model_id": "087832df1bbf49bea44bc430b0be73ba"
      }
     },
     "metadata": {},
     "output_type": "display_data"
    },
    {
     "data": {
      "application/vnd.jupyter.widget-view+json": {
       "model_id": "53cd1fe5fccc4831bf96bbbf070645d2"
      }
     },
     "metadata": {},
     "output_type": "display_data"
    },
    {
     "data": {
      "application/vnd.jupyter.widget-view+json": {
       "model_id": "2d51ee09288f42e6aafd792b3d0782f3"
      }
     },
     "metadata": {},
     "output_type": "display_data"
    },
    {
     "data": {
      "application/vnd.jupyter.widget-view+json": {
       "model_id": "e2f756f1e17f4081bc4380f21f36719a"
      }
     },
     "metadata": {},
     "output_type": "display_data"
    },
    {
     "data": {
      "application/vnd.jupyter.widget-view+json": {
       "model_id": "0048cb4627dc41c3b78731d205f5d7cf"
      }
     },
     "metadata": {},
     "output_type": "display_data"
    },
    {
     "data": {
      "application/vnd.jupyter.widget-view+json": {
       "model_id": "b0be25ba6527469bbfa23912d8657e22"
      }
     },
     "metadata": {},
     "output_type": "display_data"
    },
    {
     "data": {
      "application/vnd.jupyter.widget-view+json": {
       "model_id": "3d541814a37c4914b64bde152d11bcd4"
      }
     },
     "metadata": {},
     "output_type": "display_data"
    },
    {
     "data": {
      "application/vnd.jupyter.widget-view+json": {
       "model_id": "54044f4f719f4728b650784a10048f2a"
      }
     },
     "metadata": {},
     "output_type": "display_data"
    },
    {
     "data": {
      "application/vnd.jupyter.widget-view+json": {
       "model_id": "9dcfc551aec44a7fa221566f00e3c334"
      }
     },
     "metadata": {},
     "output_type": "display_data"
    },
    {
     "data": {
      "application/vnd.jupyter.widget-view+json": {
       "model_id": "d901dcc52bfc414fae4d42398ad2ec11"
      }
     },
     "metadata": {},
     "output_type": "display_data"
    },
    {
     "data": {
      "application/vnd.jupyter.widget-view+json": {
       "model_id": "218219b0d21d4a909ffbdb80c25b3b02"
      }
     },
     "metadata": {},
     "output_type": "display_data"
    },
    {
     "data": {
      "application/vnd.jupyter.widget-view+json": {
       "model_id": "6face375917344419c21a283a34f5f30"
      }
     },
     "metadata": {},
     "output_type": "display_data"
    },
    {
     "data": {
      "application/vnd.jupyter.widget-view+json": {
       "model_id": "3b910628e28845b080b3e3c96581a3d0"
      }
     },
     "metadata": {},
     "output_type": "display_data"
    },
    {
     "data": {
      "application/vnd.jupyter.widget-view+json": {
       "model_id": "faa6a6419ac2464e94aef79103d856d4"
      }
     },
     "metadata": {},
     "output_type": "display_data"
    },
    {
     "data": {
      "application/vnd.jupyter.widget-view+json": {
       "model_id": "b42e20066ab042c79f4997e75bacfcdf"
      }
     },
     "metadata": {},
     "output_type": "display_data"
    },
    {
     "data": {
      "application/vnd.jupyter.widget-view+json": {
       "model_id": "0e10a5c16a6c47aaafb0a47fa90eb609"
      }
     },
     "metadata": {},
     "output_type": "display_data"
    },
    {
     "data": {
      "application/vnd.jupyter.widget-view+json": {
       "model_id": "d4e4e234081c4f5c8986fe9828fcfcef"
      }
     },
     "metadata": {},
     "output_type": "display_data"
    },
    {
     "data": {
      "application/vnd.jupyter.widget-view+json": {
       "model_id": "33968ec3c5af4d6880dc8b5bea20f214"
      }
     },
     "metadata": {},
     "output_type": "display_data"
    },
    {
     "data": {
      "application/vnd.jupyter.widget-view+json": {
       "model_id": "261f7676e7224ef98cbd2984a2091112"
      }
     },
     "metadata": {},
     "output_type": "display_data"
    },
    {
     "data": {
      "application/vnd.jupyter.widget-view+json": {
       "model_id": "3352013c048444a68d27bbae6641da45"
      }
     },
     "metadata": {},
     "output_type": "display_data"
    },
    {
     "data": {
      "application/vnd.jupyter.widget-view+json": {
       "model_id": "e9ddd6cd155345de9e19e80644681469"
      }
     },
     "metadata": {},
     "output_type": "display_data"
    },
    {
     "data": {
      "application/vnd.jupyter.widget-view+json": {
       "model_id": "4b163e83aca74eeb8546aa11b2b682b0"
      }
     },
     "metadata": {},
     "output_type": "display_data"
    },
    {
     "data": {
      "application/vnd.jupyter.widget-view+json": {
       "model_id": "25840772cac74aee957e59b90ef38e59"
      }
     },
     "metadata": {},
     "output_type": "display_data"
    },
    {
     "data": {
      "application/vnd.jupyter.widget-view+json": {
       "model_id": "41b3b75a888440fc99660eb9a1bf6546"
      }
     },
     "metadata": {},
     "output_type": "display_data"
    },
    {
     "data": {
      "application/vnd.jupyter.widget-view+json": {
       "model_id": "979c601b77ea4c75854cd4faea9fcdd0"
      }
     },
     "metadata": {},
     "output_type": "display_data"
    },
    {
     "data": {
      "application/vnd.jupyter.widget-view+json": {
       "model_id": "ab8def1fc3314ed985f87468d5632047"
      }
     },
     "metadata": {},
     "output_type": "display_data"
    },
    {
     "data": {
      "application/vnd.jupyter.widget-view+json": {
       "model_id": "edac911cfa9f4228983ca836093213e9"
      }
     },
     "metadata": {},
     "output_type": "display_data"
    },
    {
     "data": {
      "application/vnd.jupyter.widget-view+json": {
       "model_id": "fbff0428168041cc916b28a7abcb819d"
      }
     },
     "metadata": {},
     "output_type": "display_data"
    },
    {
     "data": {
      "application/vnd.jupyter.widget-view+json": {
       "model_id": "08ce40972aa64df39341c365925db5d3"
      }
     },
     "metadata": {},
     "output_type": "display_data"
    },
    {
     "data": {
      "application/vnd.jupyter.widget-view+json": {
       "model_id": "29de70febe0d4ee19f804d44750900b7"
      }
     },
     "metadata": {},
     "output_type": "display_data"
    },
    {
     "data": {
      "application/vnd.jupyter.widget-view+json": {
       "model_id": "d5cacf24a63b457194ee56dd4da1aa8a"
      }
     },
     "metadata": {},
     "output_type": "display_data"
    },
    {
     "data": {
      "application/vnd.jupyter.widget-view+json": {
       "model_id": "ae25a9809fc149a7b3c0585fbe315713"
      }
     },
     "metadata": {},
     "output_type": "display_data"
    },
    {
     "data": {
      "application/vnd.jupyter.widget-view+json": {
       "model_id": "fcd18388f2ea4ca4954cbd6ebd239ad9"
      }
     },
     "metadata": {},
     "output_type": "display_data"
    },
    {
     "data": {
      "application/vnd.jupyter.widget-view+json": {
       "model_id": "28dfa1adaac44bfa9fe6974a5cf113ce"
      }
     },
     "metadata": {},
     "output_type": "display_data"
    },
    {
     "data": {
      "application/vnd.jupyter.widget-view+json": {
       "model_id": "8768ea5b9ac24bc58dc286162ae868e5"
      }
     },
     "metadata": {},
     "output_type": "display_data"
    },
    {
     "data": {
      "application/vnd.jupyter.widget-view+json": {
       "model_id": "f1eb7a2af0664a29aaeeaa08f4b3b802"
      }
     },
     "metadata": {},
     "output_type": "display_data"
    },
    {
     "data": {
      "application/vnd.jupyter.widget-view+json": {
       "model_id": "f13874cda3864f1b98cc045b5beac194"
      }
     },
     "metadata": {},
     "output_type": "display_data"
    },
    {
     "data": {
      "application/vnd.jupyter.widget-view+json": {
       "model_id": "bdf3a6bdcc4a48fc95a0dae1ddf46c3b"
      }
     },
     "metadata": {},
     "output_type": "display_data"
    },
    {
     "data": {
      "application/vnd.jupyter.widget-view+json": {
       "model_id": "2f0bfed1699048d89386749f53d6b5f2"
      }
     },
     "metadata": {},
     "output_type": "display_data"
    },
    {
     "data": {
      "application/vnd.jupyter.widget-view+json": {
       "model_id": "dc34b8d1f10140628ebf564945eee833"
      }
     },
     "metadata": {},
     "output_type": "display_data"
    },
    {
     "data": {
      "application/vnd.jupyter.widget-view+json": {
       "model_id": "975de4b6ca1a42a094bfc6380fe1f1ae"
      }
     },
     "metadata": {},
     "output_type": "display_data"
    },
    {
     "data": {
      "application/vnd.jupyter.widget-view+json": {
       "model_id": "939993e279454461b7050b2fe5845f3e"
      }
     },
     "metadata": {},
     "output_type": "display_data"
    },
    {
     "data": {
      "application/vnd.jupyter.widget-view+json": {
       "model_id": "451eb34327f54dc69d82cc562eff4197"
      }
     },
     "metadata": {},
     "output_type": "display_data"
    },
    {
     "data": {
      "application/vnd.jupyter.widget-view+json": {
       "model_id": "19a12d9b6e0c48f0a6ace582ac036627"
      }
     },
     "metadata": {},
     "output_type": "display_data"
    },
    {
     "data": {
      "application/vnd.jupyter.widget-view+json": {
       "model_id": "61204ba32db346ad8b935db0db060c2d"
      }
     },
     "metadata": {},
     "output_type": "display_data"
    },
    {
     "data": {
      "application/vnd.jupyter.widget-view+json": {
       "model_id": "307e4c0c68db49bbb0b2647f8fb98d4b"
      }
     },
     "metadata": {},
     "output_type": "display_data"
    },
    {
     "data": {
      "application/vnd.jupyter.widget-view+json": {
       "model_id": "b8b0304191f2451ca4a70dcf8eebf9bd"
      }
     },
     "metadata": {},
     "output_type": "display_data"
    },
    {
     "data": {
      "application/vnd.jupyter.widget-view+json": {
       "model_id": "3f065178bdce404989bcd235a0a02924"
      }
     },
     "metadata": {},
     "output_type": "display_data"
    },
    {
     "data": {
      "application/vnd.jupyter.widget-view+json": {
       "model_id": "a490285a409f457c919035ac8326aa30"
      }
     },
     "metadata": {},
     "output_type": "display_data"
    },
    {
     "data": {
      "application/vnd.jupyter.widget-view+json": {
       "model_id": "a2ad67be1ab148a79034c79e2c62c04a"
      }
     },
     "metadata": {},
     "output_type": "display_data"
    },
    {
     "data": {
      "application/vnd.jupyter.widget-view+json": {
       "model_id": "41c6dc82b6494861954dbc7e3bb10ad4"
      }
     },
     "metadata": {},
     "output_type": "display_data"
    },
    {
     "data": {
      "application/vnd.jupyter.widget-view+json": {
       "model_id": "7dc89c82871b46568171ca713e629a0f"
      }
     },
     "metadata": {},
     "output_type": "display_data"
    },
    {
     "data": {
      "application/vnd.jupyter.widget-view+json": {
       "model_id": "f6afd70c7088481e9e4bdaed9cd60343"
      }
     },
     "metadata": {},
     "output_type": "display_data"
    },
    {
     "data": {
      "application/vnd.jupyter.widget-view+json": {
       "model_id": "11565d177c27409d89b1e286813e1a0f"
      }
     },
     "metadata": {},
     "output_type": "display_data"
    },
    {
     "data": {
      "application/vnd.jupyter.widget-view+json": {
       "model_id": "6fcf0e3063724445aedec6bdfeda9a06"
      }
     },
     "metadata": {},
     "output_type": "display_data"
    },
    {
     "data": {
      "application/vnd.jupyter.widget-view+json": {
       "model_id": "3976b25245b74a7e91942c6c4e797ee8"
      }
     },
     "metadata": {},
     "output_type": "display_data"
    },
    {
     "data": {
      "application/vnd.jupyter.widget-view+json": {
       "model_id": "ff58733f62094a3a935633e6bcc49af5"
      }
     },
     "metadata": {},
     "output_type": "display_data"
    },
    {
     "data": {
      "application/vnd.jupyter.widget-view+json": {
       "model_id": "26bac6d042294c2c8714a128574dcd87"
      }
     },
     "metadata": {},
     "output_type": "display_data"
    },
    {
     "data": {
      "application/vnd.jupyter.widget-view+json": {
       "model_id": "47ea73e9492d43d19947871dfdee2a3e"
      }
     },
     "metadata": {},
     "output_type": "display_data"
    },
    {
     "data": {
      "application/vnd.jupyter.widget-view+json": {
       "model_id": "5fbcac2d197045a183ecf0c0106f8701"
      }
     },
     "metadata": {},
     "output_type": "display_data"
    },
    {
     "data": {
      "application/vnd.jupyter.widget-view+json": {
       "model_id": "ccbca41608164cb1880fca1adcffaa15"
      }
     },
     "metadata": {},
     "output_type": "display_data"
    },
    {
     "data": {
      "application/vnd.jupyter.widget-view+json": {
       "model_id": "1bcd176780e3499db1f6ceeae22ba067"
      }
     },
     "metadata": {},
     "output_type": "display_data"
    },
    {
     "data": {
      "application/vnd.jupyter.widget-view+json": {
       "model_id": "1e74b9c199fe4adc8d7453ec646844ee"
      }
     },
     "metadata": {},
     "output_type": "display_data"
    },
    {
     "data": {
      "application/vnd.jupyter.widget-view+json": {
       "model_id": "b3b626402e3d4457adc6d58f704440c2"
      }
     },
     "metadata": {},
     "output_type": "display_data"
    },
    {
     "data": {
      "application/vnd.jupyter.widget-view+json": {
       "model_id": "a8b819898b8a4321903ae428d7da117e"
      }
     },
     "metadata": {},
     "output_type": "display_data"
    },
    {
     "data": {
      "application/vnd.jupyter.widget-view+json": {
       "model_id": "40a66c2e2e6649729717113657e18431"
      }
     },
     "metadata": {},
     "output_type": "display_data"
    },
    {
     "data": {
      "application/vnd.jupyter.widget-view+json": {
       "model_id": "df30277e7ade4573be8702c4d1d6768d"
      }
     },
     "metadata": {},
     "output_type": "display_data"
    },
    {
     "data": {
      "application/vnd.jupyter.widget-view+json": {
       "model_id": "3bdf86f3c6114a5caff27125ab620c60"
      }
     },
     "metadata": {},
     "output_type": "display_data"
    },
    {
     "data": {
      "application/vnd.jupyter.widget-view+json": {
       "model_id": "fb29d5067c6c47dda73ffe240948553b"
      }
     },
     "metadata": {},
     "output_type": "display_data"
    },
    {
     "data": {
      "application/vnd.jupyter.widget-view+json": {
       "model_id": "7abacbc5192549d985367feefd77b20c"
      }
     },
     "metadata": {},
     "output_type": "display_data"
    },
    {
     "data": {
      "application/vnd.jupyter.widget-view+json": {
       "model_id": "6b7f1d1ffdca4896a489405cb8fe2e8b"
      }
     },
     "metadata": {},
     "output_type": "display_data"
    },
    {
     "data": {
      "application/vnd.jupyter.widget-view+json": {
       "model_id": "365df849232940f48197b161b5500f1f"
      }
     },
     "metadata": {},
     "output_type": "display_data"
    },
    {
     "data": {
      "application/vnd.jupyter.widget-view+json": {
       "model_id": "09ce2beef19c49a8935ae367e67d6a97"
      }
     },
     "metadata": {},
     "output_type": "display_data"
    },
    {
     "data": {
      "application/vnd.jupyter.widget-view+json": {
       "model_id": "bf180fb742b3424e8a266be82abac500"
      }
     },
     "metadata": {},
     "output_type": "display_data"
    },
    {
     "data": {
      "application/vnd.jupyter.widget-view+json": {
       "model_id": "f95ffda1db61463da4ab4dba92a149a7"
      }
     },
     "metadata": {},
     "output_type": "display_data"
    },
    {
     "data": {
      "application/vnd.jupyter.widget-view+json": {
       "model_id": "854deb5d53184e0caa1770cbc6f390aa"
      }
     },
     "metadata": {},
     "output_type": "display_data"
    },
    {
     "data": {
      "application/vnd.jupyter.widget-view+json": {
       "model_id": "4e499ba3aaec4222a18cfdf0aec61971"
      }
     },
     "metadata": {},
     "output_type": "display_data"
    },
    {
     "data": {
      "application/vnd.jupyter.widget-view+json": {
       "model_id": "f78e579c514b4ee690dc5fb6ea029247"
      }
     },
     "metadata": {},
     "output_type": "display_data"
    },
    {
     "data": {
      "application/vnd.jupyter.widget-view+json": {
       "model_id": "5e26613607fd45ad973a23acefab93ad"
      }
     },
     "metadata": {},
     "output_type": "display_data"
    },
    {
     "data": {
      "application/vnd.jupyter.widget-view+json": {
       "model_id": "61a7997b96ab49a6a2bb4da88112c0c1"
      }
     },
     "metadata": {},
     "output_type": "display_data"
    },
    {
     "data": {
      "application/vnd.jupyter.widget-view+json": {
       "model_id": "0ed30d789e254517b63901528cbbf728"
      }
     },
     "metadata": {},
     "output_type": "display_data"
    },
    {
     "data": {
      "application/vnd.jupyter.widget-view+json": {
       "model_id": "aca3aa2823da44358c8b10f7443cd03c"
      }
     },
     "metadata": {},
     "output_type": "display_data"
    },
    {
     "data": {
      "application/vnd.jupyter.widget-view+json": {
       "model_id": "425f8c9c161f4d04970975f01d9d0406"
      }
     },
     "metadata": {},
     "output_type": "display_data"
    },
    {
     "data": {
      "application/vnd.jupyter.widget-view+json": {
       "model_id": "8bbaac79e5114c97b1075c7745596edf"
      }
     },
     "metadata": {},
     "output_type": "display_data"
    },
    {
     "data": {
      "application/vnd.jupyter.widget-view+json": {
       "model_id": "ba7c5e7687bc4be4ae899d83dd7b5531"
      }
     },
     "metadata": {},
     "output_type": "display_data"
    },
    {
     "data": {
      "application/vnd.jupyter.widget-view+json": {
       "model_id": "ec3061898611427f89a228b49d6b09ef"
      }
     },
     "metadata": {},
     "output_type": "display_data"
    },
    {
     "data": {
      "application/vnd.jupyter.widget-view+json": {
       "model_id": "87e4e118d06e4342876c6d04c4d0ceda"
      }
     },
     "metadata": {},
     "output_type": "display_data"
    },
    {
     "data": {
      "application/vnd.jupyter.widget-view+json": {
       "model_id": "9ff53a67fb0d482eb5c1dade261fd7d8"
      }
     },
     "metadata": {},
     "output_type": "display_data"
    },
    {
     "data": {
      "application/vnd.jupyter.widget-view+json": {
       "model_id": "03e0071550db4237a3c73d42b6b8010d"
      }
     },
     "metadata": {},
     "output_type": "display_data"
    },
    {
     "data": {
      "application/vnd.jupyter.widget-view+json": {
       "model_id": "bae42a50348a424fb91773f7a6398430"
      }
     },
     "metadata": {},
     "output_type": "display_data"
    },
    {
     "data": {
      "application/vnd.jupyter.widget-view+json": {
       "model_id": "2f18ae098a3b4c099c8e9d5fb90d9354"
      }
     },
     "metadata": {},
     "output_type": "display_data"
    },
    {
     "data": {
      "application/vnd.jupyter.widget-view+json": {
       "model_id": "124e6b7c04bf4d048f917ae02912cf9c"
      }
     },
     "metadata": {},
     "output_type": "display_data"
    },
    {
     "data": {
      "application/vnd.jupyter.widget-view+json": {
       "model_id": "f2b15661568d455d98782715ee0f540b"
      }
     },
     "metadata": {},
     "output_type": "display_data"
    },
    {
     "data": {
      "application/vnd.jupyter.widget-view+json": {
       "model_id": "6ab859be83ea4119921a03e3cb1e8fc2"
      }
     },
     "metadata": {},
     "output_type": "display_data"
    },
    {
     "data": {
      "application/vnd.jupyter.widget-view+json": {
       "model_id": "4bb7656a805c459b8ab70a63e48c6cfa"
      }
     },
     "metadata": {},
     "output_type": "display_data"
    },
    {
     "data": {
      "application/vnd.jupyter.widget-view+json": {
       "model_id": "2d66adf2769d471ba5817f6ebd06d0f9"
      }
     },
     "metadata": {},
     "output_type": "display_data"
    },
    {
     "data": {
      "application/vnd.jupyter.widget-view+json": {
       "model_id": "a9777caa37074a8f99c2a8cfb597e5f7"
      }
     },
     "metadata": {},
     "output_type": "display_data"
    },
    {
     "data": {
      "application/vnd.jupyter.widget-view+json": {
       "model_id": "8758f367cb37498c9e781aac358e47cf"
      }
     },
     "metadata": {},
     "output_type": "display_data"
    },
    {
     "data": {
      "application/vnd.jupyter.widget-view+json": {
       "model_id": "c6baeea443304a17a448dd0595194097"
      }
     },
     "metadata": {},
     "output_type": "display_data"
    },
    {
     "data": {
      "application/vnd.jupyter.widget-view+json": {
       "model_id": "5e1a76aa6e9a4be5b68abb89cc5eea67"
      }
     },
     "metadata": {},
     "output_type": "display_data"
    },
    {
     "data": {
      "application/vnd.jupyter.widget-view+json": {
       "model_id": "cff04e1730804578acb557599f50f694"
      }
     },
     "metadata": {},
     "output_type": "display_data"
    },
    {
     "data": {
      "application/vnd.jupyter.widget-view+json": {
       "model_id": "18201617a45043c1aef6d1992079758b"
      }
     },
     "metadata": {},
     "output_type": "display_data"
    },
    {
     "data": {
      "application/vnd.jupyter.widget-view+json": {
       "model_id": "aef79e0890a54b71a113f785f29575fa"
      }
     },
     "metadata": {},
     "output_type": "display_data"
    },
    {
     "data": {
      "application/vnd.jupyter.widget-view+json": {
       "model_id": "356b5e24e3a84e6387224bf43877c52d"
      }
     },
     "metadata": {},
     "output_type": "display_data"
    },
    {
     "data": {
      "application/vnd.jupyter.widget-view+json": {
       "model_id": "59ef6ebf1fc14d6399bf19a5a76d427f"
      }
     },
     "metadata": {},
     "output_type": "display_data"
    },
    {
     "data": {
      "application/vnd.jupyter.widget-view+json": {
       "model_id": "d2a7dc01540c4d7589fb9686fba0bbc6"
      }
     },
     "metadata": {},
     "output_type": "display_data"
    },
    {
     "data": {
      "application/vnd.jupyter.widget-view+json": {
       "model_id": "3d4d5cf94a2f4ef68d0b23cbfbc7523f"
      }
     },
     "metadata": {},
     "output_type": "display_data"
    },
    {
     "data": {
      "application/vnd.jupyter.widget-view+json": {
       "model_id": "cdf78e1476f44d969c6666311f03a722"
      }
     },
     "metadata": {},
     "output_type": "display_data"
    },
    {
     "data": {
      "application/vnd.jupyter.widget-view+json": {
       "model_id": "b3a84c61839f4e5b84dfbe94e7c5d6c0"
      }
     },
     "metadata": {},
     "output_type": "display_data"
    },
    {
     "data": {
      "application/vnd.jupyter.widget-view+json": {
       "model_id": "43396e2b4b2940708436f4ea5ee6015d"
      }
     },
     "metadata": {},
     "output_type": "display_data"
    },
    {
     "data": {
      "application/vnd.jupyter.widget-view+json": {
       "model_id": "a82adcc7c6c143dca3a09572c098c7ee"
      }
     },
     "metadata": {},
     "output_type": "display_data"
    },
    {
     "data": {
      "application/vnd.jupyter.widget-view+json": {
       "model_id": "15122a28d1af4c98a769a7471ef5f1be"
      }
     },
     "metadata": {},
     "output_type": "display_data"
    },
    {
     "data": {
      "application/vnd.jupyter.widget-view+json": {
       "model_id": "b1f99035141941fdb424d426fdb3ed32"
      }
     },
     "metadata": {},
     "output_type": "display_data"
    },
    {
     "data": {
      "application/vnd.jupyter.widget-view+json": {
       "model_id": "9550eef21a2943238aa249beba138dc3"
      }
     },
     "metadata": {},
     "output_type": "display_data"
    },
    {
     "data": {
      "application/vnd.jupyter.widget-view+json": {
       "model_id": "384805cec32b4082af85e0b66b4d47be"
      }
     },
     "metadata": {},
     "output_type": "display_data"
    },
    {
     "data": {
      "application/vnd.jupyter.widget-view+json": {
       "model_id": "9da4fe2f9e9b4c86b6267fc94046d068"
      }
     },
     "metadata": {},
     "output_type": "display_data"
    },
    {
     "data": {
      "application/vnd.jupyter.widget-view+json": {
       "model_id": "3945b6450c2548babe3b79e5e84b5677"
      }
     },
     "metadata": {},
     "output_type": "display_data"
    },
    {
     "data": {
      "application/vnd.jupyter.widget-view+json": {
       "model_id": "6653a3e6cdd54c838eca5b1eb61cb5f7"
      }
     },
     "metadata": {},
     "output_type": "display_data"
    },
    {
     "data": {
      "application/vnd.jupyter.widget-view+json": {
       "model_id": "e958e62c53d9434bb1c6698e461eb3fb"
      }
     },
     "metadata": {},
     "output_type": "display_data"
    },
    {
     "data": {
      "application/vnd.jupyter.widget-view+json": {
       "model_id": "47d329f3d8624e1ebe7351567ae974af"
      }
     },
     "metadata": {},
     "output_type": "display_data"
    },
    {
     "data": {
      "application/vnd.jupyter.widget-view+json": {
       "model_id": "5bf969be4ede4653a42c89351fe359a3"
      }
     },
     "metadata": {},
     "output_type": "display_data"
    },
    {
     "data": {
      "application/vnd.jupyter.widget-view+json": {
       "model_id": "c3fdf61bd71f497b857c8287b3b95ae6"
      }
     },
     "metadata": {},
     "output_type": "display_data"
    },
    {
     "data": {
      "application/vnd.jupyter.widget-view+json": {
       "model_id": "fe4392338cbf4b23af434e3a0a555799"
      }
     },
     "metadata": {},
     "output_type": "display_data"
    },
    {
     "data": {
      "application/vnd.jupyter.widget-view+json": {
       "model_id": "c4df7b5b010a47bebdd3d3c082b4a443"
      }
     },
     "metadata": {},
     "output_type": "display_data"
    },
    {
     "data": {
      "application/vnd.jupyter.widget-view+json": {
       "model_id": "778593fa993742349bd157b41bcf0424"
      }
     },
     "metadata": {},
     "output_type": "display_data"
    },
    {
     "data": {
      "application/vnd.jupyter.widget-view+json": {
       "model_id": "c2b477059b01483db92f852e98cc97dc"
      }
     },
     "metadata": {},
     "output_type": "display_data"
    },
    {
     "data": {
      "application/vnd.jupyter.widget-view+json": {
       "model_id": "35744c3c3e43489fa73f1faccfcff3e1"
      }
     },
     "metadata": {},
     "output_type": "display_data"
    },
    {
     "data": {
      "application/vnd.jupyter.widget-view+json": {
       "model_id": "553e418af9604a7f8f6b2122260e26c5"
      }
     },
     "metadata": {},
     "output_type": "display_data"
    },
    {
     "data": {
      "application/vnd.jupyter.widget-view+json": {
       "model_id": "77867c11ee3646e797681bc32129b578"
      }
     },
     "metadata": {},
     "output_type": "display_data"
    },
    {
     "data": {
      "application/vnd.jupyter.widget-view+json": {
       "model_id": "9a843f6eb03a4896a9e6493f4e37d151"
      }
     },
     "metadata": {},
     "output_type": "display_data"
    },
    {
     "data": {
      "application/vnd.jupyter.widget-view+json": {
       "model_id": "8d07ede5292c4449bc02f944da5e7a86"
      }
     },
     "metadata": {},
     "output_type": "display_data"
    },
    {
     "data": {
      "application/vnd.jupyter.widget-view+json": {
       "model_id": "99b85a0ab06d4e499f1bd4f42304c22b"
      }
     },
     "metadata": {},
     "output_type": "display_data"
    },
    {
     "data": {
      "application/vnd.jupyter.widget-view+json": {
       "model_id": "8030170e10354890b97d24617b0b4e7c"
      }
     },
     "metadata": {},
     "output_type": "display_data"
    },
    {
     "data": {
      "application/vnd.jupyter.widget-view+json": {
       "model_id": "79439d1114f0474f991444fdf219668c"
      }
     },
     "metadata": {},
     "output_type": "display_data"
    },
    {
     "data": {
      "application/vnd.jupyter.widget-view+json": {
       "model_id": "17e1314a30b64268aa25ed30231b987c"
      }
     },
     "metadata": {},
     "output_type": "display_data"
    },
    {
     "data": {
      "application/vnd.jupyter.widget-view+json": {
       "model_id": "74866300fd9248879037778d6b2be5dc"
      }
     },
     "metadata": {},
     "output_type": "display_data"
    },
    {
     "data": {
      "application/vnd.jupyter.widget-view+json": {
       "model_id": "008f978e5eb94596857dd6daa97d74e6"
      }
     },
     "metadata": {},
     "output_type": "display_data"
    },
    {
     "data": {
      "application/vnd.jupyter.widget-view+json": {
       "model_id": "99a2ab450fcf493985785e197098058c"
      }
     },
     "metadata": {},
     "output_type": "display_data"
    },
    {
     "data": {
      "application/vnd.jupyter.widget-view+json": {
       "model_id": "6d710960523041269d3d31887e7b319d"
      }
     },
     "metadata": {},
     "output_type": "display_data"
    },
    {
     "data": {
      "application/vnd.jupyter.widget-view+json": {
       "model_id": "ad713301fb944490ade493c1f16c06e4"
      }
     },
     "metadata": {},
     "output_type": "display_data"
    },
    {
     "data": {
      "application/vnd.jupyter.widget-view+json": {
       "model_id": "fc919086b61b4743873d4b3ddb7abd67"
      }
     },
     "metadata": {},
     "output_type": "display_data"
    },
    {
     "data": {
      "application/vnd.jupyter.widget-view+json": {
       "model_id": "fe047fc8babb4c2289d94ec67ae1f31d"
      }
     },
     "metadata": {},
     "output_type": "display_data"
    },
    {
     "data": {
      "application/vnd.jupyter.widget-view+json": {
       "model_id": "fb95ad3013784caf964b28899b3d6141"
      }
     },
     "metadata": {},
     "output_type": "display_data"
    },
    {
     "data": {
      "application/vnd.jupyter.widget-view+json": {
       "model_id": "34ee67b00d6446008f4d668dbea0d1cf"
      }
     },
     "metadata": {},
     "output_type": "display_data"
    },
    {
     "data": {
      "application/vnd.jupyter.widget-view+json": {
       "model_id": "6798d7f5ecbe4e54b64343582592bac5"
      }
     },
     "metadata": {},
     "output_type": "display_data"
    },
    {
     "data": {
      "application/vnd.jupyter.widget-view+json": {
       "model_id": "72ed3befbd4545218a1dff75d75351f0"
      }
     },
     "metadata": {},
     "output_type": "display_data"
    },
    {
     "data": {
      "application/vnd.jupyter.widget-view+json": {
       "model_id": "71d3621b89a245d482523f53f3122488"
      }
     },
     "metadata": {},
     "output_type": "display_data"
    },
    {
     "data": {
      "application/vnd.jupyter.widget-view+json": {
       "model_id": "20e77ead6cd6475f84368bd5fe45dda9"
      }
     },
     "metadata": {},
     "output_type": "display_data"
    },
    {
     "data": {
      "application/vnd.jupyter.widget-view+json": {
       "model_id": "0f4cfc7f8c944b81980aff3ded6bf165"
      }
     },
     "metadata": {},
     "output_type": "display_data"
    },
    {
     "data": {
      "application/vnd.jupyter.widget-view+json": {
       "model_id": "69cac23767a2445f9f6d126f1a0d9c85"
      }
     },
     "metadata": {},
     "output_type": "display_data"
    },
    {
     "data": {
      "application/vnd.jupyter.widget-view+json": {
       "model_id": "ec716eb7b034410cbc58a15481dffda6"
      }
     },
     "metadata": {},
     "output_type": "display_data"
    },
    {
     "data": {
      "application/vnd.jupyter.widget-view+json": {
       "model_id": "09d9fb9b0d974467a07f275ffc95c1ca"
      }
     },
     "metadata": {},
     "output_type": "display_data"
    },
    {
     "data": {
      "application/vnd.jupyter.widget-view+json": {
       "model_id": "bb63122ba59e4c3196ebf8d07b31fb5c"
      }
     },
     "metadata": {},
     "output_type": "display_data"
    },
    {
     "data": {
      "application/vnd.jupyter.widget-view+json": {
       "model_id": "0707e30791544b10a4fb0af18fed46fa"
      }
     },
     "metadata": {},
     "output_type": "display_data"
    },
    {
     "data": {
      "application/vnd.jupyter.widget-view+json": {
       "model_id": "97f866f0055b469a86fac6744a950df1"
      }
     },
     "metadata": {},
     "output_type": "display_data"
    },
    {
     "data": {
      "application/vnd.jupyter.widget-view+json": {
       "model_id": "8239f062ca2b448d9f548165176e9973"
      }
     },
     "metadata": {},
     "output_type": "display_data"
    },
    {
     "data": {
      "application/vnd.jupyter.widget-view+json": {
       "model_id": "5359a5567c78460db79b87877f61349a"
      }
     },
     "metadata": {},
     "output_type": "display_data"
    },
    {
     "data": {
      "application/vnd.jupyter.widget-view+json": {
       "model_id": "ff6a55214275454b9ad07a9c8cdc9f4d"
      }
     },
     "metadata": {},
     "output_type": "display_data"
    },
    {
     "data": {
      "application/vnd.jupyter.widget-view+json": {
       "model_id": "fab0350cb97347bd90871113cf63f0c8"
      }
     },
     "metadata": {},
     "output_type": "display_data"
    },
    {
     "data": {
      "application/vnd.jupyter.widget-view+json": {
       "model_id": "02251b99f4d24440ba51fcb86e30adb9"
      }
     },
     "metadata": {},
     "output_type": "display_data"
    },
    {
     "data": {
      "application/vnd.jupyter.widget-view+json": {
       "model_id": "b6df14fe3a7d43d283b3107985697166"
      }
     },
     "metadata": {},
     "output_type": "display_data"
    },
    {
     "data": {
      "application/vnd.jupyter.widget-view+json": {
       "model_id": "726614ecaef94c9f91918e7680068839"
      }
     },
     "metadata": {},
     "output_type": "display_data"
    },
    {
     "data": {
      "application/vnd.jupyter.widget-view+json": {
       "model_id": "c8bc303f42334808acee6161bbeb9571"
      }
     },
     "metadata": {},
     "output_type": "display_data"
    },
    {
     "data": {
      "application/vnd.jupyter.widget-view+json": {
       "model_id": "34d51fccc5594c91b168441b733b10a3"
      }
     },
     "metadata": {},
     "output_type": "display_data"
    },
    {
     "data": {
      "application/vnd.jupyter.widget-view+json": {
       "model_id": "e11915f890df4f619dbf48a967d07b2d"
      }
     },
     "metadata": {},
     "output_type": "display_data"
    },
    {
     "data": {
      "application/vnd.jupyter.widget-view+json": {
       "model_id": "6f26e99552094a529110fe1eb8b8a1fb"
      }
     },
     "metadata": {},
     "output_type": "display_data"
    },
    {
     "data": {
      "application/vnd.jupyter.widget-view+json": {
       "model_id": "6a43ee3f25354fef9089aea60c6a6ca7"
      }
     },
     "metadata": {},
     "output_type": "display_data"
    },
    {
     "data": {
      "application/vnd.jupyter.widget-view+json": {
       "model_id": "5d701b5fae2f4ae88158307bc6ab9394"
      }
     },
     "metadata": {},
     "output_type": "display_data"
    },
    {
     "data": {
      "application/vnd.jupyter.widget-view+json": {
       "model_id": "fae861e132b2474bbfa63af87e276455"
      }
     },
     "metadata": {},
     "output_type": "display_data"
    },
    {
     "data": {
      "application/vnd.jupyter.widget-view+json": {
       "model_id": "351d31b158ea4f1e8d4db3bc015e39cc"
      }
     },
     "metadata": {},
     "output_type": "display_data"
    },
    {
     "data": {
      "application/vnd.jupyter.widget-view+json": {
       "model_id": "0739aa24296c4d07a41f852c21e28110"
      }
     },
     "metadata": {},
     "output_type": "display_data"
    },
    {
     "data": {
      "application/vnd.jupyter.widget-view+json": {
       "model_id": "02407cd6de924ada857a4558f3a77021"
      }
     },
     "metadata": {},
     "output_type": "display_data"
    },
    {
     "data": {
      "application/vnd.jupyter.widget-view+json": {
       "model_id": "b8a5be3d029344cc8a8ca3220817ac74"
      }
     },
     "metadata": {},
     "output_type": "display_data"
    },
    {
     "data": {
      "application/vnd.jupyter.widget-view+json": {
       "model_id": "4369d283a8084e2cab717c182fa2c1d0"
      }
     },
     "metadata": {},
     "output_type": "display_data"
    },
    {
     "data": {
      "application/vnd.jupyter.widget-view+json": {
       "model_id": "714900611b1b491c96f54e9b9bd92b48"
      }
     },
     "metadata": {},
     "output_type": "display_data"
    },
    {
     "data": {
      "application/vnd.jupyter.widget-view+json": {
       "model_id": "86bae3b2786a47a9a2021488a35e0b04"
      }
     },
     "metadata": {},
     "output_type": "display_data"
    },
    {
     "data": {
      "application/vnd.jupyter.widget-view+json": {
       "model_id": "a3ae68fabebc452f8c0b6a9f5e27b802"
      }
     },
     "metadata": {},
     "output_type": "display_data"
    },
    {
     "data": {
      "application/vnd.jupyter.widget-view+json": {
       "model_id": "afed5a0d2a7a4810bbff6b487841bfad"
      }
     },
     "metadata": {},
     "output_type": "display_data"
    },
    {
     "data": {
      "application/vnd.jupyter.widget-view+json": {
       "model_id": "a9f69607a60849a6a4c9f62d8be4deb9"
      }
     },
     "metadata": {},
     "output_type": "display_data"
    },
    {
     "data": {
      "application/vnd.jupyter.widget-view+json": {
       "model_id": "34debcbca38e4c1594b9559ef0ca1ad9"
      }
     },
     "metadata": {},
     "output_type": "display_data"
    },
    {
     "data": {
      "application/vnd.jupyter.widget-view+json": {
       "model_id": "815a11a4c8be41518baa7d578b998c06"
      }
     },
     "metadata": {},
     "output_type": "display_data"
    },
    {
     "data": {
      "application/vnd.jupyter.widget-view+json": {
       "model_id": "1aba39f3564745dda693dda3e0c47a2f"
      }
     },
     "metadata": {},
     "output_type": "display_data"
    },
    {
     "data": {
      "application/vnd.jupyter.widget-view+json": {
       "model_id": "0e2f82b68c4e41deab2b752ffc846ab7"
      }
     },
     "metadata": {},
     "output_type": "display_data"
    },
    {
     "data": {
      "application/vnd.jupyter.widget-view+json": {
       "model_id": "583c5341995c4bccb2421a41b728a78d"
      }
     },
     "metadata": {},
     "output_type": "display_data"
    },
    {
     "data": {
      "application/vnd.jupyter.widget-view+json": {
       "model_id": "90756c146c724092b5b805b998675839"
      }
     },
     "metadata": {},
     "output_type": "display_data"
    },
    {
     "data": {
      "application/vnd.jupyter.widget-view+json": {
       "model_id": "b828843f83fb4b819c7a3dd380904419"
      }
     },
     "metadata": {},
     "output_type": "display_data"
    },
    {
     "data": {
      "application/vnd.jupyter.widget-view+json": {
       "model_id": "c6ee654e1a2e4f8e962bd616ac7b43a4"
      }
     },
     "metadata": {},
     "output_type": "display_data"
    },
    {
     "data": {
      "application/vnd.jupyter.widget-view+json": {
       "model_id": "c350d2dcb28a47cab8b704dad5f7006b"
      }
     },
     "metadata": {},
     "output_type": "display_data"
    },
    {
     "data": {
      "application/vnd.jupyter.widget-view+json": {
       "model_id": "3903f50c9c564441916f131dfcc7cb44"
      }
     },
     "metadata": {},
     "output_type": "display_data"
    },
    {
     "data": {
      "application/vnd.jupyter.widget-view+json": {
       "model_id": "a76a47df585a47678917b3a2da0d091a"
      }
     },
     "metadata": {},
     "output_type": "display_data"
    },
    {
     "data": {
      "application/vnd.jupyter.widget-view+json": {
       "model_id": "30ce2d6fb0e444428d283c8d532597fc"
      }
     },
     "metadata": {},
     "output_type": "display_data"
    },
    {
     "data": {
      "application/vnd.jupyter.widget-view+json": {
       "model_id": "c4524f20add5473282b13ed426726af4"
      }
     },
     "metadata": {},
     "output_type": "display_data"
    },
    {
     "data": {
      "application/vnd.jupyter.widget-view+json": {
       "model_id": "36abb10df1454a8f95a0822211958ed8"
      }
     },
     "metadata": {},
     "output_type": "display_data"
    },
    {
     "data": {
      "application/vnd.jupyter.widget-view+json": {
       "model_id": "bf9803d3e90a430d9f378fdc15e3bbe1"
      }
     },
     "metadata": {},
     "output_type": "display_data"
    },
    {
     "data": {
      "application/vnd.jupyter.widget-view+json": {
       "model_id": "e7a93162d9b04ec59d035aae3fb5d2f6"
      }
     },
     "metadata": {},
     "output_type": "display_data"
    },
    {
     "data": {
      "application/vnd.jupyter.widget-view+json": {
       "model_id": "a2ab5ef810d84a67a07ed2cde1fbca1b"
      }
     },
     "metadata": {},
     "output_type": "display_data"
    },
    {
     "data": {
      "application/vnd.jupyter.widget-view+json": {
       "model_id": "1d75df87f69a478292af4fd3196d6614"
      }
     },
     "metadata": {},
     "output_type": "display_data"
    },
    {
     "data": {
      "application/vnd.jupyter.widget-view+json": {
       "model_id": "8d314905f02549a8a2db3b6d1a95ec21"
      }
     },
     "metadata": {},
     "output_type": "display_data"
    },
    {
     "data": {
      "application/vnd.jupyter.widget-view+json": {
       "model_id": "124459e76676482184561283738c5e66"
      }
     },
     "metadata": {},
     "output_type": "display_data"
    },
    {
     "data": {
      "application/vnd.jupyter.widget-view+json": {
       "model_id": "1928548fa4674830a75b8e63db6efc08"
      }
     },
     "metadata": {},
     "output_type": "display_data"
    },
    {
     "data": {
      "application/vnd.jupyter.widget-view+json": {
       "model_id": "56a9837e29374651b32a02866c60dafc"
      }
     },
     "metadata": {},
     "output_type": "display_data"
    },
    {
     "data": {
      "application/vnd.jupyter.widget-view+json": {
       "model_id": "d19fec9d112046feb7976b84672b2053"
      }
     },
     "metadata": {},
     "output_type": "display_data"
    },
    {
     "data": {
      "application/vnd.jupyter.widget-view+json": {
       "model_id": "5586f32e63ee4879a203b8423e7b8d40"
      }
     },
     "metadata": {},
     "output_type": "display_data"
    },
    {
     "data": {
      "application/vnd.jupyter.widget-view+json": {
       "model_id": "9d5c8d11d5fc4e11ae309aa4bec422a7"
      }
     },
     "metadata": {},
     "output_type": "display_data"
    },
    {
     "data": {
      "application/vnd.jupyter.widget-view+json": {
       "model_id": "7104284f362746ed9def3ddbe7469168"
      }
     },
     "metadata": {},
     "output_type": "display_data"
    },
    {
     "data": {
      "application/vnd.jupyter.widget-view+json": {
       "model_id": "e01eec0547184fe2b1d4d1c9134a9eaa"
      }
     },
     "metadata": {},
     "output_type": "display_data"
    },
    {
     "data": {
      "application/vnd.jupyter.widget-view+json": {
       "model_id": "55965eed8d954603b947952251b3d835"
      }
     },
     "metadata": {},
     "output_type": "display_data"
    },
    {
     "data": {
      "application/vnd.jupyter.widget-view+json": {
       "model_id": "df14e8cb50ec4722bd965aa4fd7717e5"
      }
     },
     "metadata": {},
     "output_type": "display_data"
    },
    {
     "data": {
      "application/vnd.jupyter.widget-view+json": {
       "model_id": "823a66d6e4744a56b7e388d93ca7a3d7"
      }
     },
     "metadata": {},
     "output_type": "display_data"
    },
    {
     "data": {
      "application/vnd.jupyter.widget-view+json": {
       "model_id": "8126b9e23e824029ba9f5bf3581908ad"
      }
     },
     "metadata": {},
     "output_type": "display_data"
    },
    {
     "data": {
      "application/vnd.jupyter.widget-view+json": {
       "model_id": "0510fab57e334bcb99e1fc0c71b46399"
      }
     },
     "metadata": {},
     "output_type": "display_data"
    },
    {
     "data": {
      "application/vnd.jupyter.widget-view+json": {
       "model_id": "860f1781a43349babdb180699f7148cf"
      }
     },
     "metadata": {},
     "output_type": "display_data"
    },
    {
     "data": {
      "application/vnd.jupyter.widget-view+json": {
       "model_id": "860a7322c26046fc81ab42880a4fad02"
      }
     },
     "metadata": {},
     "output_type": "display_data"
    },
    {
     "data": {
      "application/vnd.jupyter.widget-view+json": {
       "model_id": "224c54cb2cd34e1d87b88844f2ea17ca"
      }
     },
     "metadata": {},
     "output_type": "display_data"
    },
    {
     "data": {
      "application/vnd.jupyter.widget-view+json": {
       "model_id": "bcdc782f5a994b9f8111ed1df85be8d6"
      }
     },
     "metadata": {},
     "output_type": "display_data"
    },
    {
     "data": {
      "application/vnd.jupyter.widget-view+json": {
       "model_id": "a3ef112548504f538291c4dd3a8ecaff"
      }
     },
     "metadata": {},
     "output_type": "display_data"
    },
    {
     "data": {
      "application/vnd.jupyter.widget-view+json": {
       "model_id": "6794630a907f47978527d429373b3dd4"
      }
     },
     "metadata": {},
     "output_type": "display_data"
    },
    {
     "data": {
      "application/vnd.jupyter.widget-view+json": {
       "model_id": "8dfd5160b1994091862002cd688a03ee"
      }
     },
     "metadata": {},
     "output_type": "display_data"
    },
    {
     "data": {
      "application/vnd.jupyter.widget-view+json": {
       "model_id": "4417dcf72d5a4f5e87d03d09c726f23f"
      }
     },
     "metadata": {},
     "output_type": "display_data"
    },
    {
     "data": {
      "application/vnd.jupyter.widget-view+json": {
       "model_id": "0dad3835950945898cba551995a19991"
      }
     },
     "metadata": {},
     "output_type": "display_data"
    },
    {
     "data": {
      "application/vnd.jupyter.widget-view+json": {
       "model_id": "5c44571e9cd14ea18ff3d82dbc9a5383"
      }
     },
     "metadata": {},
     "output_type": "display_data"
    },
    {
     "data": {
      "application/vnd.jupyter.widget-view+json": {
       "model_id": "af927d2046834f58b2584655cf475572"
      }
     },
     "metadata": {},
     "output_type": "display_data"
    },
    {
     "data": {
      "application/vnd.jupyter.widget-view+json": {
       "model_id": "e2288cf0b04c4335840337efcd31773b"
      }
     },
     "metadata": {},
     "output_type": "display_data"
    },
    {
     "data": {
      "application/vnd.jupyter.widget-view+json": {
       "model_id": "8eaf96999e8e4b3bab16ed306521837b"
      }
     },
     "metadata": {},
     "output_type": "display_data"
    },
    {
     "data": {
      "application/vnd.jupyter.widget-view+json": {
       "model_id": "8850979cb8024d80af2a93ed4c748b89"
      }
     },
     "metadata": {},
     "output_type": "display_data"
    },
    {
     "data": {
      "application/vnd.jupyter.widget-view+json": {
       "model_id": "ced71855c13d44a9a913fcbddd985473"
      }
     },
     "metadata": {},
     "output_type": "display_data"
    },
    {
     "data": {
      "application/vnd.jupyter.widget-view+json": {
       "model_id": "04558e26b2b14b588184155836f012fd"
      }
     },
     "metadata": {},
     "output_type": "display_data"
    },
    {
     "data": {
      "application/vnd.jupyter.widget-view+json": {
       "model_id": "200ff2e121504aada98c756cf37ea4b5"
      }
     },
     "metadata": {},
     "output_type": "display_data"
    },
    {
     "data": {
      "application/vnd.jupyter.widget-view+json": {
       "model_id": "dbfe443ee22e414e8c0acf464b95242d"
      }
     },
     "metadata": {},
     "output_type": "display_data"
    },
    {
     "data": {
      "application/vnd.jupyter.widget-view+json": {
       "model_id": "870a9a966f4b4469a7d77ebe1906e783"
      }
     },
     "metadata": {},
     "output_type": "display_data"
    },
    {
     "data": {
      "application/vnd.jupyter.widget-view+json": {
       "model_id": "87bbfde46bf540d798f14f73ebb8454a"
      }
     },
     "metadata": {},
     "output_type": "display_data"
    },
    {
     "data": {
      "application/vnd.jupyter.widget-view+json": {
       "model_id": "a71919e456a54841b41c330d6aff02c1"
      }
     },
     "metadata": {},
     "output_type": "display_data"
    },
    {
     "data": {
      "application/vnd.jupyter.widget-view+json": {
       "model_id": "f124f3c05df94e579d8e063fd5fdf688"
      }
     },
     "metadata": {},
     "output_type": "display_data"
    },
    {
     "data": {
      "application/vnd.jupyter.widget-view+json": {
       "model_id": "371c1ba2bdb24f209f86f9fcca4f8b3f"
      }
     },
     "metadata": {},
     "output_type": "display_data"
    },
    {
     "data": {
      "application/vnd.jupyter.widget-view+json": {
       "model_id": "cf7a0b11d2114b56999d86c147ce3dbf"
      }
     },
     "metadata": {},
     "output_type": "display_data"
    },
    {
     "data": {
      "application/vnd.jupyter.widget-view+json": {
       "model_id": "6e162e8e4578460bb5ce745433202596"
      }
     },
     "metadata": {},
     "output_type": "display_data"
    },
    {
     "data": {
      "application/vnd.jupyter.widget-view+json": {
       "model_id": "be21191e52ad4331a0b55b93363fc15e"
      }
     },
     "metadata": {},
     "output_type": "display_data"
    },
    {
     "data": {
      "application/vnd.jupyter.widget-view+json": {
       "model_id": "6f4f9adf00da4781975c6eaaf469c153"
      }
     },
     "metadata": {},
     "output_type": "display_data"
    },
    {
     "data": {
      "application/vnd.jupyter.widget-view+json": {
       "model_id": "70c7583132ab42b2b82674702d176878"
      }
     },
     "metadata": {},
     "output_type": "display_data"
    },
    {
     "data": {
      "application/vnd.jupyter.widget-view+json": {
       "model_id": "c979dd55bae24c86ab72d836e7cb84bb"
      }
     },
     "metadata": {},
     "output_type": "display_data"
    },
    {
     "data": {
      "application/vnd.jupyter.widget-view+json": {
       "model_id": "296a60ea332e4b11b3ea6074c81c5550"
      }
     },
     "metadata": {},
     "output_type": "display_data"
    },
    {
     "data": {
      "application/vnd.jupyter.widget-view+json": {
       "model_id": "4d6b4c2a60a5438abae26e83ba331b9c"
      }
     },
     "metadata": {},
     "output_type": "display_data"
    },
    {
     "data": {
      "application/vnd.jupyter.widget-view+json": {
       "model_id": "b6ccef7aad5b45a1892ab4e9a8ac4d01"
      }
     },
     "metadata": {},
     "output_type": "display_data"
    },
    {
     "data": {
      "application/vnd.jupyter.widget-view+json": {
       "model_id": "3120cc592a5a4fd58658590eb6f3fd4f"
      }
     },
     "metadata": {},
     "output_type": "display_data"
    },
    {
     "data": {
      "application/vnd.jupyter.widget-view+json": {
       "model_id": "681b94ad90ee4913968a49117caa8b47"
      }
     },
     "metadata": {},
     "output_type": "display_data"
    },
    {
     "data": {
      "application/vnd.jupyter.widget-view+json": {
       "model_id": "869b584a9d7d4c0d8b02f023271de2e4"
      }
     },
     "metadata": {},
     "output_type": "display_data"
    },
    {
     "data": {
      "application/vnd.jupyter.widget-view+json": {
       "model_id": "d650d1078d8849f393cb7cf53fc66182"
      }
     },
     "metadata": {},
     "output_type": "display_data"
    },
    {
     "data": {
      "application/vnd.jupyter.widget-view+json": {
       "model_id": "7ee21eba4de1464a8a0bfb8ea1c1cd9d"
      }
     },
     "metadata": {},
     "output_type": "display_data"
    },
    {
     "data": {
      "application/vnd.jupyter.widget-view+json": {
       "model_id": "e4de2c1d6b9d4a1da62e7b401078be96"
      }
     },
     "metadata": {},
     "output_type": "display_data"
    },
    {
     "data": {
      "application/vnd.jupyter.widget-view+json": {
       "model_id": "11b604e4e1874bc3926cc4a5e69ea40a"
      }
     },
     "metadata": {},
     "output_type": "display_data"
    },
    {
     "data": {
      "application/vnd.jupyter.widget-view+json": {
       "model_id": "9c3ab6042b184323ad41be367ba93786"
      }
     },
     "metadata": {},
     "output_type": "display_data"
    },
    {
     "data": {
      "application/vnd.jupyter.widget-view+json": {
       "model_id": "d7c498f051a34e58b67f262f596a924b"
      }
     },
     "metadata": {},
     "output_type": "display_data"
    },
    {
     "data": {
      "application/vnd.jupyter.widget-view+json": {
       "model_id": "6dd250acfd4b47989b23fbcf123fb822"
      }
     },
     "metadata": {},
     "output_type": "display_data"
    },
    {
     "data": {
      "application/vnd.jupyter.widget-view+json": {
       "model_id": "1a73a7fa439f44e3bd800210af449ef7"
      }
     },
     "metadata": {},
     "output_type": "display_data"
    },
    {
     "data": {
      "application/vnd.jupyter.widget-view+json": {
       "model_id": "a7ae131391bf4595ae498ebf3e0fa94c"
      }
     },
     "metadata": {},
     "output_type": "display_data"
    },
    {
     "data": {
      "application/vnd.jupyter.widget-view+json": {
       "model_id": "cd80ff6eac114c99878ed8543d0c323d"
      }
     },
     "metadata": {},
     "output_type": "display_data"
    },
    {
     "data": {
      "application/vnd.jupyter.widget-view+json": {
       "model_id": "5db5b66bc8404de2bd92b594ab63178d"
      }
     },
     "metadata": {},
     "output_type": "display_data"
    },
    {
     "data": {
      "application/vnd.jupyter.widget-view+json": {
       "model_id": "08cb6d40fedb44d896ab93abf7d7b32c"
      }
     },
     "metadata": {},
     "output_type": "display_data"
    },
    {
     "data": {
      "application/vnd.jupyter.widget-view+json": {
       "model_id": "b507ff5e90664fabacdcee3444089cdd"
      }
     },
     "metadata": {},
     "output_type": "display_data"
    },
    {
     "data": {
      "application/vnd.jupyter.widget-view+json": {
       "model_id": "095d93e921e24e35a0ebd952926c926d"
      }
     },
     "metadata": {},
     "output_type": "display_data"
    },
    {
     "data": {
      "application/vnd.jupyter.widget-view+json": {
       "model_id": "cb1377901fdf46c691e80085670b1ccd"
      }
     },
     "metadata": {},
     "output_type": "display_data"
    },
    {
     "data": {
      "application/vnd.jupyter.widget-view+json": {
       "model_id": "4593e65d59ca45dfa12c61e9156e469d"
      }
     },
     "metadata": {},
     "output_type": "display_data"
    },
    {
     "data": {
      "application/vnd.jupyter.widget-view+json": {
       "model_id": "294fe8bf94be40b2a1bfd66cfa0b4c75"
      }
     },
     "metadata": {},
     "output_type": "display_data"
    },
    {
     "data": {
      "application/vnd.jupyter.widget-view+json": {
       "model_id": "51531e96068a4459a408cc7e21aa86a0"
      }
     },
     "metadata": {},
     "output_type": "display_data"
    },
    {
     "data": {
      "application/vnd.jupyter.widget-view+json": {
       "model_id": "7519da3888ab4abe9f7117603c31da0c"
      }
     },
     "metadata": {},
     "output_type": "display_data"
    },
    {
     "data": {
      "application/vnd.jupyter.widget-view+json": {
       "model_id": "4fc83f7cfd864bd9804a7d4fbcbaea06"
      }
     },
     "metadata": {},
     "output_type": "display_data"
    },
    {
     "data": {
      "application/vnd.jupyter.widget-view+json": {
       "model_id": "8e56e98b389f4ddab054609708b06694"
      }
     },
     "metadata": {},
     "output_type": "display_data"
    },
    {
     "data": {
      "application/vnd.jupyter.widget-view+json": {
       "model_id": "ab3cf040cf1446a481fad58b9023211b"
      }
     },
     "metadata": {},
     "output_type": "display_data"
    },
    {
     "data": {
      "application/vnd.jupyter.widget-view+json": {
       "model_id": "61f4a3c8cdd14557b1c8f2be03ca105e"
      }
     },
     "metadata": {},
     "output_type": "display_data"
    },
    {
     "data": {
      "application/vnd.jupyter.widget-view+json": {
       "model_id": "e18ad566c21245058bd6cb73511774dc"
      }
     },
     "metadata": {},
     "output_type": "display_data"
    },
    {
     "data": {
      "application/vnd.jupyter.widget-view+json": {
       "model_id": "1f92148dee1e4638b244eb8d7f78fee8"
      }
     },
     "metadata": {},
     "output_type": "display_data"
    },
    {
     "data": {
      "application/vnd.jupyter.widget-view+json": {
       "model_id": "04502e2cc5764b08a389af08144c71b7"
      }
     },
     "metadata": {},
     "output_type": "display_data"
    },
    {
     "data": {
      "application/vnd.jupyter.widget-view+json": {
       "model_id": "f0782e848c0843a8b19091e27d8f1c91"
      }
     },
     "metadata": {},
     "output_type": "display_data"
    },
    {
     "data": {
      "application/vnd.jupyter.widget-view+json": {
       "model_id": "e3a6b74edc0043f9a2d2111a2ce44497"
      }
     },
     "metadata": {},
     "output_type": "display_data"
    },
    {
     "data": {
      "application/vnd.jupyter.widget-view+json": {
       "model_id": "a437b40571f64b3b9d2cdae077d21d8f"
      }
     },
     "metadata": {},
     "output_type": "display_data"
    },
    {
     "data": {
      "application/vnd.jupyter.widget-view+json": {
       "model_id": "3e3ef7fccb194883a1319100cee52784"
      }
     },
     "metadata": {},
     "output_type": "display_data"
    },
    {
     "data": {
      "application/vnd.jupyter.widget-view+json": {
       "model_id": "9595af5faf614495884a79375b561ded"
      }
     },
     "metadata": {},
     "output_type": "display_data"
    },
    {
     "data": {
      "application/vnd.jupyter.widget-view+json": {
       "model_id": "f16da1b2e03e4196aff74235d684175f"
      }
     },
     "metadata": {},
     "output_type": "display_data"
    },
    {
     "data": {
      "application/vnd.jupyter.widget-view+json": {
       "model_id": "acfc91e7d4374478a17e97d6473019a4"
      }
     },
     "metadata": {},
     "output_type": "display_data"
    },
    {
     "data": {
      "application/vnd.jupyter.widget-view+json": {
       "model_id": "9bc829e31ffe44588e1c4d413558e0e2"
      }
     },
     "metadata": {},
     "output_type": "display_data"
    },
    {
     "data": {
      "application/vnd.jupyter.widget-view+json": {
       "model_id": "c3d9b06118d74d4496fd249d420e349f"
      }
     },
     "metadata": {},
     "output_type": "display_data"
    },
    {
     "data": {
      "application/vnd.jupyter.widget-view+json": {
       "model_id": "d2c74d94e5204e948d7bbeee06376d7c"
      }
     },
     "metadata": {},
     "output_type": "display_data"
    },
    {
     "data": {
      "application/vnd.jupyter.widget-view+json": {
       "model_id": "ec01d55c68d04eca919cc544ef913013"
      }
     },
     "metadata": {},
     "output_type": "display_data"
    },
    {
     "data": {
      "application/vnd.jupyter.widget-view+json": {
       "model_id": "d8ef173ab89f4b49b33b852a1422f013"
      }
     },
     "metadata": {},
     "output_type": "display_data"
    },
    {
     "data": {
      "application/vnd.jupyter.widget-view+json": {
       "model_id": "93cafebca5bd4ad2a94ddedbde1740ba"
      }
     },
     "metadata": {},
     "output_type": "display_data"
    },
    {
     "data": {
      "application/vnd.jupyter.widget-view+json": {
       "model_id": "e30a1bb4bc424d278860ad63a26dbc2c"
      }
     },
     "metadata": {},
     "output_type": "display_data"
    },
    {
     "data": {
      "application/vnd.jupyter.widget-view+json": {
       "model_id": "60f05781058e4279976459a0c3ce89bb"
      }
     },
     "metadata": {},
     "output_type": "display_data"
    },
    {
     "data": {
      "application/vnd.jupyter.widget-view+json": {
       "model_id": "725afedd8bca4d26b88cfe823859b20f"
      }
     },
     "metadata": {},
     "output_type": "display_data"
    },
    {
     "data": {
      "application/vnd.jupyter.widget-view+json": {
       "model_id": "4143d024fb084a50bd6f26874b5efc27"
      }
     },
     "metadata": {},
     "output_type": "display_data"
    },
    {
     "data": {
      "application/vnd.jupyter.widget-view+json": {
       "model_id": "146de117399e42858e17e35bcfe3ce49"
      }
     },
     "metadata": {},
     "output_type": "display_data"
    },
    {
     "data": {
      "application/vnd.jupyter.widget-view+json": {
       "model_id": "2e60586462a24bc8b6b4f5ab2b156066"
      }
     },
     "metadata": {},
     "output_type": "display_data"
    },
    {
     "data": {
      "application/vnd.jupyter.widget-view+json": {
       "model_id": "436548514b3f41d5af05ca419dfe4194"
      }
     },
     "metadata": {},
     "output_type": "display_data"
    },
    {
     "data": {
      "application/vnd.jupyter.widget-view+json": {
       "model_id": "5d2551d0cee4401388e605ba8057460f"
      }
     },
     "metadata": {},
     "output_type": "display_data"
    },
    {
     "data": {
      "application/vnd.jupyter.widget-view+json": {
       "model_id": "a45ff2c0a5674cf085bd09e585404921"
      }
     },
     "metadata": {},
     "output_type": "display_data"
    },
    {
     "data": {
      "application/vnd.jupyter.widget-view+json": {
       "model_id": "ee3ce0526faa4fcc978700c009910e85"
      }
     },
     "metadata": {},
     "output_type": "display_data"
    },
    {
     "data": {
      "application/vnd.jupyter.widget-view+json": {
       "model_id": "f102f981bf5d4154bd8b0fe5cccd5d3f"
      }
     },
     "metadata": {},
     "output_type": "display_data"
    },
    {
     "data": {
      "application/vnd.jupyter.widget-view+json": {
       "model_id": "5709880cc03a49b5bb20e4b1e704f64c"
      }
     },
     "metadata": {},
     "output_type": "display_data"
    },
    {
     "data": {
      "application/vnd.jupyter.widget-view+json": {
       "model_id": "a6fa960ac4b141c192f3deb65fecf773"
      }
     },
     "metadata": {},
     "output_type": "display_data"
    },
    {
     "data": {
      "application/vnd.jupyter.widget-view+json": {
       "model_id": "346a3735b93649f59d872b5f05ef732f"
      }
     },
     "metadata": {},
     "output_type": "display_data"
    },
    {
     "data": {
      "application/vnd.jupyter.widget-view+json": {
       "model_id": "2c448ee0c7554c5b9edda1b566b6699e"
      }
     },
     "metadata": {},
     "output_type": "display_data"
    },
    {
     "data": {
      "application/vnd.jupyter.widget-view+json": {
       "model_id": "90972486d7044ef286622c5fc9b5c2c0"
      }
     },
     "metadata": {},
     "output_type": "display_data"
    },
    {
     "data": {
      "application/vnd.jupyter.widget-view+json": {
       "model_id": "df7838b963a148279fb0097765f04965"
      }
     },
     "metadata": {},
     "output_type": "display_data"
    },
    {
     "data": {
      "application/vnd.jupyter.widget-view+json": {
       "model_id": "c42b618094284b6ea2a1e86c19093dfe"
      }
     },
     "metadata": {},
     "output_type": "display_data"
    },
    {
     "data": {
      "application/vnd.jupyter.widget-view+json": {
       "model_id": "37f18bdf829844f9b33fbf4521316835"
      }
     },
     "metadata": {},
     "output_type": "display_data"
    },
    {
     "data": {
      "application/vnd.jupyter.widget-view+json": {
       "model_id": "5059cdd640414ebb96cd951ef620d5da"
      }
     },
     "metadata": {},
     "output_type": "display_data"
    },
    {
     "data": {
      "application/vnd.jupyter.widget-view+json": {
       "model_id": "eb50e4e33305432ea06031faeef89c31"
      }
     },
     "metadata": {},
     "output_type": "display_data"
    },
    {
     "data": {
      "application/vnd.jupyter.widget-view+json": {
       "model_id": "5bdc2efabe0d42619d29c6e5b13012ab"
      }
     },
     "metadata": {},
     "output_type": "display_data"
    },
    {
     "data": {
      "application/vnd.jupyter.widget-view+json": {
       "model_id": "7dec2585751240fe8b40224df745d9e9"
      }
     },
     "metadata": {},
     "output_type": "display_data"
    },
    {
     "data": {
      "application/vnd.jupyter.widget-view+json": {
       "model_id": "3af511fcce0b4a60bc403a534edfb68f"
      }
     },
     "metadata": {},
     "output_type": "display_data"
    },
    {
     "data": {
      "application/vnd.jupyter.widget-view+json": {
       "model_id": "f1d29c14fef0447f88b0b31d1e0fb857"
      }
     },
     "metadata": {},
     "output_type": "display_data"
    },
    {
     "data": {
      "application/vnd.jupyter.widget-view+json": {
       "model_id": "d67d4623001c4efa8b622522962c8f65"
      }
     },
     "metadata": {},
     "output_type": "display_data"
    },
    {
     "data": {
      "application/vnd.jupyter.widget-view+json": {
       "model_id": "71ea64ebfc594b1285c5ba9e2d70393a"
      }
     },
     "metadata": {},
     "output_type": "display_data"
    },
    {
     "data": {
      "application/vnd.jupyter.widget-view+json": {
       "model_id": "13d8fd38ab0d42dcbe20106958c1e367"
      }
     },
     "metadata": {},
     "output_type": "display_data"
    },
    {
     "data": {
      "application/vnd.jupyter.widget-view+json": {
       "model_id": "c16996f7efd7422c9883818966007176"
      }
     },
     "metadata": {},
     "output_type": "display_data"
    },
    {
     "data": {
      "application/vnd.jupyter.widget-view+json": {
       "model_id": "ed5452f340624aaf9ba88396d6a80f37"
      }
     },
     "metadata": {},
     "output_type": "display_data"
    },
    {
     "data": {
      "application/vnd.jupyter.widget-view+json": {
       "model_id": "8e78909503f745c7afa64c78a5261088"
      }
     },
     "metadata": {},
     "output_type": "display_data"
    },
    {
     "data": {
      "application/vnd.jupyter.widget-view+json": {
       "model_id": "38732578d3e04d488076e047a82e5bfd"
      }
     },
     "metadata": {},
     "output_type": "display_data"
    },
    {
     "data": {
      "application/vnd.jupyter.widget-view+json": {
       "model_id": "d4b526700cc4406c913b17f2f6ca0ab8"
      }
     },
     "metadata": {},
     "output_type": "display_data"
    },
    {
     "data": {
      "application/vnd.jupyter.widget-view+json": {
       "model_id": "f91b249719a545de9a35ffbd94b258ae"
      }
     },
     "metadata": {},
     "output_type": "display_data"
    },
    {
     "data": {
      "application/vnd.jupyter.widget-view+json": {
       "model_id": "2de2055222ce40dfa7c87b5fe9de27eb"
      }
     },
     "metadata": {},
     "output_type": "display_data"
    },
    {
     "data": {
      "application/vnd.jupyter.widget-view+json": {
       "model_id": "c3b69e005a064eed897bd823ca688d5e"
      }
     },
     "metadata": {},
     "output_type": "display_data"
    },
    {
     "data": {
      "application/vnd.jupyter.widget-view+json": {
       "model_id": "d14ad488f4744b2eb25167ed3e852cda"
      }
     },
     "metadata": {},
     "output_type": "display_data"
    },
    {
     "data": {
      "application/vnd.jupyter.widget-view+json": {
       "model_id": "6467fe6c215447b4af959cb2e270a9c5"
      }
     },
     "metadata": {},
     "output_type": "display_data"
    },
    {
     "data": {
      "application/vnd.jupyter.widget-view+json": {
       "model_id": "a57566041e9f46dc90190dc2d91f0c88"
      }
     },
     "metadata": {},
     "output_type": "display_data"
    },
    {
     "data": {
      "application/vnd.jupyter.widget-view+json": {
       "model_id": "d450ef7820a14113980fe6522ad260a7"
      }
     },
     "metadata": {},
     "output_type": "display_data"
    },
    {
     "data": {
      "application/vnd.jupyter.widget-view+json": {
       "model_id": "d0154aceae2a4bb6a0c7cc985ef7c632"
      }
     },
     "metadata": {},
     "output_type": "display_data"
    },
    {
     "data": {
      "application/vnd.jupyter.widget-view+json": {
       "model_id": "2917ed9b16714ae2b936fe1cd75ef4b7"
      }
     },
     "metadata": {},
     "output_type": "display_data"
    },
    {
     "data": {
      "application/vnd.jupyter.widget-view+json": {
       "model_id": "7599e2b3235b4a0c943814c613a2178b"
      }
     },
     "metadata": {},
     "output_type": "display_data"
    },
    {
     "data": {
      "application/vnd.jupyter.widget-view+json": {
       "model_id": "43ae11ad6329472ca32274b017d43439"
      }
     },
     "metadata": {},
     "output_type": "display_data"
    },
    {
     "data": {
      "application/vnd.jupyter.widget-view+json": {
       "model_id": "dfe1d65056bf4170a171222933e92f76"
      }
     },
     "metadata": {},
     "output_type": "display_data"
    },
    {
     "data": {
      "application/vnd.jupyter.widget-view+json": {
       "model_id": "b95071e5e5de41b5a63715f242426339"
      }
     },
     "metadata": {},
     "output_type": "display_data"
    },
    {
     "data": {
      "application/vnd.jupyter.widget-view+json": {
       "model_id": "8226b425e6f04e0a97ffe6dce34176b4"
      }
     },
     "metadata": {},
     "output_type": "display_data"
    },
    {
     "data": {
      "application/vnd.jupyter.widget-view+json": {
       "model_id": "9cb4792b5a5f459fa8a4613bd79a9a78"
      }
     },
     "metadata": {},
     "output_type": "display_data"
    },
    {
     "data": {
      "application/vnd.jupyter.widget-view+json": {
       "model_id": "9fa4a9e2c2514c8f9f172e4688854fc9"
      }
     },
     "metadata": {},
     "output_type": "display_data"
    },
    {
     "data": {
      "application/vnd.jupyter.widget-view+json": {
       "model_id": "f7c1dbdf4ee64ccdabdcfbdddc19d51b"
      }
     },
     "metadata": {},
     "output_type": "display_data"
    },
    {
     "data": {
      "application/vnd.jupyter.widget-view+json": {
       "model_id": "b8b45c051db047a98e33e41a430f4883"
      }
     },
     "metadata": {},
     "output_type": "display_data"
    },
    {
     "data": {
      "application/vnd.jupyter.widget-view+json": {
       "model_id": "d072c522f53a4ba2bd6d1fefa81734c4"
      }
     },
     "metadata": {},
     "output_type": "display_data"
    },
    {
     "data": {
      "application/vnd.jupyter.widget-view+json": {
       "model_id": "2736deee362646f0aaf3ab46921638f0"
      }
     },
     "metadata": {},
     "output_type": "display_data"
    },
    {
     "data": {
      "application/vnd.jupyter.widget-view+json": {
       "model_id": "5d61f4a2ae744654b44e0a3a753af438"
      }
     },
     "metadata": {},
     "output_type": "display_data"
    },
    {
     "data": {
      "application/vnd.jupyter.widget-view+json": {
       "model_id": "1b1defa566a845ec8a5a68b9b9fa1d32"
      }
     },
     "metadata": {},
     "output_type": "display_data"
    },
    {
     "data": {
      "application/vnd.jupyter.widget-view+json": {
       "model_id": "7c2e3a3594b24820a39671e60dd671b5"
      }
     },
     "metadata": {},
     "output_type": "display_data"
    },
    {
     "data": {
      "application/vnd.jupyter.widget-view+json": {
       "model_id": "e7df9d9cb6384e32b7678ae0911ecb56"
      }
     },
     "metadata": {},
     "output_type": "display_data"
    },
    {
     "data": {
      "application/vnd.jupyter.widget-view+json": {
       "model_id": "9f88c914daa34020a243d355385bfe28"
      }
     },
     "metadata": {},
     "output_type": "display_data"
    },
    {
     "data": {
      "application/vnd.jupyter.widget-view+json": {
       "model_id": "87b6148106764d4abeb59bde0c0e7a54"
      }
     },
     "metadata": {},
     "output_type": "display_data"
    },
    {
     "data": {
      "application/vnd.jupyter.widget-view+json": {
       "model_id": "b5d57075d3944b558fd626ee03670bf6"
      }
     },
     "metadata": {},
     "output_type": "display_data"
    },
    {
     "data": {
      "application/vnd.jupyter.widget-view+json": {
       "model_id": "d9f3c3e0ff944861b01012dc7ec185a5"
      }
     },
     "metadata": {},
     "output_type": "display_data"
    },
    {
     "data": {
      "application/vnd.jupyter.widget-view+json": {
       "model_id": "466e992945604aaa9cc7c791d3045bae"
      }
     },
     "metadata": {},
     "output_type": "display_data"
    },
    {
     "data": {
      "application/vnd.jupyter.widget-view+json": {
       "model_id": "a4367ad0fadb440d8c61dc74a9da40e5"
      }
     },
     "metadata": {},
     "output_type": "display_data"
    },
    {
     "data": {
      "application/vnd.jupyter.widget-view+json": {
       "model_id": "ee0cdaa24b9d4888b6e4b42dc58f51d8"
      }
     },
     "metadata": {},
     "output_type": "display_data"
    },
    {
     "data": {
      "application/vnd.jupyter.widget-view+json": {
       "model_id": "38732a66e91144dfbe5e9fb51299a0bb"
      }
     },
     "metadata": {},
     "output_type": "display_data"
    },
    {
     "data": {
      "application/vnd.jupyter.widget-view+json": {
       "model_id": "90875c9fa3e84cd986233a87adf931b5"
      }
     },
     "metadata": {},
     "output_type": "display_data"
    },
    {
     "data": {
      "application/vnd.jupyter.widget-view+json": {
       "model_id": "4e66f1043f1247828ca032eb6a2dcbd3"
      }
     },
     "metadata": {},
     "output_type": "display_data"
    },
    {
     "data": {
      "application/vnd.jupyter.widget-view+json": {
       "model_id": "df6a5f2012564a7fbaa404099d78b52a"
      }
     },
     "metadata": {},
     "output_type": "display_data"
    },
    {
     "data": {
      "application/vnd.jupyter.widget-view+json": {
       "model_id": "0f516ea0a90e423fa5f9321a264a9775"
      }
     },
     "metadata": {},
     "output_type": "display_data"
    },
    {
     "data": {
      "application/vnd.jupyter.widget-view+json": {
       "model_id": "b9be13bc42664521a4ca9c2caa8a0c24"
      }
     },
     "metadata": {},
     "output_type": "display_data"
    },
    {
     "data": {
      "application/vnd.jupyter.widget-view+json": {
       "model_id": "e391ca3ab33f4f279c277da37c2de649"
      }
     },
     "metadata": {},
     "output_type": "display_data"
    },
    {
     "data": {
      "application/vnd.jupyter.widget-view+json": {
       "model_id": "ee8d9c65beb1458dbd653639d8d2d149"
      }
     },
     "metadata": {},
     "output_type": "display_data"
    },
    {
     "data": {
      "application/vnd.jupyter.widget-view+json": {
       "model_id": "98d5bdf2f8ef4878b855ec23b020aa1d"
      }
     },
     "metadata": {},
     "output_type": "display_data"
    },
    {
     "data": {
      "application/vnd.jupyter.widget-view+json": {
       "model_id": "72d39e9b84cd4f7386e139557775c452"
      }
     },
     "metadata": {},
     "output_type": "display_data"
    },
    {
     "data": {
      "application/vnd.jupyter.widget-view+json": {
       "model_id": "1d8651def3874b4b92780587d902f5ae"
      }
     },
     "metadata": {},
     "output_type": "display_data"
    },
    {
     "data": {
      "application/vnd.jupyter.widget-view+json": {
       "model_id": "3d241be8528e46baa7e9d7eacbbdb462"
      }
     },
     "metadata": {},
     "output_type": "display_data"
    },
    {
     "data": {
      "application/vnd.jupyter.widget-view+json": {
       "model_id": "2b8ef54c22cc4586988fc98a9807b967"
      }
     },
     "metadata": {},
     "output_type": "display_data"
    },
    {
     "data": {
      "application/vnd.jupyter.widget-view+json": {
       "model_id": "32b04bfb5731485d9e0bc04d02c49b82"
      }
     },
     "metadata": {},
     "output_type": "display_data"
    },
    {
     "data": {
      "application/vnd.jupyter.widget-view+json": {
       "model_id": "da944dde50db44729d4f9513472e5f60"
      }
     },
     "metadata": {},
     "output_type": "display_data"
    },
    {
     "data": {
      "application/vnd.jupyter.widget-view+json": {
       "model_id": "da4e02abdc9f4bd5af03c1118e7b4e26"
      }
     },
     "metadata": {},
     "output_type": "display_data"
    },
    {
     "data": {
      "application/vnd.jupyter.widget-view+json": {
       "model_id": "0b6d86dde9254f09a491f30bd1dee5f0"
      }
     },
     "metadata": {},
     "output_type": "display_data"
    },
    {
     "data": {
      "application/vnd.jupyter.widget-view+json": {
       "model_id": "058a57d516c641fabe134d0148aa017f"
      }
     },
     "metadata": {},
     "output_type": "display_data"
    },
    {
     "data": {
      "application/vnd.jupyter.widget-view+json": {
       "model_id": "a94e93702e6447a295e90bb5848bd9a9"
      }
     },
     "metadata": {},
     "output_type": "display_data"
    },
    {
     "data": {
      "application/vnd.jupyter.widget-view+json": {
       "model_id": "af10e0d940d04920a21f9251130ddf75"
      }
     },
     "metadata": {},
     "output_type": "display_data"
    },
    {
     "data": {
      "application/vnd.jupyter.widget-view+json": {
       "model_id": "1d81ba8d256748899f4a532ca51bc29b"
      }
     },
     "metadata": {},
     "output_type": "display_data"
    },
    {
     "data": {
      "application/vnd.jupyter.widget-view+json": {
       "model_id": "daa355347fc74672b0eb6aee18783a4f"
      }
     },
     "metadata": {},
     "output_type": "display_data"
    },
    {
     "data": {
      "application/vnd.jupyter.widget-view+json": {
       "model_id": "ca60db842d8b407b9eb469bb052e0df7"
      }
     },
     "metadata": {},
     "output_type": "display_data"
    },
    {
     "data": {
      "application/vnd.jupyter.widget-view+json": {
       "model_id": "ef670d72236a4895812a79d256118590"
      }
     },
     "metadata": {},
     "output_type": "display_data"
    },
    {
     "data": {
      "application/vnd.jupyter.widget-view+json": {
       "model_id": "33461c36644d4e6dbf7fc728c939c721"
      }
     },
     "metadata": {},
     "output_type": "display_data"
    },
    {
     "data": {
      "application/vnd.jupyter.widget-view+json": {
       "model_id": "3747c64a1acb423c9ad512dfa9a16bb7"
      }
     },
     "metadata": {},
     "output_type": "display_data"
    },
    {
     "data": {
      "application/vnd.jupyter.widget-view+json": {
       "model_id": "367fc7affdb241dda856f5366571d3d4"
      }
     },
     "metadata": {},
     "output_type": "display_data"
    },
    {
     "data": {
      "application/vnd.jupyter.widget-view+json": {
       "model_id": "af1d72b339904d7d8dd5bcb4bc8541e1"
      }
     },
     "metadata": {},
     "output_type": "display_data"
    },
    {
     "data": {
      "application/vnd.jupyter.widget-view+json": {
       "model_id": "54df104c3ba0481caae76d07b754da87"
      }
     },
     "metadata": {},
     "output_type": "display_data"
    },
    {
     "data": {
      "application/vnd.jupyter.widget-view+json": {
       "model_id": "b720efedd51f4fbfb0b4accd5d4a5566"
      }
     },
     "metadata": {},
     "output_type": "display_data"
    },
    {
     "data": {
      "application/vnd.jupyter.widget-view+json": {
       "model_id": "da8b55b36b1c440581057771b5f5e962"
      }
     },
     "metadata": {},
     "output_type": "display_data"
    },
    {
     "data": {
      "application/vnd.jupyter.widget-view+json": {
       "model_id": "e1cb3785c55d472f8330c908c67088db"
      }
     },
     "metadata": {},
     "output_type": "display_data"
    },
    {
     "data": {
      "application/vnd.jupyter.widget-view+json": {
       "model_id": "e9c4181c7b584f158f4b50ec31f803bb"
      }
     },
     "metadata": {},
     "output_type": "display_data"
    },
    {
     "data": {
      "application/vnd.jupyter.widget-view+json": {
       "model_id": "26f5d5fce4a14c0ab74a28063834efd2"
      }
     },
     "metadata": {},
     "output_type": "display_data"
    },
    {
     "data": {
      "application/vnd.jupyter.widget-view+json": {
       "model_id": "772d7c9d68c74aadbc179a8c9bc0582a"
      }
     },
     "metadata": {},
     "output_type": "display_data"
    },
    {
     "data": {
      "application/vnd.jupyter.widget-view+json": {
       "model_id": "73013fb900e24664bad34cc9d1aa0a2b"
      }
     },
     "metadata": {},
     "output_type": "display_data"
    },
    {
     "data": {
      "application/vnd.jupyter.widget-view+json": {
       "model_id": "d8773605d79143228c2f4bf0d97ab952"
      }
     },
     "metadata": {},
     "output_type": "display_data"
    },
    {
     "data": {
      "application/vnd.jupyter.widget-view+json": {
       "model_id": "565fae19d55a45498bea56d82fe584f7"
      }
     },
     "metadata": {},
     "output_type": "display_data"
    },
    {
     "data": {
      "application/vnd.jupyter.widget-view+json": {
       "model_id": "58128085cc75455c8cffcc578b138bf2"
      }
     },
     "metadata": {},
     "output_type": "display_data"
    },
    {
     "data": {
      "application/vnd.jupyter.widget-view+json": {
       "model_id": "b2ef8b0266d941eda1f841504f36b8a7"
      }
     },
     "metadata": {},
     "output_type": "display_data"
    },
    {
     "data": {
      "application/vnd.jupyter.widget-view+json": {
       "model_id": "9c36cceba5024df3a12a3b62418178e5"
      }
     },
     "metadata": {},
     "output_type": "display_data"
    },
    {
     "data": {
      "application/vnd.jupyter.widget-view+json": {
       "model_id": "4f519ae2830d498bbb5f6327ceddd8e6"
      }
     },
     "metadata": {},
     "output_type": "display_data"
    },
    {
     "data": {
      "application/vnd.jupyter.widget-view+json": {
       "model_id": "b0c350dfdea94f7d9288583ad1a6ff4b"
      }
     },
     "metadata": {},
     "output_type": "display_data"
    },
    {
     "data": {
      "application/vnd.jupyter.widget-view+json": {
       "model_id": "3a3656e22b6844a38290e44f03786df1"
      }
     },
     "metadata": {},
     "output_type": "display_data"
    },
    {
     "data": {
      "application/vnd.jupyter.widget-view+json": {
       "model_id": "350924082fb44340a1095462d5e799de"
      }
     },
     "metadata": {},
     "output_type": "display_data"
    },
    {
     "data": {
      "application/vnd.jupyter.widget-view+json": {
       "model_id": "a341bbf49ebc4d19ad0be30d9ece6aca"
      }
     },
     "metadata": {},
     "output_type": "display_data"
    },
    {
     "data": {
      "application/vnd.jupyter.widget-view+json": {
       "model_id": "c263a5345ddb422ab4ae6248c93b5dc1"
      }
     },
     "metadata": {},
     "output_type": "display_data"
    },
    {
     "data": {
      "application/vnd.jupyter.widget-view+json": {
       "model_id": "8ab785e23d5642d5ad20520c64e961db"
      }
     },
     "metadata": {},
     "output_type": "display_data"
    },
    {
     "data": {
      "application/vnd.jupyter.widget-view+json": {
       "model_id": "c6dbfb49f15345d594f4ec93fecae85b"
      }
     },
     "metadata": {},
     "output_type": "display_data"
    },
    {
     "data": {
      "application/vnd.jupyter.widget-view+json": {
       "model_id": "0d6748b057314f11a5d39ecfff33f94f"
      }
     },
     "metadata": {},
     "output_type": "display_data"
    },
    {
     "data": {
      "application/vnd.jupyter.widget-view+json": {
       "model_id": "ee99574ad81b4919a7f04b4c1208f329"
      }
     },
     "metadata": {},
     "output_type": "display_data"
    },
    {
     "data": {
      "application/vnd.jupyter.widget-view+json": {
       "model_id": "4063d0b9a77649afa8852c2950a841e8"
      }
     },
     "metadata": {},
     "output_type": "display_data"
    },
    {
     "data": {
      "application/vnd.jupyter.widget-view+json": {
       "model_id": "4bef86b0ba6949998adb83c331066179"
      }
     },
     "metadata": {},
     "output_type": "display_data"
    },
    {
     "data": {
      "application/vnd.jupyter.widget-view+json": {
       "model_id": "398f182a731e4fa7aa8bce4eb5a7a17b"
      }
     },
     "metadata": {},
     "output_type": "display_data"
    },
    {
     "data": {
      "application/vnd.jupyter.widget-view+json": {
       "model_id": "c4f7ac58460b4af88a9c0b21a9feddfa"
      }
     },
     "metadata": {},
     "output_type": "display_data"
    },
    {
     "data": {
      "application/vnd.jupyter.widget-view+json": {
       "model_id": "94c902ab8cb144c4bf2e092e7129eee6"
      }
     },
     "metadata": {},
     "output_type": "display_data"
    },
    {
     "data": {
      "application/vnd.jupyter.widget-view+json": {
       "model_id": "37d8a685eeef467f82e389e067a94c67"
      }
     },
     "metadata": {},
     "output_type": "display_data"
    },
    {
     "data": {
      "application/vnd.jupyter.widget-view+json": {
       "model_id": "9a6500f28f024d1d88e8501dfc6c4f80"
      }
     },
     "metadata": {},
     "output_type": "display_data"
    },
    {
     "data": {
      "application/vnd.jupyter.widget-view+json": {
       "model_id": "43abe403b04542f49124993c86a43a95"
      }
     },
     "metadata": {},
     "output_type": "display_data"
    },
    {
     "data": {
      "application/vnd.jupyter.widget-view+json": {
       "model_id": "0a9c9a74ac2b4d33808247109026a662"
      }
     },
     "metadata": {},
     "output_type": "display_data"
    },
    {
     "data": {
      "application/vnd.jupyter.widget-view+json": {
       "model_id": "dd2f255142504063963c3043798b1d32"
      }
     },
     "metadata": {},
     "output_type": "display_data"
    },
    {
     "data": {
      "application/vnd.jupyter.widget-view+json": {
       "model_id": "42f3f633d19749659e81d54b183222e6"
      }
     },
     "metadata": {},
     "output_type": "display_data"
    },
    {
     "data": {
      "application/vnd.jupyter.widget-view+json": {
       "model_id": "cfa65b70285844ea8254dcf72b01c599"
      }
     },
     "metadata": {},
     "output_type": "display_data"
    },
    {
     "data": {
      "application/vnd.jupyter.widget-view+json": {
       "model_id": "d7b6957e5cdf4090b630b9b4d14da05a"
      }
     },
     "metadata": {},
     "output_type": "display_data"
    },
    {
     "data": {
      "application/vnd.jupyter.widget-view+json": {
       "model_id": "505ba85555c24ab7b93afa13fdf73629"
      }
     },
     "metadata": {},
     "output_type": "display_data"
    },
    {
     "data": {
      "application/vnd.jupyter.widget-view+json": {
       "model_id": "fe6ca90e24784d90bcf09a9739184725"
      }
     },
     "metadata": {},
     "output_type": "display_data"
    },
    {
     "data": {
      "application/vnd.jupyter.widget-view+json": {
       "model_id": "1c65a7d5e8314ad4b84c6cae24f3e4a8"
      }
     },
     "metadata": {},
     "output_type": "display_data"
    },
    {
     "data": {
      "application/vnd.jupyter.widget-view+json": {
       "model_id": "c10289ccfaee47cb9ea14f97c01cbcba"
      }
     },
     "metadata": {},
     "output_type": "display_data"
    },
    {
     "data": {
      "application/vnd.jupyter.widget-view+json": {
       "model_id": "766650be443248e68d618190a5762c70"
      }
     },
     "metadata": {},
     "output_type": "display_data"
    },
    {
     "data": {
      "application/vnd.jupyter.widget-view+json": {
       "model_id": "3406e3df48c047da90ee0a4cc43a502b"
      }
     },
     "metadata": {},
     "output_type": "display_data"
    },
    {
     "data": {
      "application/vnd.jupyter.widget-view+json": {
       "model_id": "7feaecc9a7724e348bf5dbe04ae80e16"
      }
     },
     "metadata": {},
     "output_type": "display_data"
    },
    {
     "data": {
      "application/vnd.jupyter.widget-view+json": {
       "model_id": "1ab9b690de0e46d39629911c56006a54"
      }
     },
     "metadata": {},
     "output_type": "display_data"
    },
    {
     "data": {
      "application/vnd.jupyter.widget-view+json": {
       "model_id": "7e727422c5d24419a88d26a8383d9d18"
      }
     },
     "metadata": {},
     "output_type": "display_data"
    },
    {
     "data": {
      "application/vnd.jupyter.widget-view+json": {
       "model_id": "db1ffc65f553417d86696e7b561d63cb"
      }
     },
     "metadata": {},
     "output_type": "display_data"
    },
    {
     "data": {
      "application/vnd.jupyter.widget-view+json": {
       "model_id": "b85736b3765e4615b37da5d42bdeadc1"
      }
     },
     "metadata": {},
     "output_type": "display_data"
    },
    {
     "data": {
      "application/vnd.jupyter.widget-view+json": {
       "model_id": "8e6b1a10713d41beba960c63d8e37a4b"
      }
     },
     "metadata": {},
     "output_type": "display_data"
    },
    {
     "data": {
      "application/vnd.jupyter.widget-view+json": {
       "model_id": "412a6fa2a0564566a39643228b6c6edc"
      }
     },
     "metadata": {},
     "output_type": "display_data"
    },
    {
     "data": {
      "application/vnd.jupyter.widget-view+json": {
       "model_id": "7e0ab9cbab7d443087f7a710bd71f2f2"
      }
     },
     "metadata": {},
     "output_type": "display_data"
    },
    {
     "data": {
      "application/vnd.jupyter.widget-view+json": {
       "model_id": "e9f3475bc03744e885cbc7bd9c6cf705"
      }
     },
     "metadata": {},
     "output_type": "display_data"
    },
    {
     "data": {
      "application/vnd.jupyter.widget-view+json": {
       "model_id": "680410da6f6f432ca7a7710ebbf28538"
      }
     },
     "metadata": {},
     "output_type": "display_data"
    },
    {
     "data": {
      "application/vnd.jupyter.widget-view+json": {
       "model_id": "0e851f15fbfa444d9725e2d4546dc121"
      }
     },
     "metadata": {},
     "output_type": "display_data"
    },
    {
     "data": {
      "application/vnd.jupyter.widget-view+json": {
       "model_id": "0e152e78bc5443dbb92a23230acafd85"
      }
     },
     "metadata": {},
     "output_type": "display_data"
    },
    {
     "data": {
      "application/vnd.jupyter.widget-view+json": {
       "model_id": "72ffc17f458e4b86877bb06f45098e14"
      }
     },
     "metadata": {},
     "output_type": "display_data"
    },
    {
     "data": {
      "application/vnd.jupyter.widget-view+json": {
       "model_id": "a60ba6d6d823442c8e1a1b283ebf7d1c"
      }
     },
     "metadata": {},
     "output_type": "display_data"
    },
    {
     "data": {
      "application/vnd.jupyter.widget-view+json": {
       "model_id": "a7a98eb677e849aebd35adcd483e6e95"
      }
     },
     "metadata": {},
     "output_type": "display_data"
    },
    {
     "data": {
      "application/vnd.jupyter.widget-view+json": {
       "model_id": "f698aeaaf6a043898c69f4e6ee2413b7"
      }
     },
     "metadata": {},
     "output_type": "display_data"
    },
    {
     "data": {
      "application/vnd.jupyter.widget-view+json": {
       "model_id": "e1c7f32f80a14c8ab87ac9d6ad4c2ddb"
      }
     },
     "metadata": {},
     "output_type": "display_data"
    },
    {
     "data": {
      "application/vnd.jupyter.widget-view+json": {
       "model_id": "c2807e5e690b4931a137b5cdb0c1f6a4"
      }
     },
     "metadata": {},
     "output_type": "display_data"
    },
    {
     "data": {
      "application/vnd.jupyter.widget-view+json": {
       "model_id": "1a56a591a72146fda91a87040599d8ec"
      }
     },
     "metadata": {},
     "output_type": "display_data"
    },
    {
     "data": {
      "application/vnd.jupyter.widget-view+json": {
       "model_id": "740ec27c0efb40be9835e599aa73416f"
      }
     },
     "metadata": {},
     "output_type": "display_data"
    },
    {
     "data": {
      "application/vnd.jupyter.widget-view+json": {
       "model_id": "b6ae79c824d54aff9a31ef2005859dae"
      }
     },
     "metadata": {},
     "output_type": "display_data"
    },
    {
     "data": {
      "application/vnd.jupyter.widget-view+json": {
       "model_id": "925c5e92f96549d88633fd24746f4de8"
      }
     },
     "metadata": {},
     "output_type": "display_data"
    },
    {
     "data": {
      "application/vnd.jupyter.widget-view+json": {
       "model_id": "132be9f8cf2a46498016be2be3187a90"
      }
     },
     "metadata": {},
     "output_type": "display_data"
    },
    {
     "data": {
      "application/vnd.jupyter.widget-view+json": {
       "model_id": "f05c4174487c46049cc7e539a5d26587"
      }
     },
     "metadata": {},
     "output_type": "display_data"
    },
    {
     "data": {
      "application/vnd.jupyter.widget-view+json": {
       "model_id": "44459b8e019a411599cafbdf5b83eef8"
      }
     },
     "metadata": {},
     "output_type": "display_data"
    },
    {
     "data": {
      "application/vnd.jupyter.widget-view+json": {
       "model_id": "0136670c1732494a93a7dc85a129b19f"
      }
     },
     "metadata": {},
     "output_type": "display_data"
    },
    {
     "data": {
      "application/vnd.jupyter.widget-view+json": {
       "model_id": "dfc0e0f7e53047e096bbbdadfeca57f2"
      }
     },
     "metadata": {},
     "output_type": "display_data"
    },
    {
     "data": {
      "application/vnd.jupyter.widget-view+json": {
       "model_id": "8f4929c6f4c049bd8ba3079e5f158e5d"
      }
     },
     "metadata": {},
     "output_type": "display_data"
    },
    {
     "data": {
      "application/vnd.jupyter.widget-view+json": {
       "model_id": "780e9065fda94786810d50554f4de881"
      }
     },
     "metadata": {},
     "output_type": "display_data"
    },
    {
     "data": {
      "application/vnd.jupyter.widget-view+json": {
       "model_id": "916db95bc4d249788add300c576cfb13"
      }
     },
     "metadata": {},
     "output_type": "display_data"
    },
    {
     "data": {
      "application/vnd.jupyter.widget-view+json": {
       "model_id": "89f45f1695394b41a2f7c5d23bf59881"
      }
     },
     "metadata": {},
     "output_type": "display_data"
    },
    {
     "data": {
      "application/vnd.jupyter.widget-view+json": {
       "model_id": "3438e64fe22b40ceac01cf3839984536"
      }
     },
     "metadata": {},
     "output_type": "display_data"
    },
    {
     "data": {
      "application/vnd.jupyter.widget-view+json": {
       "model_id": "1671dc70b57e4669a03dd72d88a0c253"
      }
     },
     "metadata": {},
     "output_type": "display_data"
    },
    {
     "data": {
      "application/vnd.jupyter.widget-view+json": {
       "model_id": "a868a49b659445e3aab91a68f8507d57"
      }
     },
     "metadata": {},
     "output_type": "display_data"
    },
    {
     "data": {
      "application/vnd.jupyter.widget-view+json": {
       "model_id": "858550b6d6a34b2cb86d52a71411b766"
      }
     },
     "metadata": {},
     "output_type": "display_data"
    },
    {
     "data": {
      "application/vnd.jupyter.widget-view+json": {
       "model_id": "b2aaced320f5417e85ddd8f94c493042"
      }
     },
     "metadata": {},
     "output_type": "display_data"
    },
    {
     "data": {
      "application/vnd.jupyter.widget-view+json": {
       "model_id": "9a9b57cf7595497ba06cbe4fe8bac56c"
      }
     },
     "metadata": {},
     "output_type": "display_data"
    },
    {
     "data": {
      "application/vnd.jupyter.widget-view+json": {
       "model_id": "7e9dfa2db2954e9987352a70572dc2d3"
      }
     },
     "metadata": {},
     "output_type": "display_data"
    },
    {
     "data": {
      "application/vnd.jupyter.widget-view+json": {
       "model_id": "65dbb661e4b24fad8688cf1fe3541576"
      }
     },
     "metadata": {},
     "output_type": "display_data"
    },
    {
     "data": {
      "application/vnd.jupyter.widget-view+json": {
       "model_id": "a75c422cda984131a92429a398bfcd76"
      }
     },
     "metadata": {},
     "output_type": "display_data"
    },
    {
     "data": {
      "application/vnd.jupyter.widget-view+json": {
       "model_id": "117a8534895b4dca8c874d2e7145afaf"
      }
     },
     "metadata": {},
     "output_type": "display_data"
    },
    {
     "data": {
      "application/vnd.jupyter.widget-view+json": {
       "model_id": "6bc035499fa94450b35ba148c43d55d7"
      }
     },
     "metadata": {},
     "output_type": "display_data"
    },
    {
     "data": {
      "application/vnd.jupyter.widget-view+json": {
       "model_id": "a8fe1ecf42e6413a8db6757b7718c4bf"
      }
     },
     "metadata": {},
     "output_type": "display_data"
    },
    {
     "data": {
      "application/vnd.jupyter.widget-view+json": {
       "model_id": "6ef1e34fe2ac4444bd07a3a8b39c1587"
      }
     },
     "metadata": {},
     "output_type": "display_data"
    },
    {
     "data": {
      "application/vnd.jupyter.widget-view+json": {
       "model_id": "cfb03af6d53e4848a2aa4dd1dc8a3967"
      }
     },
     "metadata": {},
     "output_type": "display_data"
    },
    {
     "data": {
      "application/vnd.jupyter.widget-view+json": {
       "model_id": "fc2031c77b134fa59ac4511d80825cc4"
      }
     },
     "metadata": {},
     "output_type": "display_data"
    },
    {
     "data": {
      "application/vnd.jupyter.widget-view+json": {
       "model_id": "3e8eb07711134353bd640acc2aa5320d"
      }
     },
     "metadata": {},
     "output_type": "display_data"
    },
    {
     "data": {
      "application/vnd.jupyter.widget-view+json": {
       "model_id": "94c4b2bddf0c4f8ca1f994065841a776"
      }
     },
     "metadata": {},
     "output_type": "display_data"
    },
    {
     "data": {
      "application/vnd.jupyter.widget-view+json": {
       "model_id": "290c5b1d308b49e896f00d9a383af4dc"
      }
     },
     "metadata": {},
     "output_type": "display_data"
    },
    {
     "data": {
      "application/vnd.jupyter.widget-view+json": {
       "model_id": "8d9cc5c6c8ff43308f1f9afbed9657e6"
      }
     },
     "metadata": {},
     "output_type": "display_data"
    },
    {
     "data": {
      "application/vnd.jupyter.widget-view+json": {
       "model_id": "db9e2aa3e1754d89ba3c9bbc780cad09"
      }
     },
     "metadata": {},
     "output_type": "display_data"
    },
    {
     "data": {
      "application/vnd.jupyter.widget-view+json": {
       "model_id": "323c98091115414fac34e12c6444d786"
      }
     },
     "metadata": {},
     "output_type": "display_data"
    },
    {
     "data": {
      "application/vnd.jupyter.widget-view+json": {
       "model_id": "ac4072e5873f463fb393126760beb740"
      }
     },
     "metadata": {},
     "output_type": "display_data"
    },
    {
     "data": {
      "application/vnd.jupyter.widget-view+json": {
       "model_id": "121d7a158c8241998b834e529b3605de"
      }
     },
     "metadata": {},
     "output_type": "display_data"
    },
    {
     "data": {
      "application/vnd.jupyter.widget-view+json": {
       "model_id": "17624f4214244d2aaee3e3f3a85d5d03"
      }
     },
     "metadata": {},
     "output_type": "display_data"
    },
    {
     "data": {
      "application/vnd.jupyter.widget-view+json": {
       "model_id": "d222afd8670544b787ac46e88cc882cf"
      }
     },
     "metadata": {},
     "output_type": "display_data"
    },
    {
     "data": {
      "application/vnd.jupyter.widget-view+json": {
       "model_id": "78a64b4804ee4ee99ca93cd05b2a1463"
      }
     },
     "metadata": {},
     "output_type": "display_data"
    },
    {
     "data": {
      "application/vnd.jupyter.widget-view+json": {
       "model_id": "6a58472f33d643b1a728bf3c923f35d3"
      }
     },
     "metadata": {},
     "output_type": "display_data"
    },
    {
     "data": {
      "application/vnd.jupyter.widget-view+json": {
       "model_id": "78281c74faf44dccb4449457dd8a0662"
      }
     },
     "metadata": {},
     "output_type": "display_data"
    },
    {
     "data": {
      "application/vnd.jupyter.widget-view+json": {
       "model_id": "62a046fdf5a44c6e876b52074cbce102"
      }
     },
     "metadata": {},
     "output_type": "display_data"
    },
    {
     "data": {
      "application/vnd.jupyter.widget-view+json": {
       "model_id": "bd2004b2e406476886ae5699b8f844c9"
      }
     },
     "metadata": {},
     "output_type": "display_data"
    },
    {
     "data": {
      "application/vnd.jupyter.widget-view+json": {
       "model_id": "b359eec61fb04d2db954b1e6b31bc611"
      }
     },
     "metadata": {},
     "output_type": "display_data"
    },
    {
     "data": {
      "application/vnd.jupyter.widget-view+json": {
       "model_id": "782d3605030d425e9a751b07fad7da6a"
      }
     },
     "metadata": {},
     "output_type": "display_data"
    },
    {
     "data": {
      "application/vnd.jupyter.widget-view+json": {
       "model_id": "cadc5e97e6a44f2fad5a0b96c49f7f73"
      }
     },
     "metadata": {},
     "output_type": "display_data"
    },
    {
     "data": {
      "application/vnd.jupyter.widget-view+json": {
       "model_id": "ee298d8474944500bce619d851a1a54b"
      }
     },
     "metadata": {},
     "output_type": "display_data"
    },
    {
     "data": {
      "application/vnd.jupyter.widget-view+json": {
       "model_id": "fda607ee76d6409680a18f75e3a224c7"
      }
     },
     "metadata": {},
     "output_type": "display_data"
    },
    {
     "data": {
      "application/vnd.jupyter.widget-view+json": {
       "model_id": "892dd93e36594940b8484a683106e2ad"
      }
     },
     "metadata": {},
     "output_type": "display_data"
    },
    {
     "data": {
      "application/vnd.jupyter.widget-view+json": {
       "model_id": "21b3743880db4013b5ce9c742540c395"
      }
     },
     "metadata": {},
     "output_type": "display_data"
    },
    {
     "data": {
      "application/vnd.jupyter.widget-view+json": {
       "model_id": "79f3173d4b4a419eaedea0b0bc7c0493"
      }
     },
     "metadata": {},
     "output_type": "display_data"
    },
    {
     "data": {
      "application/vnd.jupyter.widget-view+json": {
       "model_id": "0f438d03f962411ca64c66d2d3083316"
      }
     },
     "metadata": {},
     "output_type": "display_data"
    },
    {
     "data": {
      "application/vnd.jupyter.widget-view+json": {
       "model_id": "a99ca0611ce94bb7828b129ba5be620a"
      }
     },
     "metadata": {},
     "output_type": "display_data"
    },
    {
     "data": {
      "application/vnd.jupyter.widget-view+json": {
       "model_id": "c70c32e1a93147f281023e7022d98a3b"
      }
     },
     "metadata": {},
     "output_type": "display_data"
    },
    {
     "data": {
      "application/vnd.jupyter.widget-view+json": {
       "model_id": "a59b15cd53554042b0563bdad2b8960b"
      }
     },
     "metadata": {},
     "output_type": "display_data"
    },
    {
     "data": {
      "application/vnd.jupyter.widget-view+json": {
       "model_id": "125bcfac5e654ec68e6640068686e19a"
      }
     },
     "metadata": {},
     "output_type": "display_data"
    },
    {
     "data": {
      "application/vnd.jupyter.widget-view+json": {
       "model_id": "eae27673a245445a86005523b20e1a16"
      }
     },
     "metadata": {},
     "output_type": "display_data"
    },
    {
     "data": {
      "application/vnd.jupyter.widget-view+json": {
       "model_id": "53a9885dc924483abdaad1645a5d6291"
      }
     },
     "metadata": {},
     "output_type": "display_data"
    },
    {
     "data": {
      "application/vnd.jupyter.widget-view+json": {
       "model_id": "7b288f8c52484057a7db54209437a2db"
      }
     },
     "metadata": {},
     "output_type": "display_data"
    },
    {
     "data": {
      "application/vnd.jupyter.widget-view+json": {
       "model_id": "b8ffab0b6e4546b89df12d4e006cb887"
      }
     },
     "metadata": {},
     "output_type": "display_data"
    },
    {
     "data": {
      "application/vnd.jupyter.widget-view+json": {
       "model_id": "ed5d0a9e6f7e4ce39ee811ddacc84e21"
      }
     },
     "metadata": {},
     "output_type": "display_data"
    },
    {
     "data": {
      "application/vnd.jupyter.widget-view+json": {
       "model_id": "f85b09f9c21f4a56b25efd230c5abe80"
      }
     },
     "metadata": {},
     "output_type": "display_data"
    },
    {
     "data": {
      "application/vnd.jupyter.widget-view+json": {
       "model_id": "f4b7012915dc440f810504dc8f9f22c1"
      }
     },
     "metadata": {},
     "output_type": "display_data"
    },
    {
     "data": {
      "application/vnd.jupyter.widget-view+json": {
       "model_id": "0e944986ee0146c89acbb70243e08024"
      }
     },
     "metadata": {},
     "output_type": "display_data"
    },
    {
     "data": {
      "application/vnd.jupyter.widget-view+json": {
       "model_id": "dea93a0344ba426ca80d894073e5f94c"
      }
     },
     "metadata": {},
     "output_type": "display_data"
    },
    {
     "data": {
      "application/vnd.jupyter.widget-view+json": {
       "model_id": "e27c0281264c437e8c1f00ceee46b511"
      }
     },
     "metadata": {},
     "output_type": "display_data"
    },
    {
     "data": {
      "application/vnd.jupyter.widget-view+json": {
       "model_id": "c8cef94d31634f07918dbaae99de1f5f"
      }
     },
     "metadata": {},
     "output_type": "display_data"
    },
    {
     "data": {
      "application/vnd.jupyter.widget-view+json": {
       "model_id": "59a013992b81452395697616576f3d93"
      }
     },
     "metadata": {},
     "output_type": "display_data"
    },
    {
     "data": {
      "application/vnd.jupyter.widget-view+json": {
       "model_id": "7f2c8c1f606d4812a09f8d062e5a8b92"
      }
     },
     "metadata": {},
     "output_type": "display_data"
    },
    {
     "data": {
      "application/vnd.jupyter.widget-view+json": {
       "model_id": "e94965186e8d4deeb055a0eb57659f87"
      }
     },
     "metadata": {},
     "output_type": "display_data"
    },
    {
     "data": {
      "application/vnd.jupyter.widget-view+json": {
       "model_id": "39fc8d7968524d0d953266c447702356"
      }
     },
     "metadata": {},
     "output_type": "display_data"
    },
    {
     "data": {
      "application/vnd.jupyter.widget-view+json": {
       "model_id": "5653d0dab0b54746a2d7ba121fce6231"
      }
     },
     "metadata": {},
     "output_type": "display_data"
    },
    {
     "data": {
      "application/vnd.jupyter.widget-view+json": {
       "model_id": "ebca490bdc6949c69039cb0ef8bff1a7"
      }
     },
     "metadata": {},
     "output_type": "display_data"
    },
    {
     "data": {
      "application/vnd.jupyter.widget-view+json": {
       "model_id": "d858bcee7d5c4585b40a95239bf58647"
      }
     },
     "metadata": {},
     "output_type": "display_data"
    },
    {
     "data": {
      "application/vnd.jupyter.widget-view+json": {
       "model_id": "a963bd28c7f5451d9db878beb17ee233"
      }
     },
     "metadata": {},
     "output_type": "display_data"
    },
    {
     "data": {
      "application/vnd.jupyter.widget-view+json": {
       "model_id": "22eb2fdfdbb248f0aaf27d7c0b87256b"
      }
     },
     "metadata": {},
     "output_type": "display_data"
    },
    {
     "data": {
      "application/vnd.jupyter.widget-view+json": {
       "model_id": "07640a6ef7704b58afa666dd2e554ea5"
      }
     },
     "metadata": {},
     "output_type": "display_data"
    },
    {
     "name": "stdout",
     "output_type": "stream",
     "text": [
      "\n",
      "CPU times: user 9min 21s, sys: 2min 52s, total: 12min 13s\n",
      "Wall time: 14min 28s\n"
     ]
    }
   ],
   "source": [
    "%%time\n",
    "hist = vae.fit(np.array(Exprframe_train),\n",
    "               shuffle=True,\n",
    "               epochs=epochs,\n",
    "               verbose=0,\n",
    "               batch_size=batch_size,\n",
    "               validation_data=(np.array(Exprframe_test), None),\n",
    "               callbacks=[WarmUpCallback(beta, kappa),\n",
    "                          TQDMNotebookCallback(leave_inner=True, leave_outer=True)])"
   ]
  },
  {
   "cell_type": "code",
   "execution_count": 21,
   "metadata": {},
   "outputs": [
    {
     "data": {
      "text/plain": [
       "loss        1207.376831\n",
       "val_loss    1341.154053\n",
       "Name: 699, dtype: float64"
      ]
     },
     "execution_count": 21,
     "metadata": {},
     "output_type": "execute_result"
    }
   ],
   "source": [
    "#hist.history\n",
    "z5000_df = pd.DataFrame(hist.history)\n",
    "z5000_df.loc[699]"
   ]
  },
  {
   "cell_type": "code",
   "execution_count": 22,
   "metadata": {},
   "outputs": [
    {
     "data": {
      "image/png": "[encoded data removed]",
      "text/plain": [
       "<matplotlib.figure.Figure at 0x7f3e5c289208>"
      ]
     },
     "metadata": {},
     "output_type": "display_data"
    }
   ],
   "source": [
    "# Visualize training performance\n",
    "history_df = pd.DataFrame(hist.history)\n",
    "history_df = history_df.iloc[60:699]\n",
    "\n",
    "hist_plot_file = \"temp.pdf\"#\"(Lr_0.002)(NN6K_z100_a1.0_6L_0.1t)obj_func_per_dp(4cancers).pdf\"#\"temp.pdf\"#\n",
    "ax = history_df.plot()\n",
    "\n",
    "ratio = 0.95\n",
    "xleft, xright = ax.get_xlim()\n",
    "ybottom, ytop = ax.get_ylim()\n",
    "# the abs method is used to make sure that all numbers are positive\n",
    "# because x and y axis of an axes maybe inversed.\n",
    "ax.set_aspect(abs((xright-xleft)/(ybottom-ytop))*ratio)\n",
    "\n",
    "ax.set_xlabel('Epochs')\n",
    "ax.set_ylabel('objective function (include both reconstruct_loss, kl_loss)')\n",
    "ax.set_title('')\n",
    "fig = ax.get_figure()\n",
    "#fig.savefig(hist_plot_file)"
   ]
  },
  {
   "cell_type": "markdown",
   "metadata": {},
   "source": [
    "# Extract Encoder model"
   ]
  },
  {
   "cell_type": "code",
   "execution_count": 23,
   "metadata": {},
   "outputs": [
    {
     "name": "stdout",
     "output_type": "stream",
     "text": [
      "__________________________________________________________________________________________________\n",
      "Layer (type)                    Output Shape         Param #     Connected to                     \n",
      "==================================================================================================\n",
      "input_1 (InputLayer)            (None, 13854)        0                                            \n",
      "__________________________________________________________________________________________________\n",
      "dense_1 (Dense)                 (None, 12000)        166260000   input_1[0][0]                    \n",
      "__________________________________________________________________________________________________\n",
      "batch_normalization_1 (BatchNor (None, 12000)        48000       dense_1[0][0]                    \n",
      "__________________________________________________________________________________________________\n",
      "activation_1 (Activation)       (None, 12000)        0           batch_normalization_1[0][0]      \n",
      "__________________________________________________________________________________________________\n",
      "dense_2 (Dense)                 (None, 50)           600050      activation_1[0][0]               \n",
      "__________________________________________________________________________________________________\n",
      "dense_3 (Dense)                 (None, 50)           600050      activation_1[0][0]               \n",
      "__________________________________________________________________________________________________\n",
      "batch_normalization_2 (BatchNor (None, 50)           200         dense_2[0][0]                    \n",
      "__________________________________________________________________________________________________\n",
      "batch_normalization_3 (BatchNor (None, 50)           200         dense_3[0][0]                    \n",
      "__________________________________________________________________________________________________\n",
      "activation_2 (Activation)       (None, 50)           0           batch_normalization_2[0][0]      \n",
      "__________________________________________________________________________________________________\n",
      "activation_3 (Activation)       (None, 50)           0           batch_normalization_3[0][0]      \n",
      "__________________________________________________________________________________________________\n",
      "lambda_1 (Lambda)               (None, 50)           0           activation_2[0][0]               \n",
      "                                                                 activation_3[0][0]               \n",
      "==================================================================================================\n",
      "Total params: 167,508,500\n",
      "Trainable params: 167,484,300\n",
      "Non-trainable params: 24,200\n",
      "__________________________________________________________________________________________________\n"
     ]
    }
   ],
   "source": [
    "#extract the encoder part\n",
    "\n",
    "# Model to compress input\n",
    "#encoder = Model(rnaseq_input, [z_mean_encoded, z_log_var_encoded])\n",
    "encoder = Model(rnaseq_input, z)\n",
    "encoder.summary()"
   ]
  },
  {
   "cell_type": "code",
   "execution_count": 24,
   "metadata": {},
   "outputs": [
    {
     "name": "stdout",
     "output_type": "stream",
     "text": [
      "__________________________________________________________________________________________________\n",
      "Layer (type)                    Output Shape         Param #     Connected to                     \n",
      "==================================================================================================\n",
      "input_1 (InputLayer)            (None, 13854)        0                                            \n",
      "__________________________________________________________________________________________________\n",
      "dense_1 (Dense)                 (None, 12000)        166260000   input_1[0][0]                    \n",
      "__________________________________________________________________________________________________\n",
      "batch_normalization_1 (BatchNor (None, 12000)        48000       dense_1[0][0]                    \n",
      "__________________________________________________________________________________________________\n",
      "activation_1 (Activation)       (None, 12000)        0           batch_normalization_1[0][0]      \n",
      "__________________________________________________________________________________________________\n",
      "dense_2 (Dense)                 (None, 50)           600050      activation_1[0][0]               \n",
      "__________________________________________________________________________________________________\n",
      "dense_3 (Dense)                 (None, 50)           600050      activation_1[0][0]               \n",
      "__________________________________________________________________________________________________\n",
      "batch_normalization_2 (BatchNor (None, 50)           200         dense_2[0][0]                    \n",
      "__________________________________________________________________________________________________\n",
      "batch_normalization_3 (BatchNor (None, 50)           200         dense_3[0][0]                    \n",
      "__________________________________________________________________________________________________\n",
      "activation_2 (Activation)       (None, 50)           0           batch_normalization_2[0][0]      \n",
      "__________________________________________________________________________________________________\n",
      "activation_3 (Activation)       (None, 50)           0           batch_normalization_3[0][0]      \n",
      "==================================================================================================\n",
      "Total params: 167,508,500\n",
      "Trainable params: 167,484,300\n",
      "Non-trainable params: 24,200\n",
      "__________________________________________________________________________________________________\n"
     ]
    }
   ],
   "source": [
    "encoder2 = Model(rnaseq_input, [z_mean_encoded, z_log_var_encoded])\n",
    "encoder2.summary()"
   ]
  },
  {
   "cell_type": "code",
   "execution_count": 25,
   "metadata": {},
   "outputs": [],
   "source": [
    "# Encode rnaseq into the hidden/latent representation - and save output\n",
    "z_df = encoder.predict_on_batch(Exprframe_test)\n",
    "\n",
    "z_df = pd.DataFrame(z_df, index=Exprframe_test.index)\n",
    "\n",
    "z_df.columns.name = 'sample_id'\n",
    "z_df.columns = z_df.columns + 1\n",
    "z_df.head(10)\n",
    "\n",
    "[z_mean_d, z_log_var_d]= encoder2.predict_on_batch(Exprframe_test)\n",
    "z_mean_df = pd.DataFrame(z_mean_d, index=Exprframe_test.index)\n",
    "\n",
    "z_mean_df.columns.name = 'sample_id'\n",
    "z_mean_df.columns = z_mean_df.columns + 1\n",
    "\n",
    "\n",
    "z_log_var_df = pd.DataFrame(z_log_var_d, index=Exprframe_test.index)\n",
    "\n",
    "z_log_var_df.columns.name = 'sample_id'\n",
    "z_log_var_df.columns = z_log_var_df.columns + 1"
   ]
  },
  {
   "cell_type": "markdown",
   "metadata": {},
   "source": [
    "# Extract Decoder model"
   ]
  },
  {
   "cell_type": "code",
   "execution_count": 26,
   "metadata": {},
   "outputs": [
    {
     "name": "stdout",
     "output_type": "stream",
     "text": [
      "_________________________________________________________________\n",
      "Layer (type)                 Output Shape              Param #   \n",
      "=================================================================\n",
      "input_2 (InputLayer)         (None, 50)                0         \n",
      "_________________________________________________________________\n",
      "dense_4 (Dense)              (None, 12000)             612000    \n",
      "_________________________________________________________________\n",
      "dense_5 (Dense)              (None, 13854)             166261854 \n",
      "=================================================================\n",
      "Total params: 166,873,854\n",
      "Trainable params: 166,873,854\n",
      "Non-trainable params: 0\n",
      "_________________________________________________________________\n"
     ]
    }
   ],
   "source": [
    "# build a generator that can sample from the learned distribution\n",
    "decoder_input = Input(shape=(latent_dim, ))  # can generate from any sampled z vector\n",
    "\n",
    "_x_decoded_l1 = decoderl1_reconstruct(decoder_input)\n",
    "_x_decoded_l0 = decoderl0_reconstruct(_x_decoded_l1)\n",
    "\n",
    "decoder = Model(decoder_input, _x_decoded_l0)\n",
    "decoder.summary()"
   ]
  },
  {
   "cell_type": "markdown",
   "metadata": {},
   "source": [
    "## Observe reconstruction fidelity"
   ]
  },
  {
   "cell_type": "code",
   "execution_count": 27,
   "metadata": {},
   "outputs": [
    {
     "data": {
      "text/html": [
       "<div>\n",
       "<style scoped>\n",
       "    .dataframe tbody tr th:only-of-type {\n",
       "        vertical-align: middle;\n",
       "    }\n",
       "\n",
       "    .dataframe tbody tr th {\n",
       "        vertical-align: top;\n",
       "    }\n",
       "\n",
       "    .dataframe thead th {\n",
       "        text-align: right;\n",
       "    }\n",
       "</style>\n",
       "<table border=\"1\" class=\"dataframe\">\n",
       "  <thead>\n",
       "    <tr style=\"text-align: right;\">\n",
       "      <th></th>\n",
       "      <th>ENSG00000000003.13</th>\n",
       "      <th>ENSG00000000419.11</th>\n",
       "      <th>ENSG00000000457.12</th>\n",
       "      <th>ENSG00000000460.15</th>\n",
       "      <th>ENSG00000000938.11</th>\n",
       "      <th>ENSG00000000971.14</th>\n",
       "      <th>ENSG00000001036.12</th>\n",
       "      <th>ENSG00000001084.9</th>\n",
       "      <th>ENSG00000001167.13</th>\n",
       "      <th>ENSG00000001460.16</th>\n",
       "      <th>...</th>\n",
       "      <th>ENSG00000280237.1</th>\n",
       "      <th>ENSG00000280411.1</th>\n",
       "      <th>ENSG00000280734.1</th>\n",
       "      <th>ENSG00000280789.1</th>\n",
       "      <th>ENSG00000280798.1</th>\n",
       "      <th>ENSG00000280832.1</th>\n",
       "      <th>ENSG00000281332.1</th>\n",
       "      <th>ENSG00000281398.1</th>\n",
       "      <th>ENSG00000281406.1</th>\n",
       "      <th>ENSG00000281649.1</th>\n",
       "    </tr>\n",
       "  </thead>\n",
       "  <tbody>\n",
       "    <tr>\n",
       "      <th>TCGA-CK-6748-01A</th>\n",
       "      <td>0.749073</td>\n",
       "      <td>0.528939</td>\n",
       "      <td>0.205384</td>\n",
       "      <td>0.212993</td>\n",
       "      <td>0.416002</td>\n",
       "      <td>0.344308</td>\n",
       "      <td>0.399756</td>\n",
       "      <td>0.324282</td>\n",
       "      <td>0.210181</td>\n",
       "      <td>0.373076</td>\n",
       "      <td>...</td>\n",
       "      <td>0.260418</td>\n",
       "      <td>0.220510</td>\n",
       "      <td>0.463019</td>\n",
       "      <td>0.185867</td>\n",
       "      <td>0.208294</td>\n",
       "      <td>0.139837</td>\n",
       "      <td>0.250657</td>\n",
       "      <td>0.485760</td>\n",
       "      <td>0.558515</td>\n",
       "      <td>0.481088</td>\n",
       "    </tr>\n",
       "    <tr>\n",
       "      <th>TCGA-CM-4746-01A</th>\n",
       "      <td>0.675663</td>\n",
       "      <td>0.526757</td>\n",
       "      <td>0.222663</td>\n",
       "      <td>0.403797</td>\n",
       "      <td>0.164909</td>\n",
       "      <td>0.155398</td>\n",
       "      <td>0.472256</td>\n",
       "      <td>0.316475</td>\n",
       "      <td>0.197026</td>\n",
       "      <td>0.393945</td>\n",
       "      <td>...</td>\n",
       "      <td>0.314234</td>\n",
       "      <td>0.160185</td>\n",
       "      <td>0.485230</td>\n",
       "      <td>0.286112</td>\n",
       "      <td>0.044239</td>\n",
       "      <td>0.424512</td>\n",
       "      <td>0.107287</td>\n",
       "      <td>0.519237</td>\n",
       "      <td>0.584396</td>\n",
       "      <td>0.317193</td>\n",
       "    </tr>\n",
       "    <tr>\n",
       "      <th>TCGA-AA-3715-01A</th>\n",
       "      <td>0.383964</td>\n",
       "      <td>0.159524</td>\n",
       "      <td>0.203441</td>\n",
       "      <td>0.438150</td>\n",
       "      <td>0.626420</td>\n",
       "      <td>0.406272</td>\n",
       "      <td>0.285641</td>\n",
       "      <td>0.195765</td>\n",
       "      <td>0.193426</td>\n",
       "      <td>0.367600</td>\n",
       "      <td>...</td>\n",
       "      <td>0.338382</td>\n",
       "      <td>0.331248</td>\n",
       "      <td>0.443230</td>\n",
       "      <td>0.221247</td>\n",
       "      <td>0.145159</td>\n",
       "      <td>0.294008</td>\n",
       "      <td>0.146868</td>\n",
       "      <td>0.587215</td>\n",
       "      <td>0.440557</td>\n",
       "      <td>0.247084</td>\n",
       "    </tr>\n",
       "  </tbody>\n",
       "</table>\n",
       "<p>3 rows × 13854 columns</p>\n",
       "</div>"
      ],
      "text/plain": [
       "                  ENSG00000000003.13  ENSG00000000419.11  ENSG00000000457.12  \\\n",
       "TCGA-CK-6748-01A            0.749073            0.528939            0.205384   \n",
       "TCGA-CM-4746-01A            0.675663            0.526757            0.222663   \n",
       "TCGA-AA-3715-01A            0.383964            0.159524            0.203441   \n",
       "\n",
       "                  ENSG00000000460.15  ENSG00000000938.11  ENSG00000000971.14  \\\n",
       "TCGA-CK-6748-01A            0.212993            0.416002            0.344308   \n",
       "TCGA-CM-4746-01A            0.403797            0.164909            0.155398   \n",
       "TCGA-AA-3715-01A            0.438150            0.626420            0.406272   \n",
       "\n",
       "                  ENSG00000001036.12  ENSG00000001084.9  ENSG00000001167.13  \\\n",
       "TCGA-CK-6748-01A            0.399756           0.324282            0.210181   \n",
       "TCGA-CM-4746-01A            0.472256           0.316475            0.197026   \n",
       "TCGA-AA-3715-01A            0.285641           0.195765            0.193426   \n",
       "\n",
       "                  ENSG00000001460.16        ...          ENSG00000280237.1  \\\n",
       "TCGA-CK-6748-01A            0.373076        ...                   0.260418   \n",
       "TCGA-CM-4746-01A            0.393945        ...                   0.314234   \n",
       "TCGA-AA-3715-01A            0.367600        ...                   0.338382   \n",
       "\n",
       "                  ENSG00000280411.1  ENSG00000280734.1  ENSG00000280789.1  \\\n",
       "TCGA-CK-6748-01A           0.220510           0.463019           0.185867   \n",
       "TCGA-CM-4746-01A           0.160185           0.485230           0.286112   \n",
       "TCGA-AA-3715-01A           0.331248           0.443230           0.221247   \n",
       "\n",
       "                  ENSG00000280798.1  ENSG00000280832.1  ENSG00000281332.1  \\\n",
       "TCGA-CK-6748-01A           0.208294           0.139837           0.250657   \n",
       "TCGA-CM-4746-01A           0.044239           0.424512           0.107287   \n",
       "TCGA-AA-3715-01A           0.145159           0.294008           0.146868   \n",
       "\n",
       "                  ENSG00000281398.1  ENSG00000281406.1  ENSG00000281649.1  \n",
       "TCGA-CK-6748-01A           0.485760           0.558515           0.481088  \n",
       "TCGA-CM-4746-01A           0.519237           0.584396           0.317193  \n",
       "TCGA-AA-3715-01A           0.587215           0.440557           0.247084  \n",
       "\n",
       "[3 rows x 13854 columns]"
      ]
     },
     "execution_count": 27,
     "metadata": {},
     "output_type": "execute_result"
    }
   ],
   "source": [
    "#original input RNAseq data\n",
    "rnaseq_df = Exprframe_test\n",
    "rnaseq_df.head(3)"
   ]
  },
  {
   "cell_type": "code",
   "execution_count": 28,
   "metadata": {},
   "outputs": [
    {
     "data": {
      "text/html": [
       "<div>\n",
       "<style scoped>\n",
       "    .dataframe tbody tr th:only-of-type {\n",
       "        vertical-align: middle;\n",
       "    }\n",
       "\n",
       "    .dataframe tbody tr th {\n",
       "        vertical-align: top;\n",
       "    }\n",
       "\n",
       "    .dataframe thead th {\n",
       "        text-align: right;\n",
       "    }\n",
       "</style>\n",
       "<table border=\"1\" class=\"dataframe\">\n",
       "  <thead>\n",
       "    <tr style=\"text-align: right;\">\n",
       "      <th></th>\n",
       "      <th>ENSG00000000003.13</th>\n",
       "      <th>ENSG00000000419.11</th>\n",
       "      <th>ENSG00000000457.12</th>\n",
       "      <th>ENSG00000000460.15</th>\n",
       "      <th>ENSG00000000938.11</th>\n",
       "      <th>ENSG00000000971.14</th>\n",
       "      <th>ENSG00000001036.12</th>\n",
       "      <th>ENSG00000001084.9</th>\n",
       "      <th>ENSG00000001167.13</th>\n",
       "      <th>ENSG00000001460.16</th>\n",
       "      <th>...</th>\n",
       "      <th>ENSG00000280237.1</th>\n",
       "      <th>ENSG00000280411.1</th>\n",
       "      <th>ENSG00000280734.1</th>\n",
       "      <th>ENSG00000280789.1</th>\n",
       "      <th>ENSG00000280798.1</th>\n",
       "      <th>ENSG00000280832.1</th>\n",
       "      <th>ENSG00000281332.1</th>\n",
       "      <th>ENSG00000281398.1</th>\n",
       "      <th>ENSG00000281406.1</th>\n",
       "      <th>ENSG00000281649.1</th>\n",
       "    </tr>\n",
       "  </thead>\n",
       "  <tbody>\n",
       "    <tr>\n",
       "      <th>TCGA-CK-6748-01A</th>\n",
       "      <td>0.725321</td>\n",
       "      <td>0.535417</td>\n",
       "      <td>0.212883</td>\n",
       "      <td>0.335393</td>\n",
       "      <td>0.337753</td>\n",
       "      <td>0.316016</td>\n",
       "      <td>0.442640</td>\n",
       "      <td>0.353398</td>\n",
       "      <td>0.0</td>\n",
       "      <td>0.368298</td>\n",
       "      <td>...</td>\n",
       "      <td>0.301002</td>\n",
       "      <td>0.333714</td>\n",
       "      <td>0.415985</td>\n",
       "      <td>0.211086</td>\n",
       "      <td>0.243061</td>\n",
       "      <td>0.192153</td>\n",
       "      <td>0.311168</td>\n",
       "      <td>0.519019</td>\n",
       "      <td>0.568591</td>\n",
       "      <td>0.441585</td>\n",
       "    </tr>\n",
       "    <tr>\n",
       "      <th>TCGA-CM-4746-01A</th>\n",
       "      <td>0.658165</td>\n",
       "      <td>0.353739</td>\n",
       "      <td>0.204525</td>\n",
       "      <td>0.353806</td>\n",
       "      <td>0.132245</td>\n",
       "      <td>0.110170</td>\n",
       "      <td>0.485573</td>\n",
       "      <td>0.310059</td>\n",
       "      <td>0.0</td>\n",
       "      <td>0.369010</td>\n",
       "      <td>...</td>\n",
       "      <td>0.233462</td>\n",
       "      <td>0.248159</td>\n",
       "      <td>0.406538</td>\n",
       "      <td>0.235069</td>\n",
       "      <td>0.126035</td>\n",
       "      <td>0.282101</td>\n",
       "      <td>0.153573</td>\n",
       "      <td>0.442079</td>\n",
       "      <td>0.646149</td>\n",
       "      <td>0.321564</td>\n",
       "    </tr>\n",
       "    <tr>\n",
       "      <th>TCGA-AA-3715-01A</th>\n",
       "      <td>0.461440</td>\n",
       "      <td>0.202176</td>\n",
       "      <td>0.141502</td>\n",
       "      <td>0.289567</td>\n",
       "      <td>0.565066</td>\n",
       "      <td>0.285878</td>\n",
       "      <td>0.353229</td>\n",
       "      <td>0.182232</td>\n",
       "      <td>0.0</td>\n",
       "      <td>0.356059</td>\n",
       "      <td>...</td>\n",
       "      <td>0.438199</td>\n",
       "      <td>0.471494</td>\n",
       "      <td>0.413556</td>\n",
       "      <td>0.319674</td>\n",
       "      <td>0.202732</td>\n",
       "      <td>0.231991</td>\n",
       "      <td>0.256437</td>\n",
       "      <td>0.436601</td>\n",
       "      <td>0.546222</td>\n",
       "      <td>0.306956</td>\n",
       "    </tr>\n",
       "  </tbody>\n",
       "</table>\n",
       "<p>3 rows × 13854 columns</p>\n",
       "</div>"
      ],
      "text/plain": [
       "                  ENSG00000000003.13  ENSG00000000419.11  ENSG00000000457.12  \\\n",
       "TCGA-CK-6748-01A            0.725321            0.535417            0.212883   \n",
       "TCGA-CM-4746-01A            0.658165            0.353739            0.204525   \n",
       "TCGA-AA-3715-01A            0.461440            0.202176            0.141502   \n",
       "\n",
       "                  ENSG00000000460.15  ENSG00000000938.11  ENSG00000000971.14  \\\n",
       "TCGA-CK-6748-01A            0.335393            0.337753            0.316016   \n",
       "TCGA-CM-4746-01A            0.353806            0.132245            0.110170   \n",
       "TCGA-AA-3715-01A            0.289567            0.565066            0.285878   \n",
       "\n",
       "                  ENSG00000001036.12  ENSG00000001084.9  ENSG00000001167.13  \\\n",
       "TCGA-CK-6748-01A            0.442640           0.353398                 0.0   \n",
       "TCGA-CM-4746-01A            0.485573           0.310059                 0.0   \n",
       "TCGA-AA-3715-01A            0.353229           0.182232                 0.0   \n",
       "\n",
       "                  ENSG00000001460.16        ...          ENSG00000280237.1  \\\n",
       "TCGA-CK-6748-01A            0.368298        ...                   0.301002   \n",
       "TCGA-CM-4746-01A            0.369010        ...                   0.233462   \n",
       "TCGA-AA-3715-01A            0.356059        ...                   0.438199   \n",
       "\n",
       "                  ENSG00000280411.1  ENSG00000280734.1  ENSG00000280789.1  \\\n",
       "TCGA-CK-6748-01A           0.333714           0.415985           0.211086   \n",
       "TCGA-CM-4746-01A           0.248159           0.406538           0.235069   \n",
       "TCGA-AA-3715-01A           0.471494           0.413556           0.319674   \n",
       "\n",
       "                  ENSG00000280798.1  ENSG00000280832.1  ENSG00000281332.1  \\\n",
       "TCGA-CK-6748-01A           0.243061           0.192153           0.311168   \n",
       "TCGA-CM-4746-01A           0.126035           0.282101           0.153573   \n",
       "TCGA-AA-3715-01A           0.202732           0.231991           0.256437   \n",
       "\n",
       "                  ENSG00000281398.1  ENSG00000281406.1  ENSG00000281649.1  \n",
       "TCGA-CK-6748-01A           0.519019           0.568591           0.441585  \n",
       "TCGA-CM-4746-01A           0.442079           0.646149           0.321564  \n",
       "TCGA-AA-3715-01A           0.436601           0.546222           0.306956  \n",
       "\n",
       "[3 rows x 13854 columns]"
      ]
     },
     "execution_count": 28,
     "metadata": {},
     "output_type": "execute_result"
    }
   ],
   "source": [
    "# How well does the model reconstruct the input RNAseq data\n",
    "input_rnaseq_reconstruct = decoder.predict(np.array(z_df))\n",
    "input_rnaseq_reconstruct = pd.DataFrame(input_rnaseq_reconstruct, index=rnaseq_df.index,\n",
    "                                        columns=rnaseq_df.columns)\n",
    "input_rnaseq_reconstruct.head(3)"
   ]
  },
  {
   "cell_type": "code",
   "execution_count": 29,
   "metadata": {},
   "outputs": [],
   "source": [
    "#test the fidelity\n",
    "reconstruction_fidelity = abs(rnaseq_df - input_rnaseq_reconstruct)\n",
    "\n",
    "reconstruction_loss = reconstruction_fidelity.mean(axis = 1)\n",
    "\n",
    "#print(reconstruction_loss)\n",
    "\n",
    "gene_mean = reconstruction_fidelity.mean(axis=0)\n",
    "gene_abssum = reconstruction_fidelity.abs().sum(axis=0).divide(rnaseq_df.shape[0])\n",
    "gene_summary = pd.DataFrame([gene_mean, gene_abssum], index=['gene mean', 'gene abs(sum)']).T\n",
    "#gene_summary.sort_values(by='gene abs(sum)', ascending=False).head(20)"
   ]
  },
  {
   "cell_type": "markdown",
   "metadata": {},
   "source": [
    "# Print out the mean reconstruction loss and the mean KL loss"
   ]
  },
  {
   "cell_type": "code",
   "execution_count": 30,
   "metadata": {},
   "outputs": [
    {
     "name": "stdout",
     "output_type": "stream",
     "text": [
      "The mean reconstruction loss for each data point is: 0.09442482781\n"
     ]
    }
   ],
   "source": [
    "# L1 loss: losses.mean_absolute_error\n",
    "reconstruction_loss_used = losses.mean_absolute_error(rnaseq_df, input_rnaseq_reconstruct) #* original_dim\n",
    "with tf.Session() as sess:\n",
    "    #print the reconstruction loss that we calculated\n",
    "    mean_reconstruct_loss = sess.run(K.mean(reconstruction_loss_used))\n",
    "    print (\"The mean reconstruction loss for each data point is: %.11f\" % mean_reconstruct_loss)"
   ]
  },
  {
   "cell_type": "code",
   "execution_count": 31,
   "metadata": {
    "scrolled": true
   },
   "outputs": [
    {
     "name": "stdout",
     "output_type": "stream",
     "text": [
      "The mean KL loss for each data point is: 0.64592176676\n"
     ]
    }
   ],
   "source": [
    "kl_loss = - 0.5 * K.sum(1 + z_log_var_d - K.square(z_mean_d) - \n",
    "                                K.exp(z_log_var_d), axis=-1) / latent_dim\n",
    "with tf.Session() as sess:\n",
    "    #print the kl loss that we calculated\n",
    "    mean_kl_loss = sess.run(K.mean(kl_loss))\n",
    "    print (\"The mean KL loss for each data point is: %.11f\" %mean_kl_loss)"
   ]
  },
  {
   "cell_type": "code",
   "execution_count": 32,
   "metadata": {},
   "outputs": [
    {
     "name": "stdout",
     "output_type": "stream",
     "text": [
      "The combined mean loss for each data point is: 0.74034659457\n",
      "The current alpha choice for reconstruction loss + alpha*kl loss is:  1.0\n"
     ]
    }
   ],
   "source": [
    "print (\"The combined mean loss for each data point is: %.11f\" % (mean_reconstruct_loss + alpha * mean_kl_loss))\n",
    "print (\"The current alpha choice for reconstruction loss + alpha*kl loss is: \", alpha)"
   ]
  },
  {
   "cell_type": "code",
   "execution_count": null,
   "metadata": {},
   "outputs": [],
   "source": [
    "# Encode rnaseq into the hidden/latent representation - and save output\n",
    "#encoded_rnaseq_df\n",
    "\n",
    "z_df = encoder.predict_on_batch(Exprframe)\n",
    "\n",
    "z_df = pd.DataFrame(z_df, index=Exprframe.index)\n",
    "\n",
    "z_df.columns.name = 'sample_id'\n",
    "z_df.columns = z_df.columns + 1\n",
    "z_df.head(10)\n",
    "\n",
    "encoded_file = \"counts_data/vae_compressed/encoded_5cancers_rnaseq_vae(perSp,a1.0,unlabel,0.2_var,6LF6k,z50,minmax,ep700).tsv\"\n",
    "#encoded_file = \"counts_data/vae_compressed/encoded_4_cancers_rnaseq_vae(perSp,a0,unlabel,0.2_var,3LF6k,z500,minmax).tsv\"\n",
    "z_df.to_csv(encoded_file, sep='\\t')"
   ]
  }
 ],
 "metadata": {
  "kernelspec": {
   "display_name": "Python [conda env:tensorflow-gpu-test]",
   "language": "python",
   "name": "conda-env-tensorflow-gpu-test-py"
  },
  "language_info": {
   "codemirror_mode": {
    "name": "ipython",
    "version": 3
   },
   "file_extension": ".py",
   "mimetype": "text/x-python",
   "name": "python",
   "nbconvert_exporter": "python",
   "pygments_lexer": "ipython3",
   "version": "3.5.5"
  }
 },
 "nbformat": 4,
 "nbformat_minor": 1
}
