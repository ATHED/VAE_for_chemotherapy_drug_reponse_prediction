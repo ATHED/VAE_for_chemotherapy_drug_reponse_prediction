{
 "cells": [
  {
   "cell_type": "markdown",
   "metadata": {},
   "source": [
    "# Load packages and use tensorflow as backend"
   ]
  },
  {
   "cell_type": "code",
   "execution_count": 1,
   "metadata": {
    "scrolled": true
   },
   "outputs": [
    {
     "name": "stderr",
     "output_type": "stream",
     "text": [
      "Using TensorFlow backend.\n"
     ]
    }
   ],
   "source": [
    "# Install a pip package in the current Jupyter kernel\n",
    "import sys\n",
    "#!{sys.executable} -m pip install numpy\n",
    "#!{sys.executable} -m pip install requests\n",
    "#import requests\n",
    "\n",
    "import numpy as np\n",
    "import pandas as pd\n",
    "import matplotlib.pyplot as plt\n",
    "import math\n",
    "from sklearn import preprocessing\n",
    "import tensorflow as tf\n",
    "import keras\n",
    "from tensorflow.python.client import device_lib\n",
    "import os\n",
    "import seaborn as sns\n",
    "\n",
    "import tensorflow as tf\n",
    "from keras.layers import Input, Dense, Lambda, Layer, Activation\n",
    "from keras.layers.normalization import BatchNormalization\n",
    "from keras.models import Model\n",
    "from keras import backend as K\n",
    "from keras import metrics, optimizers\n",
    "from keras import losses\n",
    "from keras.callbacks import Callback\n",
    "import keras\n",
    "from keras import utils\n",
    "\n",
    "import pydot\n",
    "import graphviz\n",
    "from keras.utils import plot_model\n",
    "from keras_tqdm import TQDMNotebookCallback\n",
    "#from .tqdm_callback import TQDMNotebookCallback\n",
    "from IPython.display import SVG\n",
    "from keras.utils.vis_utils import model_to_dot"
   ]
  },
  {
   "cell_type": "code",
   "execution_count": 2,
   "metadata": {},
   "outputs": [
    {
     "name": "stdout",
     "output_type": "stream",
     "text": [
      "b'Hello, TensorFlow!'\n",
      "10 + 32 =  42\n"
     ]
    }
   ],
   "source": [
    "#test tensorflow, remember to change the kernel\n",
    "import tensorflow as tf\n",
    "hello = tf.constant('Hello, TensorFlow!')\n",
    "sess = tf.Session()\n",
    "print(sess.run(hello))\n",
    "\n",
    "a = tf.constant(10)\n",
    "b = tf.constant(32)\n",
    "print(\"10 + 32 = \", sess.run(a + b))"
   ]
  },
  {
   "cell_type": "markdown",
   "metadata": {},
   "source": [
    "# Check the system information"
   ]
  },
  {
   "cell_type": "code",
   "execution_count": 3,
   "metadata": {},
   "outputs": [
    {
     "name": "stdout",
     "output_type": "stream",
     "text": [
      "whether tensorflow is built with cuda:  True\n",
      "whether gpu computing is available for tensorflow:  True\n",
      "using keras version:  2.1.3\n",
      "using tensorflow version:  1.4.1\n",
      "\n",
      "\n",
      "Device details:\n",
      " [name: \"/device:CPU:0\"\n",
      "device_type: \"CPU\"\n",
      "memory_limit: 268435456\n",
      "locality {\n",
      "}\n",
      "incarnation: 13981005239082063039\n",
      ", name: \"/device:GPU:0\"\n",
      "device_type: \"GPU\"\n",
      "memory_limit: 984350720\n",
      "locality {\n",
      "  bus_id: 1\n",
      "}\n",
      "incarnation: 4449140912267767571\n",
      "physical_device_desc: \"device: 0, name: TITAN RTX, pci bus id: 0000:01:00.0, compute capability: 7.5\"\n",
      "]\n",
      "Default GPU Device: /device:GPU:0\n"
     ]
    }
   ],
   "source": [
    "#######################################################################################################\n",
    "#check the system information, check if cuda and gpu computing for tensorflow is installed properly\n",
    "######################################################################################################\n",
    "print(\"whether tensorflow is built with cuda: \", tf.test.is_built_with_cuda())\n",
    "print(\"whether gpu computing is available for tensorflow: \", tf.test.is_gpu_available())\n",
    "print(\"using keras version: \", keras.__version__)\n",
    "print(\"using tensorflow version: \", tf.__version__)\n",
    "print(\"\\n\")\n",
    "print(\"Device details:\\n\", device_lib.list_local_devices())\n",
    "if tf.test.gpu_device_name():\n",
    "    print('Default GPU Device: {}'.format(tf.test.gpu_device_name()))\n",
    "else:\n",
    "    print(\"Please install GPU version of TF\")"
   ]
  },
  {
   "cell_type": "markdown",
   "metadata": {},
   "source": [
    "# Reading files/documents"
   ]
  },
  {
   "cell_type": "code",
   "execution_count": 4,
   "metadata": {},
   "outputs": [
    {
     "name": "stdout",
     "output_type": "stream",
     "text": [
      "The dimension of input dataset is:  (2606, 13854)\n"
     ]
    }
   ],
   "source": [
    "#Reading files/documents\n",
    "#using all unlabeled data\n",
    "path = '/media/qiwei/work/Python_playground/VAE/TCGA_5_cancers/counts_data/high_var_counts_data/TCGA_(BLCA_COAD_SARC_PAAD_BRCA)_(0.2chemo)VSTnrom_count_expr_clinical_data.txt'\n",
    "\n",
    "#only use labeled data\n",
    "#path = \"counts_data/counts_data_without_label/TCGA_SARC_(0.2chemo_45samples)VSTnrom_count_expr_clinical_data.tsv\"\n",
    "\n",
    "#open(path).readline()\n",
    "#gene expression RNAseq, Batch effects normalized mRNA data\n",
    "\n",
    "ExprAlldata = pd.read_csv(path, sep = \"\\t\", index_col = 0)\n",
    "ExprAlldata = ExprAlldata.dropna(axis='columns')\n",
    "#ExprAlldata.columns = [\"Gene\", \"Counts\"]\n",
    "print(\"The dimension of input dataset is: \", ExprAlldata.shape)"
   ]
  },
  {
   "cell_type": "code",
   "execution_count": 5,
   "metadata": {},
   "outputs": [
    {
     "data": {
      "text/html": [
       "<div>\n",
       "<style scoped>\n",
       "    .dataframe tbody tr th:only-of-type {\n",
       "        vertical-align: middle;\n",
       "    }\n",
       "\n",
       "    .dataframe tbody tr th {\n",
       "        vertical-align: top;\n",
       "    }\n",
       "\n",
       "    .dataframe thead th {\n",
       "        text-align: right;\n",
       "    }\n",
       "</style>\n",
       "<table border=\"1\" class=\"dataframe\">\n",
       "  <thead>\n",
       "    <tr style=\"text-align: right;\">\n",
       "      <th></th>\n",
       "      <th>ENSG00000000003.13</th>\n",
       "      <th>ENSG00000000419.11</th>\n",
       "      <th>ENSG00000000457.12</th>\n",
       "      <th>ENSG00000000460.15</th>\n",
       "      <th>ENSG00000000938.11</th>\n",
       "      <th>ENSG00000000971.14</th>\n",
       "      <th>ENSG00000001036.12</th>\n",
       "      <th>ENSG00000001084.9</th>\n",
       "      <th>ENSG00000001167.13</th>\n",
       "      <th>ENSG00000001460.16</th>\n",
       "      <th>...</th>\n",
       "      <th>ENSG00000280237.1</th>\n",
       "      <th>ENSG00000280411.1</th>\n",
       "      <th>ENSG00000280734.1</th>\n",
       "      <th>ENSG00000280789.1</th>\n",
       "      <th>ENSG00000280798.1</th>\n",
       "      <th>ENSG00000280832.1</th>\n",
       "      <th>ENSG00000281332.1</th>\n",
       "      <th>ENSG00000281398.1</th>\n",
       "      <th>ENSG00000281406.1</th>\n",
       "      <th>ENSG00000281649.1</th>\n",
       "    </tr>\n",
       "  </thead>\n",
       "  <tbody>\n",
       "    <tr>\n",
       "      <th>TCGA-2F-A9KO-01A</th>\n",
       "      <td>12.799987</td>\n",
       "      <td>11.730276</td>\n",
       "      <td>10.407923</td>\n",
       "      <td>9.657609</td>\n",
       "      <td>8.874620</td>\n",
       "      <td>13.307831</td>\n",
       "      <td>11.095982</td>\n",
       "      <td>13.282889</td>\n",
       "      <td>10.770459</td>\n",
       "      <td>8.746838</td>\n",
       "      <td>...</td>\n",
       "      <td>6.144644</td>\n",
       "      <td>7.890611</td>\n",
       "      <td>9.487477</td>\n",
       "      <td>8.197412</td>\n",
       "      <td>8.170328</td>\n",
       "      <td>6.616274</td>\n",
       "      <td>7.787851</td>\n",
       "      <td>7.497947</td>\n",
       "      <td>5.870692</td>\n",
       "      <td>11.652532</td>\n",
       "    </tr>\n",
       "    <tr>\n",
       "      <th>TCGA-2F-A9KP-01A</th>\n",
       "      <td>13.361298</td>\n",
       "      <td>11.061773</td>\n",
       "      <td>9.586506</td>\n",
       "      <td>9.498557</td>\n",
       "      <td>7.200246</td>\n",
       "      <td>8.611701</td>\n",
       "      <td>11.850127</td>\n",
       "      <td>12.652118</td>\n",
       "      <td>10.921566</td>\n",
       "      <td>9.844942</td>\n",
       "      <td>...</td>\n",
       "      <td>5.771074</td>\n",
       "      <td>4.784194</td>\n",
       "      <td>7.916190</td>\n",
       "      <td>8.448300</td>\n",
       "      <td>8.392858</td>\n",
       "      <td>8.582964</td>\n",
       "      <td>7.607547</td>\n",
       "      <td>8.687574</td>\n",
       "      <td>5.683720</td>\n",
       "      <td>10.179641</td>\n",
       "    </tr>\n",
       "    <tr>\n",
       "      <th>TCGA-2F-A9KQ-01A</th>\n",
       "      <td>12.427114</td>\n",
       "      <td>10.858984</td>\n",
       "      <td>10.020076</td>\n",
       "      <td>8.675861</td>\n",
       "      <td>8.320863</td>\n",
       "      <td>9.012543</td>\n",
       "      <td>12.080271</td>\n",
       "      <td>11.863083</td>\n",
       "      <td>10.551890</td>\n",
       "      <td>9.549010</td>\n",
       "      <td>...</td>\n",
       "      <td>5.740098</td>\n",
       "      <td>3.684469</td>\n",
       "      <td>8.097340</td>\n",
       "      <td>8.346210</td>\n",
       "      <td>8.335397</td>\n",
       "      <td>8.058829</td>\n",
       "      <td>7.888971</td>\n",
       "      <td>7.463664</td>\n",
       "      <td>6.561208</td>\n",
       "      <td>10.483294</td>\n",
       "    </tr>\n",
       "  </tbody>\n",
       "</table>\n",
       "<p>3 rows × 13854 columns</p>\n",
       "</div>"
      ],
      "text/plain": [
       "                  ENSG00000000003.13  ENSG00000000419.11  ENSG00000000457.12  \\\n",
       "TCGA-2F-A9KO-01A           12.799987           11.730276           10.407923   \n",
       "TCGA-2F-A9KP-01A           13.361298           11.061773            9.586506   \n",
       "TCGA-2F-A9KQ-01A           12.427114           10.858984           10.020076   \n",
       "\n",
       "                  ENSG00000000460.15  ENSG00000000938.11  ENSG00000000971.14  \\\n",
       "TCGA-2F-A9KO-01A            9.657609            8.874620           13.307831   \n",
       "TCGA-2F-A9KP-01A            9.498557            7.200246            8.611701   \n",
       "TCGA-2F-A9KQ-01A            8.675861            8.320863            9.012543   \n",
       "\n",
       "                  ENSG00000001036.12  ENSG00000001084.9  ENSG00000001167.13  \\\n",
       "TCGA-2F-A9KO-01A           11.095982          13.282889           10.770459   \n",
       "TCGA-2F-A9KP-01A           11.850127          12.652118           10.921566   \n",
       "TCGA-2F-A9KQ-01A           12.080271          11.863083           10.551890   \n",
       "\n",
       "                  ENSG00000001460.16        ...          ENSG00000280237.1  \\\n",
       "TCGA-2F-A9KO-01A            8.746838        ...                   6.144644   \n",
       "TCGA-2F-A9KP-01A            9.844942        ...                   5.771074   \n",
       "TCGA-2F-A9KQ-01A            9.549010        ...                   5.740098   \n",
       "\n",
       "                  ENSG00000280411.1  ENSG00000280734.1  ENSG00000280789.1  \\\n",
       "TCGA-2F-A9KO-01A           7.890611           9.487477           8.197412   \n",
       "TCGA-2F-A9KP-01A           4.784194           7.916190           8.448300   \n",
       "TCGA-2F-A9KQ-01A           3.684469           8.097340           8.346210   \n",
       "\n",
       "                  ENSG00000280798.1  ENSG00000280832.1  ENSG00000281332.1  \\\n",
       "TCGA-2F-A9KO-01A           8.170328           6.616274           7.787851   \n",
       "TCGA-2F-A9KP-01A           8.392858           8.582964           7.607547   \n",
       "TCGA-2F-A9KQ-01A           8.335397           8.058829           7.888971   \n",
       "\n",
       "                  ENSG00000281398.1  ENSG00000281406.1  ENSG00000281649.1  \n",
       "TCGA-2F-A9KO-01A           7.497947           5.870692          11.652532  \n",
       "TCGA-2F-A9KP-01A           8.687574           5.683720          10.179641  \n",
       "TCGA-2F-A9KQ-01A           7.463664           6.561208          10.483294  \n",
       "\n",
       "[3 rows x 13854 columns]"
      ]
     },
     "execution_count": 5,
     "metadata": {},
     "output_type": "execute_result"
    }
   ],
   "source": [
    "ExprAlldata.head(3)"
   ]
  },
  {
   "cell_type": "markdown",
   "metadata": {},
   "source": [
    "## Sanity check"
   ]
  },
  {
   "cell_type": "code",
   "execution_count": 6,
   "metadata": {},
   "outputs": [
    {
     "name": "stdout",
     "output_type": "stream",
     "text": [
      "There exists NA value: ENSG00000000003.13    False\n",
      "ENSG00000000419.11    False\n",
      "ENSG00000000457.12    False\n",
      "ENSG00000000460.15    False\n",
      "ENSG00000000938.11    False\n",
      "ENSG00000000971.14    False\n",
      "ENSG00000001036.12    False\n",
      "ENSG00000001084.9     False\n",
      "ENSG00000001167.13    False\n",
      "ENSG00000001460.16    False\n",
      "ENSG00000001461.15    False\n",
      "ENSG00000001497.15    False\n",
      "ENSG00000001561.6     False\n",
      "ENSG00000001617.10    False\n",
      "ENSG00000001626.13    False\n",
      "ENSG00000001629.8     False\n",
      "ENSG00000001630.14    False\n",
      "ENSG00000001631.13    False\n",
      "ENSG00000002016.15    False\n",
      "ENSG00000002330.12    False\n",
      "ENSG00000002549.11    False\n",
      "ENSG00000002586.16    False\n",
      "ENSG00000002587.8     False\n",
      "ENSG00000002726.18    False\n",
      "ENSG00000002822.14    False\n",
      "ENSG00000002834.16    False\n",
      "ENSG00000002919.13    False\n",
      "ENSG00000002933.6     False\n",
      "ENSG00000003056.6     False\n",
      "ENSG00000003096.12    False\n",
      "                      ...  \n",
      "ENSG00000278948.1     False\n",
      "ENSG00000278970.1     False\n",
      "ENSG00000278978.1     False\n",
      "ENSG00000279010.1     False\n",
      "ENSG00000279088.1     False\n",
      "ENSG00000279095.1     False\n",
      "ENSG00000279117.1     False\n",
      "ENSG00000279207.1     False\n",
      "ENSG00000279453.1     False\n",
      "ENSG00000279483.1     False\n",
      "ENSG00000279496.1     False\n",
      "ENSG00000279528.1     False\n",
      "ENSG00000279978.1     False\n",
      "ENSG00000280088.1     False\n",
      "ENSG00000280111.1     False\n",
      "ENSG00000280128.1     False\n",
      "ENSG00000280138.1     False\n",
      "ENSG00000280143.1     False\n",
      "ENSG00000280202.1     False\n",
      "ENSG00000280206.1     False\n",
      "ENSG00000280237.1     False\n",
      "ENSG00000280411.1     False\n",
      "ENSG00000280734.1     False\n",
      "ENSG00000280789.1     False\n",
      "ENSG00000280798.1     False\n",
      "ENSG00000280832.1     False\n",
      "ENSG00000281332.1     False\n",
      "ENSG00000281398.1     False\n",
      "ENSG00000281406.1     False\n",
      "ENSG00000281649.1     False\n",
      "Length: 13854, dtype: bool\n",
      "All values are finite: ENSG00000000003.13    True\n",
      "ENSG00000000419.11    True\n",
      "ENSG00000000457.12    True\n",
      "ENSG00000000460.15    True\n",
      "ENSG00000000938.11    True\n",
      "ENSG00000000971.14    True\n",
      "ENSG00000001036.12    True\n",
      "ENSG00000001084.9     True\n",
      "ENSG00000001167.13    True\n",
      "ENSG00000001460.16    True\n",
      "ENSG00000001461.15    True\n",
      "ENSG00000001497.15    True\n",
      "ENSG00000001561.6     True\n",
      "ENSG00000001617.10    True\n",
      "ENSG00000001626.13    True\n",
      "ENSG00000001629.8     True\n",
      "ENSG00000001630.14    True\n",
      "ENSG00000001631.13    True\n",
      "ENSG00000002016.15    True\n",
      "ENSG00000002330.12    True\n",
      "ENSG00000002549.11    True\n",
      "ENSG00000002586.16    True\n",
      "ENSG00000002587.8     True\n",
      "ENSG00000002726.18    True\n",
      "ENSG00000002822.14    True\n",
      "ENSG00000002834.16    True\n",
      "ENSG00000002919.13    True\n",
      "ENSG00000002933.6     True\n",
      "ENSG00000003056.6     True\n",
      "ENSG00000003096.12    True\n",
      "                      ... \n",
      "ENSG00000278948.1     True\n",
      "ENSG00000278970.1     True\n",
      "ENSG00000278978.1     True\n",
      "ENSG00000279010.1     True\n",
      "ENSG00000279088.1     True\n",
      "ENSG00000279095.1     True\n",
      "ENSG00000279117.1     True\n",
      "ENSG00000279207.1     True\n",
      "ENSG00000279453.1     True\n",
      "ENSG00000279483.1     True\n",
      "ENSG00000279496.1     True\n",
      "ENSG00000279528.1     True\n",
      "ENSG00000279978.1     True\n",
      "ENSG00000280088.1     True\n",
      "ENSG00000280111.1     True\n",
      "ENSG00000280128.1     True\n",
      "ENSG00000280138.1     True\n",
      "ENSG00000280143.1     True\n",
      "ENSG00000280202.1     True\n",
      "ENSG00000280206.1     True\n",
      "ENSG00000280237.1     True\n",
      "ENSG00000280411.1     True\n",
      "ENSG00000280734.1     True\n",
      "ENSG00000280789.1     True\n",
      "ENSG00000280798.1     True\n",
      "ENSG00000280832.1     True\n",
      "ENSG00000281332.1     True\n",
      "ENSG00000281398.1     True\n",
      "ENSG00000281406.1     True\n",
      "ENSG00000281649.1     True\n",
      "Length: 13854, dtype: bool\n"
     ]
    }
   ],
   "source": [
    "any_na = np.any(np.isnan(ExprAlldata))\n",
    "print ('There exists NA value: ' + repr (any_na))\n",
    "\n",
    "all_finite = np.all(np.isfinite(ExprAlldata))\n",
    "print ('All values are finite: ' + repr (all_finite))"
   ]
  },
  {
   "cell_type": "markdown",
   "metadata": {},
   "source": [
    "# Data normalization choices"
   ]
  },
  {
   "cell_type": "code",
   "execution_count": 7,
   "metadata": {},
   "outputs": [
    {
     "data": {
      "text/plain": [
       "(2606, 13854)"
      ]
     },
     "execution_count": 7,
     "metadata": {},
     "output_type": "execute_result"
    }
   ],
   "source": [
    "#minmax data transformation\n",
    "from sklearn import preprocessing\n",
    "\n",
    "#built up data frame\n",
    "from pandas import DataFrame, Series\n",
    "Exprframe = DataFrame(ExprAlldata)\n",
    "#Exprframe = ExprAlldata.T\n",
    "Exprframe_og = Exprframe\n",
    "\n",
    "# Scale RNAseq data using zero-one normalization\n",
    "Exprframe_zerone = preprocessing.MinMaxScaler().fit_transform(Exprframe)\n",
    "Exprframe_zerone.shape\n",
    "\n",
    "#change column name\n",
    "#Exprframe.columns.values[0] = \"Gene\"\n",
    "\n",
    "#set rownames\n",
    "#Exprframe = Exprframe.set_index('Gene')\n",
    "#Exprframe"
   ]
  },
  {
   "cell_type": "code",
   "execution_count": 8,
   "metadata": {},
   "outputs": [],
   "source": [
    "# logistic transformation, logistic sigmoid function\n",
    "#def logits(x):\n",
    "#    return 1 / (1 + np.exp(-x))\n",
    "\n",
    "#Exprframe_logit = logits(Exprframe)\n",
    "#Exprframe_logit.shape"
   ]
  },
  {
   "cell_type": "code",
   "execution_count": 9,
   "metadata": {},
   "outputs": [],
   "source": [
    "# Standardize\n",
    "#scaler = preprocessing.StandardScaler()\n",
    "#scaler.fit((Exprframe))\n",
    "#Exprfram_std = scaler.transform(Exprframe)\n",
    "#Exprfram_std.shape"
   ]
  },
  {
   "cell_type": "code",
   "execution_count": 10,
   "metadata": {},
   "outputs": [],
   "source": [
    "# If select the minmax method\n",
    "Exprframe = pd.DataFrame(Exprframe_zerone,\n",
    "                         columns=Exprframe.columns,\n",
    "                         index=Exprframe.index)\n",
    "\n",
    "# If select the logistic transformation method\n",
    "#Exprframe = pd.DataFrame(Exprframe_logit,\n",
    "#                         columns=Exprframe.columns,\n",
    "#                         index=Exprframe.index)\n",
    "\n",
    "# If select the Standardization method\n",
    "#Exprframe = pd.DataFrame(Exprfram_std,\n",
    "#                         columns=Exprframe.columns,\n",
    "#                         index=Exprframe.index)\n",
    "\n",
    "# If use no transformation\n",
    "#Exprframe = Exprframe_og\n",
    "\n",
    "#print(Exprframe.shape)\n",
    "#Exprframe.head(3)\n",
    "\n",
    "#output log transformed data\n",
    "#log_file = \"counts_data/vae_compressed/log_transformed(0.2_var,3layers,0.1test,log).tsv\"\n",
    "#Exprframe.to_csv(log_file, sep='\\t')"
   ]
  },
  {
   "cell_type": "code",
   "execution_count": 11,
   "metadata": {},
   "outputs": [
    {
     "name": "stdout",
     "output_type": "stream",
     "text": [
      "number of genes is 13854\n"
     ]
    }
   ],
   "source": [
    "import math\n",
    "#contruct training dataset\n",
    "n_genes = Exprframe.shape[1]\n",
    "print ('number of genes is ' + repr (n_genes))"
   ]
  },
  {
   "cell_type": "markdown",
   "metadata": {},
   "source": [
    "## Split 10% of the data as test set randomly"
   ]
  },
  {
   "cell_type": "code",
   "execution_count": 13,
   "metadata": {},
   "outputs": [
    {
     "name": "stdout",
     "output_type": "stream",
     "text": [
      "The dimension of training dataset is:  (2345, 13854)\n"
     ]
    }
   ],
   "source": [
    "#import the data as training data\n",
    "#set the random state to 42\n",
    "\n",
    "# Split 10% test set randomly\n",
    "test_set_percent = 0.1\n",
    "Exprframe_test = Exprframe.sample(frac=test_set_percent, random_state = 42)\n",
    "Exprframe_train = Exprframe.drop(Exprframe_test.index)\n",
    "print(\"The dimension of training dataset is: \",Exprframe_train.shape)"
   ]
  },
  {
   "cell_type": "markdown",
   "metadata": {},
   "source": [
    "# Load functions and classes\n",
    "* This will facilitate connections between layers and also custom hyperparameters"
   ]
  },
  {
   "cell_type": "code",
   "execution_count": 14,
   "metadata": {},
   "outputs": [],
   "source": [
    "# Function for reparameterization trick to make model differentiable\n",
    "def sampling(args):\n",
    "    \n",
    "    import tensorflow as tf\n",
    "    # Function with args required for Keras Lambda function\n",
    "    z_mean, z_log_var = args\n",
    "\n",
    "    # Draw epsilon of the same shape from a standard normal distribution\n",
    "    epsilon = K.random_normal(shape=tf.shape(z_mean), mean=0.,\n",
    "                              stddev=epsilon_std)\n",
    "    \n",
    "    # The latent vector is non-deterministic and differentiable\n",
    "    # in respect to z_mean and z_log_var\n",
    "    z = z_mean + K.exp(z_log_var / 2) * epsilon\n",
    "    return z\n",
    "\n",
    "\n",
    "class CustomVariationalLayer(Layer):\n",
    "    \"\"\"\n",
    "    Define a custom layer that learns and performs the training\n",
    "    This function is borrowed from:\n",
    "    https://github.com/fchollet/keras/blob/master/examples/variational_autoencoder.py\n",
    "    \"\"\"\n",
    "    def __init__(self, **kwargs):\n",
    "        # https://keras.io/layers/writing-your-own-keras-layers/\n",
    "        self.is_placeholder = True\n",
    "        super(CustomVariationalLayer, self).__init__(**kwargs)\n",
    "\n",
    "    #def vae_loss(self, x_input, x_decoded):\n",
    "    #    reconstruction_loss = original_dim * metrics.binary_crossentropy(x_input, x_decoded)\n",
    "    #    kl_loss = - 0.5 * K.sum(1 + z_log_var_encoded - K.square(z_mean_encoded) - \n",
    "    #                            K.exp(z_log_var_encoded), axis=-1)\n",
    "    #    return K.mean(reconstruction_loss + (K.get_value(beta) * kl_loss))\n",
    "    \n",
    "    def vae_loss(self, x_input, x_decoded):\n",
    "        #per sample\n",
    "        reconstruction_loss = original_dim * losses.mean_absolute_error(x_input, x_decoded)\n",
    "        kl_loss = - 0.5 * K.sum(1 + z_log_var_encoded - K.square(z_mean_encoded) - \n",
    "                                K.exp(z_log_var_encoded), axis=-1)\n",
    "        \n",
    "        #\n",
    "        #per data point\n",
    "        #reconstruction_loss = losses.mean_absolute_error(x_input, x_decoded)\n",
    "        #kl_loss = - 0.5 * K.sum(1 + z_log_var_encoded - K.square(z_mean_encoded) - \n",
    "        #                        K.exp(z_log_var_encoded), axis=-1) / latent_dim\n",
    "        \n",
    "        \n",
    "        return K.mean(reconstruction_loss + alpha * (kl_loss))#K.mean(reconstruction_loss + (K.get_value(beta) * kl_loss))\n",
    "\n",
    "\n",
    "    def call(self, inputs):\n",
    "        x = inputs[0]\n",
    "        x_decoded = inputs[1]\n",
    "        loss = self.vae_loss(x, x_decoded)\n",
    "        self.add_loss(loss, inputs=inputs)\n",
    "        # We won't actually use the output.\n",
    "        return x"
   ]
  },
  {
   "cell_type": "markdown",
   "metadata": {},
   "source": [
    "## Implementing Warm-up as described in Sonderby et al. LVAE\n",
    "\n",
    "* This is modified code from https://github.com/fchollet/keras/issues/2595"
   ]
  },
  {
   "cell_type": "code",
   "execution_count": 15,
   "metadata": {},
   "outputs": [],
   "source": [
    "class WarmUpCallback(Callback):\n",
    "    def __init__(self, beta, kappa):\n",
    "        self.beta = beta\n",
    "        self.kappa = kappa\n",
    "    # Behavior on each epoch\n",
    "    def on_epoch_end(self, epoch, logs={}):\n",
    "        if K.get_value(self.beta) <= 1:\n",
    "            K.set_value(self.beta, K.get_value(self.beta) + self.kappa)"
   ]
  },
  {
   "cell_type": "markdown",
   "metadata": {},
   "source": [
    "## Set hyper parameters"
   ]
  },
  {
   "cell_type": "code",
   "execution_count": 16,
   "metadata": {},
   "outputs": [
    {
     "name": "stdout",
     "output_type": "stream",
     "text": [
      "The dimension of input layer is:  13854\n"
     ]
    }
   ],
   "source": [
    "# Set hyper parameters\n",
    "original_dim = Exprframe.shape[1]\n",
    "print(\"The dimension of input layer is: \", original_dim)\n",
    "\n",
    "layer1_dim = 6000\n",
    "layer2_dim = 3000\n",
    "layer3_dim = 1000\n",
    "layer4_dim = 500\n",
    "layer5_dim = 100\n",
    "latent_dim = 50\n",
    "\n",
    "batch_size = Exprframe.shape[0]\n",
    "epochs = 400\n",
    "learning_rate = 0.002\n",
    "\n",
    "#set kernel initializer\n",
    "# Casey paper 'glorot_uniform'\n",
    "#initial_method = 'glorot_uniform'\n",
    "#initial_method = keras.initializers.glorot_uniform(seed=807)\n",
    "\n",
    "initial_method = keras.initializers.glorot_normal(seed=42)\n",
    "\n",
    "epsilon_std = 1.0\n",
    "alpha = 1.0\n",
    "\n",
    "beta = K.variable(0)\n",
    "kappa = 0.002"
   ]
  },
  {
   "cell_type": "markdown",
   "metadata": {},
   "source": [
    "# Encoder network"
   ]
  },
  {
   "cell_type": "code",
   "execution_count": 17,
   "metadata": {},
   "outputs": [],
   "source": [
    "#simple neural network version with two layers\n",
    "#Layer 1\n",
    "# Input place holder for RNAseq data with specific input size\n",
    "rnaseq_input = Input(shape=(original_dim, ))\n",
    "\n",
    "#L1\n",
    "l1_dense_linear = Dense(layer1_dim, kernel_initializer=initial_method)(rnaseq_input)\n",
    "l1_dense_batchnorm = BatchNormalization()(l1_dense_linear)\n",
    "l1 = Activation('relu')(l1_dense_batchnorm)\n",
    "\n",
    "#l2\n",
    "l2_dense_linear = Dense(layer2_dim, kernel_initializer=initial_method)(l1)\n",
    "l2_dense_batchnorm = BatchNormalization()(l2_dense_linear)\n",
    "l2 = Activation('relu')(l2_dense_batchnorm)\n",
    "\n",
    "#l3\n",
    "l3_dense_linear = Dense(layer3_dim, kernel_initializer=initial_method)(l2)\n",
    "l3_dense_batchnorm = BatchNormalization()(l3_dense_linear)\n",
    "l3 = Activation('relu')(l3_dense_batchnorm)\n",
    "\n",
    "#l4\n",
    "l4_dense_linear = Dense(layer4_dim, kernel_initializer=initial_method)(l3)\n",
    "l4_dense_batchnorm = BatchNormalization()(l4_dense_linear)\n",
    "l4 = Activation('relu')(l4_dense_batchnorm)\n",
    "\n",
    "#l5\n",
    "l5_dense_linear = Dense(layer5_dim, kernel_initializer=initial_method)(l4)\n",
    "l5_dense_batchnorm = BatchNormalization()(l5_dense_linear)\n",
    "l5 = Activation('relu')(l5_dense_batchnorm)\n"
   ]
  },
  {
   "cell_type": "code",
   "execution_count": 20,
   "metadata": {},
   "outputs": [],
   "source": [
    "#Layer 6\n",
    "# Input layer is compressed into a mean and log variance vector of size `latent_dim`\n",
    "# Each layer is initialized with glorot uniform weights and each step (dense connections,\n",
    "# batch norm, and relu activation) are funneled separately\n",
    "# Each vector of length `latent_dim` are connected to the rnaseq input tensor\n",
    "\n",
    "z_mean_dense_linear = Dense(latent_dim, kernel_initializer=initial_method)(l5)\n",
    "z_mean_dense_batchnorm = BatchNormalization()(z_mean_dense_linear)\n",
    "z_mean_encoded = Activation('relu')(z_mean_dense_batchnorm)\n",
    "\n",
    "z_log_var_dense_linear = Dense(latent_dim, kernel_initializer=initial_method)(l5)\n",
    "z_log_var_dense_batchnorm = BatchNormalization()(z_log_var_dense_linear)\n",
    "z_log_var_encoded = Activation('relu')(z_log_var_dense_batchnorm)\n",
    "\n",
    "# return the encoded and randomly sampled z vector\n",
    "# Takes two keras layers as input to the custom sampling function layer with a `latent_dim` output\n",
    "z = Lambda(sampling, output_shape=(latent_dim, ))([z_mean_encoded, z_log_var_encoded])"
   ]
  },
  {
   "cell_type": "markdown",
   "metadata": {},
   "source": [
    "# Decoder Network"
   ]
  },
  {
   "cell_type": "code",
   "execution_count": 21,
   "metadata": {},
   "outputs": [],
   "source": [
    "# The decoding layers have 6 layers and relu activation\n",
    "decoderl5_reconstruct = Dense(layer5_dim, kernel_initializer=initial_method, activation='relu')\n",
    "decoder_l5 = decoderl5_reconstruct(z)\n",
    "\n",
    "decoderl4_reconstruct = Dense(layer4_dim, kernel_initializer=initial_method, activation='relu')\n",
    "decoder_l4 = decoderl4_reconstruct(decoder_l5)\n",
    "\n",
    "decoderl3_reconstruct = Dense(layer3_dim, kernel_initializer=initial_method, activation='relu')\n",
    "decoder_l3 = decoderl3_reconstruct(decoder_l4)\n",
    "\n",
    "decoderl2_reconstruct = Dense(layer2_dim, kernel_initializer=initial_method, activation='relu')\n",
    "decoder_l2 = decoderl2_reconstruct(decoder_l3)\n",
    "\n",
    "decoderl1_reconstruct = Dense(layer1_dim, kernel_initializer=initial_method, activation='relu')\n",
    "decoder_l1 = decoderl1_reconstruct(decoder_l2)\n",
    "\n",
    "decoderl0_reconstruct = Dense(original_dim, kernel_initializer=initial_method, activation='relu')\n",
    "rnaseq_reconstruct = decoderl0_reconstruct(decoder_l1)"
   ]
  },
  {
   "cell_type": "markdown",
   "metadata": {},
   "source": [
    "## Connect the encoder and decoder to make the VAE\n",
    "\n",
    "* The CustomVariationalLayer() includes the VAE loss function (reconstruction + (beta * KL)), which is what will drive our model to learn an interpretable representation of gene expression space.\n",
    "\n",
    "* The VAE is compiled with an Adam optimizer and built-in custom loss function. The loss_weights parameter ensures beta is updated at each epoch end callback"
   ]
  },
  {
   "cell_type": "code",
   "execution_count": 23,
   "metadata": {},
   "outputs": [
    {
     "name": "stderr",
     "output_type": "stream",
     "text": [
      "/home/qiwei/anaconda2/envs/tensorflow-gpu-test/lib/python3.5/site-packages/ipykernel/__main__.py:5: UserWarning: Output \"custom_variational_layer_1\" missing from loss dictionary. We assume this was done on purpose, and we will not be expecting any data to be passed to \"custom_variational_layer_1\" during training.\n"
     ]
    },
    {
     "name": "stdout",
     "output_type": "stream",
     "text": [
      "__________________________________________________________________________________________________\n",
      "Layer (type)                    Output Shape         Param #     Connected to                     \n",
      "==================================================================================================\n",
      "input_1 (InputLayer)            (None, 13854)        0                                            \n",
      "__________________________________________________________________________________________________\n",
      "dense_1 (Dense)                 (None, 6000)         83130000    input_1[0][0]                    \n",
      "__________________________________________________________________________________________________\n",
      "batch_normalization_1 (BatchNor (None, 6000)         24000       dense_1[0][0]                    \n",
      "__________________________________________________________________________________________________\n",
      "activation_1 (Activation)       (None, 6000)         0           batch_normalization_1[0][0]      \n",
      "__________________________________________________________________________________________________\n",
      "dense_2 (Dense)                 (None, 3000)         18003000    activation_1[0][0]               \n",
      "__________________________________________________________________________________________________\n",
      "batch_normalization_2 (BatchNor (None, 3000)         12000       dense_2[0][0]                    \n",
      "__________________________________________________________________________________________________\n",
      "activation_2 (Activation)       (None, 3000)         0           batch_normalization_2[0][0]      \n",
      "__________________________________________________________________________________________________\n",
      "dense_3 (Dense)                 (None, 1000)         3001000     activation_2[0][0]               \n",
      "__________________________________________________________________________________________________\n",
      "batch_normalization_3 (BatchNor (None, 1000)         4000        dense_3[0][0]                    \n",
      "__________________________________________________________________________________________________\n",
      "activation_3 (Activation)       (None, 1000)         0           batch_normalization_3[0][0]      \n",
      "__________________________________________________________________________________________________\n",
      "dense_4 (Dense)                 (None, 500)          500500      activation_3[0][0]               \n",
      "__________________________________________________________________________________________________\n",
      "batch_normalization_4 (BatchNor (None, 500)          2000        dense_4[0][0]                    \n",
      "__________________________________________________________________________________________________\n",
      "activation_4 (Activation)       (None, 500)          0           batch_normalization_4[0][0]      \n",
      "__________________________________________________________________________________________________\n",
      "dense_5 (Dense)                 (None, 100)          50100       activation_4[0][0]               \n",
      "__________________________________________________________________________________________________\n",
      "batch_normalization_5 (BatchNor (None, 100)          400         dense_5[0][0]                    \n",
      "__________________________________________________________________________________________________\n",
      "activation_5 (Activation)       (None, 100)          0           batch_normalization_5[0][0]      \n",
      "__________________________________________________________________________________________________\n",
      "dense_6 (Dense)                 (None, 50)           5050        activation_5[0][0]               \n",
      "__________________________________________________________________________________________________\n",
      "dense_7 (Dense)                 (None, 50)           5050        activation_5[0][0]               \n",
      "__________________________________________________________________________________________________\n",
      "batch_normalization_6 (BatchNor (None, 50)           200         dense_6[0][0]                    \n",
      "__________________________________________________________________________________________________\n",
      "batch_normalization_7 (BatchNor (None, 50)           200         dense_7[0][0]                    \n",
      "__________________________________________________________________________________________________\n",
      "activation_6 (Activation)       (None, 50)           0           batch_normalization_6[0][0]      \n",
      "__________________________________________________________________________________________________\n",
      "activation_7 (Activation)       (None, 50)           0           batch_normalization_7[0][0]      \n",
      "__________________________________________________________________________________________________\n",
      "lambda_1 (Lambda)               (None, 50)           0           activation_6[0][0]               \n",
      "                                                                 activation_7[0][0]               \n",
      "__________________________________________________________________________________________________\n",
      "dense_8 (Dense)                 (None, 100)          5100        lambda_1[0][0]                   \n",
      "__________________________________________________________________________________________________\n",
      "dense_9 (Dense)                 (None, 500)          50500       dense_8[0][0]                    \n",
      "__________________________________________________________________________________________________\n",
      "dense_10 (Dense)                (None, 1000)         501000      dense_9[0][0]                    \n",
      "__________________________________________________________________________________________________\n",
      "dense_11 (Dense)                (None, 3000)         3003000     dense_10[0][0]                   \n",
      "__________________________________________________________________________________________________\n",
      "dense_12 (Dense)                (None, 6000)         18006000    dense_11[0][0]                   \n",
      "__________________________________________________________________________________________________\n",
      "dense_13 (Dense)                (None, 13854)        83137854    dense_12[0][0]                   \n",
      "__________________________________________________________________________________________________\n",
      "custom_variational_layer_1 (Cus [(None, 13854), (Non 0           input_1[0][0]                    \n",
      "                                                                 dense_13[0][0]                   \n",
      "==================================================================================================\n",
      "Total params: 209,440,954\n",
      "Trainable params: 209,419,554\n",
      "Non-trainable params: 21,400\n",
      "__________________________________________________________________________________________________\n"
     ]
    }
   ],
   "source": [
    "from keras import losses\n",
    "adam = optimizers.Adam(lr=learning_rate, beta_1=0.9, beta_2=0.999)\n",
    "vae_layer = CustomVariationalLayer()([rnaseq_input, rnaseq_reconstruct])\n",
    "vae = Model(rnaseq_input, vae_layer)\n",
    "vae.compile(optimizer=adam, loss=None, loss_weights=[beta])\n",
    "#vae.compile(optimizer=adam, loss=losses.kullback_leibler_divergence)\n",
    "\n",
    "#########################################################################\n",
    "#only use to manually set initial weights, otherwise change the initializer\n",
    "weights = vae.get_weights()\n",
    "#new_weight = [item*0+0.01 for item in weights]\n",
    "#vae.set_weights(new_weight)\n",
    "vae.summary()"
   ]
  },
  {
   "cell_type": "markdown",
   "metadata": {},
   "source": [
    "# Train the model\n",
    "\n",
    "* The training data is shuffled after every epoch and 10% of the data is heldout for calculating validation loss."
   ]
  },
  {
   "cell_type": "code",
   "execution_count": 24,
   "metadata": {},
   "outputs": [
    {
     "data": {
      "application/vnd.jupyter.widget-view+json": {
       "model_id": "29d78f848b6b4a0c9c56b6f3ef2df1f9"
      }
     },
     "metadata": {},
     "output_type": "display_data"
    },
    {
     "data": {
      "application/vnd.jupyter.widget-view+json": {
       "model_id": "fa896827c3c140599cd7f3cf46b37eee"
      }
     },
     "metadata": {},
     "output_type": "display_data"
    },
    {
     "data": {
      "application/vnd.jupyter.widget-view+json": {
       "model_id": "f7b2a7e818b2433cb01a4cc09d005992"
      }
     },
     "metadata": {},
     "output_type": "display_data"
    },
    {
     "data": {
      "application/vnd.jupyter.widget-view+json": {
       "model_id": "f7d8e09aad5446f3b9c62899428b3988"
      }
     },
     "metadata": {},
     "output_type": "display_data"
    },
    {
     "data": {
      "application/vnd.jupyter.widget-view+json": {
       "model_id": "dc31a516e463456f9272032b483b41bd"
      }
     },
     "metadata": {},
     "output_type": "display_data"
    },
    {
     "data": {
      "application/vnd.jupyter.widget-view+json": {
       "model_id": "a90fe99bbfb548e8bc073e3d4a876bec"
      }
     },
     "metadata": {},
     "output_type": "display_data"
    },
    {
     "data": {
      "application/vnd.jupyter.widget-view+json": {
       "model_id": "cf65402a9d3a40b7850610a87f040a2a"
      }
     },
     "metadata": {},
     "output_type": "display_data"
    },
    {
     "data": {
      "application/vnd.jupyter.widget-view+json": {
       "model_id": "bf16547c9d8b495ba2de53717a288709"
      }
     },
     "metadata": {},
     "output_type": "display_data"
    },
    {
     "data": {
      "application/vnd.jupyter.widget-view+json": {
       "model_id": "e3768331bca642a7a9e23a9335bc1c7b"
      }
     },
     "metadata": {},
     "output_type": "display_data"
    },
    {
     "data": {
      "application/vnd.jupyter.widget-view+json": {
       "model_id": "077a1a3b9c794970876c0824f654cf2a"
      }
     },
     "metadata": {},
     "output_type": "display_data"
    },
    {
     "data": {
      "application/vnd.jupyter.widget-view+json": {
       "model_id": "96bc923170d0489abd58a47eab72ffe9"
      }
     },
     "metadata": {},
     "output_type": "display_data"
    },
    {
     "data": {
      "application/vnd.jupyter.widget-view+json": {
       "model_id": "7f8775afa4d047ad9a18ad54be8305c8"
      }
     },
     "metadata": {},
     "output_type": "display_data"
    },
    {
     "data": {
      "application/vnd.jupyter.widget-view+json": {
       "model_id": "297b1592a40b445b8967b62537f53147"
      }
     },
     "metadata": {},
     "output_type": "display_data"
    },
    {
     "data": {
      "application/vnd.jupyter.widget-view+json": {
       "model_id": "98498bfe62df4712aac060119af9b8f2"
      }
     },
     "metadata": {},
     "output_type": "display_data"
    },
    {
     "data": {
      "application/vnd.jupyter.widget-view+json": {
       "model_id": "c4cd9ed92dc8487ea7bb46a7a5e847be"
      }
     },
     "metadata": {},
     "output_type": "display_data"
    },
    {
     "data": {
      "application/vnd.jupyter.widget-view+json": {
       "model_id": "6bd7245b12cb49269413e48f14e44087"
      }
     },
     "metadata": {},
     "output_type": "display_data"
    },
    {
     "data": {
      "application/vnd.jupyter.widget-view+json": {
       "model_id": "4239d38b9e6f4ae9a939f61d7356f9ec"
      }
     },
     "metadata": {},
     "output_type": "display_data"
    },
    {
     "data": {
      "application/vnd.jupyter.widget-view+json": {
       "model_id": "f7fafb0a9bc84600a5c74a27e9b04b4c"
      }
     },
     "metadata": {},
     "output_type": "display_data"
    },
    {
     "data": {
      "application/vnd.jupyter.widget-view+json": {
       "model_id": "e08cf86055de41b08b8b34f0eea255c6"
      }
     },
     "metadata": {},
     "output_type": "display_data"
    },
    {
     "data": {
      "application/vnd.jupyter.widget-view+json": {
       "model_id": "07f6af24714f462ea72d6456301594a6"
      }
     },
     "metadata": {},
     "output_type": "display_data"
    },
    {
     "data": {
      "application/vnd.jupyter.widget-view+json": {
       "model_id": "803c8a777aa14fcf924c14b5f35bc5f5"
      }
     },
     "metadata": {},
     "output_type": "display_data"
    },
    {
     "data": {
      "application/vnd.jupyter.widget-view+json": {
       "model_id": "dbea0bed83a0442e8a43d39dc96ea476"
      }
     },
     "metadata": {},
     "output_type": "display_data"
    },
    {
     "data": {
      "application/vnd.jupyter.widget-view+json": {
       "model_id": "586d3f16d5aa436a958120641ad09dd4"
      }
     },
     "metadata": {},
     "output_type": "display_data"
    },
    {
     "data": {
      "application/vnd.jupyter.widget-view+json": {
       "model_id": "9186f0f929e24a30a373ab21719fa417"
      }
     },
     "metadata": {},
     "output_type": "display_data"
    },
    {
     "data": {
      "application/vnd.jupyter.widget-view+json": {
       "model_id": "a1c9dd83a8cf482fa42a65d109220861"
      }
     },
     "metadata": {},
     "output_type": "display_data"
    },
    {
     "data": {
      "application/vnd.jupyter.widget-view+json": {
       "model_id": "7d9fab4282d94046b662e706b68f5ec5"
      }
     },
     "metadata": {},
     "output_type": "display_data"
    },
    {
     "data": {
      "application/vnd.jupyter.widget-view+json": {
       "model_id": "4fa4045066474d27956a132ba8cce2d6"
      }
     },
     "metadata": {},
     "output_type": "display_data"
    },
    {
     "data": {
      "application/vnd.jupyter.widget-view+json": {
       "model_id": "5959ad046d7c4fafb235560669785b54"
      }
     },
     "metadata": {},
     "output_type": "display_data"
    },
    {
     "data": {
      "application/vnd.jupyter.widget-view+json": {
       "model_id": "28d4240be470475fa2ff3ecd66cda7da"
      }
     },
     "metadata": {},
     "output_type": "display_data"
    },
    {
     "data": {
      "application/vnd.jupyter.widget-view+json": {
       "model_id": "c54d9e0cfa554dcea626c70975b2d318"
      }
     },
     "metadata": {},
     "output_type": "display_data"
    },
    {
     "data": {
      "application/vnd.jupyter.widget-view+json": {
       "model_id": "71c74e56279a486787571d66665e853e"
      }
     },
     "metadata": {},
     "output_type": "display_data"
    },
    {
     "data": {
      "application/vnd.jupyter.widget-view+json": {
       "model_id": "4dbe3715e320454681da03480cb3d9fe"
      }
     },
     "metadata": {},
     "output_type": "display_data"
    },
    {
     "data": {
      "application/vnd.jupyter.widget-view+json": {
       "model_id": "25e666fffcf14016b927c46a206c989f"
      }
     },
     "metadata": {},
     "output_type": "display_data"
    },
    {
     "data": {
      "application/vnd.jupyter.widget-view+json": {
       "model_id": "fddf730d2b3c47958f1d50ea96089cbd"
      }
     },
     "metadata": {},
     "output_type": "display_data"
    },
    {
     "data": {
      "application/vnd.jupyter.widget-view+json": {
       "model_id": "1e2660948928499e90978450f9bedb20"
      }
     },
     "metadata": {},
     "output_type": "display_data"
    },
    {
     "data": {
      "application/vnd.jupyter.widget-view+json": {
       "model_id": "ab7aab8bd82e4546a240d9760dd8b5a4"
      }
     },
     "metadata": {},
     "output_type": "display_data"
    },
    {
     "data": {
      "application/vnd.jupyter.widget-view+json": {
       "model_id": "86149e18b54042b0956851ad3ac06611"
      }
     },
     "metadata": {},
     "output_type": "display_data"
    },
    {
     "data": {
      "application/vnd.jupyter.widget-view+json": {
       "model_id": "acc877a9e26e4475affd759c39606fc6"
      }
     },
     "metadata": {},
     "output_type": "display_data"
    },
    {
     "data": {
      "application/vnd.jupyter.widget-view+json": {
       "model_id": "a29bd34281e54814b5dcf5bcb596d344"
      }
     },
     "metadata": {},
     "output_type": "display_data"
    },
    {
     "data": {
      "application/vnd.jupyter.widget-view+json": {
       "model_id": "2884d100fa76430890387879f0b23d97"
      }
     },
     "metadata": {},
     "output_type": "display_data"
    },
    {
     "data": {
      "application/vnd.jupyter.widget-view+json": {
       "model_id": "2b7bb4bed26742c5aa0ef8f811176a85"
      }
     },
     "metadata": {},
     "output_type": "display_data"
    },
    {
     "data": {
      "application/vnd.jupyter.widget-view+json": {
       "model_id": "c0638da3840744d1a9ab414718cf5148"
      }
     },
     "metadata": {},
     "output_type": "display_data"
    },
    {
     "data": {
      "application/vnd.jupyter.widget-view+json": {
       "model_id": "9fdbcc59b74e4a0281f0eb8990888b3c"
      }
     },
     "metadata": {},
     "output_type": "display_data"
    },
    {
     "data": {
      "application/vnd.jupyter.widget-view+json": {
       "model_id": "bd6873c17a404f86b09f91d5897d9ddb"
      }
     },
     "metadata": {},
     "output_type": "display_data"
    },
    {
     "data": {
      "application/vnd.jupyter.widget-view+json": {
       "model_id": "610b909d82b444c7bf9b289534a3924f"
      }
     },
     "metadata": {},
     "output_type": "display_data"
    },
    {
     "data": {
      "application/vnd.jupyter.widget-view+json": {
       "model_id": "5ca160662143438bab78dfb53676dbe5"
      }
     },
     "metadata": {},
     "output_type": "display_data"
    },
    {
     "data": {
      "application/vnd.jupyter.widget-view+json": {
       "model_id": "05808e9d2e6b4d8a84c53b542a76883a"
      }
     },
     "metadata": {},
     "output_type": "display_data"
    },
    {
     "data": {
      "application/vnd.jupyter.widget-view+json": {
       "model_id": "c46bb65934b7438ca5d779a0b5abc079"
      }
     },
     "metadata": {},
     "output_type": "display_data"
    },
    {
     "data": {
      "application/vnd.jupyter.widget-view+json": {
       "model_id": "9b6c7be43fd247979b7acb7694296c49"
      }
     },
     "metadata": {},
     "output_type": "display_data"
    },
    {
     "data": {
      "application/vnd.jupyter.widget-view+json": {
       "model_id": "581713edb8084fca81e6beb4c9f99907"
      }
     },
     "metadata": {},
     "output_type": "display_data"
    },
    {
     "data": {
      "application/vnd.jupyter.widget-view+json": {
       "model_id": "2164c522d1f541a7bc24107e3f0fa3d2"
      }
     },
     "metadata": {},
     "output_type": "display_data"
    },
    {
     "data": {
      "application/vnd.jupyter.widget-view+json": {
       "model_id": "667d23ccef4d4a5f9c1ceb818cfbbee2"
      }
     },
     "metadata": {},
     "output_type": "display_data"
    },
    {
     "data": {
      "application/vnd.jupyter.widget-view+json": {
       "model_id": "d87ee28f3c5f491c9eb05e08ed195b87"
      }
     },
     "metadata": {},
     "output_type": "display_data"
    },
    {
     "data": {
      "application/vnd.jupyter.widget-view+json": {
       "model_id": "21b9a085ac534a0191d26fec1581e5ed"
      }
     },
     "metadata": {},
     "output_type": "display_data"
    },
    {
     "data": {
      "application/vnd.jupyter.widget-view+json": {
       "model_id": "12439f2b34d2443893a8285a9f25b72b"
      }
     },
     "metadata": {},
     "output_type": "display_data"
    },
    {
     "data": {
      "application/vnd.jupyter.widget-view+json": {
       "model_id": "8ad68c290c2f41fbac64991aeab2b309"
      }
     },
     "metadata": {},
     "output_type": "display_data"
    },
    {
     "data": {
      "application/vnd.jupyter.widget-view+json": {
       "model_id": "5f4575d050d648309b46bdabd7a4466f"
      }
     },
     "metadata": {},
     "output_type": "display_data"
    },
    {
     "data": {
      "application/vnd.jupyter.widget-view+json": {
       "model_id": "481099eabeb740dca3efdd6e21fd2425"
      }
     },
     "metadata": {},
     "output_type": "display_data"
    },
    {
     "data": {
      "application/vnd.jupyter.widget-view+json": {
       "model_id": "4eb04f6ff28948d094dc8040b4495dee"
      }
     },
     "metadata": {},
     "output_type": "display_data"
    },
    {
     "data": {
      "application/vnd.jupyter.widget-view+json": {
       "model_id": "02a98eac519e44b8af7f4a330c2ddf19"
      }
     },
     "metadata": {},
     "output_type": "display_data"
    },
    {
     "data": {
      "application/vnd.jupyter.widget-view+json": {
       "model_id": "1204aba694e246b493dbc8268a5cd17a"
      }
     },
     "metadata": {},
     "output_type": "display_data"
    },
    {
     "data": {
      "application/vnd.jupyter.widget-view+json": {
       "model_id": "0d6bdc2901604b22a4e5f4b366f25b2b"
      }
     },
     "metadata": {},
     "output_type": "display_data"
    },
    {
     "data": {
      "application/vnd.jupyter.widget-view+json": {
       "model_id": "ba5df77924b745659c2a82f2b38223ba"
      }
     },
     "metadata": {},
     "output_type": "display_data"
    },
    {
     "data": {
      "application/vnd.jupyter.widget-view+json": {
       "model_id": "37ecc15cbce048c59816e4f9281d8150"
      }
     },
     "metadata": {},
     "output_type": "display_data"
    },
    {
     "data": {
      "application/vnd.jupyter.widget-view+json": {
       "model_id": "e561efee54dc47759b53a8a45cc199ce"
      }
     },
     "metadata": {},
     "output_type": "display_data"
    },
    {
     "data": {
      "application/vnd.jupyter.widget-view+json": {
       "model_id": "d2b98c6f8a764fe5aee4bd343ab399c6"
      }
     },
     "metadata": {},
     "output_type": "display_data"
    },
    {
     "data": {
      "application/vnd.jupyter.widget-view+json": {
       "model_id": "6db4a205e4f846cfb8bb3477df1d2a17"
      }
     },
     "metadata": {},
     "output_type": "display_data"
    },
    {
     "data": {
      "application/vnd.jupyter.widget-view+json": {
       "model_id": "f15f26772bec4790b25929a60952dd47"
      }
     },
     "metadata": {},
     "output_type": "display_data"
    },
    {
     "data": {
      "application/vnd.jupyter.widget-view+json": {
       "model_id": "df12c6db6eae4dabb2815200b032d997"
      }
     },
     "metadata": {},
     "output_type": "display_data"
    },
    {
     "data": {
      "application/vnd.jupyter.widget-view+json": {
       "model_id": "44df778c13c7446fb107da61dc58c0fe"
      }
     },
     "metadata": {},
     "output_type": "display_data"
    },
    {
     "data": {
      "application/vnd.jupyter.widget-view+json": {
       "model_id": "5aebfee127b7470d954c38c4e2572427"
      }
     },
     "metadata": {},
     "output_type": "display_data"
    },
    {
     "data": {
      "application/vnd.jupyter.widget-view+json": {
       "model_id": "eb0d6bbcd7bb42b093df98033330e5b2"
      }
     },
     "metadata": {},
     "output_type": "display_data"
    },
    {
     "data": {
      "application/vnd.jupyter.widget-view+json": {
       "model_id": "468aa98485d649efad2607ce47471bee"
      }
     },
     "metadata": {},
     "output_type": "display_data"
    },
    {
     "data": {
      "application/vnd.jupyter.widget-view+json": {
       "model_id": "280794b6c71c4ad5848afe848cf7037d"
      }
     },
     "metadata": {},
     "output_type": "display_data"
    },
    {
     "data": {
      "application/vnd.jupyter.widget-view+json": {
       "model_id": "409363378353409da15023d285ae027f"
      }
     },
     "metadata": {},
     "output_type": "display_data"
    },
    {
     "data": {
      "application/vnd.jupyter.widget-view+json": {
       "model_id": "3cc8faaa72654df7a2fdf88753f7d9bd"
      }
     },
     "metadata": {},
     "output_type": "display_data"
    },
    {
     "data": {
      "application/vnd.jupyter.widget-view+json": {
       "model_id": "684b8e4e50b04d84a622925a97eefe51"
      }
     },
     "metadata": {},
     "output_type": "display_data"
    },
    {
     "data": {
      "application/vnd.jupyter.widget-view+json": {
       "model_id": "970f01a3e1214961af4b33d7c368eadb"
      }
     },
     "metadata": {},
     "output_type": "display_data"
    },
    {
     "data": {
      "application/vnd.jupyter.widget-view+json": {
       "model_id": "e70e1ae186db4b9b99a92bfe35a04a1d"
      }
     },
     "metadata": {},
     "output_type": "display_data"
    },
    {
     "data": {
      "application/vnd.jupyter.widget-view+json": {
       "model_id": "5c03fd5baca747e79cd1ad6e33541f16"
      }
     },
     "metadata": {},
     "output_type": "display_data"
    },
    {
     "data": {
      "application/vnd.jupyter.widget-view+json": {
       "model_id": "6d7c5474d98048f29c1b8d840d2221ec"
      }
     },
     "metadata": {},
     "output_type": "display_data"
    },
    {
     "data": {
      "application/vnd.jupyter.widget-view+json": {
       "model_id": "1e0e08fefc4e41b0ba28cd3b111fcf81"
      }
     },
     "metadata": {},
     "output_type": "display_data"
    },
    {
     "data": {
      "application/vnd.jupyter.widget-view+json": {
       "model_id": "70089c3ce70a4588ada0f3834d36e8d2"
      }
     },
     "metadata": {},
     "output_type": "display_data"
    },
    {
     "data": {
      "application/vnd.jupyter.widget-view+json": {
       "model_id": "97eabf33067f490d89b47e1316908040"
      }
     },
     "metadata": {},
     "output_type": "display_data"
    },
    {
     "data": {
      "application/vnd.jupyter.widget-view+json": {
       "model_id": "a08e1478723a4693980909130169797e"
      }
     },
     "metadata": {},
     "output_type": "display_data"
    },
    {
     "data": {
      "application/vnd.jupyter.widget-view+json": {
       "model_id": "9b1b42fe37824527a1df9b97fd64ba68"
      }
     },
     "metadata": {},
     "output_type": "display_data"
    },
    {
     "data": {
      "application/vnd.jupyter.widget-view+json": {
       "model_id": "5b6366c160554fdbba142ef8e7d0b48c"
      }
     },
     "metadata": {},
     "output_type": "display_data"
    },
    {
     "data": {
      "application/vnd.jupyter.widget-view+json": {
       "model_id": "834390814f8c4df8ab8d073d9ac14097"
      }
     },
     "metadata": {},
     "output_type": "display_data"
    },
    {
     "data": {
      "application/vnd.jupyter.widget-view+json": {
       "model_id": "73de34f77e4f4a3faeb6b0863c4a2bfb"
      }
     },
     "metadata": {},
     "output_type": "display_data"
    },
    {
     "data": {
      "application/vnd.jupyter.widget-view+json": {
       "model_id": "830cfccceff14502802870b6ce820a1e"
      }
     },
     "metadata": {},
     "output_type": "display_data"
    },
    {
     "data": {
      "application/vnd.jupyter.widget-view+json": {
       "model_id": "02ae18e39fab4f67afa436c283132e2c"
      }
     },
     "metadata": {},
     "output_type": "display_data"
    },
    {
     "data": {
      "application/vnd.jupyter.widget-view+json": {
       "model_id": "8e7a3c93076c4a12a9a6aaed5b6cf68f"
      }
     },
     "metadata": {},
     "output_type": "display_data"
    },
    {
     "data": {
      "application/vnd.jupyter.widget-view+json": {
       "model_id": "da4f44544b4542ae881bf55a4f6ce351"
      }
     },
     "metadata": {},
     "output_type": "display_data"
    },
    {
     "data": {
      "application/vnd.jupyter.widget-view+json": {
       "model_id": "cff5f51b91534e79963ada49ba0a9c22"
      }
     },
     "metadata": {},
     "output_type": "display_data"
    },
    {
     "data": {
      "application/vnd.jupyter.widget-view+json": {
       "model_id": "2c0502a72b7e41e4915e1b64914f003c"
      }
     },
     "metadata": {},
     "output_type": "display_data"
    },
    {
     "data": {
      "application/vnd.jupyter.widget-view+json": {
       "model_id": "c0a355d0f1e14a93bd4f33a969858ac0"
      }
     },
     "metadata": {},
     "output_type": "display_data"
    },
    {
     "data": {
      "application/vnd.jupyter.widget-view+json": {
       "model_id": "0e463706e3bd436fa925f6cdcc68fa64"
      }
     },
     "metadata": {},
     "output_type": "display_data"
    },
    {
     "data": {
      "application/vnd.jupyter.widget-view+json": {
       "model_id": "00b7a384127e4ccba8d5b7e19dc50684"
      }
     },
     "metadata": {},
     "output_type": "display_data"
    },
    {
     "data": {
      "application/vnd.jupyter.widget-view+json": {
       "model_id": "8db4a41858024d0c955d8398b020503f"
      }
     },
     "metadata": {},
     "output_type": "display_data"
    },
    {
     "data": {
      "application/vnd.jupyter.widget-view+json": {
       "model_id": "352cc8f691814da3aa2035de80c720f6"
      }
     },
     "metadata": {},
     "output_type": "display_data"
    },
    {
     "data": {
      "application/vnd.jupyter.widget-view+json": {
       "model_id": "e69a4b84e9e64aa7ab28c7ef75f365b5"
      }
     },
     "metadata": {},
     "output_type": "display_data"
    },
    {
     "data": {
      "application/vnd.jupyter.widget-view+json": {
       "model_id": "5e1ae2b754b74694bcee6df29c20f550"
      }
     },
     "metadata": {},
     "output_type": "display_data"
    },
    {
     "data": {
      "application/vnd.jupyter.widget-view+json": {
       "model_id": "58b881cc70154d03a4d61cdaed6fc7e4"
      }
     },
     "metadata": {},
     "output_type": "display_data"
    },
    {
     "data": {
      "application/vnd.jupyter.widget-view+json": {
       "model_id": "1085161c65f24d12a82103decdc31e10"
      }
     },
     "metadata": {},
     "output_type": "display_data"
    },
    {
     "data": {
      "application/vnd.jupyter.widget-view+json": {
       "model_id": "bf54ef0015cd48a2a103f55ad4d0ff63"
      }
     },
     "metadata": {},
     "output_type": "display_data"
    },
    {
     "data": {
      "application/vnd.jupyter.widget-view+json": {
       "model_id": "49e480524c8c48ab93a50ae88439a1e8"
      }
     },
     "metadata": {},
     "output_type": "display_data"
    },
    {
     "data": {
      "application/vnd.jupyter.widget-view+json": {
       "model_id": "3a3b24e4a4264f5ab5eef3b0c7f83a81"
      }
     },
     "metadata": {},
     "output_type": "display_data"
    },
    {
     "data": {
      "application/vnd.jupyter.widget-view+json": {
       "model_id": "6c9602438717496d82d941ecc08d0b1e"
      }
     },
     "metadata": {},
     "output_type": "display_data"
    },
    {
     "data": {
      "application/vnd.jupyter.widget-view+json": {
       "model_id": "f0d0031846e44d178e29ad83cc833efd"
      }
     },
     "metadata": {},
     "output_type": "display_data"
    },
    {
     "data": {
      "application/vnd.jupyter.widget-view+json": {
       "model_id": "288a8d05761c40eb9805d5a02f7a2d17"
      }
     },
     "metadata": {},
     "output_type": "display_data"
    },
    {
     "data": {
      "application/vnd.jupyter.widget-view+json": {
       "model_id": "a6df982af3184a96a113a31020c616dc"
      }
     },
     "metadata": {},
     "output_type": "display_data"
    },
    {
     "data": {
      "application/vnd.jupyter.widget-view+json": {
       "model_id": "7978acf6aaff4e74b24a1cecdcbf5783"
      }
     },
     "metadata": {},
     "output_type": "display_data"
    },
    {
     "data": {
      "application/vnd.jupyter.widget-view+json": {
       "model_id": "9ba13ac9080742f8b724a3ea4bcff5dc"
      }
     },
     "metadata": {},
     "output_type": "display_data"
    },
    {
     "data": {
      "application/vnd.jupyter.widget-view+json": {
       "model_id": "93d7347af6674a5ba4557fdfb0bfa7dc"
      }
     },
     "metadata": {},
     "output_type": "display_data"
    },
    {
     "data": {
      "application/vnd.jupyter.widget-view+json": {
       "model_id": "834ef480659b4871972e6eac3fc29ad2"
      }
     },
     "metadata": {},
     "output_type": "display_data"
    },
    {
     "data": {
      "application/vnd.jupyter.widget-view+json": {
       "model_id": "cccf23dceed94792abefcedf141b9899"
      }
     },
     "metadata": {},
     "output_type": "display_data"
    },
    {
     "data": {
      "application/vnd.jupyter.widget-view+json": {
       "model_id": "cdbeb60540454b3cad0122020d03f330"
      }
     },
     "metadata": {},
     "output_type": "display_data"
    },
    {
     "data": {
      "application/vnd.jupyter.widget-view+json": {
       "model_id": "1a60cbee821d42d18b2bf9c9aae821f7"
      }
     },
     "metadata": {},
     "output_type": "display_data"
    },
    {
     "data": {
      "application/vnd.jupyter.widget-view+json": {
       "model_id": "c00c89b7f9f5470391dc1925ee643bbd"
      }
     },
     "metadata": {},
     "output_type": "display_data"
    },
    {
     "data": {
      "application/vnd.jupyter.widget-view+json": {
       "model_id": "86f36f5baa4847d99dba4dfd3536bf5c"
      }
     },
     "metadata": {},
     "output_type": "display_data"
    },
    {
     "data": {
      "application/vnd.jupyter.widget-view+json": {
       "model_id": "32dc3867fd9241cca01c77f4ee7d0b25"
      }
     },
     "metadata": {},
     "output_type": "display_data"
    },
    {
     "data": {
      "application/vnd.jupyter.widget-view+json": {
       "model_id": "1483679a729a412398a842b28cbde71e"
      }
     },
     "metadata": {},
     "output_type": "display_data"
    },
    {
     "data": {
      "application/vnd.jupyter.widget-view+json": {
       "model_id": "c54ec03e762f450f8075b4e0b72d9eff"
      }
     },
     "metadata": {},
     "output_type": "display_data"
    },
    {
     "data": {
      "application/vnd.jupyter.widget-view+json": {
       "model_id": "6d011e70f99f49e7b386166b83a4bed4"
      }
     },
     "metadata": {},
     "output_type": "display_data"
    },
    {
     "data": {
      "application/vnd.jupyter.widget-view+json": {
       "model_id": "a3b7f1f957b54e698a4afb526bfea647"
      }
     },
     "metadata": {},
     "output_type": "display_data"
    },
    {
     "data": {
      "application/vnd.jupyter.widget-view+json": {
       "model_id": "0e1a4617ef4d43a9b42cbed6faca819d"
      }
     },
     "metadata": {},
     "output_type": "display_data"
    },
    {
     "data": {
      "application/vnd.jupyter.widget-view+json": {
       "model_id": "0a844bd602344f01993eb4eae3fa5e37"
      }
     },
     "metadata": {},
     "output_type": "display_data"
    },
    {
     "data": {
      "application/vnd.jupyter.widget-view+json": {
       "model_id": "060d531532c5464caa071bc235fae9e3"
      }
     },
     "metadata": {},
     "output_type": "display_data"
    },
    {
     "data": {
      "application/vnd.jupyter.widget-view+json": {
       "model_id": "f0d566ccade7439abd74cecce5274a3f"
      }
     },
     "metadata": {},
     "output_type": "display_data"
    },
    {
     "data": {
      "application/vnd.jupyter.widget-view+json": {
       "model_id": "11cf302918094a4e959fbb5109e2f867"
      }
     },
     "metadata": {},
     "output_type": "display_data"
    },
    {
     "data": {
      "application/vnd.jupyter.widget-view+json": {
       "model_id": "8e59e5ed2d8941d68402ab968604ad76"
      }
     },
     "metadata": {},
     "output_type": "display_data"
    },
    {
     "data": {
      "application/vnd.jupyter.widget-view+json": {
       "model_id": "19c18fbf9e9249e9b6934e5483adba59"
      }
     },
     "metadata": {},
     "output_type": "display_data"
    },
    {
     "data": {
      "application/vnd.jupyter.widget-view+json": {
       "model_id": "92fff55e433b48e780fd8619957d638f"
      }
     },
     "metadata": {},
     "output_type": "display_data"
    },
    {
     "data": {
      "application/vnd.jupyter.widget-view+json": {
       "model_id": "7af295e1e7ea486faea8124e3f29daeb"
      }
     },
     "metadata": {},
     "output_type": "display_data"
    },
    {
     "data": {
      "application/vnd.jupyter.widget-view+json": {
       "model_id": "a81823f7bbd24523962ba381b9164575"
      }
     },
     "metadata": {},
     "output_type": "display_data"
    },
    {
     "data": {
      "application/vnd.jupyter.widget-view+json": {
       "model_id": "afb814bc8a274695aa04780a16a7cfc0"
      }
     },
     "metadata": {},
     "output_type": "display_data"
    },
    {
     "data": {
      "application/vnd.jupyter.widget-view+json": {
       "model_id": "1996a2c5a67042f5a233bf342db769d5"
      }
     },
     "metadata": {},
     "output_type": "display_data"
    },
    {
     "data": {
      "application/vnd.jupyter.widget-view+json": {
       "model_id": "54abcedd8f2d445e96787017ff05988e"
      }
     },
     "metadata": {},
     "output_type": "display_data"
    },
    {
     "data": {
      "application/vnd.jupyter.widget-view+json": {
       "model_id": "5f06b619c1c1452bb3c536137b503e5c"
      }
     },
     "metadata": {},
     "output_type": "display_data"
    },
    {
     "data": {
      "application/vnd.jupyter.widget-view+json": {
       "model_id": "85d27c75873746eb83de5d52400e99fc"
      }
     },
     "metadata": {},
     "output_type": "display_data"
    },
    {
     "data": {
      "application/vnd.jupyter.widget-view+json": {
       "model_id": "87dd190826b449d2abe2076013dd4e89"
      }
     },
     "metadata": {},
     "output_type": "display_data"
    },
    {
     "data": {
      "application/vnd.jupyter.widget-view+json": {
       "model_id": "6e126acb855e4e14a71b1da9f45aed89"
      }
     },
     "metadata": {},
     "output_type": "display_data"
    },
    {
     "data": {
      "application/vnd.jupyter.widget-view+json": {
       "model_id": "2476bc3b2b744fb5a3debbd94507bf8e"
      }
     },
     "metadata": {},
     "output_type": "display_data"
    },
    {
     "data": {
      "application/vnd.jupyter.widget-view+json": {
       "model_id": "b797a757fcb9499fa889bce8226616fd"
      }
     },
     "metadata": {},
     "output_type": "display_data"
    },
    {
     "data": {
      "application/vnd.jupyter.widget-view+json": {
       "model_id": "4c6c0497c5d0478baee1e74893f9aa2c"
      }
     },
     "metadata": {},
     "output_type": "display_data"
    },
    {
     "data": {
      "application/vnd.jupyter.widget-view+json": {
       "model_id": "f33ef3a20151405cab7c6486f61d1fd0"
      }
     },
     "metadata": {},
     "output_type": "display_data"
    },
    {
     "data": {
      "application/vnd.jupyter.widget-view+json": {
       "model_id": "0fdb39c79f2f48f19115d5632eb26f70"
      }
     },
     "metadata": {},
     "output_type": "display_data"
    },
    {
     "data": {
      "application/vnd.jupyter.widget-view+json": {
       "model_id": "ac3ff789f17d40cfa58f94e147adb38f"
      }
     },
     "metadata": {},
     "output_type": "display_data"
    },
    {
     "data": {
      "application/vnd.jupyter.widget-view+json": {
       "model_id": "7afb39c0ee9e43158ce688786e883b62"
      }
     },
     "metadata": {},
     "output_type": "display_data"
    },
    {
     "data": {
      "application/vnd.jupyter.widget-view+json": {
       "model_id": "e19568f62ac74b288a2c7e0912f1ff5f"
      }
     },
     "metadata": {},
     "output_type": "display_data"
    },
    {
     "data": {
      "application/vnd.jupyter.widget-view+json": {
       "model_id": "30307808b9f042dd879514e92da2990b"
      }
     },
     "metadata": {},
     "output_type": "display_data"
    },
    {
     "data": {
      "application/vnd.jupyter.widget-view+json": {
       "model_id": "fd446d459d774852b54a2c216329732e"
      }
     },
     "metadata": {},
     "output_type": "display_data"
    },
    {
     "data": {
      "application/vnd.jupyter.widget-view+json": {
       "model_id": "4ab57338ef2f49dfbee3143958bff638"
      }
     },
     "metadata": {},
     "output_type": "display_data"
    },
    {
     "data": {
      "application/vnd.jupyter.widget-view+json": {
       "model_id": "4eec1dfe418e48e08d81e68f94a7cbc3"
      }
     },
     "metadata": {},
     "output_type": "display_data"
    },
    {
     "data": {
      "application/vnd.jupyter.widget-view+json": {
       "model_id": "1e026a2a3f1a4d2fb240fb87388eb526"
      }
     },
     "metadata": {},
     "output_type": "display_data"
    },
    {
     "data": {
      "application/vnd.jupyter.widget-view+json": {
       "model_id": "67189834f3fd40298d7002208bc1e255"
      }
     },
     "metadata": {},
     "output_type": "display_data"
    },
    {
     "data": {
      "application/vnd.jupyter.widget-view+json": {
       "model_id": "525b279039404bd99bc3b92599c7bfda"
      }
     },
     "metadata": {},
     "output_type": "display_data"
    },
    {
     "data": {
      "application/vnd.jupyter.widget-view+json": {
       "model_id": "8d3506454ca34eb39324f89312db908f"
      }
     },
     "metadata": {},
     "output_type": "display_data"
    },
    {
     "data": {
      "application/vnd.jupyter.widget-view+json": {
       "model_id": "0ebde68783cc434dac52c2db5869d554"
      }
     },
     "metadata": {},
     "output_type": "display_data"
    },
    {
     "data": {
      "application/vnd.jupyter.widget-view+json": {
       "model_id": "4198a35d9d4441cf88a2306f438696d5"
      }
     },
     "metadata": {},
     "output_type": "display_data"
    },
    {
     "data": {
      "application/vnd.jupyter.widget-view+json": {
       "model_id": "db8a7c42101b4787803549c90b14ed2e"
      }
     },
     "metadata": {},
     "output_type": "display_data"
    },
    {
     "data": {
      "application/vnd.jupyter.widget-view+json": {
       "model_id": "97cc10c44e0441c0854f87934e6d35f8"
      }
     },
     "metadata": {},
     "output_type": "display_data"
    },
    {
     "data": {
      "application/vnd.jupyter.widget-view+json": {
       "model_id": "20a725a8de4a48838bb64e8fd73f880a"
      }
     },
     "metadata": {},
     "output_type": "display_data"
    },
    {
     "data": {
      "application/vnd.jupyter.widget-view+json": {
       "model_id": "ff50021b2fae44178d3c5f7e6273597f"
      }
     },
     "metadata": {},
     "output_type": "display_data"
    },
    {
     "data": {
      "application/vnd.jupyter.widget-view+json": {
       "model_id": "6b282607f29e4a6a94ef0f0d12793ab5"
      }
     },
     "metadata": {},
     "output_type": "display_data"
    },
    {
     "data": {
      "application/vnd.jupyter.widget-view+json": {
       "model_id": "3bff4c9d066142649641a8ae46c19690"
      }
     },
     "metadata": {},
     "output_type": "display_data"
    },
    {
     "data": {
      "application/vnd.jupyter.widget-view+json": {
       "model_id": "ca3e68ffd8d44a63be91affa997a4ae1"
      }
     },
     "metadata": {},
     "output_type": "display_data"
    },
    {
     "data": {
      "application/vnd.jupyter.widget-view+json": {
       "model_id": "7180a3d9ce4049818a775215d35e9934"
      }
     },
     "metadata": {},
     "output_type": "display_data"
    },
    {
     "data": {
      "application/vnd.jupyter.widget-view+json": {
       "model_id": "b4ccdbcd958a444081efbd38d9f928a8"
      }
     },
     "metadata": {},
     "output_type": "display_data"
    },
    {
     "data": {
      "application/vnd.jupyter.widget-view+json": {
       "model_id": "803f7fab6d5d4a05b23ec7de2fafbf2c"
      }
     },
     "metadata": {},
     "output_type": "display_data"
    },
    {
     "data": {
      "application/vnd.jupyter.widget-view+json": {
       "model_id": "d296a861fb98432ba8b464e2f61e165f"
      }
     },
     "metadata": {},
     "output_type": "display_data"
    },
    {
     "data": {
      "application/vnd.jupyter.widget-view+json": {
       "model_id": "20a31b1a67fd4cdf913c7d4c3c8a8dcd"
      }
     },
     "metadata": {},
     "output_type": "display_data"
    },
    {
     "data": {
      "application/vnd.jupyter.widget-view+json": {
       "model_id": "d18abbc303ca4538a5240d8ab3df1355"
      }
     },
     "metadata": {},
     "output_type": "display_data"
    },
    {
     "data": {
      "application/vnd.jupyter.widget-view+json": {
       "model_id": "d0c3f194958e4451b2ea0e352eb67f6f"
      }
     },
     "metadata": {},
     "output_type": "display_data"
    },
    {
     "data": {
      "application/vnd.jupyter.widget-view+json": {
       "model_id": "c6d6493e522f4782989d2990237d4a35"
      }
     },
     "metadata": {},
     "output_type": "display_data"
    },
    {
     "data": {
      "application/vnd.jupyter.widget-view+json": {
       "model_id": "4c12c58516c74b619393c84f540ca52e"
      }
     },
     "metadata": {},
     "output_type": "display_data"
    },
    {
     "data": {
      "application/vnd.jupyter.widget-view+json": {
       "model_id": "ac5225657c9448ecbc148407983495f7"
      }
     },
     "metadata": {},
     "output_type": "display_data"
    },
    {
     "data": {
      "application/vnd.jupyter.widget-view+json": {
       "model_id": "4d9742f59d5348d48b93f27af92ca5f8"
      }
     },
     "metadata": {},
     "output_type": "display_data"
    },
    {
     "data": {
      "application/vnd.jupyter.widget-view+json": {
       "model_id": "0f38fd2066b340b0bcbb6e48aec8e741"
      }
     },
     "metadata": {},
     "output_type": "display_data"
    },
    {
     "data": {
      "application/vnd.jupyter.widget-view+json": {
       "model_id": "eabb7fee2d9545198f7442669de23763"
      }
     },
     "metadata": {},
     "output_type": "display_data"
    },
    {
     "data": {
      "application/vnd.jupyter.widget-view+json": {
       "model_id": "f9f1adf3a08048ebab2c93415ae6c780"
      }
     },
     "metadata": {},
     "output_type": "display_data"
    },
    {
     "data": {
      "application/vnd.jupyter.widget-view+json": {
       "model_id": "4ee34bcd1e7245569df76ef628275314"
      }
     },
     "metadata": {},
     "output_type": "display_data"
    },
    {
     "data": {
      "application/vnd.jupyter.widget-view+json": {
       "model_id": "b997dc0af2db491482d3a21666179222"
      }
     },
     "metadata": {},
     "output_type": "display_data"
    },
    {
     "data": {
      "application/vnd.jupyter.widget-view+json": {
       "model_id": "6290125f01da41cdb13e1c009e2f218b"
      }
     },
     "metadata": {},
     "output_type": "display_data"
    },
    {
     "data": {
      "application/vnd.jupyter.widget-view+json": {
       "model_id": "94f56e2ce04f437291db2a387e26a073"
      }
     },
     "metadata": {},
     "output_type": "display_data"
    },
    {
     "data": {
      "application/vnd.jupyter.widget-view+json": {
       "model_id": "6da07a2e1d9540329fd85c696c6102b4"
      }
     },
     "metadata": {},
     "output_type": "display_data"
    },
    {
     "data": {
      "application/vnd.jupyter.widget-view+json": {
       "model_id": "5235e1c6bd1a4c4d840fabf386192902"
      }
     },
     "metadata": {},
     "output_type": "display_data"
    },
    {
     "data": {
      "application/vnd.jupyter.widget-view+json": {
       "model_id": "09b659fad9394e4aac228afdca008c80"
      }
     },
     "metadata": {},
     "output_type": "display_data"
    },
    {
     "data": {
      "application/vnd.jupyter.widget-view+json": {
       "model_id": "6a492be2a1da49839b61512f46a4cd28"
      }
     },
     "metadata": {},
     "output_type": "display_data"
    },
    {
     "data": {
      "application/vnd.jupyter.widget-view+json": {
       "model_id": "fe7b76ed519442faa1ffc7ddca46c38e"
      }
     },
     "metadata": {},
     "output_type": "display_data"
    },
    {
     "data": {
      "application/vnd.jupyter.widget-view+json": {
       "model_id": "f984fba4f5ed4e30a61c6a340fc7d984"
      }
     },
     "metadata": {},
     "output_type": "display_data"
    },
    {
     "data": {
      "application/vnd.jupyter.widget-view+json": {
       "model_id": "383263ad9870486d98f5e588d2c27809"
      }
     },
     "metadata": {},
     "output_type": "display_data"
    },
    {
     "data": {
      "application/vnd.jupyter.widget-view+json": {
       "model_id": "c6890d3b8c4147e6a37c3b5746394562"
      }
     },
     "metadata": {},
     "output_type": "display_data"
    },
    {
     "data": {
      "application/vnd.jupyter.widget-view+json": {
       "model_id": "5e1803ada15c4d31adb51c473db9b763"
      }
     },
     "metadata": {},
     "output_type": "display_data"
    },
    {
     "data": {
      "application/vnd.jupyter.widget-view+json": {
       "model_id": "fa22c295459d48c9a7c405c63c9d9fda"
      }
     },
     "metadata": {},
     "output_type": "display_data"
    },
    {
     "data": {
      "application/vnd.jupyter.widget-view+json": {
       "model_id": "2d8c2345a1bf4dabb954498ea531e088"
      }
     },
     "metadata": {},
     "output_type": "display_data"
    },
    {
     "data": {
      "application/vnd.jupyter.widget-view+json": {
       "model_id": "818bcfc5e1444bc684e280ed7752cc7f"
      }
     },
     "metadata": {},
     "output_type": "display_data"
    },
    {
     "data": {
      "application/vnd.jupyter.widget-view+json": {
       "model_id": "38ebf7aa5bfb47e09af41aa8b35a6734"
      }
     },
     "metadata": {},
     "output_type": "display_data"
    },
    {
     "data": {
      "application/vnd.jupyter.widget-view+json": {
       "model_id": "ed9e0c481a5641fca248fc1c6fa83fc2"
      }
     },
     "metadata": {},
     "output_type": "display_data"
    },
    {
     "data": {
      "application/vnd.jupyter.widget-view+json": {
       "model_id": "f56700740e4e47b3acc7c49879462789"
      }
     },
     "metadata": {},
     "output_type": "display_data"
    },
    {
     "data": {
      "application/vnd.jupyter.widget-view+json": {
       "model_id": "f61e51e0ba834d82b975569acbc65f85"
      }
     },
     "metadata": {},
     "output_type": "display_data"
    },
    {
     "data": {
      "application/vnd.jupyter.widget-view+json": {
       "model_id": "451a35f82f92416fa04bb7a7ec7600cd"
      }
     },
     "metadata": {},
     "output_type": "display_data"
    },
    {
     "data": {
      "application/vnd.jupyter.widget-view+json": {
       "model_id": "08651deb84ea4f74983c9d27ebd9701f"
      }
     },
     "metadata": {},
     "output_type": "display_data"
    },
    {
     "data": {
      "application/vnd.jupyter.widget-view+json": {
       "model_id": "371eae222d934c7ea03402dae87002e1"
      }
     },
     "metadata": {},
     "output_type": "display_data"
    },
    {
     "data": {
      "application/vnd.jupyter.widget-view+json": {
       "model_id": "245f485cb8e64ada92f34d5aebe2050d"
      }
     },
     "metadata": {},
     "output_type": "display_data"
    },
    {
     "data": {
      "application/vnd.jupyter.widget-view+json": {
       "model_id": "afa741fe712c4b3e8c036c235f41b507"
      }
     },
     "metadata": {},
     "output_type": "display_data"
    },
    {
     "data": {
      "application/vnd.jupyter.widget-view+json": {
       "model_id": "70d1816801844a22b7281b83fcc7ad4f"
      }
     },
     "metadata": {},
     "output_type": "display_data"
    },
    {
     "data": {
      "application/vnd.jupyter.widget-view+json": {
       "model_id": "e474db469c004951becd051824c73fee"
      }
     },
     "metadata": {},
     "output_type": "display_data"
    },
    {
     "data": {
      "application/vnd.jupyter.widget-view+json": {
       "model_id": "149e0b62bc60495da070f41f2bc96e53"
      }
     },
     "metadata": {},
     "output_type": "display_data"
    },
    {
     "data": {
      "application/vnd.jupyter.widget-view+json": {
       "model_id": "07e683f88fbd447c872a039b442a9dbb"
      }
     },
     "metadata": {},
     "output_type": "display_data"
    },
    {
     "data": {
      "application/vnd.jupyter.widget-view+json": {
       "model_id": "b3b1c64bb2704dff8fd881487b3d3b6e"
      }
     },
     "metadata": {},
     "output_type": "display_data"
    },
    {
     "data": {
      "application/vnd.jupyter.widget-view+json": {
       "model_id": "377b0b25b15c42f1a20c442e562ad0db"
      }
     },
     "metadata": {},
     "output_type": "display_data"
    },
    {
     "data": {
      "application/vnd.jupyter.widget-view+json": {
       "model_id": "20d23cefc75f49588fd4774fa93fb518"
      }
     },
     "metadata": {},
     "output_type": "display_data"
    },
    {
     "data": {
      "application/vnd.jupyter.widget-view+json": {
       "model_id": "cd4c93f08cd349bfa404978005699238"
      }
     },
     "metadata": {},
     "output_type": "display_data"
    },
    {
     "data": {
      "application/vnd.jupyter.widget-view+json": {
       "model_id": "330ebc493c3b420b8323a44e689e8560"
      }
     },
     "metadata": {},
     "output_type": "display_data"
    },
    {
     "data": {
      "application/vnd.jupyter.widget-view+json": {
       "model_id": "ffb68077b98849cfa76fd97409f8f0fb"
      }
     },
     "metadata": {},
     "output_type": "display_data"
    },
    {
     "data": {
      "application/vnd.jupyter.widget-view+json": {
       "model_id": "c6801eb1c76245c89d16be535fcf78c4"
      }
     },
     "metadata": {},
     "output_type": "display_data"
    },
    {
     "data": {
      "application/vnd.jupyter.widget-view+json": {
       "model_id": "e8b4c954a2d54e55becbe38f2740bd2e"
      }
     },
     "metadata": {},
     "output_type": "display_data"
    },
    {
     "data": {
      "application/vnd.jupyter.widget-view+json": {
       "model_id": "fed4dd461b454a3280d71ca33039ddd3"
      }
     },
     "metadata": {},
     "output_type": "display_data"
    },
    {
     "data": {
      "application/vnd.jupyter.widget-view+json": {
       "model_id": "e7f92486745c4c9191d2b1b1ae7d3cbd"
      }
     },
     "metadata": {},
     "output_type": "display_data"
    },
    {
     "data": {
      "application/vnd.jupyter.widget-view+json": {
       "model_id": "40bbcdda081d4786a1e2811127170e03"
      }
     },
     "metadata": {},
     "output_type": "display_data"
    },
    {
     "data": {
      "application/vnd.jupyter.widget-view+json": {
       "model_id": "e9fdee9261d04456bf0044d02bf3f35b"
      }
     },
     "metadata": {},
     "output_type": "display_data"
    },
    {
     "data": {
      "application/vnd.jupyter.widget-view+json": {
       "model_id": "a59720ab4a80429081e61e33b19ebafd"
      }
     },
     "metadata": {},
     "output_type": "display_data"
    },
    {
     "data": {
      "application/vnd.jupyter.widget-view+json": {
       "model_id": "f98258de2e6d4e8ca0bbf5459ba8a2af"
      }
     },
     "metadata": {},
     "output_type": "display_data"
    },
    {
     "data": {
      "application/vnd.jupyter.widget-view+json": {
       "model_id": "d64717e23c554300bc8dcda91beffe87"
      }
     },
     "metadata": {},
     "output_type": "display_data"
    },
    {
     "data": {
      "application/vnd.jupyter.widget-view+json": {
       "model_id": "933985c85ad449baad32536deee18af4"
      }
     },
     "metadata": {},
     "output_type": "display_data"
    },
    {
     "data": {
      "application/vnd.jupyter.widget-view+json": {
       "model_id": "00b20016b1cc4e8fac4c137a90743858"
      }
     },
     "metadata": {},
     "output_type": "display_data"
    },
    {
     "data": {
      "application/vnd.jupyter.widget-view+json": {
       "model_id": "20138252f51542a7a1db72eb8a60feed"
      }
     },
     "metadata": {},
     "output_type": "display_data"
    },
    {
     "data": {
      "application/vnd.jupyter.widget-view+json": {
       "model_id": "96a41bd22d8f4f988ba142b1549945fc"
      }
     },
     "metadata": {},
     "output_type": "display_data"
    },
    {
     "data": {
      "application/vnd.jupyter.widget-view+json": {
       "model_id": "253cfdac740140ed99ef5d971d5c7a38"
      }
     },
     "metadata": {},
     "output_type": "display_data"
    },
    {
     "data": {
      "application/vnd.jupyter.widget-view+json": {
       "model_id": "b67a9f7c54d041dba9e724b78334a940"
      }
     },
     "metadata": {},
     "output_type": "display_data"
    },
    {
     "data": {
      "application/vnd.jupyter.widget-view+json": {
       "model_id": "f4d0e8244541437eaad09cdc471cb7f4"
      }
     },
     "metadata": {},
     "output_type": "display_data"
    },
    {
     "data": {
      "application/vnd.jupyter.widget-view+json": {
       "model_id": "cbfdb3d274fd43339a07b6fb98dc7593"
      }
     },
     "metadata": {},
     "output_type": "display_data"
    },
    {
     "data": {
      "application/vnd.jupyter.widget-view+json": {
       "model_id": "af9effa315a74f22b12e183b5baf9ec0"
      }
     },
     "metadata": {},
     "output_type": "display_data"
    },
    {
     "data": {
      "application/vnd.jupyter.widget-view+json": {
       "model_id": "0724cd1bc85e4d4dbe2a0d11196dc7b1"
      }
     },
     "metadata": {},
     "output_type": "display_data"
    },
    {
     "data": {
      "application/vnd.jupyter.widget-view+json": {
       "model_id": "0a34f63c88054a8d82a8c724664cb03e"
      }
     },
     "metadata": {},
     "output_type": "display_data"
    },
    {
     "data": {
      "application/vnd.jupyter.widget-view+json": {
       "model_id": "a8ec63af20c641d595398d194783d190"
      }
     },
     "metadata": {},
     "output_type": "display_data"
    },
    {
     "data": {
      "application/vnd.jupyter.widget-view+json": {
       "model_id": "195f7b7088854d85bcff184b28f23929"
      }
     },
     "metadata": {},
     "output_type": "display_data"
    },
    {
     "data": {
      "application/vnd.jupyter.widget-view+json": {
       "model_id": "cb229b1788294e589f971f452b85e947"
      }
     },
     "metadata": {},
     "output_type": "display_data"
    },
    {
     "data": {
      "application/vnd.jupyter.widget-view+json": {
       "model_id": "7d55d246f41246f5a7a8c2b3739a064c"
      }
     },
     "metadata": {},
     "output_type": "display_data"
    },
    {
     "data": {
      "application/vnd.jupyter.widget-view+json": {
       "model_id": "28196ebea91b4c6fa8002d96c8a1618c"
      }
     },
     "metadata": {},
     "output_type": "display_data"
    },
    {
     "data": {
      "application/vnd.jupyter.widget-view+json": {
       "model_id": "3a501aeb980a43c388b4d8fa52c0eb6b"
      }
     },
     "metadata": {},
     "output_type": "display_data"
    },
    {
     "data": {
      "application/vnd.jupyter.widget-view+json": {
       "model_id": "971fc5e31d2a4bb2b48fc1829df385b2"
      }
     },
     "metadata": {},
     "output_type": "display_data"
    },
    {
     "data": {
      "application/vnd.jupyter.widget-view+json": {
       "model_id": "f24eb4cc4eb540e490aeb54ac358d206"
      }
     },
     "metadata": {},
     "output_type": "display_data"
    },
    {
     "data": {
      "application/vnd.jupyter.widget-view+json": {
       "model_id": "9c67d18c6ef04757b041abf18edbc522"
      }
     },
     "metadata": {},
     "output_type": "display_data"
    },
    {
     "data": {
      "application/vnd.jupyter.widget-view+json": {
       "model_id": "b974de7518d44bc1acc19cb8c381753e"
      }
     },
     "metadata": {},
     "output_type": "display_data"
    },
    {
     "data": {
      "application/vnd.jupyter.widget-view+json": {
       "model_id": "e7b895ebb9644f9eb518b8e669935e08"
      }
     },
     "metadata": {},
     "output_type": "display_data"
    },
    {
     "data": {
      "application/vnd.jupyter.widget-view+json": {
       "model_id": "3b0bbbec16c14acdbf52e2949d00687b"
      }
     },
     "metadata": {},
     "output_type": "display_data"
    },
    {
     "data": {
      "application/vnd.jupyter.widget-view+json": {
       "model_id": "8f52f997a6ee4f7782afcffff1c743fa"
      }
     },
     "metadata": {},
     "output_type": "display_data"
    },
    {
     "data": {
      "application/vnd.jupyter.widget-view+json": {
       "model_id": "82895ca0c3204aa79a535c15f5225ed1"
      }
     },
     "metadata": {},
     "output_type": "display_data"
    },
    {
     "data": {
      "application/vnd.jupyter.widget-view+json": {
       "model_id": "4129331cbf154a01a1b3449cef666aa6"
      }
     },
     "metadata": {},
     "output_type": "display_data"
    },
    {
     "data": {
      "application/vnd.jupyter.widget-view+json": {
       "model_id": "6114c72f2f2b4fcaaac2a62df2bda3d9"
      }
     },
     "metadata": {},
     "output_type": "display_data"
    },
    {
     "data": {
      "application/vnd.jupyter.widget-view+json": {
       "model_id": "855bf11822384b22b110b2c27903dc03"
      }
     },
     "metadata": {},
     "output_type": "display_data"
    },
    {
     "data": {
      "application/vnd.jupyter.widget-view+json": {
       "model_id": "c3e9fa71a03c4a2dbc6da98fed38e6be"
      }
     },
     "metadata": {},
     "output_type": "display_data"
    },
    {
     "data": {
      "application/vnd.jupyter.widget-view+json": {
       "model_id": "ae2994b6d0da43c7a6a9e5df73f91078"
      }
     },
     "metadata": {},
     "output_type": "display_data"
    },
    {
     "data": {
      "application/vnd.jupyter.widget-view+json": {
       "model_id": "872e23b84710455285f6d0b449b36a61"
      }
     },
     "metadata": {},
     "output_type": "display_data"
    },
    {
     "data": {
      "application/vnd.jupyter.widget-view+json": {
       "model_id": "a5981c9cc1174845a32151df5ed8675b"
      }
     },
     "metadata": {},
     "output_type": "display_data"
    },
    {
     "data": {
      "application/vnd.jupyter.widget-view+json": {
       "model_id": "1e55b28fdce34dc4924c8c7622ac4569"
      }
     },
     "metadata": {},
     "output_type": "display_data"
    },
    {
     "data": {
      "application/vnd.jupyter.widget-view+json": {
       "model_id": "58570a370c14456ca8e19a315dbd120a"
      }
     },
     "metadata": {},
     "output_type": "display_data"
    },
    {
     "data": {
      "application/vnd.jupyter.widget-view+json": {
       "model_id": "cc30c2e26474454ea4bbfe3f3e97d6e6"
      }
     },
     "metadata": {},
     "output_type": "display_data"
    },
    {
     "data": {
      "application/vnd.jupyter.widget-view+json": {
       "model_id": "523a45dfd1724e2f967e45cf129e51c7"
      }
     },
     "metadata": {},
     "output_type": "display_data"
    },
    {
     "data": {
      "application/vnd.jupyter.widget-view+json": {
       "model_id": "a4d501d8df33469f99ba8332299b9523"
      }
     },
     "metadata": {},
     "output_type": "display_data"
    },
    {
     "data": {
      "application/vnd.jupyter.widget-view+json": {
       "model_id": "3dc2d0ff87c649fba54805873c747a93"
      }
     },
     "metadata": {},
     "output_type": "display_data"
    },
    {
     "data": {
      "application/vnd.jupyter.widget-view+json": {
       "model_id": "03de2ecec3a8495aa5e0380c6e339517"
      }
     },
     "metadata": {},
     "output_type": "display_data"
    },
    {
     "data": {
      "application/vnd.jupyter.widget-view+json": {
       "model_id": "9fd6cda4c0ab4ecdbd4df0a9e1d81342"
      }
     },
     "metadata": {},
     "output_type": "display_data"
    },
    {
     "data": {
      "application/vnd.jupyter.widget-view+json": {
       "model_id": "726eaeadf5cf45798c3be7f491e6d715"
      }
     },
     "metadata": {},
     "output_type": "display_data"
    },
    {
     "data": {
      "application/vnd.jupyter.widget-view+json": {
       "model_id": "07f2ca724e2c48e2ab988c46e65fb2a7"
      }
     },
     "metadata": {},
     "output_type": "display_data"
    },
    {
     "data": {
      "application/vnd.jupyter.widget-view+json": {
       "model_id": "cb81de1f30c6440a9a283aa949fddc21"
      }
     },
     "metadata": {},
     "output_type": "display_data"
    },
    {
     "data": {
      "application/vnd.jupyter.widget-view+json": {
       "model_id": "ce4d509bd1854fc0b9aacb16036c1093"
      }
     },
     "metadata": {},
     "output_type": "display_data"
    },
    {
     "data": {
      "application/vnd.jupyter.widget-view+json": {
       "model_id": "e22d453a10824aff8cf5f0d80ccf1d46"
      }
     },
     "metadata": {},
     "output_type": "display_data"
    },
    {
     "data": {
      "application/vnd.jupyter.widget-view+json": {
       "model_id": "7ed8a18ff9aa4b86abad91fc61467827"
      }
     },
     "metadata": {},
     "output_type": "display_data"
    },
    {
     "data": {
      "application/vnd.jupyter.widget-view+json": {
       "model_id": "9759e459683d428c8ec6ec63c2883065"
      }
     },
     "metadata": {},
     "output_type": "display_data"
    },
    {
     "data": {
      "application/vnd.jupyter.widget-view+json": {
       "model_id": "b78a6544cdf54417b7da24d37126f781"
      }
     },
     "metadata": {},
     "output_type": "display_data"
    },
    {
     "data": {
      "application/vnd.jupyter.widget-view+json": {
       "model_id": "0449177ed23243589a6a610698909a96"
      }
     },
     "metadata": {},
     "output_type": "display_data"
    },
    {
     "data": {
      "application/vnd.jupyter.widget-view+json": {
       "model_id": "9417530f6591475a8a049b785d6e0eba"
      }
     },
     "metadata": {},
     "output_type": "display_data"
    },
    {
     "data": {
      "application/vnd.jupyter.widget-view+json": {
       "model_id": "4593683cb5da444bb4e6ce026ce102e8"
      }
     },
     "metadata": {},
     "output_type": "display_data"
    },
    {
     "data": {
      "application/vnd.jupyter.widget-view+json": {
       "model_id": "1d3618fe069848449cf42469c3f00506"
      }
     },
     "metadata": {},
     "output_type": "display_data"
    },
    {
     "data": {
      "application/vnd.jupyter.widget-view+json": {
       "model_id": "584a5e1954a4482e8978c7134f4b1082"
      }
     },
     "metadata": {},
     "output_type": "display_data"
    },
    {
     "data": {
      "application/vnd.jupyter.widget-view+json": {
       "model_id": "47d66ecfc0024af8830e23519f67356e"
      }
     },
     "metadata": {},
     "output_type": "display_data"
    },
    {
     "data": {
      "application/vnd.jupyter.widget-view+json": {
       "model_id": "b7dd586685b24caca9769f93f210c4a5"
      }
     },
     "metadata": {},
     "output_type": "display_data"
    },
    {
     "data": {
      "application/vnd.jupyter.widget-view+json": {
       "model_id": "9523b035b32344fb92b2bd8fe9f1c5fa"
      }
     },
     "metadata": {},
     "output_type": "display_data"
    },
    {
     "data": {
      "application/vnd.jupyter.widget-view+json": {
       "model_id": "52b44880f5c846c2aa9ae0626a1ea5e4"
      }
     },
     "metadata": {},
     "output_type": "display_data"
    },
    {
     "data": {
      "application/vnd.jupyter.widget-view+json": {
       "model_id": "5bb191bfec2a4e3b964e00c8a523048c"
      }
     },
     "metadata": {},
     "output_type": "display_data"
    },
    {
     "data": {
      "application/vnd.jupyter.widget-view+json": {
       "model_id": "45149762cf664e69809710553a848e42"
      }
     },
     "metadata": {},
     "output_type": "display_data"
    },
    {
     "data": {
      "application/vnd.jupyter.widget-view+json": {
       "model_id": "36092ef2af994cd2ba5ecbc4234a997b"
      }
     },
     "metadata": {},
     "output_type": "display_data"
    },
    {
     "data": {
      "application/vnd.jupyter.widget-view+json": {
       "model_id": "132baa10c83446e9a0ed42c54ccd6395"
      }
     },
     "metadata": {},
     "output_type": "display_data"
    },
    {
     "data": {
      "application/vnd.jupyter.widget-view+json": {
       "model_id": "60e4f5fbf500459cb9b5478407db6dff"
      }
     },
     "metadata": {},
     "output_type": "display_data"
    },
    {
     "data": {
      "application/vnd.jupyter.widget-view+json": {
       "model_id": "2c1508d3e13645f7804f39fe1222fd9c"
      }
     },
     "metadata": {},
     "output_type": "display_data"
    },
    {
     "data": {
      "application/vnd.jupyter.widget-view+json": {
       "model_id": "fe7d0e3abeaf4c2aaacb4c57a2a1a1d5"
      }
     },
     "metadata": {},
     "output_type": "display_data"
    },
    {
     "data": {
      "application/vnd.jupyter.widget-view+json": {
       "model_id": "780eb6c4813e4f17b3efbcceb7ba856e"
      }
     },
     "metadata": {},
     "output_type": "display_data"
    },
    {
     "data": {
      "application/vnd.jupyter.widget-view+json": {
       "model_id": "1ad3689b74a647fd9f6617ea89b82675"
      }
     },
     "metadata": {},
     "output_type": "display_data"
    },
    {
     "data": {
      "application/vnd.jupyter.widget-view+json": {
       "model_id": "f036d670b83d414e88cdb0cf3de954f7"
      }
     },
     "metadata": {},
     "output_type": "display_data"
    },
    {
     "data": {
      "application/vnd.jupyter.widget-view+json": {
       "model_id": "aadcf1173c4b4dbb901e41abfa0e7e55"
      }
     },
     "metadata": {},
     "output_type": "display_data"
    },
    {
     "data": {
      "application/vnd.jupyter.widget-view+json": {
       "model_id": "f7f33b4660ac4612a03ebb6997c381af"
      }
     },
     "metadata": {},
     "output_type": "display_data"
    },
    {
     "data": {
      "application/vnd.jupyter.widget-view+json": {
       "model_id": "d67d456767544382b1479edf1b4d474f"
      }
     },
     "metadata": {},
     "output_type": "display_data"
    },
    {
     "data": {
      "application/vnd.jupyter.widget-view+json": {
       "model_id": "6982529b8cc447a3869bceed60bf5342"
      }
     },
     "metadata": {},
     "output_type": "display_data"
    },
    {
     "data": {
      "application/vnd.jupyter.widget-view+json": {
       "model_id": "bc49ab9e65e245f09c06c186c607df5e"
      }
     },
     "metadata": {},
     "output_type": "display_data"
    },
    {
     "data": {
      "application/vnd.jupyter.widget-view+json": {
       "model_id": "62e077b51b5b4c95969f33a06f2d6b38"
      }
     },
     "metadata": {},
     "output_type": "display_data"
    },
    {
     "data": {
      "application/vnd.jupyter.widget-view+json": {
       "model_id": "1e224118463b46a9a79f77ce3808a8d8"
      }
     },
     "metadata": {},
     "output_type": "display_data"
    },
    {
     "data": {
      "application/vnd.jupyter.widget-view+json": {
       "model_id": "4a71d5df6a1a42c7a41cf48368f4d37f"
      }
     },
     "metadata": {},
     "output_type": "display_data"
    },
    {
     "data": {
      "application/vnd.jupyter.widget-view+json": {
       "model_id": "2e3d5a59443f47fd860caa07604458c5"
      }
     },
     "metadata": {},
     "output_type": "display_data"
    },
    {
     "data": {
      "application/vnd.jupyter.widget-view+json": {
       "model_id": "00ce662427d543ac99ab84fbc9cea256"
      }
     },
     "metadata": {},
     "output_type": "display_data"
    },
    {
     "data": {
      "application/vnd.jupyter.widget-view+json": {
       "model_id": "de4fb9883cbd45e08bbc99958b642a31"
      }
     },
     "metadata": {},
     "output_type": "display_data"
    },
    {
     "data": {
      "application/vnd.jupyter.widget-view+json": {
       "model_id": "27d2df3a879d4bfb8db556cc3837f423"
      }
     },
     "metadata": {},
     "output_type": "display_data"
    },
    {
     "data": {
      "application/vnd.jupyter.widget-view+json": {
       "model_id": "f9f4fa8cee754745ab3867528b8652c4"
      }
     },
     "metadata": {},
     "output_type": "display_data"
    },
    {
     "data": {
      "application/vnd.jupyter.widget-view+json": {
       "model_id": "bb4616f9dfbe461d92237bd4d62cda5a"
      }
     },
     "metadata": {},
     "output_type": "display_data"
    },
    {
     "data": {
      "application/vnd.jupyter.widget-view+json": {
       "model_id": "7bd6513f833d4de2b77f509475a37409"
      }
     },
     "metadata": {},
     "output_type": "display_data"
    },
    {
     "data": {
      "application/vnd.jupyter.widget-view+json": {
       "model_id": "d3815f9d68a14d34a4f4c624fc225206"
      }
     },
     "metadata": {},
     "output_type": "display_data"
    },
    {
     "data": {
      "application/vnd.jupyter.widget-view+json": {
       "model_id": "1c4023d7ed9d46c9b21a0d66bf7bf94f"
      }
     },
     "metadata": {},
     "output_type": "display_data"
    },
    {
     "data": {
      "application/vnd.jupyter.widget-view+json": {
       "model_id": "338c8800676b46de90c5b770e463111d"
      }
     },
     "metadata": {},
     "output_type": "display_data"
    },
    {
     "data": {
      "application/vnd.jupyter.widget-view+json": {
       "model_id": "8eae375dd92d4aa59bd66e867c606dc7"
      }
     },
     "metadata": {},
     "output_type": "display_data"
    },
    {
     "data": {
      "application/vnd.jupyter.widget-view+json": {
       "model_id": "e48097027b8b40df90a7b59e8ceaf1c5"
      }
     },
     "metadata": {},
     "output_type": "display_data"
    },
    {
     "data": {
      "application/vnd.jupyter.widget-view+json": {
       "model_id": "255d6469ef89422dbfc0e1b63a27fcc8"
      }
     },
     "metadata": {},
     "output_type": "display_data"
    },
    {
     "data": {
      "application/vnd.jupyter.widget-view+json": {
       "model_id": "03d31d35878c4db29b187c6d04d0cf86"
      }
     },
     "metadata": {},
     "output_type": "display_data"
    },
    {
     "data": {
      "application/vnd.jupyter.widget-view+json": {
       "model_id": "f8bc42e187024c3788a4022660e5fa91"
      }
     },
     "metadata": {},
     "output_type": "display_data"
    },
    {
     "data": {
      "application/vnd.jupyter.widget-view+json": {
       "model_id": "daba5717aacb4b2ba15d97acb54d3089"
      }
     },
     "metadata": {},
     "output_type": "display_data"
    },
    {
     "data": {
      "application/vnd.jupyter.widget-view+json": {
       "model_id": "a525120f142640408af788965afe7afb"
      }
     },
     "metadata": {},
     "output_type": "display_data"
    },
    {
     "data": {
      "application/vnd.jupyter.widget-view+json": {
       "model_id": "39664a65bebf4157ac0d1d882df13519"
      }
     },
     "metadata": {},
     "output_type": "display_data"
    },
    {
     "data": {
      "application/vnd.jupyter.widget-view+json": {
       "model_id": "b0a07f94633847e68a57d0e89aa9581a"
      }
     },
     "metadata": {},
     "output_type": "display_data"
    },
    {
     "data": {
      "application/vnd.jupyter.widget-view+json": {
       "model_id": "4a1b1492b36c4729b82ad6a0b42b3fc0"
      }
     },
     "metadata": {},
     "output_type": "display_data"
    },
    {
     "data": {
      "application/vnd.jupyter.widget-view+json": {
       "model_id": "f9a226341b754b8eab471b9196f86dc1"
      }
     },
     "metadata": {},
     "output_type": "display_data"
    },
    {
     "data": {
      "application/vnd.jupyter.widget-view+json": {
       "model_id": "722167f08b844c988e680b7ced483f30"
      }
     },
     "metadata": {},
     "output_type": "display_data"
    },
    {
     "data": {
      "application/vnd.jupyter.widget-view+json": {
       "model_id": "426c5a1bb6244cb9aef34dcf998727f6"
      }
     },
     "metadata": {},
     "output_type": "display_data"
    },
    {
     "data": {
      "application/vnd.jupyter.widget-view+json": {
       "model_id": "a37c56d639c943a3b4ca80ee6502143f"
      }
     },
     "metadata": {},
     "output_type": "display_data"
    },
    {
     "data": {
      "application/vnd.jupyter.widget-view+json": {
       "model_id": "c94bb9bc048f4f97acf51e436f4a2e66"
      }
     },
     "metadata": {},
     "output_type": "display_data"
    },
    {
     "data": {
      "application/vnd.jupyter.widget-view+json": {
       "model_id": "874f0293f59b44dd8fbced281e9d041c"
      }
     },
     "metadata": {},
     "output_type": "display_data"
    },
    {
     "data": {
      "application/vnd.jupyter.widget-view+json": {
       "model_id": "c200dabf3147447eb9506ff40c6a2980"
      }
     },
     "metadata": {},
     "output_type": "display_data"
    },
    {
     "data": {
      "application/vnd.jupyter.widget-view+json": {
       "model_id": "6508d3d5aec8472295c0950b46a544a7"
      }
     },
     "metadata": {},
     "output_type": "display_data"
    },
    {
     "data": {
      "application/vnd.jupyter.widget-view+json": {
       "model_id": "a6e057276d0f494cb2131ac70d892d5d"
      }
     },
     "metadata": {},
     "output_type": "display_data"
    },
    {
     "data": {
      "application/vnd.jupyter.widget-view+json": {
       "model_id": "ed29919e7975422fa32c6f8a0bd6a757"
      }
     },
     "metadata": {},
     "output_type": "display_data"
    },
    {
     "data": {
      "application/vnd.jupyter.widget-view+json": {
       "model_id": "f2bb974579fb4fee9adafa2dbeccdb1d"
      }
     },
     "metadata": {},
     "output_type": "display_data"
    },
    {
     "data": {
      "application/vnd.jupyter.widget-view+json": {
       "model_id": "7091ff06272548019730293b2513b044"
      }
     },
     "metadata": {},
     "output_type": "display_data"
    },
    {
     "data": {
      "application/vnd.jupyter.widget-view+json": {
       "model_id": "88df663655764b7a9e6e6398b52c3a65"
      }
     },
     "metadata": {},
     "output_type": "display_data"
    },
    {
     "data": {
      "application/vnd.jupyter.widget-view+json": {
       "model_id": "173edbe37c7f4f08ae6599f13d4721b0"
      }
     },
     "metadata": {},
     "output_type": "display_data"
    },
    {
     "data": {
      "application/vnd.jupyter.widget-view+json": {
       "model_id": "330d64928d5145008c9bd3c2e0f00fdc"
      }
     },
     "metadata": {},
     "output_type": "display_data"
    },
    {
     "data": {
      "application/vnd.jupyter.widget-view+json": {
       "model_id": "4aff9a12640649c1911a39305be9a83d"
      }
     },
     "metadata": {},
     "output_type": "display_data"
    },
    {
     "data": {
      "application/vnd.jupyter.widget-view+json": {
       "model_id": "0d1f823702404197bcfc27d1a54615ae"
      }
     },
     "metadata": {},
     "output_type": "display_data"
    },
    {
     "data": {
      "application/vnd.jupyter.widget-view+json": {
       "model_id": "cf9e1d4a6f3347be92210f2429a85c44"
      }
     },
     "metadata": {},
     "output_type": "display_data"
    },
    {
     "data": {
      "application/vnd.jupyter.widget-view+json": {
       "model_id": "4e29f30fc73045f88d68b199c45a0a8f"
      }
     },
     "metadata": {},
     "output_type": "display_data"
    },
    {
     "data": {
      "application/vnd.jupyter.widget-view+json": {
       "model_id": "105a3bced86f43a5b1d2de606c885937"
      }
     },
     "metadata": {},
     "output_type": "display_data"
    },
    {
     "data": {
      "application/vnd.jupyter.widget-view+json": {
       "model_id": "04125be9a0e14816889413c7f630e360"
      }
     },
     "metadata": {},
     "output_type": "display_data"
    },
    {
     "data": {
      "application/vnd.jupyter.widget-view+json": {
       "model_id": "b40e19d125ee43609a46be3426d940ed"
      }
     },
     "metadata": {},
     "output_type": "display_data"
    },
    {
     "data": {
      "application/vnd.jupyter.widget-view+json": {
       "model_id": "f8c8dc3b69494575a5cc831628dce946"
      }
     },
     "metadata": {},
     "output_type": "display_data"
    },
    {
     "data": {
      "application/vnd.jupyter.widget-view+json": {
       "model_id": "6ceae16a775247d1bda6d731d39be335"
      }
     },
     "metadata": {},
     "output_type": "display_data"
    },
    {
     "data": {
      "application/vnd.jupyter.widget-view+json": {
       "model_id": "7d1c7b3ee4f74edf8b1f8c00a969da21"
      }
     },
     "metadata": {},
     "output_type": "display_data"
    },
    {
     "data": {
      "application/vnd.jupyter.widget-view+json": {
       "model_id": "3994700e995e4511b3e7ea8f3c9c3f3f"
      }
     },
     "metadata": {},
     "output_type": "display_data"
    },
    {
     "data": {
      "application/vnd.jupyter.widget-view+json": {
       "model_id": "dd686755de3a4082ad2c4574d2750151"
      }
     },
     "metadata": {},
     "output_type": "display_data"
    },
    {
     "data": {
      "application/vnd.jupyter.widget-view+json": {
       "model_id": "2dddef42bfc3470ab195862ca0069cef"
      }
     },
     "metadata": {},
     "output_type": "display_data"
    },
    {
     "data": {
      "application/vnd.jupyter.widget-view+json": {
       "model_id": "38678d31fb784d2fb2aeea51d5c65095"
      }
     },
     "metadata": {},
     "output_type": "display_data"
    },
    {
     "data": {
      "application/vnd.jupyter.widget-view+json": {
       "model_id": "b7c7e052a3e646f7bf51dd819a5fafcf"
      }
     },
     "metadata": {},
     "output_type": "display_data"
    },
    {
     "data": {
      "application/vnd.jupyter.widget-view+json": {
       "model_id": "b2e05a4c695746099928d1296b9d4bc4"
      }
     },
     "metadata": {},
     "output_type": "display_data"
    },
    {
     "data": {
      "application/vnd.jupyter.widget-view+json": {
       "model_id": "be6d3a854a7340b4957bdda1050b1bbb"
      }
     },
     "metadata": {},
     "output_type": "display_data"
    },
    {
     "data": {
      "application/vnd.jupyter.widget-view+json": {
       "model_id": "32e40ceb6f20416881985ecf0a8779bf"
      }
     },
     "metadata": {},
     "output_type": "display_data"
    },
    {
     "data": {
      "application/vnd.jupyter.widget-view+json": {
       "model_id": "25c51d23dba84317b990765750a795fe"
      }
     },
     "metadata": {},
     "output_type": "display_data"
    },
    {
     "data": {
      "application/vnd.jupyter.widget-view+json": {
       "model_id": "b672b524232345d9bb8d966a312175f4"
      }
     },
     "metadata": {},
     "output_type": "display_data"
    },
    {
     "data": {
      "application/vnd.jupyter.widget-view+json": {
       "model_id": "db6e2f9dc6774a7192f3356b0e9d0b51"
      }
     },
     "metadata": {},
     "output_type": "display_data"
    },
    {
     "data": {
      "application/vnd.jupyter.widget-view+json": {
       "model_id": "1a953069a23e4c3bac1f821683204e6f"
      }
     },
     "metadata": {},
     "output_type": "display_data"
    },
    {
     "data": {
      "application/vnd.jupyter.widget-view+json": {
       "model_id": "a92b7d49ec74436bbd021195a5129702"
      }
     },
     "metadata": {},
     "output_type": "display_data"
    },
    {
     "data": {
      "application/vnd.jupyter.widget-view+json": {
       "model_id": "1592da3b412140199898e5b471aca5c3"
      }
     },
     "metadata": {},
     "output_type": "display_data"
    },
    {
     "data": {
      "application/vnd.jupyter.widget-view+json": {
       "model_id": "5d64b5a28c2a4607bfae764816ade3b2"
      }
     },
     "metadata": {},
     "output_type": "display_data"
    },
    {
     "data": {
      "application/vnd.jupyter.widget-view+json": {
       "model_id": "426afa5f081d46dfbf2d8caefbfb863e"
      }
     },
     "metadata": {},
     "output_type": "display_data"
    },
    {
     "data": {
      "application/vnd.jupyter.widget-view+json": {
       "model_id": "98a9fdd6de8a464e949f5a82485d444c"
      }
     },
     "metadata": {},
     "output_type": "display_data"
    },
    {
     "data": {
      "application/vnd.jupyter.widget-view+json": {
       "model_id": "0c5eb86b519045f6a87f85b42252e335"
      }
     },
     "metadata": {},
     "output_type": "display_data"
    },
    {
     "data": {
      "application/vnd.jupyter.widget-view+json": {
       "model_id": "10705c96e1274ac387dc4077ff752817"
      }
     },
     "metadata": {},
     "output_type": "display_data"
    },
    {
     "data": {
      "application/vnd.jupyter.widget-view+json": {
       "model_id": "7ae030a76af84049bfe40871064678c1"
      }
     },
     "metadata": {},
     "output_type": "display_data"
    },
    {
     "data": {
      "application/vnd.jupyter.widget-view+json": {
       "model_id": "38d276786b284d5a892f997b709752ad"
      }
     },
     "metadata": {},
     "output_type": "display_data"
    },
    {
     "data": {
      "application/vnd.jupyter.widget-view+json": {
       "model_id": "8585e28af30e460886a892497ed6f50d"
      }
     },
     "metadata": {},
     "output_type": "display_data"
    },
    {
     "data": {
      "application/vnd.jupyter.widget-view+json": {
       "model_id": "f64efc3f1ed446748afa757de9cafcc5"
      }
     },
     "metadata": {},
     "output_type": "display_data"
    },
    {
     "data": {
      "application/vnd.jupyter.widget-view+json": {
       "model_id": "901c240f29bd493fb35a5d33605ee51a"
      }
     },
     "metadata": {},
     "output_type": "display_data"
    },
    {
     "data": {
      "application/vnd.jupyter.widget-view+json": {
       "model_id": "5c8fdb2a09a14afdae84a31793015027"
      }
     },
     "metadata": {},
     "output_type": "display_data"
    },
    {
     "data": {
      "application/vnd.jupyter.widget-view+json": {
       "model_id": "ac1c7762f3a34744bd29dc63724e5ee1"
      }
     },
     "metadata": {},
     "output_type": "display_data"
    },
    {
     "data": {
      "application/vnd.jupyter.widget-view+json": {
       "model_id": "3792fb9d767045ec96b0958f173af1f2"
      }
     },
     "metadata": {},
     "output_type": "display_data"
    },
    {
     "data": {
      "application/vnd.jupyter.widget-view+json": {
       "model_id": "2039bc93385e4ba480323ed013f6d4d8"
      }
     },
     "metadata": {},
     "output_type": "display_data"
    },
    {
     "data": {
      "application/vnd.jupyter.widget-view+json": {
       "model_id": "009ddb2c891641eca6830ef15496e700"
      }
     },
     "metadata": {},
     "output_type": "display_data"
    },
    {
     "data": {
      "application/vnd.jupyter.widget-view+json": {
       "model_id": "99e0c7d03c5b45628150872ff73641d5"
      }
     },
     "metadata": {},
     "output_type": "display_data"
    },
    {
     "data": {
      "application/vnd.jupyter.widget-view+json": {
       "model_id": "b93346cebda94f04bf292c2c1daa282e"
      }
     },
     "metadata": {},
     "output_type": "display_data"
    },
    {
     "data": {
      "application/vnd.jupyter.widget-view+json": {
       "model_id": "38d456096b2b45f29339bc40a7ae6412"
      }
     },
     "metadata": {},
     "output_type": "display_data"
    },
    {
     "data": {
      "application/vnd.jupyter.widget-view+json": {
       "model_id": "c68d820837784b198e1394e25a361ac0"
      }
     },
     "metadata": {},
     "output_type": "display_data"
    },
    {
     "data": {
      "application/vnd.jupyter.widget-view+json": {
       "model_id": "bb2f46ebd8b245858c318fa5b5e0e137"
      }
     },
     "metadata": {},
     "output_type": "display_data"
    },
    {
     "data": {
      "application/vnd.jupyter.widget-view+json": {
       "model_id": "a97e21c7f66046459c7062e1e7293fdd"
      }
     },
     "metadata": {},
     "output_type": "display_data"
    },
    {
     "data": {
      "application/vnd.jupyter.widget-view+json": {
       "model_id": "934152546c1f432cb32ca42dec4c5f4f"
      }
     },
     "metadata": {},
     "output_type": "display_data"
    },
    {
     "data": {
      "application/vnd.jupyter.widget-view+json": {
       "model_id": "6459523402854a83b065615acd709bcc"
      }
     },
     "metadata": {},
     "output_type": "display_data"
    },
    {
     "data": {
      "application/vnd.jupyter.widget-view+json": {
       "model_id": "bf43f5f8153c4d2e9d5e0d33cea835ae"
      }
     },
     "metadata": {},
     "output_type": "display_data"
    },
    {
     "data": {
      "application/vnd.jupyter.widget-view+json": {
       "model_id": "bd713f24f72a4b929ad32bc620db4e47"
      }
     },
     "metadata": {},
     "output_type": "display_data"
    },
    {
     "data": {
      "application/vnd.jupyter.widget-view+json": {
       "model_id": "96561fe16a1e414cb8f0e709580708dd"
      }
     },
     "metadata": {},
     "output_type": "display_data"
    },
    {
     "data": {
      "application/vnd.jupyter.widget-view+json": {
       "model_id": "aa5a149d916948d18ade7cf9ff31000f"
      }
     },
     "metadata": {},
     "output_type": "display_data"
    },
    {
     "data": {
      "application/vnd.jupyter.widget-view+json": {
       "model_id": "776c31ba06084edf85a0c00fc353748d"
      }
     },
     "metadata": {},
     "output_type": "display_data"
    },
    {
     "data": {
      "application/vnd.jupyter.widget-view+json": {
       "model_id": "e973891bc3904b648d2ab374ea03f1c7"
      }
     },
     "metadata": {},
     "output_type": "display_data"
    },
    {
     "data": {
      "application/vnd.jupyter.widget-view+json": {
       "model_id": "46252f94da8f48db9f9db8ee6c2ce61d"
      }
     },
     "metadata": {},
     "output_type": "display_data"
    },
    {
     "data": {
      "application/vnd.jupyter.widget-view+json": {
       "model_id": "dcd8b06bea1e46948f060b2e8042aa1b"
      }
     },
     "metadata": {},
     "output_type": "display_data"
    },
    {
     "data": {
      "application/vnd.jupyter.widget-view+json": {
       "model_id": "7ab4e5093a9c45f4b987ff5e609368a1"
      }
     },
     "metadata": {},
     "output_type": "display_data"
    },
    {
     "data": {
      "application/vnd.jupyter.widget-view+json": {
       "model_id": "22adc9bcd06d415a865a75d6004c3e11"
      }
     },
     "metadata": {},
     "output_type": "display_data"
    },
    {
     "data": {
      "application/vnd.jupyter.widget-view+json": {
       "model_id": "d9021c06f3b745eaad55fcc891e842af"
      }
     },
     "metadata": {},
     "output_type": "display_data"
    },
    {
     "data": {
      "application/vnd.jupyter.widget-view+json": {
       "model_id": "8d0d0cb7b3b5467e8795347b82aa9949"
      }
     },
     "metadata": {},
     "output_type": "display_data"
    },
    {
     "data": {
      "application/vnd.jupyter.widget-view+json": {
       "model_id": "ff38f17243ec41a2ae08a7ba17783f1c"
      }
     },
     "metadata": {},
     "output_type": "display_data"
    },
    {
     "data": {
      "application/vnd.jupyter.widget-view+json": {
       "model_id": "14ef750e8c2e4979852981735df8b20f"
      }
     },
     "metadata": {},
     "output_type": "display_data"
    },
    {
     "data": {
      "application/vnd.jupyter.widget-view+json": {
       "model_id": "6c8caaf913c042d49580ba7c09ed4d93"
      }
     },
     "metadata": {},
     "output_type": "display_data"
    },
    {
     "data": {
      "application/vnd.jupyter.widget-view+json": {
       "model_id": "58e7a76de39643caaa5fff6c5b63a2bb"
      }
     },
     "metadata": {},
     "output_type": "display_data"
    },
    {
     "data": {
      "application/vnd.jupyter.widget-view+json": {
       "model_id": "29800ea4477d4512a26d817be65899db"
      }
     },
     "metadata": {},
     "output_type": "display_data"
    },
    {
     "data": {
      "application/vnd.jupyter.widget-view+json": {
       "model_id": "39b9daee9b144947ad1332c5f09ae081"
      }
     },
     "metadata": {},
     "output_type": "display_data"
    },
    {
     "data": {
      "application/vnd.jupyter.widget-view+json": {
       "model_id": "67a69982159b4f519d2031b51b327839"
      }
     },
     "metadata": {},
     "output_type": "display_data"
    },
    {
     "name": "stdout",
     "output_type": "stream",
     "text": [
      "\n",
      "CPU times: user 4min 33s, sys: 1min 18s, total: 5min 51s\n",
      "Wall time: 6min 35s\n"
     ]
    }
   ],
   "source": [
    "%%time\n",
    "hist = vae.fit(np.array(Exprframe_train),\n",
    "               shuffle=True,\n",
    "               epochs=epochs,\n",
    "               verbose=0,\n",
    "               batch_size=batch_size,\n",
    "               validation_data=(np.array(Exprframe_test), None),\n",
    "               callbacks=[WarmUpCallback(beta, kappa),\n",
    "                          TQDMNotebookCallback(leave_inner=True, leave_outer=True)])"
   ]
  },
  {
   "cell_type": "code",
   "execution_count": 26,
   "metadata": {},
   "outputs": [
    {
     "data": {
      "text/plain": [
       "loss        1104.556641\n",
       "val_loss    1211.676270\n",
       "Name: 399, dtype: float64"
      ]
     },
     "execution_count": 26,
     "metadata": {},
     "output_type": "execute_result"
    }
   ],
   "source": [
    "#hist.history\n",
    "z5000_df = pd.DataFrame(hist.history)\n",
    "z5000_df.loc[399]"
   ]
  },
  {
   "cell_type": "code",
   "execution_count": 27,
   "metadata": {},
   "outputs": [
    {
     "data": {
      "image/png": "[encoded data removed]",
      "text/plain": [
       "<matplotlib.figure.Figure at 0x7f03e05273c8>"
      ]
     },
     "metadata": {},
     "output_type": "display_data"
    }
   ],
   "source": [
    "# Visualize training performance\n",
    "history_df = pd.DataFrame(hist.history)\n",
    "history_df = history_df.iloc[60:399]\n",
    "\n",
    "hist_plot_file = \"temp.pdf\"#\"(Lr_0.002)(NN6K_z100_a1.0_6L_0.1t)obj_func_per_dp(4cancers).pdf\"#\"temp.pdf\"#\n",
    "ax = history_df.plot()\n",
    "\n",
    "ratio = 0.95\n",
    "xleft, xright = ax.get_xlim()\n",
    "ybottom, ytop = ax.get_ylim()\n",
    "# the abs method is used to make sure that all numbers are positive\n",
    "# because x and y axis of an axes maybe inversed.\n",
    "ax.set_aspect(abs((xright-xleft)/(ybottom-ytop))*ratio)\n",
    "\n",
    "ax.set_xlabel('Epochs')\n",
    "ax.set_ylabel('objective function (include both reconstruct_loss, kl_loss)')\n",
    "ax.set_title('')\n",
    "fig = ax.get_figure()\n",
    "#fig.savefig(hist_plot_file)"
   ]
  },
  {
   "cell_type": "markdown",
   "metadata": {},
   "source": [
    "# Extract Encoder model"
   ]
  },
  {
   "cell_type": "code",
   "execution_count": 28,
   "metadata": {},
   "outputs": [
    {
     "name": "stdout",
     "output_type": "stream",
     "text": [
      "__________________________________________________________________________________________________\n",
      "Layer (type)                    Output Shape         Param #     Connected to                     \n",
      "==================================================================================================\n",
      "input_1 (InputLayer)            (None, 13854)        0                                            \n",
      "__________________________________________________________________________________________________\n",
      "dense_1 (Dense)                 (None, 6000)         83130000    input_1[0][0]                    \n",
      "__________________________________________________________________________________________________\n",
      "batch_normalization_1 (BatchNor (None, 6000)         24000       dense_1[0][0]                    \n",
      "__________________________________________________________________________________________________\n",
      "activation_1 (Activation)       (None, 6000)         0           batch_normalization_1[0][0]      \n",
      "__________________________________________________________________________________________________\n",
      "dense_2 (Dense)                 (None, 3000)         18003000    activation_1[0][0]               \n",
      "__________________________________________________________________________________________________\n",
      "batch_normalization_2 (BatchNor (None, 3000)         12000       dense_2[0][0]                    \n",
      "__________________________________________________________________________________________________\n",
      "activation_2 (Activation)       (None, 3000)         0           batch_normalization_2[0][0]      \n",
      "__________________________________________________________________________________________________\n",
      "dense_3 (Dense)                 (None, 1000)         3001000     activation_2[0][0]               \n",
      "__________________________________________________________________________________________________\n",
      "batch_normalization_3 (BatchNor (None, 1000)         4000        dense_3[0][0]                    \n",
      "__________________________________________________________________________________________________\n",
      "activation_3 (Activation)       (None, 1000)         0           batch_normalization_3[0][0]      \n",
      "__________________________________________________________________________________________________\n",
      "dense_4 (Dense)                 (None, 500)          500500      activation_3[0][0]               \n",
      "__________________________________________________________________________________________________\n",
      "batch_normalization_4 (BatchNor (None, 500)          2000        dense_4[0][0]                    \n",
      "__________________________________________________________________________________________________\n",
      "activation_4 (Activation)       (None, 500)          0           batch_normalization_4[0][0]      \n",
      "__________________________________________________________________________________________________\n",
      "dense_5 (Dense)                 (None, 100)          50100       activation_4[0][0]               \n",
      "__________________________________________________________________________________________________\n",
      "batch_normalization_5 (BatchNor (None, 100)          400         dense_5[0][0]                    \n",
      "__________________________________________________________________________________________________\n",
      "activation_5 (Activation)       (None, 100)          0           batch_normalization_5[0][0]      \n",
      "__________________________________________________________________________________________________\n",
      "dense_6 (Dense)                 (None, 50)           5050        activation_5[0][0]               \n",
      "__________________________________________________________________________________________________\n",
      "dense_7 (Dense)                 (None, 50)           5050        activation_5[0][0]               \n",
      "__________________________________________________________________________________________________\n",
      "batch_normalization_6 (BatchNor (None, 50)           200         dense_6[0][0]                    \n",
      "__________________________________________________________________________________________________\n",
      "batch_normalization_7 (BatchNor (None, 50)           200         dense_7[0][0]                    \n",
      "__________________________________________________________________________________________________\n",
      "activation_6 (Activation)       (None, 50)           0           batch_normalization_6[0][0]      \n",
      "__________________________________________________________________________________________________\n",
      "activation_7 (Activation)       (None, 50)           0           batch_normalization_7[0][0]      \n",
      "__________________________________________________________________________________________________\n",
      "lambda_1 (Lambda)               (None, 50)           0           activation_6[0][0]               \n",
      "                                                                 activation_7[0][0]               \n",
      "==================================================================================================\n",
      "Total params: 104,737,500\n",
      "Trainable params: 104,716,100\n",
      "Non-trainable params: 21,400\n",
      "__________________________________________________________________________________________________\n"
     ]
    }
   ],
   "source": [
    "#extract the encoder part\n",
    "\n",
    "# Model to compress input\n",
    "#encoder = Model(rnaseq_input, [z_mean_encoded, z_log_var_encoded])\n",
    "encoder = Model(rnaseq_input, z)\n",
    "encoder.summary()"
   ]
  },
  {
   "cell_type": "code",
   "execution_count": 29,
   "metadata": {},
   "outputs": [
    {
     "name": "stdout",
     "output_type": "stream",
     "text": [
      "__________________________________________________________________________________________________\n",
      "Layer (type)                    Output Shape         Param #     Connected to                     \n",
      "==================================================================================================\n",
      "input_1 (InputLayer)            (None, 13854)        0                                            \n",
      "__________________________________________________________________________________________________\n",
      "dense_1 (Dense)                 (None, 6000)         83130000    input_1[0][0]                    \n",
      "__________________________________________________________________________________________________\n",
      "batch_normalization_1 (BatchNor (None, 6000)         24000       dense_1[0][0]                    \n",
      "__________________________________________________________________________________________________\n",
      "activation_1 (Activation)       (None, 6000)         0           batch_normalization_1[0][0]      \n",
      "__________________________________________________________________________________________________\n",
      "dense_2 (Dense)                 (None, 3000)         18003000    activation_1[0][0]               \n",
      "__________________________________________________________________________________________________\n",
      "batch_normalization_2 (BatchNor (None, 3000)         12000       dense_2[0][0]                    \n",
      "__________________________________________________________________________________________________\n",
      "activation_2 (Activation)       (None, 3000)         0           batch_normalization_2[0][0]      \n",
      "__________________________________________________________________________________________________\n",
      "dense_3 (Dense)                 (None, 1000)         3001000     activation_2[0][0]               \n",
      "__________________________________________________________________________________________________\n",
      "batch_normalization_3 (BatchNor (None, 1000)         4000        dense_3[0][0]                    \n",
      "__________________________________________________________________________________________________\n",
      "activation_3 (Activation)       (None, 1000)         0           batch_normalization_3[0][0]      \n",
      "__________________________________________________________________________________________________\n",
      "dense_4 (Dense)                 (None, 500)          500500      activation_3[0][0]               \n",
      "__________________________________________________________________________________________________\n",
      "batch_normalization_4 (BatchNor (None, 500)          2000        dense_4[0][0]                    \n",
      "__________________________________________________________________________________________________\n",
      "activation_4 (Activation)       (None, 500)          0           batch_normalization_4[0][0]      \n",
      "__________________________________________________________________________________________________\n",
      "dense_5 (Dense)                 (None, 100)          50100       activation_4[0][0]               \n",
      "__________________________________________________________________________________________________\n",
      "batch_normalization_5 (BatchNor (None, 100)          400         dense_5[0][0]                    \n",
      "__________________________________________________________________________________________________\n",
      "activation_5 (Activation)       (None, 100)          0           batch_normalization_5[0][0]      \n",
      "__________________________________________________________________________________________________\n",
      "dense_6 (Dense)                 (None, 50)           5050        activation_5[0][0]               \n",
      "__________________________________________________________________________________________________\n",
      "dense_7 (Dense)                 (None, 50)           5050        activation_5[0][0]               \n",
      "__________________________________________________________________________________________________\n",
      "batch_normalization_6 (BatchNor (None, 50)           200         dense_6[0][0]                    \n",
      "__________________________________________________________________________________________________\n",
      "batch_normalization_7 (BatchNor (None, 50)           200         dense_7[0][0]                    \n",
      "__________________________________________________________________________________________________\n",
      "activation_6 (Activation)       (None, 50)           0           batch_normalization_6[0][0]      \n",
      "__________________________________________________________________________________________________\n",
      "activation_7 (Activation)       (None, 50)           0           batch_normalization_7[0][0]      \n",
      "==================================================================================================\n",
      "Total params: 104,737,500\n",
      "Trainable params: 104,716,100\n",
      "Non-trainable params: 21,400\n",
      "__________________________________________________________________________________________________\n"
     ]
    }
   ],
   "source": [
    "encoder2 = Model(rnaseq_input, [z_mean_encoded, z_log_var_encoded])\n",
    "encoder2.summary()"
   ]
  },
  {
   "cell_type": "code",
   "execution_count": 30,
   "metadata": {},
   "outputs": [],
   "source": [
    "# Encode rnaseq into the hidden/latent representation - and save output\n",
    "z_df = encoder.predict_on_batch(Exprframe_test)\n",
    "\n",
    "z_df = pd.DataFrame(z_df, index=Exprframe_test.index)\n",
    "\n",
    "z_df.columns.name = 'sample_id'\n",
    "z_df.columns = z_df.columns + 1\n",
    "z_df.head(10)\n",
    "\n",
    "[z_mean_d, z_log_var_d]= encoder2.predict_on_batch(Exprframe_test)\n",
    "z_mean_df = pd.DataFrame(z_mean_d, index=Exprframe_test.index)\n",
    "\n",
    "z_mean_df.columns.name = 'sample_id'\n",
    "z_mean_df.columns = z_mean_df.columns + 1\n",
    "\n",
    "\n",
    "z_log_var_df = pd.DataFrame(z_log_var_d, index=Exprframe_test.index)\n",
    "\n",
    "z_log_var_df.columns.name = 'sample_id'\n",
    "z_log_var_df.columns = z_log_var_df.columns + 1"
   ]
  },
  {
   "cell_type": "markdown",
   "metadata": {},
   "source": [
    "# Extract Decoder model"
   ]
  },
  {
   "cell_type": "code",
   "execution_count": 31,
   "metadata": {},
   "outputs": [
    {
     "name": "stdout",
     "output_type": "stream",
     "text": [
      "_________________________________________________________________\n",
      "Layer (type)                 Output Shape              Param #   \n",
      "=================================================================\n",
      "input_2 (InputLayer)         (None, 50)                0         \n",
      "_________________________________________________________________\n",
      "dense_8 (Dense)              (None, 100)               5100      \n",
      "_________________________________________________________________\n",
      "dense_9 (Dense)              (None, 500)               50500     \n",
      "_________________________________________________________________\n",
      "dense_10 (Dense)             (None, 1000)              501000    \n",
      "_________________________________________________________________\n",
      "dense_11 (Dense)             (None, 3000)              3003000   \n",
      "_________________________________________________________________\n",
      "dense_12 (Dense)             (None, 6000)              18006000  \n",
      "_________________________________________________________________\n",
      "dense_13 (Dense)             (None, 13854)             83137854  \n",
      "=================================================================\n",
      "Total params: 104,703,454\n",
      "Trainable params: 104,703,454\n",
      "Non-trainable params: 0\n",
      "_________________________________________________________________\n"
     ]
    }
   ],
   "source": [
    "# build a generator that can sample from the learned distribution\n",
    "decoder_input = Input(shape=(latent_dim, ))  # can generate from any sampled z vector\n",
    "\n",
    "_x_decoded_l5 = decoderl5_reconstruct(decoder_input)\n",
    "_x_decoded_l4 = decoderl4_reconstruct(_x_decoded_l5)\n",
    "_x_decoded_l3 = decoderl3_reconstruct(_x_decoded_l4)\n",
    "\n",
    "_x_decoded_l2 = decoderl2_reconstruct(_x_decoded_l3)\n",
    "\n",
    "_x_decoded_l1 = decoderl1_reconstruct(_x_decoded_l2)\n",
    "_x_decoded_l0 = decoderl0_reconstruct(_x_decoded_l1)\n",
    "\n",
    "decoder = Model(decoder_input, _x_decoded_l0)\n",
    "decoder.summary()"
   ]
  },
  {
   "cell_type": "markdown",
   "metadata": {},
   "source": [
    "## Observe reconstruction fidelity"
   ]
  },
  {
   "cell_type": "code",
   "execution_count": 35,
   "metadata": {},
   "outputs": [
    {
     "data": {
      "text/html": [
       "<div>\n",
       "<style scoped>\n",
       "    .dataframe tbody tr th:only-of-type {\n",
       "        vertical-align: middle;\n",
       "    }\n",
       "\n",
       "    .dataframe tbody tr th {\n",
       "        vertical-align: top;\n",
       "    }\n",
       "\n",
       "    .dataframe thead th {\n",
       "        text-align: right;\n",
       "    }\n",
       "</style>\n",
       "<table border=\"1\" class=\"dataframe\">\n",
       "  <thead>\n",
       "    <tr style=\"text-align: right;\">\n",
       "      <th></th>\n",
       "      <th>ENSG00000000003.13</th>\n",
       "      <th>ENSG00000000419.11</th>\n",
       "      <th>ENSG00000000457.12</th>\n",
       "      <th>ENSG00000000460.15</th>\n",
       "      <th>ENSG00000000938.11</th>\n",
       "      <th>ENSG00000000971.14</th>\n",
       "      <th>ENSG00000001036.12</th>\n",
       "      <th>ENSG00000001084.9</th>\n",
       "      <th>ENSG00000001167.13</th>\n",
       "      <th>ENSG00000001460.16</th>\n",
       "      <th>...</th>\n",
       "      <th>ENSG00000280237.1</th>\n",
       "      <th>ENSG00000280411.1</th>\n",
       "      <th>ENSG00000280734.1</th>\n",
       "      <th>ENSG00000280789.1</th>\n",
       "      <th>ENSG00000280798.1</th>\n",
       "      <th>ENSG00000280832.1</th>\n",
       "      <th>ENSG00000281332.1</th>\n",
       "      <th>ENSG00000281398.1</th>\n",
       "      <th>ENSG00000281406.1</th>\n",
       "      <th>ENSG00000281649.1</th>\n",
       "    </tr>\n",
       "  </thead>\n",
       "  <tbody>\n",
       "    <tr>\n",
       "      <th>TCGA-CK-6748-01A</th>\n",
       "      <td>0.749073</td>\n",
       "      <td>0.528939</td>\n",
       "      <td>0.205384</td>\n",
       "      <td>0.212993</td>\n",
       "      <td>0.416002</td>\n",
       "      <td>0.344308</td>\n",
       "      <td>0.399756</td>\n",
       "      <td>0.324282</td>\n",
       "      <td>0.210181</td>\n",
       "      <td>0.373076</td>\n",
       "      <td>...</td>\n",
       "      <td>0.260418</td>\n",
       "      <td>0.220510</td>\n",
       "      <td>0.463019</td>\n",
       "      <td>0.185867</td>\n",
       "      <td>0.208294</td>\n",
       "      <td>0.139837</td>\n",
       "      <td>0.250657</td>\n",
       "      <td>0.485760</td>\n",
       "      <td>0.558515</td>\n",
       "      <td>0.481088</td>\n",
       "    </tr>\n",
       "    <tr>\n",
       "      <th>TCGA-CM-4746-01A</th>\n",
       "      <td>0.675663</td>\n",
       "      <td>0.526757</td>\n",
       "      <td>0.222663</td>\n",
       "      <td>0.403797</td>\n",
       "      <td>0.164909</td>\n",
       "      <td>0.155398</td>\n",
       "      <td>0.472256</td>\n",
       "      <td>0.316475</td>\n",
       "      <td>0.197026</td>\n",
       "      <td>0.393945</td>\n",
       "      <td>...</td>\n",
       "      <td>0.314234</td>\n",
       "      <td>0.160185</td>\n",
       "      <td>0.485230</td>\n",
       "      <td>0.286112</td>\n",
       "      <td>0.044239</td>\n",
       "      <td>0.424512</td>\n",
       "      <td>0.107287</td>\n",
       "      <td>0.519237</td>\n",
       "      <td>0.584396</td>\n",
       "      <td>0.317193</td>\n",
       "    </tr>\n",
       "    <tr>\n",
       "      <th>TCGA-AA-3715-01A</th>\n",
       "      <td>0.383964</td>\n",
       "      <td>0.159524</td>\n",
       "      <td>0.203441</td>\n",
       "      <td>0.438150</td>\n",
       "      <td>0.626420</td>\n",
       "      <td>0.406272</td>\n",
       "      <td>0.285641</td>\n",
       "      <td>0.195765</td>\n",
       "      <td>0.193426</td>\n",
       "      <td>0.367600</td>\n",
       "      <td>...</td>\n",
       "      <td>0.338382</td>\n",
       "      <td>0.331248</td>\n",
       "      <td>0.443230</td>\n",
       "      <td>0.221247</td>\n",
       "      <td>0.145159</td>\n",
       "      <td>0.294008</td>\n",
       "      <td>0.146868</td>\n",
       "      <td>0.587215</td>\n",
       "      <td>0.440557</td>\n",
       "      <td>0.247084</td>\n",
       "    </tr>\n",
       "  </tbody>\n",
       "</table>\n",
       "<p>3 rows × 13854 columns</p>\n",
       "</div>"
      ],
      "text/plain": [
       "                  ENSG00000000003.13  ENSG00000000419.11  ENSG00000000457.12  \\\n",
       "TCGA-CK-6748-01A            0.749073            0.528939            0.205384   \n",
       "TCGA-CM-4746-01A            0.675663            0.526757            0.222663   \n",
       "TCGA-AA-3715-01A            0.383964            0.159524            0.203441   \n",
       "\n",
       "                  ENSG00000000460.15  ENSG00000000938.11  ENSG00000000971.14  \\\n",
       "TCGA-CK-6748-01A            0.212993            0.416002            0.344308   \n",
       "TCGA-CM-4746-01A            0.403797            0.164909            0.155398   \n",
       "TCGA-AA-3715-01A            0.438150            0.626420            0.406272   \n",
       "\n",
       "                  ENSG00000001036.12  ENSG00000001084.9  ENSG00000001167.13  \\\n",
       "TCGA-CK-6748-01A            0.399756           0.324282            0.210181   \n",
       "TCGA-CM-4746-01A            0.472256           0.316475            0.197026   \n",
       "TCGA-AA-3715-01A            0.285641           0.195765            0.193426   \n",
       "\n",
       "                  ENSG00000001460.16        ...          ENSG00000280237.1  \\\n",
       "TCGA-CK-6748-01A            0.373076        ...                   0.260418   \n",
       "TCGA-CM-4746-01A            0.393945        ...                   0.314234   \n",
       "TCGA-AA-3715-01A            0.367600        ...                   0.338382   \n",
       "\n",
       "                  ENSG00000280411.1  ENSG00000280734.1  ENSG00000280789.1  \\\n",
       "TCGA-CK-6748-01A           0.220510           0.463019           0.185867   \n",
       "TCGA-CM-4746-01A           0.160185           0.485230           0.286112   \n",
       "TCGA-AA-3715-01A           0.331248           0.443230           0.221247   \n",
       "\n",
       "                  ENSG00000280798.1  ENSG00000280832.1  ENSG00000281332.1  \\\n",
       "TCGA-CK-6748-01A           0.208294           0.139837           0.250657   \n",
       "TCGA-CM-4746-01A           0.044239           0.424512           0.107287   \n",
       "TCGA-AA-3715-01A           0.145159           0.294008           0.146868   \n",
       "\n",
       "                  ENSG00000281398.1  ENSG00000281406.1  ENSG00000281649.1  \n",
       "TCGA-CK-6748-01A           0.485760           0.558515           0.481088  \n",
       "TCGA-CM-4746-01A           0.519237           0.584396           0.317193  \n",
       "TCGA-AA-3715-01A           0.587215           0.440557           0.247084  \n",
       "\n",
       "[3 rows x 13854 columns]"
      ]
     },
     "execution_count": 35,
     "metadata": {},
     "output_type": "execute_result"
    }
   ],
   "source": [
    "#original input RNAseq data\n",
    "rnaseq_df = Exprframe_test\n",
    "rnaseq_df.head(3)"
   ]
  },
  {
   "cell_type": "code",
   "execution_count": 36,
   "metadata": {},
   "outputs": [
    {
     "data": {
      "text/html": [
       "<div>\n",
       "<style scoped>\n",
       "    .dataframe tbody tr th:only-of-type {\n",
       "        vertical-align: middle;\n",
       "    }\n",
       "\n",
       "    .dataframe tbody tr th {\n",
       "        vertical-align: top;\n",
       "    }\n",
       "\n",
       "    .dataframe thead th {\n",
       "        text-align: right;\n",
       "    }\n",
       "</style>\n",
       "<table border=\"1\" class=\"dataframe\">\n",
       "  <thead>\n",
       "    <tr style=\"text-align: right;\">\n",
       "      <th></th>\n",
       "      <th>ENSG00000000003.13</th>\n",
       "      <th>ENSG00000000419.11</th>\n",
       "      <th>ENSG00000000457.12</th>\n",
       "      <th>ENSG00000000460.15</th>\n",
       "      <th>ENSG00000000938.11</th>\n",
       "      <th>ENSG00000000971.14</th>\n",
       "      <th>ENSG00000001036.12</th>\n",
       "      <th>ENSG00000001084.9</th>\n",
       "      <th>ENSG00000001167.13</th>\n",
       "      <th>ENSG00000001460.16</th>\n",
       "      <th>...</th>\n",
       "      <th>ENSG00000280237.1</th>\n",
       "      <th>ENSG00000280411.1</th>\n",
       "      <th>ENSG00000280734.1</th>\n",
       "      <th>ENSG00000280789.1</th>\n",
       "      <th>ENSG00000280798.1</th>\n",
       "      <th>ENSG00000280832.1</th>\n",
       "      <th>ENSG00000281332.1</th>\n",
       "      <th>ENSG00000281398.1</th>\n",
       "      <th>ENSG00000281406.1</th>\n",
       "      <th>ENSG00000281649.1</th>\n",
       "    </tr>\n",
       "  </thead>\n",
       "  <tbody>\n",
       "    <tr>\n",
       "      <th>TCGA-CK-6748-01A</th>\n",
       "      <td>0.627756</td>\n",
       "      <td>0.432015</td>\n",
       "      <td>0.238091</td>\n",
       "      <td>0.331282</td>\n",
       "      <td>0.318124</td>\n",
       "      <td>0.311138</td>\n",
       "      <td>0.428280</td>\n",
       "      <td>0.335754</td>\n",
       "      <td>0.197556</td>\n",
       "      <td>0.394898</td>\n",
       "      <td>...</td>\n",
       "      <td>0.328598</td>\n",
       "      <td>0.347013</td>\n",
       "      <td>0.393756</td>\n",
       "      <td>0.251954</td>\n",
       "      <td>0.246701</td>\n",
       "      <td>0.230663</td>\n",
       "      <td>0.283380</td>\n",
       "      <td>0.520145</td>\n",
       "      <td>0.560645</td>\n",
       "      <td>0.389924</td>\n",
       "    </tr>\n",
       "    <tr>\n",
       "      <th>TCGA-CM-4746-01A</th>\n",
       "      <td>0.593597</td>\n",
       "      <td>0.414874</td>\n",
       "      <td>0.215772</td>\n",
       "      <td>0.294531</td>\n",
       "      <td>0.377752</td>\n",
       "      <td>0.363745</td>\n",
       "      <td>0.434535</td>\n",
       "      <td>0.297979</td>\n",
       "      <td>0.180158</td>\n",
       "      <td>0.388663</td>\n",
       "      <td>...</td>\n",
       "      <td>0.345695</td>\n",
       "      <td>0.389951</td>\n",
       "      <td>0.382526</td>\n",
       "      <td>0.259242</td>\n",
       "      <td>0.260187</td>\n",
       "      <td>0.241139</td>\n",
       "      <td>0.279116</td>\n",
       "      <td>0.491955</td>\n",
       "      <td>0.587791</td>\n",
       "      <td>0.366305</td>\n",
       "    </tr>\n",
       "    <tr>\n",
       "      <th>TCGA-AA-3715-01A</th>\n",
       "      <td>0.533419</td>\n",
       "      <td>0.398167</td>\n",
       "      <td>0.273245</td>\n",
       "      <td>0.262009</td>\n",
       "      <td>0.542069</td>\n",
       "      <td>0.592807</td>\n",
       "      <td>0.441322</td>\n",
       "      <td>0.318524</td>\n",
       "      <td>0.192492</td>\n",
       "      <td>0.448426</td>\n",
       "      <td>...</td>\n",
       "      <td>0.412172</td>\n",
       "      <td>0.435786</td>\n",
       "      <td>0.406258</td>\n",
       "      <td>0.264669</td>\n",
       "      <td>0.342233</td>\n",
       "      <td>0.359938</td>\n",
       "      <td>0.330732</td>\n",
       "      <td>0.446624</td>\n",
       "      <td>0.624407</td>\n",
       "      <td>0.407076</td>\n",
       "    </tr>\n",
       "  </tbody>\n",
       "</table>\n",
       "<p>3 rows × 13854 columns</p>\n",
       "</div>"
      ],
      "text/plain": [
       "                  ENSG00000000003.13  ENSG00000000419.11  ENSG00000000457.12  \\\n",
       "TCGA-CK-6748-01A            0.627756            0.432015            0.238091   \n",
       "TCGA-CM-4746-01A            0.593597            0.414874            0.215772   \n",
       "TCGA-AA-3715-01A            0.533419            0.398167            0.273245   \n",
       "\n",
       "                  ENSG00000000460.15  ENSG00000000938.11  ENSG00000000971.14  \\\n",
       "TCGA-CK-6748-01A            0.331282            0.318124            0.311138   \n",
       "TCGA-CM-4746-01A            0.294531            0.377752            0.363745   \n",
       "TCGA-AA-3715-01A            0.262009            0.542069            0.592807   \n",
       "\n",
       "                  ENSG00000001036.12  ENSG00000001084.9  ENSG00000001167.13  \\\n",
       "TCGA-CK-6748-01A            0.428280           0.335754            0.197556   \n",
       "TCGA-CM-4746-01A            0.434535           0.297979            0.180158   \n",
       "TCGA-AA-3715-01A            0.441322           0.318524            0.192492   \n",
       "\n",
       "                  ENSG00000001460.16        ...          ENSG00000280237.1  \\\n",
       "TCGA-CK-6748-01A            0.394898        ...                   0.328598   \n",
       "TCGA-CM-4746-01A            0.388663        ...                   0.345695   \n",
       "TCGA-AA-3715-01A            0.448426        ...                   0.412172   \n",
       "\n",
       "                  ENSG00000280411.1  ENSG00000280734.1  ENSG00000280789.1  \\\n",
       "TCGA-CK-6748-01A           0.347013           0.393756           0.251954   \n",
       "TCGA-CM-4746-01A           0.389951           0.382526           0.259242   \n",
       "TCGA-AA-3715-01A           0.435786           0.406258           0.264669   \n",
       "\n",
       "                  ENSG00000280798.1  ENSG00000280832.1  ENSG00000281332.1  \\\n",
       "TCGA-CK-6748-01A           0.246701           0.230663           0.283380   \n",
       "TCGA-CM-4746-01A           0.260187           0.241139           0.279116   \n",
       "TCGA-AA-3715-01A           0.342233           0.359938           0.330732   \n",
       "\n",
       "                  ENSG00000281398.1  ENSG00000281406.1  ENSG00000281649.1  \n",
       "TCGA-CK-6748-01A           0.520145           0.560645           0.389924  \n",
       "TCGA-CM-4746-01A           0.491955           0.587791           0.366305  \n",
       "TCGA-AA-3715-01A           0.446624           0.624407           0.407076  \n",
       "\n",
       "[3 rows x 13854 columns]"
      ]
     },
     "execution_count": 36,
     "metadata": {},
     "output_type": "execute_result"
    }
   ],
   "source": [
    "# How well does the model reconstruct the input RNAseq data\n",
    "input_rnaseq_reconstruct = decoder.predict(np.array(z_df))\n",
    "input_rnaseq_reconstruct = pd.DataFrame(input_rnaseq_reconstruct, index=rnaseq_df.index,\n",
    "                                        columns=rnaseq_df.columns)\n",
    "input_rnaseq_reconstruct.head(3)"
   ]
  },
  {
   "cell_type": "code",
   "execution_count": 37,
   "metadata": {},
   "outputs": [],
   "source": [
    "#test the fidelity\n",
    "reconstruction_fidelity = abs(rnaseq_df - input_rnaseq_reconstruct)\n",
    "\n",
    "reconstruction_loss = reconstruction_fidelity.mean(axis = 1)\n",
    "\n",
    "#print(reconstruction_loss)\n",
    "\n",
    "gene_mean = reconstruction_fidelity.mean(axis=0)\n",
    "gene_abssum = reconstruction_fidelity.abs().sum(axis=0).divide(rnaseq_df.shape[0])\n",
    "gene_summary = pd.DataFrame([gene_mean, gene_abssum], index=['gene mean', 'gene abs(sum)']).T\n",
    "#gene_summary.sort_values(by='gene abs(sum)', ascending=False).head(20)"
   ]
  },
  {
   "cell_type": "markdown",
   "metadata": {},
   "source": [
    "# Print out the mean reconstruction loss and the mean KL loss"
   ]
  },
  {
   "cell_type": "code",
   "execution_count": 43,
   "metadata": {},
   "outputs": [
    {
     "name": "stdout",
     "output_type": "stream",
     "text": [
      "The mean reconstruction loss for each data point is: 0.08647466365\n"
     ]
    }
   ],
   "source": [
    "# L1 loss: losses.mean_absolute_error\n",
    "reconstruction_loss_used = losses.mean_absolute_error(rnaseq_df, input_rnaseq_reconstruct) #* original_dim\n",
    "with tf.Session() as sess:\n",
    "    #print the reconstruction loss that we calculated\n",
    "    mean_reconstruct_loss = sess.run(K.mean(reconstruction_loss_used))\n",
    "    print (\"The mean reconstruction loss for each data point is: %.11f\" % mean_reconstruct_loss)"
   ]
  },
  {
   "cell_type": "code",
   "execution_count": 44,
   "metadata": {
    "scrolled": true
   },
   "outputs": [
    {
     "name": "stdout",
     "output_type": "stream",
     "text": [
      "The mean KL loss for each data point is: 0.21404279768\n"
     ]
    }
   ],
   "source": [
    "kl_loss = - 0.5 * K.sum(1 + z_log_var_d - K.square(z_mean_d) - \n",
    "                                K.exp(z_log_var_d), axis=-1) / latent_dim\n",
    "with tf.Session() as sess:\n",
    "    #print the kl loss that we calculated\n",
    "    mean_kl_loss = sess.run(K.mean(kl_loss))\n",
    "    print (\"The mean KL loss for each data point is: %.11f\" %mean_kl_loss)"
   ]
  },
  {
   "cell_type": "code",
   "execution_count": 46,
   "metadata": {},
   "outputs": [
    {
     "name": "stdout",
     "output_type": "stream",
     "text": [
      "The combined mean loss for each data point is: 0.30051746134\n",
      "The current alpha choice for reconstruction loss + alpha*kl loss is:  1.0\n"
     ]
    }
   ],
   "source": [
    "print (\"The combined mean loss for each data point is: %.11f\" % (mean_reconstruct_loss + alpha * mean_kl_loss))\n",
    "print (\"The current alpha choice for reconstruction loss + alpha*kl loss is: \", alpha)"
   ]
  },
  {
   "cell_type": "code",
   "execution_count": null,
   "metadata": {},
   "outputs": [],
   "source": [
    "# Encode rnaseq into the hidden/latent representation - and save output\n",
    "#encoded_rnaseq_df\n",
    "\n",
    "z_df = encoder.predict_on_batch(Exprframe)\n",
    "\n",
    "z_df = pd.DataFrame(z_df, index=Exprframe.index)\n",
    "\n",
    "z_df.columns.name = 'sample_id'\n",
    "z_df.columns = z_df.columns + 1\n",
    "z_df.head(10)\n",
    "\n",
    "encoded_file = \"counts_data/vae_compressed/encoded_5cancers_rnaseq_vae(perSp,a1.0,unlabel,0.2_var,6LF6k,z50,minmax,ep700).tsv\"\n",
    "#encoded_file = \"counts_data/vae_compressed/encoded_4_cancers_rnaseq_vae(perSp,a0,unlabel,0.2_var,3LF6k,z500,minmax).tsv\"\n",
    "z_df.to_csv(encoded_file, sep='\\t')"
   ]
  }
 ],
 "metadata": {
  "kernelspec": {
   "display_name": "Python [conda env:tensorflow-gpu-test]",
   "language": "python",
   "name": "conda-env-tensorflow-gpu-test-py"
  },
  "language_info": {
   "codemirror_mode": {
    "name": "ipython",
    "version": 3
   },
   "file_extension": ".py",
   "mimetype": "text/x-python",
   "name": "python",
   "nbconvert_exporter": "python",
   "pygments_lexer": "ipython3",
   "version": "3.5.5"
  }
 },
 "nbformat": 4,
 "nbformat_minor": 1
}
