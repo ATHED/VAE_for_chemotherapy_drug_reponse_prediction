{
 "cells": [
  {
   "cell_type": "markdown",
   "metadata": {},
   "source": [
    "Load packages"
   ]
  },
  {
   "cell_type": "code",
   "execution_count": 1,
   "metadata": {
    "scrolled": true
   },
   "outputs": [
    {
     "name": "stderr",
     "output_type": "stream",
     "text": [
      "Using TensorFlow backend.\n"
     ]
    }
   ],
   "source": [
    "# Install a pip package in the current Jupyter kernel\n",
    "import sys\n",
    "#!{sys.executable} -m pip install numpy\n",
    "#!{sys.executable} -m pip install requests\n",
    "#import requests\n",
    "\n",
    "import numpy as np\n",
    "import pandas as pd\n",
    "import matplotlib.pyplot as plt\n",
    "import math\n",
    "from sklearn import preprocessing\n",
    "import tensorflow as tf\n",
    "import keras\n",
    "from tensorflow.python.client import device_lib"
   ]
  },
  {
   "cell_type": "code",
   "execution_count": 2,
   "metadata": {},
   "outputs": [
    {
     "data": {
      "text/plain": [
       "(2606, 13854)"
      ]
     },
     "execution_count": 2,
     "metadata": {},
     "output_type": "execute_result"
    }
   ],
   "source": [
    "#Reading files/documents\n",
    "#using all unlabeled data\n",
    "path = '/media/qiwei/work/Python_playground/VAE/TCGA_5_cancers/counts_data/high_var_counts_data/TCGA_(BLCA_COAD_SARC_PAAD_BRCA)_(0.2chemo)VSTnrom_count_expr_clinical_data.txt'\n",
    "\n",
    "#only use labeled data\n",
    "#path = \"counts_data/counts_data_without_label/TCGA_SARC_(0.2chemo_45samples)VSTnrom_count_expr_clinical_data.tsv\"\n",
    "\n",
    "#open(path).readline()\n",
    "#gene expression RNAseq, Batch effects normalized mRNA data\n",
    "\n",
    "ExprAlldata = pd.read_csv(path, sep = \"\\t\", index_col = 0)\n",
    "ExprAlldata = ExprAlldata.dropna(axis='columns')\n",
    "#ExprAlldata.columns = [\"Gene\", \"Counts\"]\n",
    "ExprAlldata.shape"
   ]
  },
  {
   "cell_type": "code",
   "execution_count": 3,
   "metadata": {},
   "outputs": [
    {
     "data": {
      "text/html": [
       "<div>\n",
       "<style scoped>\n",
       "    .dataframe tbody tr th:only-of-type {\n",
       "        vertical-align: middle;\n",
       "    }\n",
       "\n",
       "    .dataframe tbody tr th {\n",
       "        vertical-align: top;\n",
       "    }\n",
       "\n",
       "    .dataframe thead th {\n",
       "        text-align: right;\n",
       "    }\n",
       "</style>\n",
       "<table border=\"1\" class=\"dataframe\">\n",
       "  <thead>\n",
       "    <tr style=\"text-align: right;\">\n",
       "      <th></th>\n",
       "      <th>ENSG00000000003.13</th>\n",
       "      <th>ENSG00000000419.11</th>\n",
       "      <th>ENSG00000000457.12</th>\n",
       "      <th>ENSG00000000460.15</th>\n",
       "      <th>ENSG00000000938.11</th>\n",
       "      <th>ENSG00000000971.14</th>\n",
       "      <th>ENSG00000001036.12</th>\n",
       "      <th>ENSG00000001084.9</th>\n",
       "      <th>ENSG00000001167.13</th>\n",
       "      <th>ENSG00000001460.16</th>\n",
       "      <th>...</th>\n",
       "      <th>ENSG00000280237.1</th>\n",
       "      <th>ENSG00000280411.1</th>\n",
       "      <th>ENSG00000280734.1</th>\n",
       "      <th>ENSG00000280789.1</th>\n",
       "      <th>ENSG00000280798.1</th>\n",
       "      <th>ENSG00000280832.1</th>\n",
       "      <th>ENSG00000281332.1</th>\n",
       "      <th>ENSG00000281398.1</th>\n",
       "      <th>ENSG00000281406.1</th>\n",
       "      <th>ENSG00000281649.1</th>\n",
       "    </tr>\n",
       "  </thead>\n",
       "  <tbody>\n",
       "    <tr>\n",
       "      <th>TCGA-2F-A9KO-01A</th>\n",
       "      <td>12.799987</td>\n",
       "      <td>11.730276</td>\n",
       "      <td>10.407923</td>\n",
       "      <td>9.657609</td>\n",
       "      <td>8.874620</td>\n",
       "      <td>13.307831</td>\n",
       "      <td>11.095982</td>\n",
       "      <td>13.282889</td>\n",
       "      <td>10.770459</td>\n",
       "      <td>8.746838</td>\n",
       "      <td>...</td>\n",
       "      <td>6.144644</td>\n",
       "      <td>7.890611</td>\n",
       "      <td>9.487477</td>\n",
       "      <td>8.197412</td>\n",
       "      <td>8.170328</td>\n",
       "      <td>6.616274</td>\n",
       "      <td>7.787851</td>\n",
       "      <td>7.497947</td>\n",
       "      <td>5.870692</td>\n",
       "      <td>11.652532</td>\n",
       "    </tr>\n",
       "    <tr>\n",
       "      <th>TCGA-2F-A9KP-01A</th>\n",
       "      <td>13.361298</td>\n",
       "      <td>11.061773</td>\n",
       "      <td>9.586506</td>\n",
       "      <td>9.498557</td>\n",
       "      <td>7.200246</td>\n",
       "      <td>8.611701</td>\n",
       "      <td>11.850127</td>\n",
       "      <td>12.652118</td>\n",
       "      <td>10.921566</td>\n",
       "      <td>9.844942</td>\n",
       "      <td>...</td>\n",
       "      <td>5.771074</td>\n",
       "      <td>4.784194</td>\n",
       "      <td>7.916190</td>\n",
       "      <td>8.448300</td>\n",
       "      <td>8.392858</td>\n",
       "      <td>8.582964</td>\n",
       "      <td>7.607547</td>\n",
       "      <td>8.687574</td>\n",
       "      <td>5.683720</td>\n",
       "      <td>10.179641</td>\n",
       "    </tr>\n",
       "    <tr>\n",
       "      <th>TCGA-2F-A9KQ-01A</th>\n",
       "      <td>12.427114</td>\n",
       "      <td>10.858984</td>\n",
       "      <td>10.020076</td>\n",
       "      <td>8.675861</td>\n",
       "      <td>8.320863</td>\n",
       "      <td>9.012543</td>\n",
       "      <td>12.080271</td>\n",
       "      <td>11.863083</td>\n",
       "      <td>10.551890</td>\n",
       "      <td>9.549010</td>\n",
       "      <td>...</td>\n",
       "      <td>5.740098</td>\n",
       "      <td>3.684469</td>\n",
       "      <td>8.097340</td>\n",
       "      <td>8.346210</td>\n",
       "      <td>8.335397</td>\n",
       "      <td>8.058829</td>\n",
       "      <td>7.888971</td>\n",
       "      <td>7.463664</td>\n",
       "      <td>6.561208</td>\n",
       "      <td>10.483294</td>\n",
       "    </tr>\n",
       "    <tr>\n",
       "      <th>TCGA-2F-A9KR-01A</th>\n",
       "      <td>11.875239</td>\n",
       "      <td>10.705175</td>\n",
       "      <td>9.764255</td>\n",
       "      <td>8.405577</td>\n",
       "      <td>8.925498</td>\n",
       "      <td>12.227532</td>\n",
       "      <td>10.628745</td>\n",
       "      <td>12.078019</td>\n",
       "      <td>11.463515</td>\n",
       "      <td>9.132176</td>\n",
       "      <td>...</td>\n",
       "      <td>7.327783</td>\n",
       "      <td>5.415932</td>\n",
       "      <td>9.231014</td>\n",
       "      <td>8.487673</td>\n",
       "      <td>7.773246</td>\n",
       "      <td>6.392280</td>\n",
       "      <td>8.318976</td>\n",
       "      <td>8.227283</td>\n",
       "      <td>9.256157</td>\n",
       "      <td>10.934495</td>\n",
       "    </tr>\n",
       "    <tr>\n",
       "      <th>TCGA-2F-A9KT-01A</th>\n",
       "      <td>11.954888</td>\n",
       "      <td>11.752691</td>\n",
       "      <td>9.122707</td>\n",
       "      <td>8.559944</td>\n",
       "      <td>8.718170</td>\n",
       "      <td>8.458566</td>\n",
       "      <td>11.524538</td>\n",
       "      <td>10.485555</td>\n",
       "      <td>10.499527</td>\n",
       "      <td>9.090295</td>\n",
       "      <td>...</td>\n",
       "      <td>4.963758</td>\n",
       "      <td>4.448101</td>\n",
       "      <td>7.812737</td>\n",
       "      <td>8.470598</td>\n",
       "      <td>8.690529</td>\n",
       "      <td>7.598719</td>\n",
       "      <td>6.998807</td>\n",
       "      <td>7.468975</td>\n",
       "      <td>8.113118</td>\n",
       "      <td>10.653249</td>\n",
       "    </tr>\n",
       "    <tr>\n",
       "      <th>TCGA-2F-A9KW-01A</th>\n",
       "      <td>11.468420</td>\n",
       "      <td>11.061783</td>\n",
       "      <td>9.312141</td>\n",
       "      <td>9.965565</td>\n",
       "      <td>8.550213</td>\n",
       "      <td>9.807898</td>\n",
       "      <td>12.358200</td>\n",
       "      <td>9.871534</td>\n",
       "      <td>9.871534</td>\n",
       "      <td>10.231835</td>\n",
       "      <td>...</td>\n",
       "      <td>6.353143</td>\n",
       "      <td>5.314622</td>\n",
       "      <td>6.651675</td>\n",
       "      <td>8.697122</td>\n",
       "      <td>8.608569</td>\n",
       "      <td>7.492498</td>\n",
       "      <td>6.486258</td>\n",
       "      <td>7.499733</td>\n",
       "      <td>4.415505</td>\n",
       "      <td>10.468635</td>\n",
       "    </tr>\n",
       "    <tr>\n",
       "      <th>TCGA-4Z-AA7M-01A</th>\n",
       "      <td>13.197630</td>\n",
       "      <td>11.414380</td>\n",
       "      <td>10.219118</td>\n",
       "      <td>10.788953</td>\n",
       "      <td>7.772503</td>\n",
       "      <td>12.095388</td>\n",
       "      <td>11.508418</td>\n",
       "      <td>11.449940</td>\n",
       "      <td>11.903441</td>\n",
       "      <td>9.516233</td>\n",
       "      <td>...</td>\n",
       "      <td>6.634540</td>\n",
       "      <td>6.493163</td>\n",
       "      <td>8.312580</td>\n",
       "      <td>9.647659</td>\n",
       "      <td>8.187388</td>\n",
       "      <td>7.330619</td>\n",
       "      <td>7.298461</td>\n",
       "      <td>8.553173</td>\n",
       "      <td>3.684469</td>\n",
       "      <td>10.484015</td>\n",
       "    </tr>\n",
       "    <tr>\n",
       "      <th>TCGA-4Z-AA7N-01A</th>\n",
       "      <td>12.174796</td>\n",
       "      <td>10.869039</td>\n",
       "      <td>9.121627</td>\n",
       "      <td>8.385069</td>\n",
       "      <td>9.462555</td>\n",
       "      <td>11.854642</td>\n",
       "      <td>10.862057</td>\n",
       "      <td>11.897782</td>\n",
       "      <td>12.016443</td>\n",
       "      <td>9.256974</td>\n",
       "      <td>...</td>\n",
       "      <td>8.231678</td>\n",
       "      <td>9.887549</td>\n",
       "      <td>7.464718</td>\n",
       "      <td>8.115185</td>\n",
       "      <td>8.536419</td>\n",
       "      <td>7.281195</td>\n",
       "      <td>7.440165</td>\n",
       "      <td>7.921429</td>\n",
       "      <td>6.084329</td>\n",
       "      <td>11.710244</td>\n",
       "    </tr>\n",
       "    <tr>\n",
       "      <th>TCGA-4Z-AA7O-01A</th>\n",
       "      <td>13.567112</td>\n",
       "      <td>10.594178</td>\n",
       "      <td>10.312412</td>\n",
       "      <td>10.017215</td>\n",
       "      <td>8.507531</td>\n",
       "      <td>13.678473</td>\n",
       "      <td>12.017644</td>\n",
       "      <td>13.002540</td>\n",
       "      <td>10.978519</td>\n",
       "      <td>8.879034</td>\n",
       "      <td>...</td>\n",
       "      <td>5.059161</td>\n",
       "      <td>9.070366</td>\n",
       "      <td>8.712092</td>\n",
       "      <td>8.691521</td>\n",
       "      <td>7.733842</td>\n",
       "      <td>7.594347</td>\n",
       "      <td>7.764660</td>\n",
       "      <td>5.803181</td>\n",
       "      <td>7.057987</td>\n",
       "      <td>10.368587</td>\n",
       "    </tr>\n",
       "    <tr>\n",
       "      <th>TCGA-4Z-AA7Q-01A</th>\n",
       "      <td>12.239840</td>\n",
       "      <td>10.592417</td>\n",
       "      <td>10.313506</td>\n",
       "      <td>9.301482</td>\n",
       "      <td>9.700270</td>\n",
       "      <td>11.769390</td>\n",
       "      <td>11.416655</td>\n",
       "      <td>10.717529</td>\n",
       "      <td>11.418768</td>\n",
       "      <td>8.496318</td>\n",
       "      <td>...</td>\n",
       "      <td>6.408897</td>\n",
       "      <td>9.609250</td>\n",
       "      <td>8.925624</td>\n",
       "      <td>7.917317</td>\n",
       "      <td>8.364937</td>\n",
       "      <td>6.483733</td>\n",
       "      <td>7.683860</td>\n",
       "      <td>7.202534</td>\n",
       "      <td>7.180692</td>\n",
       "      <td>11.487663</td>\n",
       "    </tr>\n",
       "  </tbody>\n",
       "</table>\n",
       "<p>10 rows × 13854 columns</p>\n",
       "</div>"
      ],
      "text/plain": [
       "                  ENSG00000000003.13  ENSG00000000419.11  ENSG00000000457.12  \\\n",
       "TCGA-2F-A9KO-01A           12.799987           11.730276           10.407923   \n",
       "TCGA-2F-A9KP-01A           13.361298           11.061773            9.586506   \n",
       "TCGA-2F-A9KQ-01A           12.427114           10.858984           10.020076   \n",
       "TCGA-2F-A9KR-01A           11.875239           10.705175            9.764255   \n",
       "TCGA-2F-A9KT-01A           11.954888           11.752691            9.122707   \n",
       "TCGA-2F-A9KW-01A           11.468420           11.061783            9.312141   \n",
       "TCGA-4Z-AA7M-01A           13.197630           11.414380           10.219118   \n",
       "TCGA-4Z-AA7N-01A           12.174796           10.869039            9.121627   \n",
       "TCGA-4Z-AA7O-01A           13.567112           10.594178           10.312412   \n",
       "TCGA-4Z-AA7Q-01A           12.239840           10.592417           10.313506   \n",
       "\n",
       "                  ENSG00000000460.15  ENSG00000000938.11  ENSG00000000971.14  \\\n",
       "TCGA-2F-A9KO-01A            9.657609            8.874620           13.307831   \n",
       "TCGA-2F-A9KP-01A            9.498557            7.200246            8.611701   \n",
       "TCGA-2F-A9KQ-01A            8.675861            8.320863            9.012543   \n",
       "TCGA-2F-A9KR-01A            8.405577            8.925498           12.227532   \n",
       "TCGA-2F-A9KT-01A            8.559944            8.718170            8.458566   \n",
       "TCGA-2F-A9KW-01A            9.965565            8.550213            9.807898   \n",
       "TCGA-4Z-AA7M-01A           10.788953            7.772503           12.095388   \n",
       "TCGA-4Z-AA7N-01A            8.385069            9.462555           11.854642   \n",
       "TCGA-4Z-AA7O-01A           10.017215            8.507531           13.678473   \n",
       "TCGA-4Z-AA7Q-01A            9.301482            9.700270           11.769390   \n",
       "\n",
       "                  ENSG00000001036.12  ENSG00000001084.9  ENSG00000001167.13  \\\n",
       "TCGA-2F-A9KO-01A           11.095982          13.282889           10.770459   \n",
       "TCGA-2F-A9KP-01A           11.850127          12.652118           10.921566   \n",
       "TCGA-2F-A9KQ-01A           12.080271          11.863083           10.551890   \n",
       "TCGA-2F-A9KR-01A           10.628745          12.078019           11.463515   \n",
       "TCGA-2F-A9KT-01A           11.524538          10.485555           10.499527   \n",
       "TCGA-2F-A9KW-01A           12.358200           9.871534            9.871534   \n",
       "TCGA-4Z-AA7M-01A           11.508418          11.449940           11.903441   \n",
       "TCGA-4Z-AA7N-01A           10.862057          11.897782           12.016443   \n",
       "TCGA-4Z-AA7O-01A           12.017644          13.002540           10.978519   \n",
       "TCGA-4Z-AA7Q-01A           11.416655          10.717529           11.418768   \n",
       "\n",
       "                  ENSG00000001460.16        ...          ENSG00000280237.1  \\\n",
       "TCGA-2F-A9KO-01A            8.746838        ...                   6.144644   \n",
       "TCGA-2F-A9KP-01A            9.844942        ...                   5.771074   \n",
       "TCGA-2F-A9KQ-01A            9.549010        ...                   5.740098   \n",
       "TCGA-2F-A9KR-01A            9.132176        ...                   7.327783   \n",
       "TCGA-2F-A9KT-01A            9.090295        ...                   4.963758   \n",
       "TCGA-2F-A9KW-01A           10.231835        ...                   6.353143   \n",
       "TCGA-4Z-AA7M-01A            9.516233        ...                   6.634540   \n",
       "TCGA-4Z-AA7N-01A            9.256974        ...                   8.231678   \n",
       "TCGA-4Z-AA7O-01A            8.879034        ...                   5.059161   \n",
       "TCGA-4Z-AA7Q-01A            8.496318        ...                   6.408897   \n",
       "\n",
       "                  ENSG00000280411.1  ENSG00000280734.1  ENSG00000280789.1  \\\n",
       "TCGA-2F-A9KO-01A           7.890611           9.487477           8.197412   \n",
       "TCGA-2F-A9KP-01A           4.784194           7.916190           8.448300   \n",
       "TCGA-2F-A9KQ-01A           3.684469           8.097340           8.346210   \n",
       "TCGA-2F-A9KR-01A           5.415932           9.231014           8.487673   \n",
       "TCGA-2F-A9KT-01A           4.448101           7.812737           8.470598   \n",
       "TCGA-2F-A9KW-01A           5.314622           6.651675           8.697122   \n",
       "TCGA-4Z-AA7M-01A           6.493163           8.312580           9.647659   \n",
       "TCGA-4Z-AA7N-01A           9.887549           7.464718           8.115185   \n",
       "TCGA-4Z-AA7O-01A           9.070366           8.712092           8.691521   \n",
       "TCGA-4Z-AA7Q-01A           9.609250           8.925624           7.917317   \n",
       "\n",
       "                  ENSG00000280798.1  ENSG00000280832.1  ENSG00000281332.1  \\\n",
       "TCGA-2F-A9KO-01A           8.170328           6.616274           7.787851   \n",
       "TCGA-2F-A9KP-01A           8.392858           8.582964           7.607547   \n",
       "TCGA-2F-A9KQ-01A           8.335397           8.058829           7.888971   \n",
       "TCGA-2F-A9KR-01A           7.773246           6.392280           8.318976   \n",
       "TCGA-2F-A9KT-01A           8.690529           7.598719           6.998807   \n",
       "TCGA-2F-A9KW-01A           8.608569           7.492498           6.486258   \n",
       "TCGA-4Z-AA7M-01A           8.187388           7.330619           7.298461   \n",
       "TCGA-4Z-AA7N-01A           8.536419           7.281195           7.440165   \n",
       "TCGA-4Z-AA7O-01A           7.733842           7.594347           7.764660   \n",
       "TCGA-4Z-AA7Q-01A           8.364937           6.483733           7.683860   \n",
       "\n",
       "                  ENSG00000281398.1  ENSG00000281406.1  ENSG00000281649.1  \n",
       "TCGA-2F-A9KO-01A           7.497947           5.870692          11.652532  \n",
       "TCGA-2F-A9KP-01A           8.687574           5.683720          10.179641  \n",
       "TCGA-2F-A9KQ-01A           7.463664           6.561208          10.483294  \n",
       "TCGA-2F-A9KR-01A           8.227283           9.256157          10.934495  \n",
       "TCGA-2F-A9KT-01A           7.468975           8.113118          10.653249  \n",
       "TCGA-2F-A9KW-01A           7.499733           4.415505          10.468635  \n",
       "TCGA-4Z-AA7M-01A           8.553173           3.684469          10.484015  \n",
       "TCGA-4Z-AA7N-01A           7.921429           6.084329          11.710244  \n",
       "TCGA-4Z-AA7O-01A           5.803181           7.057987          10.368587  \n",
       "TCGA-4Z-AA7Q-01A           7.202534           7.180692          11.487663  \n",
       "\n",
       "[10 rows x 13854 columns]"
      ]
     },
     "execution_count": 3,
     "metadata": {},
     "output_type": "execute_result"
    }
   ],
   "source": [
    "ExprAlldata.head(10)"
   ]
  },
  {
   "cell_type": "code",
   "execution_count": 4,
   "metadata": {},
   "outputs": [],
   "source": [
    "#check mean and variance, to prove it is z-score\n",
    "#ExprAlldata.var(axis = 0)"
   ]
  },
  {
   "cell_type": "code",
   "execution_count": 5,
   "metadata": {},
   "outputs": [],
   "source": [
    "#ExprAlldata.mean(axis = 0)"
   ]
  },
  {
   "cell_type": "code",
   "execution_count": 6,
   "metadata": {},
   "outputs": [
    {
     "name": "stdout",
     "output_type": "stream",
     "text": [
      "There exists NA value: ENSG00000000003.13    False\n",
      "ENSG00000000419.11    False\n",
      "ENSG00000000457.12    False\n",
      "ENSG00000000460.15    False\n",
      "ENSG00000000938.11    False\n",
      "ENSG00000000971.14    False\n",
      "ENSG00000001036.12    False\n",
      "ENSG00000001084.9     False\n",
      "ENSG00000001167.13    False\n",
      "ENSG00000001460.16    False\n",
      "ENSG00000001461.15    False\n",
      "ENSG00000001497.15    False\n",
      "ENSG00000001561.6     False\n",
      "ENSG00000001617.10    False\n",
      "ENSG00000001626.13    False\n",
      "ENSG00000001629.8     False\n",
      "ENSG00000001630.14    False\n",
      "ENSG00000001631.13    False\n",
      "ENSG00000002016.15    False\n",
      "ENSG00000002330.12    False\n",
      "ENSG00000002549.11    False\n",
      "ENSG00000002586.16    False\n",
      "ENSG00000002587.8     False\n",
      "ENSG00000002726.18    False\n",
      "ENSG00000002822.14    False\n",
      "ENSG00000002834.16    False\n",
      "ENSG00000002919.13    False\n",
      "ENSG00000002933.6     False\n",
      "ENSG00000003056.6     False\n",
      "ENSG00000003096.12    False\n",
      "                      ...  \n",
      "ENSG00000278948.1     False\n",
      "ENSG00000278970.1     False\n",
      "ENSG00000278978.1     False\n",
      "ENSG00000279010.1     False\n",
      "ENSG00000279088.1     False\n",
      "ENSG00000279095.1     False\n",
      "ENSG00000279117.1     False\n",
      "ENSG00000279207.1     False\n",
      "ENSG00000279453.1     False\n",
      "ENSG00000279483.1     False\n",
      "ENSG00000279496.1     False\n",
      "ENSG00000279528.1     False\n",
      "ENSG00000279978.1     False\n",
      "ENSG00000280088.1     False\n",
      "ENSG00000280111.1     False\n",
      "ENSG00000280128.1     False\n",
      "ENSG00000280138.1     False\n",
      "ENSG00000280143.1     False\n",
      "ENSG00000280202.1     False\n",
      "ENSG00000280206.1     False\n",
      "ENSG00000280237.1     False\n",
      "ENSG00000280411.1     False\n",
      "ENSG00000280734.1     False\n",
      "ENSG00000280789.1     False\n",
      "ENSG00000280798.1     False\n",
      "ENSG00000280832.1     False\n",
      "ENSG00000281332.1     False\n",
      "ENSG00000281398.1     False\n",
      "ENSG00000281406.1     False\n",
      "ENSG00000281649.1     False\n",
      "Length: 13854, dtype: bool\n",
      "All values are finite: ENSG00000000003.13    True\n",
      "ENSG00000000419.11    True\n",
      "ENSG00000000457.12    True\n",
      "ENSG00000000460.15    True\n",
      "ENSG00000000938.11    True\n",
      "ENSG00000000971.14    True\n",
      "ENSG00000001036.12    True\n",
      "ENSG00000001084.9     True\n",
      "ENSG00000001167.13    True\n",
      "ENSG00000001460.16    True\n",
      "ENSG00000001461.15    True\n",
      "ENSG00000001497.15    True\n",
      "ENSG00000001561.6     True\n",
      "ENSG00000001617.10    True\n",
      "ENSG00000001626.13    True\n",
      "ENSG00000001629.8     True\n",
      "ENSG00000001630.14    True\n",
      "ENSG00000001631.13    True\n",
      "ENSG00000002016.15    True\n",
      "ENSG00000002330.12    True\n",
      "ENSG00000002549.11    True\n",
      "ENSG00000002586.16    True\n",
      "ENSG00000002587.8     True\n",
      "ENSG00000002726.18    True\n",
      "ENSG00000002822.14    True\n",
      "ENSG00000002834.16    True\n",
      "ENSG00000002919.13    True\n",
      "ENSG00000002933.6     True\n",
      "ENSG00000003056.6     True\n",
      "ENSG00000003096.12    True\n",
      "                      ... \n",
      "ENSG00000278948.1     True\n",
      "ENSG00000278970.1     True\n",
      "ENSG00000278978.1     True\n",
      "ENSG00000279010.1     True\n",
      "ENSG00000279088.1     True\n",
      "ENSG00000279095.1     True\n",
      "ENSG00000279117.1     True\n",
      "ENSG00000279207.1     True\n",
      "ENSG00000279453.1     True\n",
      "ENSG00000279483.1     True\n",
      "ENSG00000279496.1     True\n",
      "ENSG00000279528.1     True\n",
      "ENSG00000279978.1     True\n",
      "ENSG00000280088.1     True\n",
      "ENSG00000280111.1     True\n",
      "ENSG00000280128.1     True\n",
      "ENSG00000280138.1     True\n",
      "ENSG00000280143.1     True\n",
      "ENSG00000280202.1     True\n",
      "ENSG00000280206.1     True\n",
      "ENSG00000280237.1     True\n",
      "ENSG00000280411.1     True\n",
      "ENSG00000280734.1     True\n",
      "ENSG00000280789.1     True\n",
      "ENSG00000280798.1     True\n",
      "ENSG00000280832.1     True\n",
      "ENSG00000281332.1     True\n",
      "ENSG00000281398.1     True\n",
      "ENSG00000281406.1     True\n",
      "ENSG00000281649.1     True\n",
      "Length: 13854, dtype: bool\n"
     ]
    }
   ],
   "source": [
    "any_na = np.any(np.isnan(ExprAlldata))\n",
    "print ('There exists NA value: ' + repr (any_na))\n",
    "\n",
    "all_finite = np.all(np.isfinite(ExprAlldata))\n",
    "print ('All values are finite: ' + repr (all_finite))"
   ]
  },
  {
   "cell_type": "code",
   "execution_count": 7,
   "metadata": {},
   "outputs": [
    {
     "data": {
      "text/plain": [
       "(2606, 13854)"
      ]
     },
     "execution_count": 7,
     "metadata": {},
     "output_type": "execute_result"
    }
   ],
   "source": [
    "#minmax data transformation\n",
    "\n",
    "from sklearn import preprocessing\n",
    "\n",
    "#built up data frame\n",
    "from pandas import DataFrame, Series\n",
    "Exprframe = DataFrame(ExprAlldata)\n",
    "#Exprframe = ExprAlldata.T\n",
    "Exprframe_og = Exprframe\n",
    "\n",
    "# Scale RNAseq data using zero-one normalization\n",
    "Exprframe_zerone = preprocessing.MinMaxScaler().fit_transform(Exprframe)\n",
    "Exprframe_zerone.shape\n",
    "\n",
    "#change column name\n",
    "#Exprframe.columns.values[0] = \"Gene\"\n",
    "\n",
    "#set rownames\n",
    "#Exprframe = Exprframe.set_index('Gene')\n",
    "#Exprframe"
   ]
  },
  {
   "cell_type": "code",
   "execution_count": 8,
   "metadata": {},
   "outputs": [],
   "source": [
    "# logistic transformation, logistic sigmoid function\n",
    "#def logits(x):\n",
    "#    return 1 / (1 + np.exp(-x))\n",
    "\n",
    "#Exprframe_logit = logits(Exprframe)\n",
    "#Exprframe_logit.shape"
   ]
  },
  {
   "cell_type": "code",
   "execution_count": 9,
   "metadata": {},
   "outputs": [],
   "source": [
    "# Standardize\n",
    "#scaler = preprocessing.StandardScaler()\n",
    "#scaler.fit((Exprframe))\n",
    "#Exprfram_std = scaler.transform(Exprframe)\n",
    "#Exprfram_std.shape"
   ]
  },
  {
   "cell_type": "code",
   "execution_count": 10,
   "metadata": {},
   "outputs": [
    {
     "name": "stdout",
     "output_type": "stream",
     "text": [
      "(2606, 13854)\n"
     ]
    },
    {
     "data": {
      "text/html": [
       "<div>\n",
       "<style scoped>\n",
       "    .dataframe tbody tr th:only-of-type {\n",
       "        vertical-align: middle;\n",
       "    }\n",
       "\n",
       "    .dataframe tbody tr th {\n",
       "        vertical-align: top;\n",
       "    }\n",
       "\n",
       "    .dataframe thead th {\n",
       "        text-align: right;\n",
       "    }\n",
       "</style>\n",
       "<table border=\"1\" class=\"dataframe\">\n",
       "  <thead>\n",
       "    <tr style=\"text-align: right;\">\n",
       "      <th></th>\n",
       "      <th>ENSG00000000003.13</th>\n",
       "      <th>ENSG00000000419.11</th>\n",
       "      <th>ENSG00000000457.12</th>\n",
       "      <th>ENSG00000000460.15</th>\n",
       "      <th>ENSG00000000938.11</th>\n",
       "      <th>ENSG00000000971.14</th>\n",
       "      <th>ENSG00000001036.12</th>\n",
       "      <th>ENSG00000001084.9</th>\n",
       "      <th>ENSG00000001167.13</th>\n",
       "      <th>ENSG00000001460.16</th>\n",
       "      <th>...</th>\n",
       "      <th>ENSG00000280237.1</th>\n",
       "      <th>ENSG00000280411.1</th>\n",
       "      <th>ENSG00000280734.1</th>\n",
       "      <th>ENSG00000280789.1</th>\n",
       "      <th>ENSG00000280798.1</th>\n",
       "      <th>ENSG00000280832.1</th>\n",
       "      <th>ENSG00000281332.1</th>\n",
       "      <th>ENSG00000281398.1</th>\n",
       "      <th>ENSG00000281406.1</th>\n",
       "      <th>ENSG00000281649.1</th>\n",
       "    </tr>\n",
       "  </thead>\n",
       "  <tbody>\n",
       "    <tr>\n",
       "      <th>TCGA-2F-A9KO-01A</th>\n",
       "      <td>0.710164</td>\n",
       "      <td>0.617211</td>\n",
       "      <td>0.519420</td>\n",
       "      <td>0.520146</td>\n",
       "      <td>0.473982</td>\n",
       "      <td>0.695137</td>\n",
       "      <td>0.373994</td>\n",
       "      <td>0.695573</td>\n",
       "      <td>0.292612</td>\n",
       "      <td>0.447058</td>\n",
       "      <td>...</td>\n",
       "      <td>0.268724</td>\n",
       "      <td>0.390196</td>\n",
       "      <td>0.644923</td>\n",
       "      <td>0.278018</td>\n",
       "      <td>0.249006</td>\n",
       "      <td>0.293353</td>\n",
       "      <td>0.374109</td>\n",
       "      <td>0.534897</td>\n",
       "      <td>0.392118</td>\n",
       "      <td>0.531080</td>\n",
       "    </tr>\n",
       "    <tr>\n",
       "      <th>TCGA-2F-A9KP-01A</th>\n",
       "      <td>0.767971</td>\n",
       "      <td>0.514313</td>\n",
       "      <td>0.360030</td>\n",
       "      <td>0.497071</td>\n",
       "      <td>0.245305</td>\n",
       "      <td>0.234815</td>\n",
       "      <td>0.478106</td>\n",
       "      <td>0.611301</td>\n",
       "      <td>0.313018</td>\n",
       "      <td>0.585465</td>\n",
       "      <td>...</td>\n",
       "      <td>0.229878</td>\n",
       "      <td>0.164490</td>\n",
       "      <td>0.430483</td>\n",
       "      <td>0.323095</td>\n",
       "      <td>0.292155</td>\n",
       "      <td>0.629785</td>\n",
       "      <td>0.345000</td>\n",
       "      <td>0.662733</td>\n",
       "      <td>0.370235</td>\n",
       "      <td>0.275593</td>\n",
       "    </tr>\n",
       "    <tr>\n",
       "      <th>TCGA-2F-A9KQ-01A</th>\n",
       "      <td>0.671763</td>\n",
       "      <td>0.483099</td>\n",
       "      <td>0.444161</td>\n",
       "      <td>0.377714</td>\n",
       "      <td>0.398353</td>\n",
       "      <td>0.274106</td>\n",
       "      <td>0.509878</td>\n",
       "      <td>0.505885</td>\n",
       "      <td>0.263095</td>\n",
       "      <td>0.548165</td>\n",
       "      <td>...</td>\n",
       "      <td>0.226656</td>\n",
       "      <td>0.084586</td>\n",
       "      <td>0.455205</td>\n",
       "      <td>0.304753</td>\n",
       "      <td>0.281014</td>\n",
       "      <td>0.540124</td>\n",
       "      <td>0.390434</td>\n",
       "      <td>0.531213</td>\n",
       "      <td>0.472933</td>\n",
       "      <td>0.328265</td>\n",
       "    </tr>\n",
       "  </tbody>\n",
       "</table>\n",
       "<p>3 rows × 13854 columns</p>\n",
       "</div>"
      ],
      "text/plain": [
       "                  ENSG00000000003.13  ENSG00000000419.11  ENSG00000000457.12  \\\n",
       "TCGA-2F-A9KO-01A            0.710164            0.617211            0.519420   \n",
       "TCGA-2F-A9KP-01A            0.767971            0.514313            0.360030   \n",
       "TCGA-2F-A9KQ-01A            0.671763            0.483099            0.444161   \n",
       "\n",
       "                  ENSG00000000460.15  ENSG00000000938.11  ENSG00000000971.14  \\\n",
       "TCGA-2F-A9KO-01A            0.520146            0.473982            0.695137   \n",
       "TCGA-2F-A9KP-01A            0.497071            0.245305            0.234815   \n",
       "TCGA-2F-A9KQ-01A            0.377714            0.398353            0.274106   \n",
       "\n",
       "                  ENSG00000001036.12  ENSG00000001084.9  ENSG00000001167.13  \\\n",
       "TCGA-2F-A9KO-01A            0.373994           0.695573            0.292612   \n",
       "TCGA-2F-A9KP-01A            0.478106           0.611301            0.313018   \n",
       "TCGA-2F-A9KQ-01A            0.509878           0.505885            0.263095   \n",
       "\n",
       "                  ENSG00000001460.16        ...          ENSG00000280237.1  \\\n",
       "TCGA-2F-A9KO-01A            0.447058        ...                   0.268724   \n",
       "TCGA-2F-A9KP-01A            0.585465        ...                   0.229878   \n",
       "TCGA-2F-A9KQ-01A            0.548165        ...                   0.226656   \n",
       "\n",
       "                  ENSG00000280411.1  ENSG00000280734.1  ENSG00000280789.1  \\\n",
       "TCGA-2F-A9KO-01A           0.390196           0.644923           0.278018   \n",
       "TCGA-2F-A9KP-01A           0.164490           0.430483           0.323095   \n",
       "TCGA-2F-A9KQ-01A           0.084586           0.455205           0.304753   \n",
       "\n",
       "                  ENSG00000280798.1  ENSG00000280832.1  ENSG00000281332.1  \\\n",
       "TCGA-2F-A9KO-01A           0.249006           0.293353           0.374109   \n",
       "TCGA-2F-A9KP-01A           0.292155           0.629785           0.345000   \n",
       "TCGA-2F-A9KQ-01A           0.281014           0.540124           0.390434   \n",
       "\n",
       "                  ENSG00000281398.1  ENSG00000281406.1  ENSG00000281649.1  \n",
       "TCGA-2F-A9KO-01A           0.534897           0.392118           0.531080  \n",
       "TCGA-2F-A9KP-01A           0.662733           0.370235           0.275593  \n",
       "TCGA-2F-A9KQ-01A           0.531213           0.472933           0.328265  \n",
       "\n",
       "[3 rows x 13854 columns]"
      ]
     },
     "execution_count": 10,
     "metadata": {},
     "output_type": "execute_result"
    }
   ],
   "source": [
    "# If select the minmax method\n",
    "Exprframe = pd.DataFrame(Exprframe_zerone,\n",
    "                         columns=Exprframe.columns,\n",
    "                         index=Exprframe.index)\n",
    "\n",
    "# If select the logistic transformation method\n",
    "#Exprframe = pd.DataFrame(Exprframe_logit,\n",
    "#                         columns=Exprframe.columns,\n",
    "#                         index=Exprframe.index)\n",
    "\n",
    "# If select the Standardization method\n",
    "#Exprframe = pd.DataFrame(Exprfram_std,\n",
    "#                         columns=Exprframe.columns,\n",
    "#                         index=Exprframe.index)\n",
    "\n",
    "# If use no transformation\n",
    "#Exprframe = Exprframe_og\n",
    "\n",
    "#\n",
    "print(Exprframe.shape)\n",
    "Exprframe.head(3)\n",
    "\n",
    "#output log transformed data\n",
    "#log_file = \"counts_data/vae_compressed/log_transformed(0.2_var,3layers,0.1test,log).tsv\"\n",
    "#Exprframe.to_csv(log_file, sep='\\t')"
   ]
  },
  {
   "cell_type": "code",
   "execution_count": 11,
   "metadata": {},
   "outputs": [
    {
     "name": "stdout",
     "output_type": "stream",
     "text": [
      "number of genes is 13854\n"
     ]
    }
   ],
   "source": [
    "import math\n",
    "\n",
    "#contruct training dataset\n",
    "\n",
    "n_genes = Exprframe.shape[1]\n",
    "\n",
    "print ('number of genes is ' + repr (n_genes))\n"
   ]
  },
  {
   "cell_type": "code",
   "execution_count": 12,
   "metadata": {},
   "outputs": [
    {
     "name": "stdout",
     "output_type": "stream",
     "text": [
      "b'Hello, TensorFlow!'\n",
      "10 + 32 =  42\n"
     ]
    }
   ],
   "source": [
    "#test tensorflow, remember to change the kernel\n",
    "\n",
    "import tensorflow as tf\n",
    "hello = tf.constant('Hello, TensorFlow!')\n",
    "sess = tf.Session()\n",
    "print(sess.run(hello))\n",
    "\n",
    "a = tf.constant(10)\n",
    "b = tf.constant(32)\n",
    "print(\"10 + 32 = \", sess.run(a + b))"
   ]
  },
  {
   "cell_type": "code",
   "execution_count": 13,
   "metadata": {},
   "outputs": [
    {
     "name": "stdout",
     "output_type": "stream",
     "text": [
      "whether tensorflow is built with cuda:  True\n",
      "whether gpu computing is available for tensorflow:  True\n",
      "using keras version:  2.1.3\n",
      "using tensorflow version:  1.4.1\n",
      "\n",
      "\n",
      "Device details:\n",
      " [name: \"/device:CPU:0\"\n",
      "device_type: \"CPU\"\n",
      "memory_limit: 268435456\n",
      "locality {\n",
      "}\n",
      "incarnation: 10782626773613020017\n",
      ", name: \"/device:GPU:0\"\n",
      "device_type: \"GPU\"\n",
      "memory_limit: 987955200\n",
      "locality {\n",
      "  bus_id: 1\n",
      "}\n",
      "incarnation: 12060120876115302169\n",
      "physical_device_desc: \"device: 0, name: TITAN RTX, pci bus id: 0000:01:00.0, compute capability: 7.5\"\n",
      "]\n",
      "Default GPU Device: /device:GPU:0\n"
     ]
    }
   ],
   "source": [
    "#######################################################################################################\n",
    "#check the system information, check if cuda and gpu computing for tensorflow is installed properly\n",
    "print(\"whether tensorflow is built with cuda: \", tf.test.is_built_with_cuda())\n",
    "print(\"whether gpu computing is available for tensorflow: \", tf.test.is_gpu_available())\n",
    "print(\"using keras version: \", keras.__version__)\n",
    "print(\"using tensorflow version: \", tf.__version__)\n",
    "print(\"\\n\")\n",
    "print(\"Device details:\\n\", device_lib.list_local_devices())\n",
    "if tf.test.gpu_device_name():\n",
    "    print('Default GPU Device: {}'.format(tf.test.gpu_device_name()))\n",
    "else:\n",
    "    print(\"Please install GPU version of TF\")"
   ]
  },
  {
   "cell_type": "code",
   "execution_count": 14,
   "metadata": {},
   "outputs": [
    {
     "data": {
      "text/html": [
       "<div>\n",
       "<style scoped>\n",
       "    .dataframe tbody tr th:only-of-type {\n",
       "        vertical-align: middle;\n",
       "    }\n",
       "\n",
       "    .dataframe tbody tr th {\n",
       "        vertical-align: top;\n",
       "    }\n",
       "\n",
       "    .dataframe thead th {\n",
       "        text-align: right;\n",
       "    }\n",
       "</style>\n",
       "<table border=\"1\" class=\"dataframe\">\n",
       "  <thead>\n",
       "    <tr style=\"text-align: right;\">\n",
       "      <th></th>\n",
       "      <th>ENSG00000000003.13</th>\n",
       "      <th>ENSG00000000419.11</th>\n",
       "      <th>ENSG00000000457.12</th>\n",
       "      <th>ENSG00000000460.15</th>\n",
       "      <th>ENSG00000000938.11</th>\n",
       "      <th>ENSG00000000971.14</th>\n",
       "      <th>ENSG00000001036.12</th>\n",
       "      <th>ENSG00000001084.9</th>\n",
       "      <th>ENSG00000001167.13</th>\n",
       "      <th>ENSG00000001460.16</th>\n",
       "      <th>...</th>\n",
       "      <th>ENSG00000280237.1</th>\n",
       "      <th>ENSG00000280411.1</th>\n",
       "      <th>ENSG00000280734.1</th>\n",
       "      <th>ENSG00000280789.1</th>\n",
       "      <th>ENSG00000280798.1</th>\n",
       "      <th>ENSG00000280832.1</th>\n",
       "      <th>ENSG00000281332.1</th>\n",
       "      <th>ENSG00000281398.1</th>\n",
       "      <th>ENSG00000281406.1</th>\n",
       "      <th>ENSG00000281649.1</th>\n",
       "    </tr>\n",
       "  </thead>\n",
       "  <tbody>\n",
       "    <tr>\n",
       "      <th>TCGA-2F-A9KO-01A</th>\n",
       "      <td>0.710164</td>\n",
       "      <td>0.617211</td>\n",
       "      <td>0.519420</td>\n",
       "      <td>0.520146</td>\n",
       "      <td>0.473982</td>\n",
       "      <td>0.695137</td>\n",
       "      <td>0.373994</td>\n",
       "      <td>0.695573</td>\n",
       "      <td>0.292612</td>\n",
       "      <td>0.447058</td>\n",
       "      <td>...</td>\n",
       "      <td>0.268724</td>\n",
       "      <td>0.390196</td>\n",
       "      <td>0.644923</td>\n",
       "      <td>0.278018</td>\n",
       "      <td>0.249006</td>\n",
       "      <td>0.293353</td>\n",
       "      <td>0.374109</td>\n",
       "      <td>0.534897</td>\n",
       "      <td>0.392118</td>\n",
       "      <td>0.531080</td>\n",
       "    </tr>\n",
       "    <tr>\n",
       "      <th>TCGA-2F-A9KP-01A</th>\n",
       "      <td>0.767971</td>\n",
       "      <td>0.514313</td>\n",
       "      <td>0.360030</td>\n",
       "      <td>0.497071</td>\n",
       "      <td>0.245305</td>\n",
       "      <td>0.234815</td>\n",
       "      <td>0.478106</td>\n",
       "      <td>0.611301</td>\n",
       "      <td>0.313018</td>\n",
       "      <td>0.585465</td>\n",
       "      <td>...</td>\n",
       "      <td>0.229878</td>\n",
       "      <td>0.164490</td>\n",
       "      <td>0.430483</td>\n",
       "      <td>0.323095</td>\n",
       "      <td>0.292155</td>\n",
       "      <td>0.629785</td>\n",
       "      <td>0.345000</td>\n",
       "      <td>0.662733</td>\n",
       "      <td>0.370235</td>\n",
       "      <td>0.275593</td>\n",
       "    </tr>\n",
       "    <tr>\n",
       "      <th>TCGA-2F-A9KQ-01A</th>\n",
       "      <td>0.671763</td>\n",
       "      <td>0.483099</td>\n",
       "      <td>0.444161</td>\n",
       "      <td>0.377714</td>\n",
       "      <td>0.398353</td>\n",
       "      <td>0.274106</td>\n",
       "      <td>0.509878</td>\n",
       "      <td>0.505885</td>\n",
       "      <td>0.263095</td>\n",
       "      <td>0.548165</td>\n",
       "      <td>...</td>\n",
       "      <td>0.226656</td>\n",
       "      <td>0.084586</td>\n",
       "      <td>0.455205</td>\n",
       "      <td>0.304753</td>\n",
       "      <td>0.281014</td>\n",
       "      <td>0.540124</td>\n",
       "      <td>0.390434</td>\n",
       "      <td>0.531213</td>\n",
       "      <td>0.472933</td>\n",
       "      <td>0.328265</td>\n",
       "    </tr>\n",
       "    <tr>\n",
       "      <th>TCGA-2F-A9KR-01A</th>\n",
       "      <td>0.614928</td>\n",
       "      <td>0.459424</td>\n",
       "      <td>0.394521</td>\n",
       "      <td>0.338501</td>\n",
       "      <td>0.480931</td>\n",
       "      <td>0.589245</td>\n",
       "      <td>0.309490</td>\n",
       "      <td>0.534601</td>\n",
       "      <td>0.386206</td>\n",
       "      <td>0.495627</td>\n",
       "      <td>...</td>\n",
       "      <td>0.391754</td>\n",
       "      <td>0.210391</td>\n",
       "      <td>0.609922</td>\n",
       "      <td>0.330170</td>\n",
       "      <td>0.172009</td>\n",
       "      <td>0.255035</td>\n",
       "      <td>0.459854</td>\n",
       "      <td>0.613271</td>\n",
       "      <td>0.788340</td>\n",
       "      <td>0.406530</td>\n",
       "    </tr>\n",
       "    <tr>\n",
       "      <th>TCGA-2F-A9KT-01A</th>\n",
       "      <td>0.623130</td>\n",
       "      <td>0.620661</td>\n",
       "      <td>0.270033</td>\n",
       "      <td>0.360897</td>\n",
       "      <td>0.452615</td>\n",
       "      <td>0.219804</td>\n",
       "      <td>0.433157</td>\n",
       "      <td>0.321845</td>\n",
       "      <td>0.256024</td>\n",
       "      <td>0.490348</td>\n",
       "      <td>...</td>\n",
       "      <td>0.145928</td>\n",
       "      <td>0.140070</td>\n",
       "      <td>0.416364</td>\n",
       "      <td>0.327102</td>\n",
       "      <td>0.349875</td>\n",
       "      <td>0.461415</td>\n",
       "      <td>0.246724</td>\n",
       "      <td>0.531783</td>\n",
       "      <td>0.654563</td>\n",
       "      <td>0.357745</td>\n",
       "    </tr>\n",
       "    <tr>\n",
       "      <th>TCGA-2F-A9KW-01A</th>\n",
       "      <td>0.573031</td>\n",
       "      <td>0.514314</td>\n",
       "      <td>0.306792</td>\n",
       "      <td>0.564824</td>\n",
       "      <td>0.429676</td>\n",
       "      <td>0.352068</td>\n",
       "      <td>0.548247</td>\n",
       "      <td>0.239811</td>\n",
       "      <td>0.171217</td>\n",
       "      <td>0.634230</td>\n",
       "      <td>...</td>\n",
       "      <td>0.290405</td>\n",
       "      <td>0.203030</td>\n",
       "      <td>0.257909</td>\n",
       "      <td>0.367801</td>\n",
       "      <td>0.333983</td>\n",
       "      <td>0.443244</td>\n",
       "      <td>0.163978</td>\n",
       "      <td>0.535088</td>\n",
       "      <td>0.221808</td>\n",
       "      <td>0.325722</td>\n",
       "    </tr>\n",
       "    <tr>\n",
       "      <th>TCGA-4Z-AA7M-01A</th>\n",
       "      <td>0.751115</td>\n",
       "      <td>0.568587</td>\n",
       "      <td>0.482784</td>\n",
       "      <td>0.684281</td>\n",
       "      <td>0.323461</td>\n",
       "      <td>0.576292</td>\n",
       "      <td>0.430932</td>\n",
       "      <td>0.450688</td>\n",
       "      <td>0.445616</td>\n",
       "      <td>0.544034</td>\n",
       "      <td>...</td>\n",
       "      <td>0.319666</td>\n",
       "      <td>0.288660</td>\n",
       "      <td>0.484580</td>\n",
       "      <td>0.538584</td>\n",
       "      <td>0.252314</td>\n",
       "      <td>0.415552</td>\n",
       "      <td>0.295101</td>\n",
       "      <td>0.648291</td>\n",
       "      <td>0.136250</td>\n",
       "      <td>0.328390</td>\n",
       "    </tr>\n",
       "    <tr>\n",
       "      <th>TCGA-4Z-AA7N-01A</th>\n",
       "      <td>0.645778</td>\n",
       "      <td>0.484646</td>\n",
       "      <td>0.269824</td>\n",
       "      <td>0.335526</td>\n",
       "      <td>0.554279</td>\n",
       "      <td>0.552693</td>\n",
       "      <td>0.341699</td>\n",
       "      <td>0.510521</td>\n",
       "      <td>0.460876</td>\n",
       "      <td>0.511356</td>\n",
       "      <td>...</td>\n",
       "      <td>0.485747</td>\n",
       "      <td>0.535289</td>\n",
       "      <td>0.368868</td>\n",
       "      <td>0.263245</td>\n",
       "      <td>0.319993</td>\n",
       "      <td>0.407097</td>\n",
       "      <td>0.317978</td>\n",
       "      <td>0.580404</td>\n",
       "      <td>0.417121</td>\n",
       "      <td>0.541091</td>\n",
       "    </tr>\n",
       "    <tr>\n",
       "      <th>TCGA-4Z-AA7O-01A</th>\n",
       "      <td>0.789167</td>\n",
       "      <td>0.442339</td>\n",
       "      <td>0.500887</td>\n",
       "      <td>0.572318</td>\n",
       "      <td>0.423847</td>\n",
       "      <td>0.731468</td>\n",
       "      <td>0.501232</td>\n",
       "      <td>0.658118</td>\n",
       "      <td>0.320710</td>\n",
       "      <td>0.463720</td>\n",
       "      <td>...</td>\n",
       "      <td>0.155848</td>\n",
       "      <td>0.475914</td>\n",
       "      <td>0.539103</td>\n",
       "      <td>0.366795</td>\n",
       "      <td>0.164369</td>\n",
       "      <td>0.460667</td>\n",
       "      <td>0.370365</td>\n",
       "      <td>0.352778</td>\n",
       "      <td>0.531074</td>\n",
       "      <td>0.308368</td>\n",
       "    </tr>\n",
       "    <tr>\n",
       "      <th>TCGA-4Z-AA7Q-01A</th>\n",
       "      <td>0.652476</td>\n",
       "      <td>0.442068</td>\n",
       "      <td>0.501099</td>\n",
       "      <td>0.468479</td>\n",
       "      <td>0.586745</td>\n",
       "      <td>0.544337</td>\n",
       "      <td>0.418263</td>\n",
       "      <td>0.352837</td>\n",
       "      <td>0.380163</td>\n",
       "      <td>0.415482</td>\n",
       "      <td>...</td>\n",
       "      <td>0.296202</td>\n",
       "      <td>0.515069</td>\n",
       "      <td>0.568244</td>\n",
       "      <td>0.227694</td>\n",
       "      <td>0.286742</td>\n",
       "      <td>0.270680</td>\n",
       "      <td>0.357320</td>\n",
       "      <td>0.503152</td>\n",
       "      <td>0.545435</td>\n",
       "      <td>0.502482</td>\n",
       "    </tr>\n",
       "  </tbody>\n",
       "</table>\n",
       "<p>10 rows × 13854 columns</p>\n",
       "</div>"
      ],
      "text/plain": [
       "                  ENSG00000000003.13  ENSG00000000419.11  ENSG00000000457.12  \\\n",
       "TCGA-2F-A9KO-01A            0.710164            0.617211            0.519420   \n",
       "TCGA-2F-A9KP-01A            0.767971            0.514313            0.360030   \n",
       "TCGA-2F-A9KQ-01A            0.671763            0.483099            0.444161   \n",
       "TCGA-2F-A9KR-01A            0.614928            0.459424            0.394521   \n",
       "TCGA-2F-A9KT-01A            0.623130            0.620661            0.270033   \n",
       "TCGA-2F-A9KW-01A            0.573031            0.514314            0.306792   \n",
       "TCGA-4Z-AA7M-01A            0.751115            0.568587            0.482784   \n",
       "TCGA-4Z-AA7N-01A            0.645778            0.484646            0.269824   \n",
       "TCGA-4Z-AA7O-01A            0.789167            0.442339            0.500887   \n",
       "TCGA-4Z-AA7Q-01A            0.652476            0.442068            0.501099   \n",
       "\n",
       "                  ENSG00000000460.15  ENSG00000000938.11  ENSG00000000971.14  \\\n",
       "TCGA-2F-A9KO-01A            0.520146            0.473982            0.695137   \n",
       "TCGA-2F-A9KP-01A            0.497071            0.245305            0.234815   \n",
       "TCGA-2F-A9KQ-01A            0.377714            0.398353            0.274106   \n",
       "TCGA-2F-A9KR-01A            0.338501            0.480931            0.589245   \n",
       "TCGA-2F-A9KT-01A            0.360897            0.452615            0.219804   \n",
       "TCGA-2F-A9KW-01A            0.564824            0.429676            0.352068   \n",
       "TCGA-4Z-AA7M-01A            0.684281            0.323461            0.576292   \n",
       "TCGA-4Z-AA7N-01A            0.335526            0.554279            0.552693   \n",
       "TCGA-4Z-AA7O-01A            0.572318            0.423847            0.731468   \n",
       "TCGA-4Z-AA7Q-01A            0.468479            0.586745            0.544337   \n",
       "\n",
       "                  ENSG00000001036.12  ENSG00000001084.9  ENSG00000001167.13  \\\n",
       "TCGA-2F-A9KO-01A            0.373994           0.695573            0.292612   \n",
       "TCGA-2F-A9KP-01A            0.478106           0.611301            0.313018   \n",
       "TCGA-2F-A9KQ-01A            0.509878           0.505885            0.263095   \n",
       "TCGA-2F-A9KR-01A            0.309490           0.534601            0.386206   \n",
       "TCGA-2F-A9KT-01A            0.433157           0.321845            0.256024   \n",
       "TCGA-2F-A9KW-01A            0.548247           0.239811            0.171217   \n",
       "TCGA-4Z-AA7M-01A            0.430932           0.450688            0.445616   \n",
       "TCGA-4Z-AA7N-01A            0.341699           0.510521            0.460876   \n",
       "TCGA-4Z-AA7O-01A            0.501232           0.658118            0.320710   \n",
       "TCGA-4Z-AA7Q-01A            0.418263           0.352837            0.380163   \n",
       "\n",
       "                  ENSG00000001460.16        ...          ENSG00000280237.1  \\\n",
       "TCGA-2F-A9KO-01A            0.447058        ...                   0.268724   \n",
       "TCGA-2F-A9KP-01A            0.585465        ...                   0.229878   \n",
       "TCGA-2F-A9KQ-01A            0.548165        ...                   0.226656   \n",
       "TCGA-2F-A9KR-01A            0.495627        ...                   0.391754   \n",
       "TCGA-2F-A9KT-01A            0.490348        ...                   0.145928   \n",
       "TCGA-2F-A9KW-01A            0.634230        ...                   0.290405   \n",
       "TCGA-4Z-AA7M-01A            0.544034        ...                   0.319666   \n",
       "TCGA-4Z-AA7N-01A            0.511356        ...                   0.485747   \n",
       "TCGA-4Z-AA7O-01A            0.463720        ...                   0.155848   \n",
       "TCGA-4Z-AA7Q-01A            0.415482        ...                   0.296202   \n",
       "\n",
       "                  ENSG00000280411.1  ENSG00000280734.1  ENSG00000280789.1  \\\n",
       "TCGA-2F-A9KO-01A           0.390196           0.644923           0.278018   \n",
       "TCGA-2F-A9KP-01A           0.164490           0.430483           0.323095   \n",
       "TCGA-2F-A9KQ-01A           0.084586           0.455205           0.304753   \n",
       "TCGA-2F-A9KR-01A           0.210391           0.609922           0.330170   \n",
       "TCGA-2F-A9KT-01A           0.140070           0.416364           0.327102   \n",
       "TCGA-2F-A9KW-01A           0.203030           0.257909           0.367801   \n",
       "TCGA-4Z-AA7M-01A           0.288660           0.484580           0.538584   \n",
       "TCGA-4Z-AA7N-01A           0.535289           0.368868           0.263245   \n",
       "TCGA-4Z-AA7O-01A           0.475914           0.539103           0.366795   \n",
       "TCGA-4Z-AA7Q-01A           0.515069           0.568244           0.227694   \n",
       "\n",
       "                  ENSG00000280798.1  ENSG00000280832.1  ENSG00000281332.1  \\\n",
       "TCGA-2F-A9KO-01A           0.249006           0.293353           0.374109   \n",
       "TCGA-2F-A9KP-01A           0.292155           0.629785           0.345000   \n",
       "TCGA-2F-A9KQ-01A           0.281014           0.540124           0.390434   \n",
       "TCGA-2F-A9KR-01A           0.172009           0.255035           0.459854   \n",
       "TCGA-2F-A9KT-01A           0.349875           0.461415           0.246724   \n",
       "TCGA-2F-A9KW-01A           0.333983           0.443244           0.163978   \n",
       "TCGA-4Z-AA7M-01A           0.252314           0.415552           0.295101   \n",
       "TCGA-4Z-AA7N-01A           0.319993           0.407097           0.317978   \n",
       "TCGA-4Z-AA7O-01A           0.164369           0.460667           0.370365   \n",
       "TCGA-4Z-AA7Q-01A           0.286742           0.270680           0.357320   \n",
       "\n",
       "                  ENSG00000281398.1  ENSG00000281406.1  ENSG00000281649.1  \n",
       "TCGA-2F-A9KO-01A           0.534897           0.392118           0.531080  \n",
       "TCGA-2F-A9KP-01A           0.662733           0.370235           0.275593  \n",
       "TCGA-2F-A9KQ-01A           0.531213           0.472933           0.328265  \n",
       "TCGA-2F-A9KR-01A           0.613271           0.788340           0.406530  \n",
       "TCGA-2F-A9KT-01A           0.531783           0.654563           0.357745  \n",
       "TCGA-2F-A9KW-01A           0.535088           0.221808           0.325722  \n",
       "TCGA-4Z-AA7M-01A           0.648291           0.136250           0.328390  \n",
       "TCGA-4Z-AA7N-01A           0.580404           0.417121           0.541091  \n",
       "TCGA-4Z-AA7O-01A           0.352778           0.531074           0.308368  \n",
       "TCGA-4Z-AA7Q-01A           0.503152           0.545435           0.502482  \n",
       "\n",
       "[10 rows x 13854 columns]"
      ]
     },
     "execution_count": 14,
     "metadata": {},
     "output_type": "execute_result"
    }
   ],
   "source": [
    "#import the data as training data\n",
    "\n",
    "#Expr_array = Exprframe.values\n",
    "#Expr_array = np.float32(Expr_array)\n",
    "\n",
    "#set the random state to 42\n",
    "\n",
    "# Split 10% test set randomly\n",
    "test_set_percent = 0.1\n",
    "Exprframe_test = Exprframe.sample(frac=test_set_percent, random_state = 42)\n",
    "Exprframe_train = Exprframe.drop(Exprframe_test.index)\n",
    "Exprframe_train.head(10)"
   ]
  },
  {
   "cell_type": "markdown",
   "metadata": {},
   "source": [
    "Load packages and use tensorflow as backend"
   ]
  },
  {
   "cell_type": "code",
   "execution_count": 15,
   "metadata": {},
   "outputs": [],
   "source": [
    "import os\n",
    "import numpy as np\n",
    "import pandas as pd\n",
    "import matplotlib.pyplot as plt\n",
    "import seaborn as sns\n",
    "\n",
    "import tensorflow as tf\n",
    "from keras.layers import Input, Dense, Lambda, Layer, Activation\n",
    "from keras.layers.normalization import BatchNormalization\n",
    "from keras.models import Model\n",
    "from keras import backend as K\n",
    "from keras import metrics, optimizers\n",
    "from keras import losses\n",
    "from keras.callbacks import Callback\n",
    "import keras\n",
    "from keras import utils\n",
    "\n",
    "import pydot\n",
    "import graphviz\n",
    "from keras.utils import plot_model\n",
    "from keras_tqdm import TQDMNotebookCallback\n",
    "#from .tqdm_callback import TQDMNotebookCallback\n",
    "from IPython.display import SVG\n",
    "from keras.utils.vis_utils import model_to_dot\n"
   ]
  },
  {
   "cell_type": "markdown",
   "metadata": {},
   "source": [
    "Load functions and classes\n",
    "This will facilitate connections between layers and also custom hyperparameters"
   ]
  },
  {
   "cell_type": "code",
   "execution_count": 16,
   "metadata": {},
   "outputs": [],
   "source": [
    "# Function for reparameterization trick to make model differentiable\n",
    "def sampling(args):\n",
    "    \n",
    "    import tensorflow as tf\n",
    "    # Function with args required for Keras Lambda function\n",
    "    z_mean, z_log_var = args\n",
    "\n",
    "    # Draw epsilon of the same shape from a standard normal distribution\n",
    "    epsilon = K.random_normal(shape=tf.shape(z_mean), mean=0.,\n",
    "                              stddev=epsilon_std)\n",
    "    \n",
    "    # The latent vector is non-deterministic and differentiable\n",
    "    # in respect to z_mean and z_log_var\n",
    "    z = z_mean + K.exp(z_log_var / 2) * epsilon\n",
    "    return z\n",
    "\n",
    "\n",
    "class CustomVariationalLayer(Layer):\n",
    "    \"\"\"\n",
    "    Define a custom layer that learns and performs the training\n",
    "    This function is borrowed from:\n",
    "    https://github.com/fchollet/keras/blob/master/examples/variational_autoencoder.py\n",
    "    \"\"\"\n",
    "    def __init__(self, **kwargs):\n",
    "        # https://keras.io/layers/writing-your-own-keras-layers/\n",
    "        self.is_placeholder = True\n",
    "        super(CustomVariationalLayer, self).__init__(**kwargs)\n",
    "\n",
    "    #def vae_loss(self, x_input, x_decoded):\n",
    "    #    reconstruction_loss = original_dim * metrics.binary_crossentropy(x_input, x_decoded)\n",
    "    #    kl_loss = - 0.5 * K.sum(1 + z_log_var_encoded - K.square(z_mean_encoded) - \n",
    "    #                            K.exp(z_log_var_encoded), axis=-1)\n",
    "    #    return K.mean(reconstruction_loss + (K.get_value(beta) * kl_loss))\n",
    "    \n",
    "    def vae_loss(self, x_input, x_decoded):\n",
    "        #per sample\n",
    "        reconstruction_loss = original_dim * losses.mean_absolute_error(x_input, x_decoded)\n",
    "        kl_loss = - 0.5 * K.sum(1 + z_log_var_encoded - K.square(z_mean_encoded) - \n",
    "                                K.exp(z_log_var_encoded), axis=-1)\n",
    "        \n",
    "        #\n",
    "        #per data point\n",
    "        #reconstruction_loss = losses.mean_absolute_error(x_input, x_decoded)\n",
    "        #kl_loss = - 0.5 * K.sum(1 + z_log_var_encoded - K.square(z_mean_encoded) - \n",
    "        #                        K.exp(z_log_var_encoded), axis=-1) / latent_dim\n",
    "        \n",
    "        \n",
    "        return K.mean(reconstruction_loss + alpha * (kl_loss))#K.mean(reconstruction_loss + (K.get_value(beta) * kl_loss))\n",
    "\n",
    "\n",
    "    def call(self, inputs):\n",
    "        x = inputs[0]\n",
    "        x_decoded = inputs[1]\n",
    "        loss = self.vae_loss(x, x_decoded)\n",
    "        self.add_loss(loss, inputs=inputs)\n",
    "        # We won't actually use the output.\n",
    "        return x"
   ]
  },
  {
   "cell_type": "markdown",
   "metadata": {},
   "source": [
    "Implementing Warm-up as described in Sonderby et al. LVAE\n",
    "\n",
    "This is modified code from https://github.com/fchollet/keras/issues/2595"
   ]
  },
  {
   "cell_type": "code",
   "execution_count": 17,
   "metadata": {},
   "outputs": [],
   "source": [
    "class WarmUpCallback(Callback):\n",
    "    def __init__(self, beta, kappa):\n",
    "        self.beta = beta\n",
    "        self.kappa = kappa\n",
    "    # Behavior on each epoch\n",
    "    def on_epoch_end(self, epoch, logs={}):\n",
    "        if K.get_value(self.beta) <= 1:\n",
    "            K.set_value(self.beta, K.get_value(self.beta) + self.kappa)\n",
    "            \n",
    "#np.random.seed(42)"
   ]
  },
  {
   "cell_type": "code",
   "execution_count": 18,
   "metadata": {},
   "outputs": [
    {
     "name": "stdout",
     "output_type": "stream",
     "text": [
      "13854\n"
     ]
    }
   ],
   "source": [
    "# Set hyper parameters\n",
    "original_dim = Exprframe.shape[1]\n",
    "print(original_dim)\n",
    "\n",
    "layer1_dim = 6400\n",
    "layer2_dim = 3200\n",
    "layer3_dim = 1600\n",
    "layer4_dim = 800\n",
    "layer5_dim = 400\n",
    "layer6_dim = 200\n",
    "layer7_dim = 100\n",
    "\n",
    "latent_dim = 50\n",
    "\n",
    "batch_size = Exprframe.shape[0]\n",
    "#test\n",
    "#batch_size = 1000\n",
    "epochs = 700\n",
    "learning_rate = 0.002\n",
    "\n",
    "#set kernel initializer\n",
    "# Casey paper 'glorot_uniform'\n",
    "#initial_method = 'glorot_uniform'\n",
    "#initial_method = keras.initializers.glorot_uniform(seed=807)\n",
    "\n",
    "initial_method = keras.initializers.glorot_normal(seed=42)\n",
    "\n",
    "\n",
    "epsilon_std = 1.0\n",
    "alpha = 1.0\n",
    "\n",
    "beta = K.variable(0)\n",
    "kappa = 0.002"
   ]
  },
  {
   "cell_type": "markdown",
   "metadata": {},
   "source": [
    "Encoder"
   ]
  },
  {
   "cell_type": "code",
   "execution_count": 20,
   "metadata": {},
   "outputs": [],
   "source": [
    "#simple neural network version with two layers\n",
    "#Layer 1\n",
    "# Input place holder for RNAseq data with specific input size\n",
    "rnaseq_input = Input(shape=(original_dim, ))\n",
    "\n",
    "# Input layer is compressed into a mean and log variance vector of size `latent_dim`\n",
    "# Each layer is initialized with glorot uniform weights and each step (dense connections,\n",
    "# batch norm, and relu activation) are funneled separately\n",
    "# Each vector of length `latent_dim` are connected to the rnaseq input tensor\n",
    "#L1\n",
    "l1_dense_linear = Dense(layer1_dim, kernel_initializer=initial_method)(rnaseq_input)\n",
    "l1_dense_batchnorm = BatchNormalization()(l1_dense_linear)\n",
    "l1 = Activation('relu')(l1_dense_batchnorm)\n",
    "\n",
    "#l2\n",
    "l2_dense_linear = Dense(layer2_dim, kernel_initializer=initial_method)(l1)\n",
    "l2_dense_batchnorm = BatchNormalization()(l2_dense_linear)\n",
    "l2 = Activation('relu')(l2_dense_batchnorm)\n",
    "\n",
    "#l3\n",
    "l3_dense_linear = Dense(layer3_dim, kernel_initializer=initial_method)(l2)\n",
    "l3_dense_batchnorm = BatchNormalization()(l3_dense_linear)\n",
    "l3 = Activation('relu')(l3_dense_batchnorm)\n",
    "\n",
    "#l4\n",
    "l4_dense_linear = Dense(layer4_dim, kernel_initializer=initial_method)(l3)\n",
    "l4_dense_batchnorm = BatchNormalization()(l4_dense_linear)\n",
    "l4 = Activation('relu')(l4_dense_batchnorm)\n",
    "\n",
    "#l5\n",
    "l5_dense_linear = Dense(layer5_dim, kernel_initializer=initial_method)(l4)\n",
    "l5_dense_batchnorm = BatchNormalization()(l5_dense_linear)\n",
    "l5 = Activation('relu')(l5_dense_batchnorm)\n",
    "\n",
    "#l6\n",
    "l6_dense_linear = Dense(layer6_dim, kernel_initializer=initial_method)(l5)\n",
    "l6_dense_batchnorm = BatchNormalization()(l6_dense_linear)\n",
    "l6 = Activation('relu')(l6_dense_batchnorm)\n",
    "\n",
    "#l7\n",
    "l7_dense_linear = Dense(layer7_dim, kernel_initializer=initial_method)(l6)\n",
    "l7_dense_batchnorm = BatchNormalization()(l7_dense_linear)\n",
    "l7 = Activation('relu')(l7_dense_batchnorm)\n"
   ]
  },
  {
   "cell_type": "code",
   "execution_count": 23,
   "metadata": {},
   "outputs": [],
   "source": [
    "#Layer 8\n",
    "z_mean_dense_linear = Dense(latent_dim, kernel_initializer=initial_method)(l7)\n",
    "z_mean_dense_batchnorm = BatchNormalization()(z_mean_dense_linear)\n",
    "z_mean_encoded = Activation('relu')(z_mean_dense_batchnorm)\n",
    "\n",
    "z_log_var_dense_linear = Dense(latent_dim, kernel_initializer=initial_method)(l7)\n",
    "z_log_var_dense_batchnorm = BatchNormalization()(z_log_var_dense_linear)\n",
    "z_log_var_encoded = Activation('relu')(z_log_var_dense_batchnorm)\n",
    "\n",
    "# return the encoded and randomly sampled z vector\n",
    "# Takes two keras layers as input to the custom sampling function layer with a `latent_dim` output\n",
    "z = Lambda(sampling, output_shape=(latent_dim, ))([z_mean_encoded, z_log_var_encoded])"
   ]
  },
  {
   "cell_type": "markdown",
   "metadata": {},
   "source": [
    "Decoder"
   ]
  },
  {
   "cell_type": "code",
   "execution_count": 24,
   "metadata": {},
   "outputs": [],
   "source": [
    "# The decoding layer is much simpler with a single layer and sigmoid activation\n",
    "#decoder_l2 = Dense(layer2_dim, kernel_initializer='glorot_uniform', activation='sigmoid')(z)\n",
    "#decoder_l1 = Dense(layer1_dim, kernel_initializer='glorot_uniform', activation='sigmoid')(decoder_l2)\n",
    "\n",
    "decoderl7_reconstruct = Dense(layer7_dim, kernel_initializer=initial_method, activation='relu')\n",
    "decoder_l7 = decoderl7_reconstruct(z)\n",
    "\n",
    "decoderl6_reconstruct = Dense(layer6_dim, kernel_initializer=initial_method, activation='relu')\n",
    "decoder_l6 = decoderl6_reconstruct(decoder_l7)\n",
    "\n",
    "decoderl5_reconstruct = Dense(layer5_dim, kernel_initializer=initial_method, activation='relu')\n",
    "decoder_l5 = decoderl5_reconstruct(decoder_l6)\n",
    "\n",
    "decoderl4_reconstruct = Dense(layer4_dim, kernel_initializer=initial_method, activation='relu')\n",
    "decoder_l4 = decoderl4_reconstruct(decoder_l5)\n",
    "\n",
    "decoderl3_reconstruct = Dense(layer3_dim, kernel_initializer=initial_method, activation='relu')\n",
    "decoder_l3 = decoderl3_reconstruct(decoder_l4)\n",
    "\n",
    "decoderl2_reconstruct = Dense(layer2_dim, kernel_initializer=initial_method, activation='relu')\n",
    "decoder_l2 = decoderl2_reconstruct(decoder_l3)\n",
    "\n",
    "decoderl1_reconstruct = Dense(layer1_dim, kernel_initializer=initial_method, activation='relu')\n",
    "decoder_l1 = decoderl1_reconstruct(decoder_l2)\n",
    "\n",
    "decoderl0_reconstruct = Dense(original_dim, kernel_initializer=initial_method, activation='relu')\n",
    "rnaseq_reconstruct = decoderl0_reconstruct(decoder_l1)\n",
    "\n",
    "#decoder_to_reconstruct = Dense(original_dim, kernel_initializer='glorot_uniform', activation='sigmoid')\n",
    "#rnaseq_reconstruct = decoder_to_reconstruct(z)"
   ]
  },
  {
   "cell_type": "markdown",
   "metadata": {},
   "source": [
    "Connect the encoder and decoder to make the VAE\n",
    "The CustomVariationalLayer() includes the VAE loss function (reconstruction + (beta * KL)), which is what will drive our model to learn an interpretable representation of gene expression space.\n",
    "\n",
    "The VAE is compiled with an Adam optimizer and built-in custom loss function. The loss_weights parameter ensures beta is updated at each epoch end callback"
   ]
  },
  {
   "cell_type": "code",
   "execution_count": 26,
   "metadata": {},
   "outputs": [
    {
     "name": "stderr",
     "output_type": "stream",
     "text": [
      "/home/qiwei/anaconda2/envs/tensorflow-gpu-test/lib/python3.5/site-packages/ipykernel/__main__.py:5: UserWarning: Output \"custom_variational_layer_1\" missing from loss dictionary. We assume this was done on purpose, and we will not be expecting any data to be passed to \"custom_variational_layer_1\" during training.\n"
     ]
    },
    {
     "name": "stdout",
     "output_type": "stream",
     "text": [
      "__________________________________________________________________________________________________\n",
      "Layer (type)                    Output Shape         Param #     Connected to                     \n",
      "==================================================================================================\n",
      "input_1 (InputLayer)            (None, 13854)        0                                            \n",
      "__________________________________________________________________________________________________\n",
      "dense_1 (Dense)                 (None, 6400)         88672000    input_1[0][0]                    \n",
      "__________________________________________________________________________________________________\n",
      "batch_normalization_1 (BatchNor (None, 6400)         25600       dense_1[0][0]                    \n",
      "__________________________________________________________________________________________________\n",
      "activation_1 (Activation)       (None, 6400)         0           batch_normalization_1[0][0]      \n",
      "__________________________________________________________________________________________________\n",
      "dense_2 (Dense)                 (None, 3200)         20483200    activation_1[0][0]               \n",
      "__________________________________________________________________________________________________\n",
      "batch_normalization_2 (BatchNor (None, 3200)         12800       dense_2[0][0]                    \n",
      "__________________________________________________________________________________________________\n",
      "activation_2 (Activation)       (None, 3200)         0           batch_normalization_2[0][0]      \n",
      "__________________________________________________________________________________________________\n",
      "dense_3 (Dense)                 (None, 1600)         5121600     activation_2[0][0]               \n",
      "__________________________________________________________________________________________________\n",
      "batch_normalization_3 (BatchNor (None, 1600)         6400        dense_3[0][0]                    \n",
      "__________________________________________________________________________________________________\n",
      "activation_3 (Activation)       (None, 1600)         0           batch_normalization_3[0][0]      \n",
      "__________________________________________________________________________________________________\n",
      "dense_4 (Dense)                 (None, 800)          1280800     activation_3[0][0]               \n",
      "__________________________________________________________________________________________________\n",
      "batch_normalization_4 (BatchNor (None, 800)          3200        dense_4[0][0]                    \n",
      "__________________________________________________________________________________________________\n",
      "activation_4 (Activation)       (None, 800)          0           batch_normalization_4[0][0]      \n",
      "__________________________________________________________________________________________________\n",
      "dense_5 (Dense)                 (None, 400)          320400      activation_4[0][0]               \n",
      "__________________________________________________________________________________________________\n",
      "batch_normalization_5 (BatchNor (None, 400)          1600        dense_5[0][0]                    \n",
      "__________________________________________________________________________________________________\n",
      "activation_5 (Activation)       (None, 400)          0           batch_normalization_5[0][0]      \n",
      "__________________________________________________________________________________________________\n",
      "dense_6 (Dense)                 (None, 200)          80200       activation_5[0][0]               \n",
      "__________________________________________________________________________________________________\n",
      "batch_normalization_6 (BatchNor (None, 200)          800         dense_6[0][0]                    \n",
      "__________________________________________________________________________________________________\n",
      "activation_6 (Activation)       (None, 200)          0           batch_normalization_6[0][0]      \n",
      "__________________________________________________________________________________________________\n",
      "dense_7 (Dense)                 (None, 100)          20100       activation_6[0][0]               \n",
      "__________________________________________________________________________________________________\n",
      "batch_normalization_7 (BatchNor (None, 100)          400         dense_7[0][0]                    \n",
      "__________________________________________________________________________________________________\n",
      "activation_7 (Activation)       (None, 100)          0           batch_normalization_7[0][0]      \n",
      "__________________________________________________________________________________________________\n",
      "dense_8 (Dense)                 (None, 50)           5050        activation_7[0][0]               \n",
      "__________________________________________________________________________________________________\n",
      "dense_9 (Dense)                 (None, 50)           5050        activation_7[0][0]               \n",
      "__________________________________________________________________________________________________\n",
      "batch_normalization_8 (BatchNor (None, 50)           200         dense_8[0][0]                    \n",
      "__________________________________________________________________________________________________\n",
      "batch_normalization_9 (BatchNor (None, 50)           200         dense_9[0][0]                    \n",
      "__________________________________________________________________________________________________\n",
      "activation_8 (Activation)       (None, 50)           0           batch_normalization_8[0][0]      \n",
      "__________________________________________________________________________________________________\n",
      "activation_9 (Activation)       (None, 50)           0           batch_normalization_9[0][0]      \n",
      "__________________________________________________________________________________________________\n",
      "lambda_1 (Lambda)               (None, 50)           0           activation_8[0][0]               \n",
      "                                                                 activation_9[0][0]               \n",
      "__________________________________________________________________________________________________\n",
      "dense_10 (Dense)                (None, 100)          5100        lambda_1[0][0]                   \n",
      "__________________________________________________________________________________________________\n",
      "dense_11 (Dense)                (None, 200)          20200       dense_10[0][0]                   \n",
      "__________________________________________________________________________________________________\n",
      "dense_12 (Dense)                (None, 400)          80400       dense_11[0][0]                   \n",
      "__________________________________________________________________________________________________\n",
      "dense_13 (Dense)                (None, 800)          320800      dense_12[0][0]                   \n",
      "__________________________________________________________________________________________________\n",
      "dense_14 (Dense)                (None, 1600)         1281600     dense_13[0][0]                   \n",
      "__________________________________________________________________________________________________\n",
      "dense_15 (Dense)                (None, 3200)         5123200     dense_14[0][0]                   \n",
      "__________________________________________________________________________________________________\n",
      "dense_16 (Dense)                (None, 6400)         20486400    dense_15[0][0]                   \n",
      "__________________________________________________________________________________________________\n",
      "dense_17 (Dense)                (None, 13854)        88679454    dense_16[0][0]                   \n",
      "__________________________________________________________________________________________________\n",
      "custom_variational_layer_1 (Cus [(None, 13854), (Non 0           input_1[0][0]                    \n",
      "                                                                 dense_17[0][0]                   \n",
      "==================================================================================================\n",
      "Total params: 232,036,754\n",
      "Trainable params: 232,011,154\n",
      "Non-trainable params: 25,600\n",
      "__________________________________________________________________________________________________\n"
     ]
    }
   ],
   "source": [
    "from keras import losses\n",
    "adam = optimizers.Adam(lr=learning_rate, beta_1=0.9, beta_2=0.999)\n",
    "vae_layer = CustomVariationalLayer()([rnaseq_input, rnaseq_reconstruct])\n",
    "vae = Model(rnaseq_input, vae_layer)\n",
    "vae.compile(optimizer=adam, loss=None, loss_weights=[beta])\n",
    "#vae.compile(optimizer=adam, loss=losses.kullback_leibler_divergence)\n",
    "\n",
    "#########################################################################\n",
    "#only use to manually set initial weights, otherwise change the initializer\n",
    "weights = vae.get_weights()\n",
    "#new_weight = [item*0+0.01 for item in weights]\n",
    "#vae.set_weights(new_weight)\n",
    "\n",
    "vae.summary()"
   ]
  },
  {
   "cell_type": "markdown",
   "metadata": {},
   "source": [
    "Train the model\n",
    "\n",
    "The training data is shuffled after every epoch and 10% of the data is heldout for calculating validation loss."
   ]
  },
  {
   "cell_type": "code",
   "execution_count": 28,
   "metadata": {},
   "outputs": [
    {
     "data": {
      "application/vnd.jupyter.widget-view+json": {
       "model_id": "15b0d032439c4adb850068506a9f9cab"
      }
     },
     "metadata": {},
     "output_type": "display_data"
    },
    {
     "data": {
      "application/vnd.jupyter.widget-view+json": {
       "model_id": "84cf629a306a49a6b97f30ec59022d66"
      }
     },
     "metadata": {},
     "output_type": "display_data"
    },
    {
     "data": {
      "application/vnd.jupyter.widget-view+json": {
       "model_id": "ec541a26541d4d64a77a70cad705d178"
      }
     },
     "metadata": {},
     "output_type": "display_data"
    },
    {
     "data": {
      "application/vnd.jupyter.widget-view+json": {
       "model_id": "2d97ab6d4ea440db8ab07f78669021a4"
      }
     },
     "metadata": {},
     "output_type": "display_data"
    },
    {
     "data": {
      "application/vnd.jupyter.widget-view+json": {
       "model_id": "bcf985bd4de14e7e99152b123b01163b"
      }
     },
     "metadata": {},
     "output_type": "display_data"
    },
    {
     "data": {
      "application/vnd.jupyter.widget-view+json": {
       "model_id": "88c40aebd1e64dba9c4aaa02d3ad3e7e"
      }
     },
     "metadata": {},
     "output_type": "display_data"
    },
    {
     "data": {
      "application/vnd.jupyter.widget-view+json": {
       "model_id": "fe24998c513e49788e6f3c35aff6431a"
      }
     },
     "metadata": {},
     "output_type": "display_data"
    },
    {
     "data": {
      "application/vnd.jupyter.widget-view+json": {
       "model_id": "9d57885a6cc842b4a9d3daf58feba2ea"
      }
     },
     "metadata": {},
     "output_type": "display_data"
    },
    {
     "data": {
      "application/vnd.jupyter.widget-view+json": {
       "model_id": "a2a526333f414c038474445d7f47797a"
      }
     },
     "metadata": {},
     "output_type": "display_data"
    },
    {
     "data": {
      "application/vnd.jupyter.widget-view+json": {
       "model_id": "7d941739db8a4f2bbfc0d5893cd41cc8"
      }
     },
     "metadata": {},
     "output_type": "display_data"
    },
    {
     "data": {
      "application/vnd.jupyter.widget-view+json": {
       "model_id": "d75e35735bf24b69a9e7da833045d6a6"
      }
     },
     "metadata": {},
     "output_type": "display_data"
    },
    {
     "data": {
      "application/vnd.jupyter.widget-view+json": {
       "model_id": "4dccaf789b634e58845866850842e771"
      }
     },
     "metadata": {},
     "output_type": "display_data"
    },
    {
     "data": {
      "application/vnd.jupyter.widget-view+json": {
       "model_id": "0b44f84885fe4b49b7b9877dca4f9331"
      }
     },
     "metadata": {},
     "output_type": "display_data"
    },
    {
     "data": {
      "application/vnd.jupyter.widget-view+json": {
       "model_id": "58ccf489d1e6453f83e9bbc280eac0a2"
      }
     },
     "metadata": {},
     "output_type": "display_data"
    },
    {
     "data": {
      "application/vnd.jupyter.widget-view+json": {
       "model_id": "2eb18ee1a4454a778749a9b40594dd01"
      }
     },
     "metadata": {},
     "output_type": "display_data"
    },
    {
     "data": {
      "application/vnd.jupyter.widget-view+json": {
       "model_id": "2d8cb8da06be476e89db81de5757f571"
      }
     },
     "metadata": {},
     "output_type": "display_data"
    },
    {
     "data": {
      "application/vnd.jupyter.widget-view+json": {
       "model_id": "1a488424d97e4d77a1ca54ec39d94f96"
      }
     },
     "metadata": {},
     "output_type": "display_data"
    },
    {
     "data": {
      "application/vnd.jupyter.widget-view+json": {
       "model_id": "dce6ef3e2aed4867ae00f331bd107fca"
      }
     },
     "metadata": {},
     "output_type": "display_data"
    },
    {
     "data": {
      "application/vnd.jupyter.widget-view+json": {
       "model_id": "ae5a0d94df154b59a5cc9ffdadcbb8d6"
      }
     },
     "metadata": {},
     "output_type": "display_data"
    },
    {
     "data": {
      "application/vnd.jupyter.widget-view+json": {
       "model_id": "8b3ff6f3339842069eff934a3638abee"
      }
     },
     "metadata": {},
     "output_type": "display_data"
    },
    {
     "data": {
      "application/vnd.jupyter.widget-view+json": {
       "model_id": "c899bbd7400b4546a5d979eddc8d62b5"
      }
     },
     "metadata": {},
     "output_type": "display_data"
    },
    {
     "data": {
      "application/vnd.jupyter.widget-view+json": {
       "model_id": "afece9c519614536b25660c3e460c41d"
      }
     },
     "metadata": {},
     "output_type": "display_data"
    },
    {
     "data": {
      "application/vnd.jupyter.widget-view+json": {
       "model_id": "242f2cf3e7974ae7a9d24834df4c524e"
      }
     },
     "metadata": {},
     "output_type": "display_data"
    },
    {
     "data": {
      "application/vnd.jupyter.widget-view+json": {
       "model_id": "976034baf01647da807e509a9bb26770"
      }
     },
     "metadata": {},
     "output_type": "display_data"
    },
    {
     "data": {
      "application/vnd.jupyter.widget-view+json": {
       "model_id": "7cc2220cdf794e2cbf22da2e23d7370a"
      }
     },
     "metadata": {},
     "output_type": "display_data"
    },
    {
     "data": {
      "application/vnd.jupyter.widget-view+json": {
       "model_id": "2c3d1bb6ad5a459e82963bf88e1af573"
      }
     },
     "metadata": {},
     "output_type": "display_data"
    },
    {
     "data": {
      "application/vnd.jupyter.widget-view+json": {
       "model_id": "73aa814d92dc4c5d842fe9ceb044ce34"
      }
     },
     "metadata": {},
     "output_type": "display_data"
    },
    {
     "data": {
      "application/vnd.jupyter.widget-view+json": {
       "model_id": "0fcec598b97c410aa51035921ab4cfcc"
      }
     },
     "metadata": {},
     "output_type": "display_data"
    },
    {
     "data": {
      "application/vnd.jupyter.widget-view+json": {
       "model_id": "a35bd6965ff44587b4b7243fcdaa95b2"
      }
     },
     "metadata": {},
     "output_type": "display_data"
    },
    {
     "data": {
      "application/vnd.jupyter.widget-view+json": {
       "model_id": "e5c60e75816e4a7280ff53f07832afcd"
      }
     },
     "metadata": {},
     "output_type": "display_data"
    },
    {
     "data": {
      "application/vnd.jupyter.widget-view+json": {
       "model_id": "e8ea2f349f2b44798c7a10e138079cd9"
      }
     },
     "metadata": {},
     "output_type": "display_data"
    },
    {
     "data": {
      "application/vnd.jupyter.widget-view+json": {
       "model_id": "98113572f7ae42b5907020f2e6f46daa"
      }
     },
     "metadata": {},
     "output_type": "display_data"
    },
    {
     "data": {
      "application/vnd.jupyter.widget-view+json": {
       "model_id": "8216c08ab4b2435a93c85db3cd3e09a2"
      }
     },
     "metadata": {},
     "output_type": "display_data"
    },
    {
     "data": {
      "application/vnd.jupyter.widget-view+json": {
       "model_id": "a39f751779174044a706f200063148ee"
      }
     },
     "metadata": {},
     "output_type": "display_data"
    },
    {
     "data": {
      "application/vnd.jupyter.widget-view+json": {
       "model_id": "fea0eaf263df492c803d45110961e325"
      }
     },
     "metadata": {},
     "output_type": "display_data"
    },
    {
     "data": {
      "application/vnd.jupyter.widget-view+json": {
       "model_id": "3999f783c9b14065a9d8c30403c9a454"
      }
     },
     "metadata": {},
     "output_type": "display_data"
    },
    {
     "data": {
      "application/vnd.jupyter.widget-view+json": {
       "model_id": "5e4adeab7fd647c28876243923487507"
      }
     },
     "metadata": {},
     "output_type": "display_data"
    },
    {
     "data": {
      "application/vnd.jupyter.widget-view+json": {
       "model_id": "00123239b7894781ab7c813399001bc8"
      }
     },
     "metadata": {},
     "output_type": "display_data"
    },
    {
     "data": {
      "application/vnd.jupyter.widget-view+json": {
       "model_id": "c9d5e9f863e54efeb494e44c7f18f588"
      }
     },
     "metadata": {},
     "output_type": "display_data"
    },
    {
     "data": {
      "application/vnd.jupyter.widget-view+json": {
       "model_id": "4cc91f13d23346f988c2818edd55ba91"
      }
     },
     "metadata": {},
     "output_type": "display_data"
    },
    {
     "data": {
      "application/vnd.jupyter.widget-view+json": {
       "model_id": "d80c98f3bcaa4b81bd8f19656be4043e"
      }
     },
     "metadata": {},
     "output_type": "display_data"
    },
    {
     "data": {
      "application/vnd.jupyter.widget-view+json": {
       "model_id": "7de001c3cbb844f0b961f21be23188e2"
      }
     },
     "metadata": {},
     "output_type": "display_data"
    },
    {
     "data": {
      "application/vnd.jupyter.widget-view+json": {
       "model_id": "f2f9252d8c3842d99eb7944ee3f487d6"
      }
     },
     "metadata": {},
     "output_type": "display_data"
    },
    {
     "data": {
      "application/vnd.jupyter.widget-view+json": {
       "model_id": "2749a4c5947c48f9a5d70cb9e7d36711"
      }
     },
     "metadata": {},
     "output_type": "display_data"
    },
    {
     "data": {
      "application/vnd.jupyter.widget-view+json": {
       "model_id": "ab2dc52c6edf490abb40977d3dd66aff"
      }
     },
     "metadata": {},
     "output_type": "display_data"
    },
    {
     "data": {
      "application/vnd.jupyter.widget-view+json": {
       "model_id": "7b8f58e33e09485c852cc7201e2b17b8"
      }
     },
     "metadata": {},
     "output_type": "display_data"
    },
    {
     "data": {
      "application/vnd.jupyter.widget-view+json": {
       "model_id": "25e6d956ff4d4c86b874e1417397fe7e"
      }
     },
     "metadata": {},
     "output_type": "display_data"
    },
    {
     "data": {
      "application/vnd.jupyter.widget-view+json": {
       "model_id": "9459ddafdf934d52ad3cb94796c60046"
      }
     },
     "metadata": {},
     "output_type": "display_data"
    },
    {
     "data": {
      "application/vnd.jupyter.widget-view+json": {
       "model_id": "dd07367ceec64d5eaa3dd9f4299eede3"
      }
     },
     "metadata": {},
     "output_type": "display_data"
    },
    {
     "data": {
      "application/vnd.jupyter.widget-view+json": {
       "model_id": "ab13301b994b47879e3545d1b8028a9b"
      }
     },
     "metadata": {},
     "output_type": "display_data"
    },
    {
     "data": {
      "application/vnd.jupyter.widget-view+json": {
       "model_id": "527feff875bf4e18bbf07e9f8530e783"
      }
     },
     "metadata": {},
     "output_type": "display_data"
    },
    {
     "data": {
      "application/vnd.jupyter.widget-view+json": {
       "model_id": "ebc6cbc8531349c8a7e4039ee781d96c"
      }
     },
     "metadata": {},
     "output_type": "display_data"
    },
    {
     "data": {
      "application/vnd.jupyter.widget-view+json": {
       "model_id": "12973adee987478cb653a2f37fe94799"
      }
     },
     "metadata": {},
     "output_type": "display_data"
    },
    {
     "data": {
      "application/vnd.jupyter.widget-view+json": {
       "model_id": "c2882834da4e4f0083d463e9f73c6ba5"
      }
     },
     "metadata": {},
     "output_type": "display_data"
    },
    {
     "data": {
      "application/vnd.jupyter.widget-view+json": {
       "model_id": "18e8a6d75ec449bfaf2ff70db1f78199"
      }
     },
     "metadata": {},
     "output_type": "display_data"
    },
    {
     "data": {
      "application/vnd.jupyter.widget-view+json": {
       "model_id": "de8bd6f36d0145558cc80574bdf286cc"
      }
     },
     "metadata": {},
     "output_type": "display_data"
    },
    {
     "data": {
      "application/vnd.jupyter.widget-view+json": {
       "model_id": "7076bde416e4430d9442778f5dd0e649"
      }
     },
     "metadata": {},
     "output_type": "display_data"
    },
    {
     "data": {
      "application/vnd.jupyter.widget-view+json": {
       "model_id": "45a9c59f6ba8486a92f3a5ea59b059e1"
      }
     },
     "metadata": {},
     "output_type": "display_data"
    },
    {
     "data": {
      "application/vnd.jupyter.widget-view+json": {
       "model_id": "6d1339e63aeb4019bf41b63ebaa18f21"
      }
     },
     "metadata": {},
     "output_type": "display_data"
    },
    {
     "data": {
      "application/vnd.jupyter.widget-view+json": {
       "model_id": "4c37ed0eb0074a239548da44cf344fa5"
      }
     },
     "metadata": {},
     "output_type": "display_data"
    },
    {
     "data": {
      "application/vnd.jupyter.widget-view+json": {
       "model_id": "557f9d69afc34be0993e729874f0c8c4"
      }
     },
     "metadata": {},
     "output_type": "display_data"
    },
    {
     "data": {
      "application/vnd.jupyter.widget-view+json": {
       "model_id": "a3094135d47040efbc2a223b285b6a42"
      }
     },
     "metadata": {},
     "output_type": "display_data"
    },
    {
     "data": {
      "application/vnd.jupyter.widget-view+json": {
       "model_id": "fdcf8e28218644be962671aad292526b"
      }
     },
     "metadata": {},
     "output_type": "display_data"
    },
    {
     "data": {
      "application/vnd.jupyter.widget-view+json": {
       "model_id": "d967b5649dfd49129eb6ee33c5c6d9a7"
      }
     },
     "metadata": {},
     "output_type": "display_data"
    },
    {
     "data": {
      "application/vnd.jupyter.widget-view+json": {
       "model_id": "7f7f50f4024c4a83b206cd708271c8f9"
      }
     },
     "metadata": {},
     "output_type": "display_data"
    },
    {
     "data": {
      "application/vnd.jupyter.widget-view+json": {
       "model_id": "ff543d30a7334e8c900883481dab06cc"
      }
     },
     "metadata": {},
     "output_type": "display_data"
    },
    {
     "data": {
      "application/vnd.jupyter.widget-view+json": {
       "model_id": "6428d05787904f90b4bd10c198f008da"
      }
     },
     "metadata": {},
     "output_type": "display_data"
    },
    {
     "data": {
      "application/vnd.jupyter.widget-view+json": {
       "model_id": "7889feefc0d84c92b109bb482a565b51"
      }
     },
     "metadata": {},
     "output_type": "display_data"
    },
    {
     "data": {
      "application/vnd.jupyter.widget-view+json": {
       "model_id": "50a713f2a6d34a0da3e688e47d302c85"
      }
     },
     "metadata": {},
     "output_type": "display_data"
    },
    {
     "data": {
      "application/vnd.jupyter.widget-view+json": {
       "model_id": "30e9ed9654e44fbab4f808b5c5c1716b"
      }
     },
     "metadata": {},
     "output_type": "display_data"
    },
    {
     "data": {
      "application/vnd.jupyter.widget-view+json": {
       "model_id": "01e0698f98c641ff8cd26316e543c800"
      }
     },
     "metadata": {},
     "output_type": "display_data"
    },
    {
     "data": {
      "application/vnd.jupyter.widget-view+json": {
       "model_id": "751cbc79aa904994ae0dcfac2ba73233"
      }
     },
     "metadata": {},
     "output_type": "display_data"
    },
    {
     "data": {
      "application/vnd.jupyter.widget-view+json": {
       "model_id": "41b7315e8b41408aa84bfb7c164cbee6"
      }
     },
     "metadata": {},
     "output_type": "display_data"
    },
    {
     "data": {
      "application/vnd.jupyter.widget-view+json": {
       "model_id": "cd9cc500ad9145df93a8bf6de2ea8275"
      }
     },
     "metadata": {},
     "output_type": "display_data"
    },
    {
     "data": {
      "application/vnd.jupyter.widget-view+json": {
       "model_id": "5dd511522f9f4bfbbd1b071ceb45dedc"
      }
     },
     "metadata": {},
     "output_type": "display_data"
    },
    {
     "data": {
      "application/vnd.jupyter.widget-view+json": {
       "model_id": "a7b968e320f94a0cb75993917b77e3f8"
      }
     },
     "metadata": {},
     "output_type": "display_data"
    },
    {
     "data": {
      "application/vnd.jupyter.widget-view+json": {
       "model_id": "2d13e04218b348f8b15967b5e2e515ca"
      }
     },
     "metadata": {},
     "output_type": "display_data"
    },
    {
     "data": {
      "application/vnd.jupyter.widget-view+json": {
       "model_id": "a76efb240c8a4c9f9f0cce5ee805aa8a"
      }
     },
     "metadata": {},
     "output_type": "display_data"
    },
    {
     "data": {
      "application/vnd.jupyter.widget-view+json": {
       "model_id": "f8e4029bc6d84ddd9de9908929b78045"
      }
     },
     "metadata": {},
     "output_type": "display_data"
    },
    {
     "data": {
      "application/vnd.jupyter.widget-view+json": {
       "model_id": "8aa5140ee7f7495aa2fdf7bf245de8c0"
      }
     },
     "metadata": {},
     "output_type": "display_data"
    },
    {
     "data": {
      "application/vnd.jupyter.widget-view+json": {
       "model_id": "dc1621dbb3374b0ca7a923a87278089c"
      }
     },
     "metadata": {},
     "output_type": "display_data"
    },
    {
     "data": {
      "application/vnd.jupyter.widget-view+json": {
       "model_id": "52ae1d25b22a494096b1ba3aa8fabd4e"
      }
     },
     "metadata": {},
     "output_type": "display_data"
    },
    {
     "data": {
      "application/vnd.jupyter.widget-view+json": {
       "model_id": "0f6018521fea4943a52d695626baea45"
      }
     },
     "metadata": {},
     "output_type": "display_data"
    },
    {
     "data": {
      "application/vnd.jupyter.widget-view+json": {
       "model_id": "11206591fe684d2db3ee822f26cb5a7a"
      }
     },
     "metadata": {},
     "output_type": "display_data"
    },
    {
     "data": {
      "application/vnd.jupyter.widget-view+json": {
       "model_id": "65821bd8393749028adc8e24755ab70e"
      }
     },
     "metadata": {},
     "output_type": "display_data"
    },
    {
     "data": {
      "application/vnd.jupyter.widget-view+json": {
       "model_id": "b8768287c98c4a9baea91cbe6e2932da"
      }
     },
     "metadata": {},
     "output_type": "display_data"
    },
    {
     "data": {
      "application/vnd.jupyter.widget-view+json": {
       "model_id": "4e15efc631974b1887ce973c13c82d9f"
      }
     },
     "metadata": {},
     "output_type": "display_data"
    },
    {
     "data": {
      "application/vnd.jupyter.widget-view+json": {
       "model_id": "1c916c11ec9b49c8b4c400bd97597b06"
      }
     },
     "metadata": {},
     "output_type": "display_data"
    },
    {
     "data": {
      "application/vnd.jupyter.widget-view+json": {
       "model_id": "9932b7e1dbc84f24a1826d83779c83eb"
      }
     },
     "metadata": {},
     "output_type": "display_data"
    },
    {
     "data": {
      "application/vnd.jupyter.widget-view+json": {
       "model_id": "c1dddfd74b9a43e2ab2e0d05eb43ca72"
      }
     },
     "metadata": {},
     "output_type": "display_data"
    },
    {
     "data": {
      "application/vnd.jupyter.widget-view+json": {
       "model_id": "9aac7e41057b4a7c94a99cd90b85253a"
      }
     },
     "metadata": {},
     "output_type": "display_data"
    },
    {
     "data": {
      "application/vnd.jupyter.widget-view+json": {
       "model_id": "a62ea838277c4f43acd8fbc356f243b8"
      }
     },
     "metadata": {},
     "output_type": "display_data"
    },
    {
     "data": {
      "application/vnd.jupyter.widget-view+json": {
       "model_id": "56c080483d6540e99f7b260c87ebd3c5"
      }
     },
     "metadata": {},
     "output_type": "display_data"
    },
    {
     "data": {
      "application/vnd.jupyter.widget-view+json": {
       "model_id": "97ef2962acc444a88c74840323ac705b"
      }
     },
     "metadata": {},
     "output_type": "display_data"
    },
    {
     "data": {
      "application/vnd.jupyter.widget-view+json": {
       "model_id": "615873690f5d48ed928de662bc334bf5"
      }
     },
     "metadata": {},
     "output_type": "display_data"
    },
    {
     "data": {
      "application/vnd.jupyter.widget-view+json": {
       "model_id": "b044adf8abf044f7b2a31fe602a82baf"
      }
     },
     "metadata": {},
     "output_type": "display_data"
    },
    {
     "data": {
      "application/vnd.jupyter.widget-view+json": {
       "model_id": "cc6d2b00776f428b9190236160b2d3e7"
      }
     },
     "metadata": {},
     "output_type": "display_data"
    },
    {
     "data": {
      "application/vnd.jupyter.widget-view+json": {
       "model_id": "eaa4aafd309b4f21bfc41ae0b06da6af"
      }
     },
     "metadata": {},
     "output_type": "display_data"
    },
    {
     "data": {
      "application/vnd.jupyter.widget-view+json": {
       "model_id": "2b36a3a441784a20a9302389c725a50f"
      }
     },
     "metadata": {},
     "output_type": "display_data"
    },
    {
     "data": {
      "application/vnd.jupyter.widget-view+json": {
       "model_id": "d68da3cb12634fba84d18e684e37ee7f"
      }
     },
     "metadata": {},
     "output_type": "display_data"
    },
    {
     "data": {
      "application/vnd.jupyter.widget-view+json": {
       "model_id": "c4512718aa974c15a400efb79cd6a8eb"
      }
     },
     "metadata": {},
     "output_type": "display_data"
    },
    {
     "data": {
      "application/vnd.jupyter.widget-view+json": {
       "model_id": "4f8033714bbc487088ccc388e170184a"
      }
     },
     "metadata": {},
     "output_type": "display_data"
    },
    {
     "data": {
      "application/vnd.jupyter.widget-view+json": {
       "model_id": "da7d2caaeab74100b2221f522d9975a0"
      }
     },
     "metadata": {},
     "output_type": "display_data"
    },
    {
     "data": {
      "application/vnd.jupyter.widget-view+json": {
       "model_id": "bfe0e9c9dba940aa8d6b468b55e533fa"
      }
     },
     "metadata": {},
     "output_type": "display_data"
    },
    {
     "data": {
      "application/vnd.jupyter.widget-view+json": {
       "model_id": "f6219be7a3a24ab08b28e629dfcf4737"
      }
     },
     "metadata": {},
     "output_type": "display_data"
    },
    {
     "data": {
      "application/vnd.jupyter.widget-view+json": {
       "model_id": "d441a3eee276437e9ca58cfc393381a0"
      }
     },
     "metadata": {},
     "output_type": "display_data"
    },
    {
     "data": {
      "application/vnd.jupyter.widget-view+json": {
       "model_id": "357a23aaf130435fac1c274d268a3d04"
      }
     },
     "metadata": {},
     "output_type": "display_data"
    },
    {
     "data": {
      "application/vnd.jupyter.widget-view+json": {
       "model_id": "e2840ada9fe34ff2b75fdf15a903dfa8"
      }
     },
     "metadata": {},
     "output_type": "display_data"
    },
    {
     "data": {
      "application/vnd.jupyter.widget-view+json": {
       "model_id": "5d85c09ddd114a628ec314a961914367"
      }
     },
     "metadata": {},
     "output_type": "display_data"
    },
    {
     "data": {
      "application/vnd.jupyter.widget-view+json": {
       "model_id": "9d11b4bca7fd4b70b6f51f3da13f1bb3"
      }
     },
     "metadata": {},
     "output_type": "display_data"
    },
    {
     "data": {
      "application/vnd.jupyter.widget-view+json": {
       "model_id": "b0ddfc04a21543729d97053adb8e0053"
      }
     },
     "metadata": {},
     "output_type": "display_data"
    },
    {
     "data": {
      "application/vnd.jupyter.widget-view+json": {
       "model_id": "1e171d8e052843fd81b4ba5046ee9c07"
      }
     },
     "metadata": {},
     "output_type": "display_data"
    },
    {
     "data": {
      "application/vnd.jupyter.widget-view+json": {
       "model_id": "5cb6ddda5c464a0494c15c2eceb83b28"
      }
     },
     "metadata": {},
     "output_type": "display_data"
    },
    {
     "data": {
      "application/vnd.jupyter.widget-view+json": {
       "model_id": "c11fc7bb7759478a87b1d878754cb7ad"
      }
     },
     "metadata": {},
     "output_type": "display_data"
    },
    {
     "data": {
      "application/vnd.jupyter.widget-view+json": {
       "model_id": "7afce3a9578c413cbf450100fc2a046c"
      }
     },
     "metadata": {},
     "output_type": "display_data"
    },
    {
     "data": {
      "application/vnd.jupyter.widget-view+json": {
       "model_id": "792a795febc24d7388c0520eef9f828f"
      }
     },
     "metadata": {},
     "output_type": "display_data"
    },
    {
     "data": {
      "application/vnd.jupyter.widget-view+json": {
       "model_id": "eb436b55531446289f3cd50c79bbe700"
      }
     },
     "metadata": {},
     "output_type": "display_data"
    },
    {
     "data": {
      "application/vnd.jupyter.widget-view+json": {
       "model_id": "69546940b4b44c749170ee596d01d8a6"
      }
     },
     "metadata": {},
     "output_type": "display_data"
    },
    {
     "data": {
      "application/vnd.jupyter.widget-view+json": {
       "model_id": "5f48da1b20e64daf80cb07c62c4acdd2"
      }
     },
     "metadata": {},
     "output_type": "display_data"
    },
    {
     "data": {
      "application/vnd.jupyter.widget-view+json": {
       "model_id": "74c7bb010ff94a4fa6b7dcdeedc017bd"
      }
     },
     "metadata": {},
     "output_type": "display_data"
    },
    {
     "data": {
      "application/vnd.jupyter.widget-view+json": {
       "model_id": "4cb455b4c0bb481083ae2e8f3a65593a"
      }
     },
     "metadata": {},
     "output_type": "display_data"
    },
    {
     "data": {
      "application/vnd.jupyter.widget-view+json": {
       "model_id": "318edcbe22e143838704a85f5dffc9e1"
      }
     },
     "metadata": {},
     "output_type": "display_data"
    },
    {
     "data": {
      "application/vnd.jupyter.widget-view+json": {
       "model_id": "3f91fd480b6a41a190bb36be56f6cdf2"
      }
     },
     "metadata": {},
     "output_type": "display_data"
    },
    {
     "data": {
      "application/vnd.jupyter.widget-view+json": {
       "model_id": "fc89b26db9574021a70b34c93b4a1b75"
      }
     },
     "metadata": {},
     "output_type": "display_data"
    },
    {
     "data": {
      "application/vnd.jupyter.widget-view+json": {
       "model_id": "bc101818e4464336846c1c79c5fc8ebb"
      }
     },
     "metadata": {},
     "output_type": "display_data"
    },
    {
     "data": {
      "application/vnd.jupyter.widget-view+json": {
       "model_id": "85c63b05b54149b488db4694a2b080fe"
      }
     },
     "metadata": {},
     "output_type": "display_data"
    },
    {
     "data": {
      "application/vnd.jupyter.widget-view+json": {
       "model_id": "122456d972d64bd09a4e5423d34da08d"
      }
     },
     "metadata": {},
     "output_type": "display_data"
    },
    {
     "data": {
      "application/vnd.jupyter.widget-view+json": {
       "model_id": "31fe393ce8e84fd5985aa8067f7f3b6d"
      }
     },
     "metadata": {},
     "output_type": "display_data"
    },
    {
     "data": {
      "application/vnd.jupyter.widget-view+json": {
       "model_id": "85bb463064ea405284ff9f266bd161a1"
      }
     },
     "metadata": {},
     "output_type": "display_data"
    },
    {
     "data": {
      "application/vnd.jupyter.widget-view+json": {
       "model_id": "84e64cbb49d8486caed19fbe2309fe99"
      }
     },
     "metadata": {},
     "output_type": "display_data"
    },
    {
     "data": {
      "application/vnd.jupyter.widget-view+json": {
       "model_id": "4abd8dcbc33341bc841b2581c589a8ad"
      }
     },
     "metadata": {},
     "output_type": "display_data"
    },
    {
     "data": {
      "application/vnd.jupyter.widget-view+json": {
       "model_id": "c754425b25e44fc59bae31132b4a049c"
      }
     },
     "metadata": {},
     "output_type": "display_data"
    },
    {
     "data": {
      "application/vnd.jupyter.widget-view+json": {
       "model_id": "27af09f7bde045b9aef4937779298efa"
      }
     },
     "metadata": {},
     "output_type": "display_data"
    },
    {
     "data": {
      "application/vnd.jupyter.widget-view+json": {
       "model_id": "075435c2c50840128617fae899c2cefa"
      }
     },
     "metadata": {},
     "output_type": "display_data"
    },
    {
     "data": {
      "application/vnd.jupyter.widget-view+json": {
       "model_id": "1f4f08a9386144eaaf4f03a6e9f40649"
      }
     },
     "metadata": {},
     "output_type": "display_data"
    },
    {
     "data": {
      "application/vnd.jupyter.widget-view+json": {
       "model_id": "acb5871480b24ef4b0e4d8e2f608a568"
      }
     },
     "metadata": {},
     "output_type": "display_data"
    },
    {
     "data": {
      "application/vnd.jupyter.widget-view+json": {
       "model_id": "61002ffd9f6148cc886710aebf2f3a18"
      }
     },
     "metadata": {},
     "output_type": "display_data"
    },
    {
     "data": {
      "application/vnd.jupyter.widget-view+json": {
       "model_id": "5288d9efd7614a24a04ee24b1263bf06"
      }
     },
     "metadata": {},
     "output_type": "display_data"
    },
    {
     "data": {
      "application/vnd.jupyter.widget-view+json": {
       "model_id": "e252845c3a0048329a7d3eebec543486"
      }
     },
     "metadata": {},
     "output_type": "display_data"
    },
    {
     "data": {
      "application/vnd.jupyter.widget-view+json": {
       "model_id": "41d1aba2cef146f990cdcf724197dd6a"
      }
     },
     "metadata": {},
     "output_type": "display_data"
    },
    {
     "data": {
      "application/vnd.jupyter.widget-view+json": {
       "model_id": "4ab267ee27c0452689910e8ff503dbf4"
      }
     },
     "metadata": {},
     "output_type": "display_data"
    },
    {
     "data": {
      "application/vnd.jupyter.widget-view+json": {
       "model_id": "05aa23c6f292463d8a876a9a31e8280c"
      }
     },
     "metadata": {},
     "output_type": "display_data"
    },
    {
     "data": {
      "application/vnd.jupyter.widget-view+json": {
       "model_id": "819d2b283c0a4fdd8a11b35d6d357d07"
      }
     },
     "metadata": {},
     "output_type": "display_data"
    },
    {
     "data": {
      "application/vnd.jupyter.widget-view+json": {
       "model_id": "2230c62db37d443dba292b505dd516f5"
      }
     },
     "metadata": {},
     "output_type": "display_data"
    },
    {
     "data": {
      "application/vnd.jupyter.widget-view+json": {
       "model_id": "40e21e4e474845c786e394dd6ac11d9c"
      }
     },
     "metadata": {},
     "output_type": "display_data"
    },
    {
     "data": {
      "application/vnd.jupyter.widget-view+json": {
       "model_id": "7483fc391a474638a15c3fbae4f8273f"
      }
     },
     "metadata": {},
     "output_type": "display_data"
    },
    {
     "data": {
      "application/vnd.jupyter.widget-view+json": {
       "model_id": "699f0b841c7d4e5294984ba1bb76b188"
      }
     },
     "metadata": {},
     "output_type": "display_data"
    },
    {
     "data": {
      "application/vnd.jupyter.widget-view+json": {
       "model_id": "3135e3dbe8624171b2646b094d3ce06b"
      }
     },
     "metadata": {},
     "output_type": "display_data"
    },
    {
     "data": {
      "application/vnd.jupyter.widget-view+json": {
       "model_id": "5d38b0005b3641ff8b5631bc17ece3f2"
      }
     },
     "metadata": {},
     "output_type": "display_data"
    },
    {
     "data": {
      "application/vnd.jupyter.widget-view+json": {
       "model_id": "c6b9ef6fe19f4770abbf7a292061a888"
      }
     },
     "metadata": {},
     "output_type": "display_data"
    },
    {
     "data": {
      "application/vnd.jupyter.widget-view+json": {
       "model_id": "5ec6c96856464ff286a49e491b6afcf4"
      }
     },
     "metadata": {},
     "output_type": "display_data"
    },
    {
     "data": {
      "application/vnd.jupyter.widget-view+json": {
       "model_id": "79be95285223439abf77c46194aa613f"
      }
     },
     "metadata": {},
     "output_type": "display_data"
    },
    {
     "data": {
      "application/vnd.jupyter.widget-view+json": {
       "model_id": "662b70272bb14f27bf2573c8175fdbad"
      }
     },
     "metadata": {},
     "output_type": "display_data"
    },
    {
     "data": {
      "application/vnd.jupyter.widget-view+json": {
       "model_id": "d6cfd11a33774b648acfd736596a22b7"
      }
     },
     "metadata": {},
     "output_type": "display_data"
    },
    {
     "data": {
      "application/vnd.jupyter.widget-view+json": {
       "model_id": "83dab07ae4e6426fb144b85b407b993d"
      }
     },
     "metadata": {},
     "output_type": "display_data"
    },
    {
     "data": {
      "application/vnd.jupyter.widget-view+json": {
       "model_id": "b10ce42b8df543f88c46a5baed10e337"
      }
     },
     "metadata": {},
     "output_type": "display_data"
    },
    {
     "data": {
      "application/vnd.jupyter.widget-view+json": {
       "model_id": "d3bc1b41496e4214a23c59b799ddc79b"
      }
     },
     "metadata": {},
     "output_type": "display_data"
    },
    {
     "data": {
      "application/vnd.jupyter.widget-view+json": {
       "model_id": "30c5218450d04ecda9d25e1beda67576"
      }
     },
     "metadata": {},
     "output_type": "display_data"
    },
    {
     "data": {
      "application/vnd.jupyter.widget-view+json": {
       "model_id": "484beb4b47cd4281b48a153c6fa8f08a"
      }
     },
     "metadata": {},
     "output_type": "display_data"
    },
    {
     "data": {
      "application/vnd.jupyter.widget-view+json": {
       "model_id": "58ead901f2024416b761af0bbce20996"
      }
     },
     "metadata": {},
     "output_type": "display_data"
    },
    {
     "data": {
      "application/vnd.jupyter.widget-view+json": {
       "model_id": "450eb7e0e81449b2b18e6fd21c81caba"
      }
     },
     "metadata": {},
     "output_type": "display_data"
    },
    {
     "data": {
      "application/vnd.jupyter.widget-view+json": {
       "model_id": "0fe986c104774ca18ee4a8daaf276449"
      }
     },
     "metadata": {},
     "output_type": "display_data"
    },
    {
     "data": {
      "application/vnd.jupyter.widget-view+json": {
       "model_id": "ba6d6257ed3a47218a5d0a15c2e66313"
      }
     },
     "metadata": {},
     "output_type": "display_data"
    },
    {
     "data": {
      "application/vnd.jupyter.widget-view+json": {
       "model_id": "0dca8f3603ba4cd99e1206c7130a097f"
      }
     },
     "metadata": {},
     "output_type": "display_data"
    },
    {
     "data": {
      "application/vnd.jupyter.widget-view+json": {
       "model_id": "913035193672463087fecdf8ff9ff2b2"
      }
     },
     "metadata": {},
     "output_type": "display_data"
    },
    {
     "data": {
      "application/vnd.jupyter.widget-view+json": {
       "model_id": "1b01218459f445358bd6202dd458826d"
      }
     },
     "metadata": {},
     "output_type": "display_data"
    },
    {
     "data": {
      "application/vnd.jupyter.widget-view+json": {
       "model_id": "cabcd7ccc7e3469397c3f21cab1a1a1a"
      }
     },
     "metadata": {},
     "output_type": "display_data"
    },
    {
     "data": {
      "application/vnd.jupyter.widget-view+json": {
       "model_id": "d5278cd58bfa4fb0856e52272705bc25"
      }
     },
     "metadata": {},
     "output_type": "display_data"
    },
    {
     "data": {
      "application/vnd.jupyter.widget-view+json": {
       "model_id": "d38236b1a3c048b2b686c5e6fd072e6e"
      }
     },
     "metadata": {},
     "output_type": "display_data"
    },
    {
     "data": {
      "application/vnd.jupyter.widget-view+json": {
       "model_id": "446b5d23e9224fb9be7289064aa7c2cf"
      }
     },
     "metadata": {},
     "output_type": "display_data"
    },
    {
     "data": {
      "application/vnd.jupyter.widget-view+json": {
       "model_id": "47027ed5b7de4de193d2f5d355809a52"
      }
     },
     "metadata": {},
     "output_type": "display_data"
    },
    {
     "data": {
      "application/vnd.jupyter.widget-view+json": {
       "model_id": "03b666c3c99e4e1a8e019d3946c8572e"
      }
     },
     "metadata": {},
     "output_type": "display_data"
    },
    {
     "data": {
      "application/vnd.jupyter.widget-view+json": {
       "model_id": "24c055a31e9648f69300e519871c8f29"
      }
     },
     "metadata": {},
     "output_type": "display_data"
    },
    {
     "data": {
      "application/vnd.jupyter.widget-view+json": {
       "model_id": "cfa500b1f1734982963e95f18eb2bbd0"
      }
     },
     "metadata": {},
     "output_type": "display_data"
    },
    {
     "data": {
      "application/vnd.jupyter.widget-view+json": {
       "model_id": "45e91bf79b4746baa6fa5892be7dfae7"
      }
     },
     "metadata": {},
     "output_type": "display_data"
    },
    {
     "data": {
      "application/vnd.jupyter.widget-view+json": {
       "model_id": "a3ef2c04e3d74c759305903771aa79c2"
      }
     },
     "metadata": {},
     "output_type": "display_data"
    },
    {
     "data": {
      "application/vnd.jupyter.widget-view+json": {
       "model_id": "3ab5ec9eafe84c5fb8390460a78b4f61"
      }
     },
     "metadata": {},
     "output_type": "display_data"
    },
    {
     "data": {
      "application/vnd.jupyter.widget-view+json": {
       "model_id": "2fd5c15ef7474ffd9abdb78212a88bbd"
      }
     },
     "metadata": {},
     "output_type": "display_data"
    },
    {
     "data": {
      "application/vnd.jupyter.widget-view+json": {
       "model_id": "264378331f064b338d52deb9fff197ea"
      }
     },
     "metadata": {},
     "output_type": "display_data"
    },
    {
     "data": {
      "application/vnd.jupyter.widget-view+json": {
       "model_id": "d7c467e44e944851875b637ff1281c62"
      }
     },
     "metadata": {},
     "output_type": "display_data"
    },
    {
     "data": {
      "application/vnd.jupyter.widget-view+json": {
       "model_id": "75fd285f667c4f25b91fccc3319de7d3"
      }
     },
     "metadata": {},
     "output_type": "display_data"
    },
    {
     "data": {
      "application/vnd.jupyter.widget-view+json": {
       "model_id": "276b5a0e3d9a4b98a39907c92942ec82"
      }
     },
     "metadata": {},
     "output_type": "display_data"
    },
    {
     "data": {
      "application/vnd.jupyter.widget-view+json": {
       "model_id": "f610e55bab4c4c12914c1bd419d202ef"
      }
     },
     "metadata": {},
     "output_type": "display_data"
    },
    {
     "data": {
      "application/vnd.jupyter.widget-view+json": {
       "model_id": "99ecf5640b9e4349af45e32aa2839621"
      }
     },
     "metadata": {},
     "output_type": "display_data"
    },
    {
     "data": {
      "application/vnd.jupyter.widget-view+json": {
       "model_id": "a1c5f3b0eff845c2bbec3ffdaa6ca9f6"
      }
     },
     "metadata": {},
     "output_type": "display_data"
    },
    {
     "data": {
      "application/vnd.jupyter.widget-view+json": {
       "model_id": "f1a2d7728c844114b66d5a2b1ee2b5f3"
      }
     },
     "metadata": {},
     "output_type": "display_data"
    },
    {
     "data": {
      "application/vnd.jupyter.widget-view+json": {
       "model_id": "63cc1ad71d2a4675a66f279466f4d790"
      }
     },
     "metadata": {},
     "output_type": "display_data"
    },
    {
     "data": {
      "application/vnd.jupyter.widget-view+json": {
       "model_id": "b02759c8c07443288a20d3a3d693b5e3"
      }
     },
     "metadata": {},
     "output_type": "display_data"
    },
    {
     "data": {
      "application/vnd.jupyter.widget-view+json": {
       "model_id": "b2527997549e47ea9dad257b79d7fd7c"
      }
     },
     "metadata": {},
     "output_type": "display_data"
    },
    {
     "data": {
      "application/vnd.jupyter.widget-view+json": {
       "model_id": "7206bd6ad3484da1b9177cb190034aeb"
      }
     },
     "metadata": {},
     "output_type": "display_data"
    },
    {
     "data": {
      "application/vnd.jupyter.widget-view+json": {
       "model_id": "4b59a8b6c65c414487d9c2eb0fc88f81"
      }
     },
     "metadata": {},
     "output_type": "display_data"
    },
    {
     "data": {
      "application/vnd.jupyter.widget-view+json": {
       "model_id": "2945b57ee5434c2a89b8c1ac04b07e58"
      }
     },
     "metadata": {},
     "output_type": "display_data"
    },
    {
     "data": {
      "application/vnd.jupyter.widget-view+json": {
       "model_id": "3c27746728fc4fb481a216361b120082"
      }
     },
     "metadata": {},
     "output_type": "display_data"
    },
    {
     "data": {
      "application/vnd.jupyter.widget-view+json": {
       "model_id": "863c1f646440498189078d029dbfd227"
      }
     },
     "metadata": {},
     "output_type": "display_data"
    },
    {
     "data": {
      "application/vnd.jupyter.widget-view+json": {
       "model_id": "74febe8da69c4e558333c93f102c38fc"
      }
     },
     "metadata": {},
     "output_type": "display_data"
    },
    {
     "data": {
      "application/vnd.jupyter.widget-view+json": {
       "model_id": "ca57c09d14744986b7c2d8bf8ef57c34"
      }
     },
     "metadata": {},
     "output_type": "display_data"
    },
    {
     "data": {
      "application/vnd.jupyter.widget-view+json": {
       "model_id": "98d06f14b6204e9b85d693b1124f748f"
      }
     },
     "metadata": {},
     "output_type": "display_data"
    },
    {
     "data": {
      "application/vnd.jupyter.widget-view+json": {
       "model_id": "58d5cf4df81f4677881458f6adf3e895"
      }
     },
     "metadata": {},
     "output_type": "display_data"
    },
    {
     "data": {
      "application/vnd.jupyter.widget-view+json": {
       "model_id": "963a8ad1bc6e4876bde6eaca4c0384a3"
      }
     },
     "metadata": {},
     "output_type": "display_data"
    },
    {
     "data": {
      "application/vnd.jupyter.widget-view+json": {
       "model_id": "6d27ead3343c4226bd75aca0256308d4"
      }
     },
     "metadata": {},
     "output_type": "display_data"
    },
    {
     "data": {
      "application/vnd.jupyter.widget-view+json": {
       "model_id": "7725cb60e213451b854892adbd7938eb"
      }
     },
     "metadata": {},
     "output_type": "display_data"
    },
    {
     "data": {
      "application/vnd.jupyter.widget-view+json": {
       "model_id": "dc7fd58a289543e09f0b5ff518323d09"
      }
     },
     "metadata": {},
     "output_type": "display_data"
    },
    {
     "data": {
      "application/vnd.jupyter.widget-view+json": {
       "model_id": "e9e4e3b220584351bd0647c351e3c0ec"
      }
     },
     "metadata": {},
     "output_type": "display_data"
    },
    {
     "data": {
      "application/vnd.jupyter.widget-view+json": {
       "model_id": "e2c9d1120a14481ebac03e0fcb4b6433"
      }
     },
     "metadata": {},
     "output_type": "display_data"
    },
    {
     "data": {
      "application/vnd.jupyter.widget-view+json": {
       "model_id": "106c44a7d68641b2a97f22b6238180c7"
      }
     },
     "metadata": {},
     "output_type": "display_data"
    },
    {
     "data": {
      "application/vnd.jupyter.widget-view+json": {
       "model_id": "37d6ad3a6c234832950fa8e34b0d431f"
      }
     },
     "metadata": {},
     "output_type": "display_data"
    },
    {
     "data": {
      "application/vnd.jupyter.widget-view+json": {
       "model_id": "3594d57a2c2f4f8f9842dc328d39fed6"
      }
     },
     "metadata": {},
     "output_type": "display_data"
    },
    {
     "data": {
      "application/vnd.jupyter.widget-view+json": {
       "model_id": "6ed1f6e8b2714e29b8e11106fa445a87"
      }
     },
     "metadata": {},
     "output_type": "display_data"
    },
    {
     "data": {
      "application/vnd.jupyter.widget-view+json": {
       "model_id": "1876adf60c06476984696533e9d31711"
      }
     },
     "metadata": {},
     "output_type": "display_data"
    },
    {
     "data": {
      "application/vnd.jupyter.widget-view+json": {
       "model_id": "50c956c422d64eec85be39823e757f7e"
      }
     },
     "metadata": {},
     "output_type": "display_data"
    },
    {
     "data": {
      "application/vnd.jupyter.widget-view+json": {
       "model_id": "a7d68ec92c344e48972aa2fbc15ed4a6"
      }
     },
     "metadata": {},
     "output_type": "display_data"
    },
    {
     "data": {
      "application/vnd.jupyter.widget-view+json": {
       "model_id": "c3b4422d4dad4fe0801e56c02a21bcce"
      }
     },
     "metadata": {},
     "output_type": "display_data"
    },
    {
     "data": {
      "application/vnd.jupyter.widget-view+json": {
       "model_id": "27ea14ae5a984bcfb5857624b0cdd770"
      }
     },
     "metadata": {},
     "output_type": "display_data"
    },
    {
     "data": {
      "application/vnd.jupyter.widget-view+json": {
       "model_id": "c08723ebd09c4ab588eaa3f8b7ad6710"
      }
     },
     "metadata": {},
     "output_type": "display_data"
    },
    {
     "data": {
      "application/vnd.jupyter.widget-view+json": {
       "model_id": "70b595376ae84a6eb598dca3c6de4bb0"
      }
     },
     "metadata": {},
     "output_type": "display_data"
    },
    {
     "data": {
      "application/vnd.jupyter.widget-view+json": {
       "model_id": "fdef71ef49c1467ba469174522631bf0"
      }
     },
     "metadata": {},
     "output_type": "display_data"
    },
    {
     "data": {
      "application/vnd.jupyter.widget-view+json": {
       "model_id": "54f7c7ad648940e2afd05e24c5c0b8f0"
      }
     },
     "metadata": {},
     "output_type": "display_data"
    },
    {
     "data": {
      "application/vnd.jupyter.widget-view+json": {
       "model_id": "26636956a0174c31a15f5ba9a2a99b14"
      }
     },
     "metadata": {},
     "output_type": "display_data"
    },
    {
     "data": {
      "application/vnd.jupyter.widget-view+json": {
       "model_id": "c41d798c38cd49b1ad5dbae88cc81add"
      }
     },
     "metadata": {},
     "output_type": "display_data"
    },
    {
     "data": {
      "application/vnd.jupyter.widget-view+json": {
       "model_id": "8cfdc12f8a5d4e2b80203ba6b68fe166"
      }
     },
     "metadata": {},
     "output_type": "display_data"
    },
    {
     "data": {
      "application/vnd.jupyter.widget-view+json": {
       "model_id": "79965536be364663b0dfd2a91b3f2efe"
      }
     },
     "metadata": {},
     "output_type": "display_data"
    },
    {
     "data": {
      "application/vnd.jupyter.widget-view+json": {
       "model_id": "1c3d120210244963bf371a5d70bc55ca"
      }
     },
     "metadata": {},
     "output_type": "display_data"
    },
    {
     "data": {
      "application/vnd.jupyter.widget-view+json": {
       "model_id": "39cc618336df4e09a6925802f4327dd6"
      }
     },
     "metadata": {},
     "output_type": "display_data"
    },
    {
     "data": {
      "application/vnd.jupyter.widget-view+json": {
       "model_id": "dd978eb07db64e40b84222fd0fdfa454"
      }
     },
     "metadata": {},
     "output_type": "display_data"
    },
    {
     "data": {
      "application/vnd.jupyter.widget-view+json": {
       "model_id": "a46d85996a88409084fd2d5843e21d5b"
      }
     },
     "metadata": {},
     "output_type": "display_data"
    },
    {
     "data": {
      "application/vnd.jupyter.widget-view+json": {
       "model_id": "1904d017ef3d492d932db9e314cde831"
      }
     },
     "metadata": {},
     "output_type": "display_data"
    },
    {
     "data": {
      "application/vnd.jupyter.widget-view+json": {
       "model_id": "07f3c6ef024242eb8f87753132687b98"
      }
     },
     "metadata": {},
     "output_type": "display_data"
    },
    {
     "data": {
      "application/vnd.jupyter.widget-view+json": {
       "model_id": "2c2c8a09f82c4fde8dfbd62f32deedbe"
      }
     },
     "metadata": {},
     "output_type": "display_data"
    },
    {
     "data": {
      "application/vnd.jupyter.widget-view+json": {
       "model_id": "46e73530005f406d80448fa1f101440e"
      }
     },
     "metadata": {},
     "output_type": "display_data"
    },
    {
     "data": {
      "application/vnd.jupyter.widget-view+json": {
       "model_id": "6ea675d273a24149aa01c63c14d42b58"
      }
     },
     "metadata": {},
     "output_type": "display_data"
    },
    {
     "data": {
      "application/vnd.jupyter.widget-view+json": {
       "model_id": "3aed3e4271d2431c8c3dc90092eb16df"
      }
     },
     "metadata": {},
     "output_type": "display_data"
    },
    {
     "data": {
      "application/vnd.jupyter.widget-view+json": {
       "model_id": "78ba2336cea94692807502273d2acb1c"
      }
     },
     "metadata": {},
     "output_type": "display_data"
    },
    {
     "data": {
      "application/vnd.jupyter.widget-view+json": {
       "model_id": "37424b7f7cf44d5a9d34f6d6b023f06d"
      }
     },
     "metadata": {},
     "output_type": "display_data"
    },
    {
     "data": {
      "application/vnd.jupyter.widget-view+json": {
       "model_id": "f63245d2e4d44b36b38d6cff61da9ef9"
      }
     },
     "metadata": {},
     "output_type": "display_data"
    },
    {
     "data": {
      "application/vnd.jupyter.widget-view+json": {
       "model_id": "44b60d5f04f54857881688c1aa7736be"
      }
     },
     "metadata": {},
     "output_type": "display_data"
    },
    {
     "data": {
      "application/vnd.jupyter.widget-view+json": {
       "model_id": "b5d618b9a4e44198a3ff8c522c431bd9"
      }
     },
     "metadata": {},
     "output_type": "display_data"
    },
    {
     "data": {
      "application/vnd.jupyter.widget-view+json": {
       "model_id": "b9728c32a4ea4ceba094c054acad7307"
      }
     },
     "metadata": {},
     "output_type": "display_data"
    },
    {
     "data": {
      "application/vnd.jupyter.widget-view+json": {
       "model_id": "5dc4831664e1447aaeaede03285caf0f"
      }
     },
     "metadata": {},
     "output_type": "display_data"
    },
    {
     "data": {
      "application/vnd.jupyter.widget-view+json": {
       "model_id": "db3711027dc041af99d8116464a40c1c"
      }
     },
     "metadata": {},
     "output_type": "display_data"
    },
    {
     "data": {
      "application/vnd.jupyter.widget-view+json": {
       "model_id": "e32766f8189442c5addaee88421ad3e3"
      }
     },
     "metadata": {},
     "output_type": "display_data"
    },
    {
     "data": {
      "application/vnd.jupyter.widget-view+json": {
       "model_id": "400f37dd9c9844cf86b261435c3931ef"
      }
     },
     "metadata": {},
     "output_type": "display_data"
    },
    {
     "data": {
      "application/vnd.jupyter.widget-view+json": {
       "model_id": "d22ca0754fb341fe974fd0ccc3bc4503"
      }
     },
     "metadata": {},
     "output_type": "display_data"
    },
    {
     "data": {
      "application/vnd.jupyter.widget-view+json": {
       "model_id": "5cbb2fd5ee744c4c817aad1af51c3e2f"
      }
     },
     "metadata": {},
     "output_type": "display_data"
    },
    {
     "data": {
      "application/vnd.jupyter.widget-view+json": {
       "model_id": "04cc850f4a004ef39d100b11bc1390f3"
      }
     },
     "metadata": {},
     "output_type": "display_data"
    },
    {
     "data": {
      "application/vnd.jupyter.widget-view+json": {
       "model_id": "800180d9eb5948a7bc8337987460b533"
      }
     },
     "metadata": {},
     "output_type": "display_data"
    },
    {
     "data": {
      "application/vnd.jupyter.widget-view+json": {
       "model_id": "82f668025d934d44b669ba9caf641af9"
      }
     },
     "metadata": {},
     "output_type": "display_data"
    },
    {
     "data": {
      "application/vnd.jupyter.widget-view+json": {
       "model_id": "96e451da287349a9b4e8b9dd53b2b0af"
      }
     },
     "metadata": {},
     "output_type": "display_data"
    },
    {
     "data": {
      "application/vnd.jupyter.widget-view+json": {
       "model_id": "6302db5ae43d498c86acb4459ec18dd3"
      }
     },
     "metadata": {},
     "output_type": "display_data"
    },
    {
     "data": {
      "application/vnd.jupyter.widget-view+json": {
       "model_id": "2c11f85369ca4bebb1a09ac9779e101e"
      }
     },
     "metadata": {},
     "output_type": "display_data"
    },
    {
     "data": {
      "application/vnd.jupyter.widget-view+json": {
       "model_id": "2ab5c254bb174ed4b86fb062b1f4e04a"
      }
     },
     "metadata": {},
     "output_type": "display_data"
    },
    {
     "data": {
      "application/vnd.jupyter.widget-view+json": {
       "model_id": "bb2767ce26c547988b1e0c8be80f4a0e"
      }
     },
     "metadata": {},
     "output_type": "display_data"
    },
    {
     "data": {
      "application/vnd.jupyter.widget-view+json": {
       "model_id": "cc461dda44944706a42af877d62d4e1b"
      }
     },
     "metadata": {},
     "output_type": "display_data"
    },
    {
     "data": {
      "application/vnd.jupyter.widget-view+json": {
       "model_id": "412a121ee3944c60898db6c009344076"
      }
     },
     "metadata": {},
     "output_type": "display_data"
    },
    {
     "data": {
      "application/vnd.jupyter.widget-view+json": {
       "model_id": "e859ab23c2b643c3bc226810d86ae7c8"
      }
     },
     "metadata": {},
     "output_type": "display_data"
    },
    {
     "data": {
      "application/vnd.jupyter.widget-view+json": {
       "model_id": "329608f13a4d48088535892b7e516f8f"
      }
     },
     "metadata": {},
     "output_type": "display_data"
    },
    {
     "data": {
      "application/vnd.jupyter.widget-view+json": {
       "model_id": "2b59fa456d924eb881a167e895bac544"
      }
     },
     "metadata": {},
     "output_type": "display_data"
    },
    {
     "data": {
      "application/vnd.jupyter.widget-view+json": {
       "model_id": "cab782c790a1417c88b5b831122c5f60"
      }
     },
     "metadata": {},
     "output_type": "display_data"
    },
    {
     "data": {
      "application/vnd.jupyter.widget-view+json": {
       "model_id": "101df88d72404eb797d35f416e385210"
      }
     },
     "metadata": {},
     "output_type": "display_data"
    },
    {
     "data": {
      "application/vnd.jupyter.widget-view+json": {
       "model_id": "c985398383c94533b710aea4c5937419"
      }
     },
     "metadata": {},
     "output_type": "display_data"
    },
    {
     "data": {
      "application/vnd.jupyter.widget-view+json": {
       "model_id": "1beb5c6ec00d445a962553bbe58d1a82"
      }
     },
     "metadata": {},
     "output_type": "display_data"
    },
    {
     "data": {
      "application/vnd.jupyter.widget-view+json": {
       "model_id": "40397cf8c9e7499f83a15b9d96d26b35"
      }
     },
     "metadata": {},
     "output_type": "display_data"
    },
    {
     "data": {
      "application/vnd.jupyter.widget-view+json": {
       "model_id": "2b4cf7b26f8a4e66999f4f98e51c47da"
      }
     },
     "metadata": {},
     "output_type": "display_data"
    },
    {
     "data": {
      "application/vnd.jupyter.widget-view+json": {
       "model_id": "2b02d9a99966407fa7daa15934353e1e"
      }
     },
     "metadata": {},
     "output_type": "display_data"
    },
    {
     "data": {
      "application/vnd.jupyter.widget-view+json": {
       "model_id": "1221995d0e3b4416842883177f033042"
      }
     },
     "metadata": {},
     "output_type": "display_data"
    },
    {
     "data": {
      "application/vnd.jupyter.widget-view+json": {
       "model_id": "d9ccb45b5abb480293d8af5c37f62212"
      }
     },
     "metadata": {},
     "output_type": "display_data"
    },
    {
     "data": {
      "application/vnd.jupyter.widget-view+json": {
       "model_id": "f7f405dec97e4a59be0e82b6e4de540d"
      }
     },
     "metadata": {},
     "output_type": "display_data"
    },
    {
     "data": {
      "application/vnd.jupyter.widget-view+json": {
       "model_id": "2185afb4a5ee4872a5431f8d7be68ee6"
      }
     },
     "metadata": {},
     "output_type": "display_data"
    },
    {
     "data": {
      "application/vnd.jupyter.widget-view+json": {
       "model_id": "6d64bc09a90741e79a75f1b93f2808d9"
      }
     },
     "metadata": {},
     "output_type": "display_data"
    },
    {
     "data": {
      "application/vnd.jupyter.widget-view+json": {
       "model_id": "b0c07d9f14704376bb2081b3b830b1e7"
      }
     },
     "metadata": {},
     "output_type": "display_data"
    },
    {
     "data": {
      "application/vnd.jupyter.widget-view+json": {
       "model_id": "6447a69b66e543ad8097a71bfc8c1485"
      }
     },
     "metadata": {},
     "output_type": "display_data"
    },
    {
     "data": {
      "application/vnd.jupyter.widget-view+json": {
       "model_id": "f2de81be02204d35aa48cf69ec96a114"
      }
     },
     "metadata": {},
     "output_type": "display_data"
    },
    {
     "data": {
      "application/vnd.jupyter.widget-view+json": {
       "model_id": "fef0a7bfeb23481c8dc36ca25b0e2f21"
      }
     },
     "metadata": {},
     "output_type": "display_data"
    },
    {
     "data": {
      "application/vnd.jupyter.widget-view+json": {
       "model_id": "2381705642584c96b233fd38d23f4dc8"
      }
     },
     "metadata": {},
     "output_type": "display_data"
    },
    {
     "data": {
      "application/vnd.jupyter.widget-view+json": {
       "model_id": "279e4d60164f4e1181c22e765d9ac783"
      }
     },
     "metadata": {},
     "output_type": "display_data"
    },
    {
     "data": {
      "application/vnd.jupyter.widget-view+json": {
       "model_id": "79d799e5ef494bfd8be6a3d4e1bee014"
      }
     },
     "metadata": {},
     "output_type": "display_data"
    },
    {
     "data": {
      "application/vnd.jupyter.widget-view+json": {
       "model_id": "db246942956845a3a43bab6d29736ff3"
      }
     },
     "metadata": {},
     "output_type": "display_data"
    },
    {
     "data": {
      "application/vnd.jupyter.widget-view+json": {
       "model_id": "c463362feda14562806b8d7d673a9094"
      }
     },
     "metadata": {},
     "output_type": "display_data"
    },
    {
     "data": {
      "application/vnd.jupyter.widget-view+json": {
       "model_id": "7fa759ce51ad44abb82c4ef759723a6c"
      }
     },
     "metadata": {},
     "output_type": "display_data"
    },
    {
     "data": {
      "application/vnd.jupyter.widget-view+json": {
       "model_id": "10537dce2e704c32ac8d86b8f8aa73f8"
      }
     },
     "metadata": {},
     "output_type": "display_data"
    },
    {
     "data": {
      "application/vnd.jupyter.widget-view+json": {
       "model_id": "519b7eb5433a4724b34f179355893369"
      }
     },
     "metadata": {},
     "output_type": "display_data"
    },
    {
     "data": {
      "application/vnd.jupyter.widget-view+json": {
       "model_id": "3ce56ff7edba479aaf6467688c7cc9d4"
      }
     },
     "metadata": {},
     "output_type": "display_data"
    },
    {
     "data": {
      "application/vnd.jupyter.widget-view+json": {
       "model_id": "2b3854acd85b45d7966b10e46e989bf7"
      }
     },
     "metadata": {},
     "output_type": "display_data"
    },
    {
     "data": {
      "application/vnd.jupyter.widget-view+json": {
       "model_id": "f8ac9fae7af749658b37f0580045f650"
      }
     },
     "metadata": {},
     "output_type": "display_data"
    },
    {
     "data": {
      "application/vnd.jupyter.widget-view+json": {
       "model_id": "b25be6337b6947cb90cb13afba860480"
      }
     },
     "metadata": {},
     "output_type": "display_data"
    },
    {
     "data": {
      "application/vnd.jupyter.widget-view+json": {
       "model_id": "31c112f6cdeb47c9bc5c59ab3bbafb51"
      }
     },
     "metadata": {},
     "output_type": "display_data"
    },
    {
     "data": {
      "application/vnd.jupyter.widget-view+json": {
       "model_id": "96e9d3c9c8a24c07a08c5a59ac36826f"
      }
     },
     "metadata": {},
     "output_type": "display_data"
    },
    {
     "data": {
      "application/vnd.jupyter.widget-view+json": {
       "model_id": "375ee1318784474ca5d41324056a5f22"
      }
     },
     "metadata": {},
     "output_type": "display_data"
    },
    {
     "data": {
      "application/vnd.jupyter.widget-view+json": {
       "model_id": "3a004f3058d443b19c19368e4c59c04a"
      }
     },
     "metadata": {},
     "output_type": "display_data"
    },
    {
     "data": {
      "application/vnd.jupyter.widget-view+json": {
       "model_id": "c326ca9251314546a1cb6b470f37aa4d"
      }
     },
     "metadata": {},
     "output_type": "display_data"
    },
    {
     "data": {
      "application/vnd.jupyter.widget-view+json": {
       "model_id": "39d9900190e847b4967b8e0ed2a53a21"
      }
     },
     "metadata": {},
     "output_type": "display_data"
    },
    {
     "data": {
      "application/vnd.jupyter.widget-view+json": {
       "model_id": "64692283771945009ccfbe7d0e7495ad"
      }
     },
     "metadata": {},
     "output_type": "display_data"
    },
    {
     "data": {
      "application/vnd.jupyter.widget-view+json": {
       "model_id": "2c12a29d65114b439f71f8268303a158"
      }
     },
     "metadata": {},
     "output_type": "display_data"
    },
    {
     "data": {
      "application/vnd.jupyter.widget-view+json": {
       "model_id": "dc27a87b11d84f7b9823848296eb73e9"
      }
     },
     "metadata": {},
     "output_type": "display_data"
    },
    {
     "data": {
      "application/vnd.jupyter.widget-view+json": {
       "model_id": "1efd6654dd0f401d8c3b793a250bed74"
      }
     },
     "metadata": {},
     "output_type": "display_data"
    },
    {
     "data": {
      "application/vnd.jupyter.widget-view+json": {
       "model_id": "406cf026df484c07a8ecbbf364d98656"
      }
     },
     "metadata": {},
     "output_type": "display_data"
    },
    {
     "data": {
      "application/vnd.jupyter.widget-view+json": {
       "model_id": "c00c2c1f41a744f6a7e617bcabca44f4"
      }
     },
     "metadata": {},
     "output_type": "display_data"
    },
    {
     "data": {
      "application/vnd.jupyter.widget-view+json": {
       "model_id": "f64f94023def4ec792ab2e817e92b2c1"
      }
     },
     "metadata": {},
     "output_type": "display_data"
    },
    {
     "data": {
      "application/vnd.jupyter.widget-view+json": {
       "model_id": "0ae6d45423dc4096a1aaa4993c9eb00a"
      }
     },
     "metadata": {},
     "output_type": "display_data"
    },
    {
     "data": {
      "application/vnd.jupyter.widget-view+json": {
       "model_id": "1020e744a3334ff9ba03f3b8d380737e"
      }
     },
     "metadata": {},
     "output_type": "display_data"
    },
    {
     "data": {
      "application/vnd.jupyter.widget-view+json": {
       "model_id": "05a9080da266487d8c966be974801ee1"
      }
     },
     "metadata": {},
     "output_type": "display_data"
    },
    {
     "data": {
      "application/vnd.jupyter.widget-view+json": {
       "model_id": "94b0a1cdca984fe296300303dd6da7dd"
      }
     },
     "metadata": {},
     "output_type": "display_data"
    },
    {
     "data": {
      "application/vnd.jupyter.widget-view+json": {
       "model_id": "b3c3bec310a94288b5184c857c8867c5"
      }
     },
     "metadata": {},
     "output_type": "display_data"
    },
    {
     "data": {
      "application/vnd.jupyter.widget-view+json": {
       "model_id": "7c4229456464494bb4fbee952b3bbcda"
      }
     },
     "metadata": {},
     "output_type": "display_data"
    },
    {
     "data": {
      "application/vnd.jupyter.widget-view+json": {
       "model_id": "a05ca9c2ff144b4c842ee2bdb4d48b6b"
      }
     },
     "metadata": {},
     "output_type": "display_data"
    },
    {
     "data": {
      "application/vnd.jupyter.widget-view+json": {
       "model_id": "09f9064a2d4245988981b48d9d727ce7"
      }
     },
     "metadata": {},
     "output_type": "display_data"
    },
    {
     "data": {
      "application/vnd.jupyter.widget-view+json": {
       "model_id": "9fbd8a4a681a4f24b22e3da23a0d2cc3"
      }
     },
     "metadata": {},
     "output_type": "display_data"
    },
    {
     "data": {
      "application/vnd.jupyter.widget-view+json": {
       "model_id": "cd0fdbe4dec44012af8b1e86208fcffb"
      }
     },
     "metadata": {},
     "output_type": "display_data"
    },
    {
     "data": {
      "application/vnd.jupyter.widget-view+json": {
       "model_id": "1abbb5c54a3d40b6a88d7067dfa6b37a"
      }
     },
     "metadata": {},
     "output_type": "display_data"
    },
    {
     "data": {
      "application/vnd.jupyter.widget-view+json": {
       "model_id": "0fa034e42088445a98639b58ed58e0de"
      }
     },
     "metadata": {},
     "output_type": "display_data"
    },
    {
     "data": {
      "application/vnd.jupyter.widget-view+json": {
       "model_id": "1edad6327a864a6c8e209295cc48fb25"
      }
     },
     "metadata": {},
     "output_type": "display_data"
    },
    {
     "data": {
      "application/vnd.jupyter.widget-view+json": {
       "model_id": "6ee98f73a6dc4639adb27583305a0007"
      }
     },
     "metadata": {},
     "output_type": "display_data"
    },
    {
     "data": {
      "application/vnd.jupyter.widget-view+json": {
       "model_id": "bf90addcfd714fbda791e8e6de517dd8"
      }
     },
     "metadata": {},
     "output_type": "display_data"
    },
    {
     "data": {
      "application/vnd.jupyter.widget-view+json": {
       "model_id": "32c96f845ff54ce2aacecb74f228b16f"
      }
     },
     "metadata": {},
     "output_type": "display_data"
    },
    {
     "data": {
      "application/vnd.jupyter.widget-view+json": {
       "model_id": "a46a1d46dde343c1976f07e651cdf8c1"
      }
     },
     "metadata": {},
     "output_type": "display_data"
    },
    {
     "data": {
      "application/vnd.jupyter.widget-view+json": {
       "model_id": "774970733bce430cb1ea7296500d4874"
      }
     },
     "metadata": {},
     "output_type": "display_data"
    },
    {
     "data": {
      "application/vnd.jupyter.widget-view+json": {
       "model_id": "54431f7810c64d86ba580004203d37d0"
      }
     },
     "metadata": {},
     "output_type": "display_data"
    },
    {
     "data": {
      "application/vnd.jupyter.widget-view+json": {
       "model_id": "81f1baf69a4c4745941c3b7e8427c34d"
      }
     },
     "metadata": {},
     "output_type": "display_data"
    },
    {
     "data": {
      "application/vnd.jupyter.widget-view+json": {
       "model_id": "2ff44ab175774effac7a7bd3fa46e41c"
      }
     },
     "metadata": {},
     "output_type": "display_data"
    },
    {
     "data": {
      "application/vnd.jupyter.widget-view+json": {
       "model_id": "95e45a66f93146109db602562ce3bb7d"
      }
     },
     "metadata": {},
     "output_type": "display_data"
    },
    {
     "data": {
      "application/vnd.jupyter.widget-view+json": {
       "model_id": "0b8ac750ab484b84a68958c7e87d5e8f"
      }
     },
     "metadata": {},
     "output_type": "display_data"
    },
    {
     "data": {
      "application/vnd.jupyter.widget-view+json": {
       "model_id": "407005db1ce54546979ca960a2781937"
      }
     },
     "metadata": {},
     "output_type": "display_data"
    },
    {
     "data": {
      "application/vnd.jupyter.widget-view+json": {
       "model_id": "31373a8f3fc446d2916107e6ff37617d"
      }
     },
     "metadata": {},
     "output_type": "display_data"
    },
    {
     "data": {
      "application/vnd.jupyter.widget-view+json": {
       "model_id": "dfbabc14bded4da584ae500f596737fa"
      }
     },
     "metadata": {},
     "output_type": "display_data"
    },
    {
     "data": {
      "application/vnd.jupyter.widget-view+json": {
       "model_id": "55f6fcfef707456696b7f5eb9b16c18b"
      }
     },
     "metadata": {},
     "output_type": "display_data"
    },
    {
     "data": {
      "application/vnd.jupyter.widget-view+json": {
       "model_id": "263eae9c180648dd89f494fec768281c"
      }
     },
     "metadata": {},
     "output_type": "display_data"
    },
    {
     "data": {
      "application/vnd.jupyter.widget-view+json": {
       "model_id": "b6d6a5b96fc5464681859057a3b18ba7"
      }
     },
     "metadata": {},
     "output_type": "display_data"
    },
    {
     "data": {
      "application/vnd.jupyter.widget-view+json": {
       "model_id": "fe568a3a07534693949c4a1ac131ab38"
      }
     },
     "metadata": {},
     "output_type": "display_data"
    },
    {
     "data": {
      "application/vnd.jupyter.widget-view+json": {
       "model_id": "c5d3d7641c81463c8f3da50d4e581036"
      }
     },
     "metadata": {},
     "output_type": "display_data"
    },
    {
     "data": {
      "application/vnd.jupyter.widget-view+json": {
       "model_id": "cbe9c8dbcbee4b4c91643d50d24a9195"
      }
     },
     "metadata": {},
     "output_type": "display_data"
    },
    {
     "data": {
      "application/vnd.jupyter.widget-view+json": {
       "model_id": "c8adccedf0da4598a01aa20bcb82b4fb"
      }
     },
     "metadata": {},
     "output_type": "display_data"
    },
    {
     "data": {
      "application/vnd.jupyter.widget-view+json": {
       "model_id": "303c74c46ead4482baf85feb6b1e5558"
      }
     },
     "metadata": {},
     "output_type": "display_data"
    },
    {
     "data": {
      "application/vnd.jupyter.widget-view+json": {
       "model_id": "c28eaffcb0164bf2a786ee2cd80d8230"
      }
     },
     "metadata": {},
     "output_type": "display_data"
    },
    {
     "data": {
      "application/vnd.jupyter.widget-view+json": {
       "model_id": "424d6ae9a8ec476eba66f171ee01f6f9"
      }
     },
     "metadata": {},
     "output_type": "display_data"
    },
    {
     "data": {
      "application/vnd.jupyter.widget-view+json": {
       "model_id": "829ff0789b8d45d1bb45baeed9ac4ecc"
      }
     },
     "metadata": {},
     "output_type": "display_data"
    },
    {
     "data": {
      "application/vnd.jupyter.widget-view+json": {
       "model_id": "f66aef98a58044f8b3d70c44a65834fe"
      }
     },
     "metadata": {},
     "output_type": "display_data"
    },
    {
     "data": {
      "application/vnd.jupyter.widget-view+json": {
       "model_id": "c9cccb91c69b405f8918d229c879b369"
      }
     },
     "metadata": {},
     "output_type": "display_data"
    },
    {
     "data": {
      "application/vnd.jupyter.widget-view+json": {
       "model_id": "89695d558bce44ec86501f24d953b86d"
      }
     },
     "metadata": {},
     "output_type": "display_data"
    },
    {
     "data": {
      "application/vnd.jupyter.widget-view+json": {
       "model_id": "a013a6ceb1a741b4a23bbf212752fcd9"
      }
     },
     "metadata": {},
     "output_type": "display_data"
    },
    {
     "data": {
      "application/vnd.jupyter.widget-view+json": {
       "model_id": "ef918d34df1548949d6d5950230d3f3a"
      }
     },
     "metadata": {},
     "output_type": "display_data"
    },
    {
     "data": {
      "application/vnd.jupyter.widget-view+json": {
       "model_id": "f77678f469a2412094b3b40fa3af07dd"
      }
     },
     "metadata": {},
     "output_type": "display_data"
    },
    {
     "data": {
      "application/vnd.jupyter.widget-view+json": {
       "model_id": "0faaf0cdf0dc4662b60c31cf82dd51bf"
      }
     },
     "metadata": {},
     "output_type": "display_data"
    },
    {
     "data": {
      "application/vnd.jupyter.widget-view+json": {
       "model_id": "d5539629f26446e297bc81838b0640da"
      }
     },
     "metadata": {},
     "output_type": "display_data"
    },
    {
     "data": {
      "application/vnd.jupyter.widget-view+json": {
       "model_id": "f873cdbe219a48329afb070752ff8e1a"
      }
     },
     "metadata": {},
     "output_type": "display_data"
    },
    {
     "data": {
      "application/vnd.jupyter.widget-view+json": {
       "model_id": "03d8f97190bf41fa8f4eafd9f755b603"
      }
     },
     "metadata": {},
     "output_type": "display_data"
    },
    {
     "data": {
      "application/vnd.jupyter.widget-view+json": {
       "model_id": "e4d752669bd541b38d8af338e247a237"
      }
     },
     "metadata": {},
     "output_type": "display_data"
    },
    {
     "data": {
      "application/vnd.jupyter.widget-view+json": {
       "model_id": "2c729b60bc2941dca42f11bc5668ea8e"
      }
     },
     "metadata": {},
     "output_type": "display_data"
    },
    {
     "data": {
      "application/vnd.jupyter.widget-view+json": {
       "model_id": "5f840ec91ef647bfa74e43c55222da6a"
      }
     },
     "metadata": {},
     "output_type": "display_data"
    },
    {
     "data": {
      "application/vnd.jupyter.widget-view+json": {
       "model_id": "397e9975eda34982813912d9dad40378"
      }
     },
     "metadata": {},
     "output_type": "display_data"
    },
    {
     "data": {
      "application/vnd.jupyter.widget-view+json": {
       "model_id": "8c88ae0cbe834e23a13411c1196dd254"
      }
     },
     "metadata": {},
     "output_type": "display_data"
    },
    {
     "data": {
      "application/vnd.jupyter.widget-view+json": {
       "model_id": "fce0213abb024a6da9097bc145880824"
      }
     },
     "metadata": {},
     "output_type": "display_data"
    },
    {
     "data": {
      "application/vnd.jupyter.widget-view+json": {
       "model_id": "93715f7081aa487f9b4ce3b4ed0e59c2"
      }
     },
     "metadata": {},
     "output_type": "display_data"
    },
    {
     "data": {
      "application/vnd.jupyter.widget-view+json": {
       "model_id": "fda4dc0458a5449fbfb21cd8a2f40ca5"
      }
     },
     "metadata": {},
     "output_type": "display_data"
    },
    {
     "data": {
      "application/vnd.jupyter.widget-view+json": {
       "model_id": "726bb8143753408d89fed580a14c92e9"
      }
     },
     "metadata": {},
     "output_type": "display_data"
    },
    {
     "data": {
      "application/vnd.jupyter.widget-view+json": {
       "model_id": "3afa15f6d90947aeabf80cd2a200bece"
      }
     },
     "metadata": {},
     "output_type": "display_data"
    },
    {
     "data": {
      "application/vnd.jupyter.widget-view+json": {
       "model_id": "dbfab5a4a65341d08826637acf0a520b"
      }
     },
     "metadata": {},
     "output_type": "display_data"
    },
    {
     "data": {
      "application/vnd.jupyter.widget-view+json": {
       "model_id": "e5cf429e395a4291b7cd22ac01ff9630"
      }
     },
     "metadata": {},
     "output_type": "display_data"
    },
    {
     "data": {
      "application/vnd.jupyter.widget-view+json": {
       "model_id": "7b905a4f84bf4204817c6537333bb769"
      }
     },
     "metadata": {},
     "output_type": "display_data"
    },
    {
     "data": {
      "application/vnd.jupyter.widget-view+json": {
       "model_id": "b07ea7829bea4a3b97eec3e007d79642"
      }
     },
     "metadata": {},
     "output_type": "display_data"
    },
    {
     "data": {
      "application/vnd.jupyter.widget-view+json": {
       "model_id": "022baa5a30d04200a63b292eb4426b27"
      }
     },
     "metadata": {},
     "output_type": "display_data"
    },
    {
     "data": {
      "application/vnd.jupyter.widget-view+json": {
       "model_id": "6a31e8d387284a3e8a300739a9aa5509"
      }
     },
     "metadata": {},
     "output_type": "display_data"
    },
    {
     "data": {
      "application/vnd.jupyter.widget-view+json": {
       "model_id": "a5b6140d54cb486584ded66abaa0655d"
      }
     },
     "metadata": {},
     "output_type": "display_data"
    },
    {
     "data": {
      "application/vnd.jupyter.widget-view+json": {
       "model_id": "6c96577b50994792b217f346bac9bbc1"
      }
     },
     "metadata": {},
     "output_type": "display_data"
    },
    {
     "data": {
      "application/vnd.jupyter.widget-view+json": {
       "model_id": "f45eaa480a564fb1b7bd5bcb9f2881ba"
      }
     },
     "metadata": {},
     "output_type": "display_data"
    },
    {
     "data": {
      "application/vnd.jupyter.widget-view+json": {
       "model_id": "6943baf892c44966a34e13bb7b1f59e0"
      }
     },
     "metadata": {},
     "output_type": "display_data"
    },
    {
     "data": {
      "application/vnd.jupyter.widget-view+json": {
       "model_id": "32b979cb728843e09f2183da507a1c34"
      }
     },
     "metadata": {},
     "output_type": "display_data"
    },
    {
     "data": {
      "application/vnd.jupyter.widget-view+json": {
       "model_id": "55c25c0ef4fb49c28767b7ed1e20f9a7"
      }
     },
     "metadata": {},
     "output_type": "display_data"
    },
    {
     "data": {
      "application/vnd.jupyter.widget-view+json": {
       "model_id": "606d92efdfc0407db6d7eac9d11b6425"
      }
     },
     "metadata": {},
     "output_type": "display_data"
    },
    {
     "data": {
      "application/vnd.jupyter.widget-view+json": {
       "model_id": "1cb17036fdf24435bf513dc11711c1dd"
      }
     },
     "metadata": {},
     "output_type": "display_data"
    },
    {
     "data": {
      "application/vnd.jupyter.widget-view+json": {
       "model_id": "76d0658a8ca3475ab39893863f8d48ec"
      }
     },
     "metadata": {},
     "output_type": "display_data"
    },
    {
     "data": {
      "application/vnd.jupyter.widget-view+json": {
       "model_id": "23e4f03eba76401b902dfe82acaedcb0"
      }
     },
     "metadata": {},
     "output_type": "display_data"
    },
    {
     "data": {
      "application/vnd.jupyter.widget-view+json": {
       "model_id": "be13d14d0cb1494fb835eaa4e748774a"
      }
     },
     "metadata": {},
     "output_type": "display_data"
    },
    {
     "data": {
      "application/vnd.jupyter.widget-view+json": {
       "model_id": "16ec4def4d4e4790bacf979156d143bf"
      }
     },
     "metadata": {},
     "output_type": "display_data"
    },
    {
     "data": {
      "application/vnd.jupyter.widget-view+json": {
       "model_id": "dd5b8b1effce41248f95ba48ec86e2d9"
      }
     },
     "metadata": {},
     "output_type": "display_data"
    },
    {
     "data": {
      "application/vnd.jupyter.widget-view+json": {
       "model_id": "5d118741e1aa4a098d61d57ce9c948c6"
      }
     },
     "metadata": {},
     "output_type": "display_data"
    },
    {
     "data": {
      "application/vnd.jupyter.widget-view+json": {
       "model_id": "5f4e15785b684399bd596fe73926986d"
      }
     },
     "metadata": {},
     "output_type": "display_data"
    },
    {
     "data": {
      "application/vnd.jupyter.widget-view+json": {
       "model_id": "a5c254d661ed4b7fb5141ef23575376c"
      }
     },
     "metadata": {},
     "output_type": "display_data"
    },
    {
     "data": {
      "application/vnd.jupyter.widget-view+json": {
       "model_id": "db160128761e49a0b054e7309a774078"
      }
     },
     "metadata": {},
     "output_type": "display_data"
    },
    {
     "data": {
      "application/vnd.jupyter.widget-view+json": {
       "model_id": "2ea1fc6eedf042b481f06cbc7e972046"
      }
     },
     "metadata": {},
     "output_type": "display_data"
    },
    {
     "data": {
      "application/vnd.jupyter.widget-view+json": {
       "model_id": "1437440c7e7a4370ba2655c809732092"
      }
     },
     "metadata": {},
     "output_type": "display_data"
    },
    {
     "data": {
      "application/vnd.jupyter.widget-view+json": {
       "model_id": "993a7b760c784a248903479f137855ec"
      }
     },
     "metadata": {},
     "output_type": "display_data"
    },
    {
     "data": {
      "application/vnd.jupyter.widget-view+json": {
       "model_id": "ce3511d459a84dde864316f30d06ba0a"
      }
     },
     "metadata": {},
     "output_type": "display_data"
    },
    {
     "data": {
      "application/vnd.jupyter.widget-view+json": {
       "model_id": "abf562c0add14b9ea7c037bf8405e5db"
      }
     },
     "metadata": {},
     "output_type": "display_data"
    },
    {
     "data": {
      "application/vnd.jupyter.widget-view+json": {
       "model_id": "60d9a378a62d42a0bfc4381acbf2a2cc"
      }
     },
     "metadata": {},
     "output_type": "display_data"
    },
    {
     "data": {
      "application/vnd.jupyter.widget-view+json": {
       "model_id": "ed4b085bfc2c4093aafcd4e9232aad72"
      }
     },
     "metadata": {},
     "output_type": "display_data"
    },
    {
     "data": {
      "application/vnd.jupyter.widget-view+json": {
       "model_id": "84ca1764a95c417eb9621d83c536861b"
      }
     },
     "metadata": {},
     "output_type": "display_data"
    },
    {
     "data": {
      "application/vnd.jupyter.widget-view+json": {
       "model_id": "80193678d5b0450fbd3e4115fda4e116"
      }
     },
     "metadata": {},
     "output_type": "display_data"
    },
    {
     "data": {
      "application/vnd.jupyter.widget-view+json": {
       "model_id": "95fe92b10815460490a447a7c3607b49"
      }
     },
     "metadata": {},
     "output_type": "display_data"
    },
    {
     "data": {
      "application/vnd.jupyter.widget-view+json": {
       "model_id": "07c629dfa1114314aae468af5dd94cd3"
      }
     },
     "metadata": {},
     "output_type": "display_data"
    },
    {
     "data": {
      "application/vnd.jupyter.widget-view+json": {
       "model_id": "0dc58275772b4456be6dfd2bbcbb79bd"
      }
     },
     "metadata": {},
     "output_type": "display_data"
    },
    {
     "data": {
      "application/vnd.jupyter.widget-view+json": {
       "model_id": "6849f452122c4f40a930167732d55c9b"
      }
     },
     "metadata": {},
     "output_type": "display_data"
    },
    {
     "data": {
      "application/vnd.jupyter.widget-view+json": {
       "model_id": "0841371eb9ab451c9ede5c104c23e625"
      }
     },
     "metadata": {},
     "output_type": "display_data"
    },
    {
     "data": {
      "application/vnd.jupyter.widget-view+json": {
       "model_id": "fcd8cdc61e13421d856294c42af50474"
      }
     },
     "metadata": {},
     "output_type": "display_data"
    },
    {
     "data": {
      "application/vnd.jupyter.widget-view+json": {
       "model_id": "a226f4da85f6422fa76db9c4fbae5499"
      }
     },
     "metadata": {},
     "output_type": "display_data"
    },
    {
     "data": {
      "application/vnd.jupyter.widget-view+json": {
       "model_id": "5472300296de47d393a03ccbd00838cd"
      }
     },
     "metadata": {},
     "output_type": "display_data"
    },
    {
     "data": {
      "application/vnd.jupyter.widget-view+json": {
       "model_id": "bd06e43f5c844b48869f8298043a71bf"
      }
     },
     "metadata": {},
     "output_type": "display_data"
    },
    {
     "data": {
      "application/vnd.jupyter.widget-view+json": {
       "model_id": "0a4724e07ffe4d04911740cf7f48ca6e"
      }
     },
     "metadata": {},
     "output_type": "display_data"
    },
    {
     "data": {
      "application/vnd.jupyter.widget-view+json": {
       "model_id": "029686bad3d34ef0b772b0b5885bacdc"
      }
     },
     "metadata": {},
     "output_type": "display_data"
    },
    {
     "data": {
      "application/vnd.jupyter.widget-view+json": {
       "model_id": "62090d1f43094b44a6f1ca910d04046b"
      }
     },
     "metadata": {},
     "output_type": "display_data"
    },
    {
     "data": {
      "application/vnd.jupyter.widget-view+json": {
       "model_id": "26556df7885141a384cb153f43d09d3c"
      }
     },
     "metadata": {},
     "output_type": "display_data"
    },
    {
     "data": {
      "application/vnd.jupyter.widget-view+json": {
       "model_id": "aaa320fd56924350bc170bea9add5a5d"
      }
     },
     "metadata": {},
     "output_type": "display_data"
    },
    {
     "data": {
      "application/vnd.jupyter.widget-view+json": {
       "model_id": "0f07bcb4bfc34602aeff2b0894e943e4"
      }
     },
     "metadata": {},
     "output_type": "display_data"
    },
    {
     "data": {
      "application/vnd.jupyter.widget-view+json": {
       "model_id": "8a73cafd5c4347a48c7a6512f1fd0af4"
      }
     },
     "metadata": {},
     "output_type": "display_data"
    },
    {
     "data": {
      "application/vnd.jupyter.widget-view+json": {
       "model_id": "4b785007bb9340b2a5e5825781fafeb7"
      }
     },
     "metadata": {},
     "output_type": "display_data"
    },
    {
     "data": {
      "application/vnd.jupyter.widget-view+json": {
       "model_id": "1b454f5eebbe4df48d8aeec168e0b0f9"
      }
     },
     "metadata": {},
     "output_type": "display_data"
    },
    {
     "data": {
      "application/vnd.jupyter.widget-view+json": {
       "model_id": "dfe5fe76e3b3478b9b88082b8cf33698"
      }
     },
     "metadata": {},
     "output_type": "display_data"
    },
    {
     "data": {
      "application/vnd.jupyter.widget-view+json": {
       "model_id": "bd160ae7924d43bab25a95f600d94dc0"
      }
     },
     "metadata": {},
     "output_type": "display_data"
    },
    {
     "data": {
      "application/vnd.jupyter.widget-view+json": {
       "model_id": "7e82b49ebd954e3aac01b14838309263"
      }
     },
     "metadata": {},
     "output_type": "display_data"
    },
    {
     "data": {
      "application/vnd.jupyter.widget-view+json": {
       "model_id": "469b435ae17544aeae77eb7552961146"
      }
     },
     "metadata": {},
     "output_type": "display_data"
    },
    {
     "data": {
      "application/vnd.jupyter.widget-view+json": {
       "model_id": "61a8833581d54711a116d67fe2a78794"
      }
     },
     "metadata": {},
     "output_type": "display_data"
    },
    {
     "data": {
      "application/vnd.jupyter.widget-view+json": {
       "model_id": "9128b34a0b6b49acbe21945a939c8956"
      }
     },
     "metadata": {},
     "output_type": "display_data"
    },
    {
     "data": {
      "application/vnd.jupyter.widget-view+json": {
       "model_id": "0237969a3ad0484fb7cc44c0d2e07c01"
      }
     },
     "metadata": {},
     "output_type": "display_data"
    },
    {
     "data": {
      "application/vnd.jupyter.widget-view+json": {
       "model_id": "a48f94705dbb42c8bd29021db5713843"
      }
     },
     "metadata": {},
     "output_type": "display_data"
    },
    {
     "data": {
      "application/vnd.jupyter.widget-view+json": {
       "model_id": "3099bd6d77864f8383e76d7eb7197f85"
      }
     },
     "metadata": {},
     "output_type": "display_data"
    },
    {
     "data": {
      "application/vnd.jupyter.widget-view+json": {
       "model_id": "95d49ae6a18e41acb79fccdeedd00e86"
      }
     },
     "metadata": {},
     "output_type": "display_data"
    },
    {
     "data": {
      "application/vnd.jupyter.widget-view+json": {
       "model_id": "862ff35b4dfc4b51808386d0e097565d"
      }
     },
     "metadata": {},
     "output_type": "display_data"
    },
    {
     "data": {
      "application/vnd.jupyter.widget-view+json": {
       "model_id": "a3c579b694cb4faebbda3b39c4e3a153"
      }
     },
     "metadata": {},
     "output_type": "display_data"
    },
    {
     "data": {
      "application/vnd.jupyter.widget-view+json": {
       "model_id": "ba46c8ad9cd24451a98beac9590eb76a"
      }
     },
     "metadata": {},
     "output_type": "display_data"
    },
    {
     "data": {
      "application/vnd.jupyter.widget-view+json": {
       "model_id": "5f7ae6a52d274e2a926c14fab1adb011"
      }
     },
     "metadata": {},
     "output_type": "display_data"
    },
    {
     "data": {
      "application/vnd.jupyter.widget-view+json": {
       "model_id": "6b86a8573c654b14947f44a2127cffc6"
      }
     },
     "metadata": {},
     "output_type": "display_data"
    },
    {
     "data": {
      "application/vnd.jupyter.widget-view+json": {
       "model_id": "54fb15e7a5544a75aa26791c2a5cf6fc"
      }
     },
     "metadata": {},
     "output_type": "display_data"
    },
    {
     "data": {
      "application/vnd.jupyter.widget-view+json": {
       "model_id": "f21c4addc14a40e5a70eca08d1e5b5fe"
      }
     },
     "metadata": {},
     "output_type": "display_data"
    },
    {
     "data": {
      "application/vnd.jupyter.widget-view+json": {
       "model_id": "2fe1658208d145c1a86a6e4fe56151c9"
      }
     },
     "metadata": {},
     "output_type": "display_data"
    },
    {
     "data": {
      "application/vnd.jupyter.widget-view+json": {
       "model_id": "23f7a61beefb477f9e819302eb9cc076"
      }
     },
     "metadata": {},
     "output_type": "display_data"
    },
    {
     "data": {
      "application/vnd.jupyter.widget-view+json": {
       "model_id": "59e66d13330b4c18853642016c6caab0"
      }
     },
     "metadata": {},
     "output_type": "display_data"
    },
    {
     "data": {
      "application/vnd.jupyter.widget-view+json": {
       "model_id": "ce5600e540d64f92a3ec59820ed39365"
      }
     },
     "metadata": {},
     "output_type": "display_data"
    },
    {
     "data": {
      "application/vnd.jupyter.widget-view+json": {
       "model_id": "8097525cf8fd4a2e8fec86be23b8d4ac"
      }
     },
     "metadata": {},
     "output_type": "display_data"
    },
    {
     "data": {
      "application/vnd.jupyter.widget-view+json": {
       "model_id": "9292140f356245319497de81a28b20ff"
      }
     },
     "metadata": {},
     "output_type": "display_data"
    },
    {
     "data": {
      "application/vnd.jupyter.widget-view+json": {
       "model_id": "08a0b5dd99bb424eabb1641277ba6cf3"
      }
     },
     "metadata": {},
     "output_type": "display_data"
    },
    {
     "data": {
      "application/vnd.jupyter.widget-view+json": {
       "model_id": "8a42698a082643a59e8a2c2fb37e1f7f"
      }
     },
     "metadata": {},
     "output_type": "display_data"
    },
    {
     "data": {
      "application/vnd.jupyter.widget-view+json": {
       "model_id": "89484300ea5a4543aec1b71963665aa8"
      }
     },
     "metadata": {},
     "output_type": "display_data"
    },
    {
     "data": {
      "application/vnd.jupyter.widget-view+json": {
       "model_id": "8a4194e24a5b4bbabc9b7a11c9a9ae89"
      }
     },
     "metadata": {},
     "output_type": "display_data"
    },
    {
     "data": {
      "application/vnd.jupyter.widget-view+json": {
       "model_id": "96744287ba7044dfb37ff7f7901c67ff"
      }
     },
     "metadata": {},
     "output_type": "display_data"
    },
    {
     "data": {
      "application/vnd.jupyter.widget-view+json": {
       "model_id": "6ddc7fceba994ae7b553cab08cfc595a"
      }
     },
     "metadata": {},
     "output_type": "display_data"
    },
    {
     "data": {
      "application/vnd.jupyter.widget-view+json": {
       "model_id": "192f6e176ce940ab8c5bad480ac09397"
      }
     },
     "metadata": {},
     "output_type": "display_data"
    },
    {
     "data": {
      "application/vnd.jupyter.widget-view+json": {
       "model_id": "dce068157c784ead83da0814fc62660f"
      }
     },
     "metadata": {},
     "output_type": "display_data"
    },
    {
     "data": {
      "application/vnd.jupyter.widget-view+json": {
       "model_id": "9e9dc205c6e64c82b51694f25ac13f39"
      }
     },
     "metadata": {},
     "output_type": "display_data"
    },
    {
     "data": {
      "application/vnd.jupyter.widget-view+json": {
       "model_id": "d8b5cb2fe20e4e28b3778dc9ec2a5b6d"
      }
     },
     "metadata": {},
     "output_type": "display_data"
    },
    {
     "data": {
      "application/vnd.jupyter.widget-view+json": {
       "model_id": "83fadebf7f1343b59ebae43a36af7b7f"
      }
     },
     "metadata": {},
     "output_type": "display_data"
    },
    {
     "data": {
      "application/vnd.jupyter.widget-view+json": {
       "model_id": "32c96769fe984e96a210dfd3be180866"
      }
     },
     "metadata": {},
     "output_type": "display_data"
    },
    {
     "data": {
      "application/vnd.jupyter.widget-view+json": {
       "model_id": "0a86892d91f0473680682cd8220cd755"
      }
     },
     "metadata": {},
     "output_type": "display_data"
    },
    {
     "data": {
      "application/vnd.jupyter.widget-view+json": {
       "model_id": "8845da3a79cb47569fef65b95b03b44a"
      }
     },
     "metadata": {},
     "output_type": "display_data"
    },
    {
     "data": {
      "application/vnd.jupyter.widget-view+json": {
       "model_id": "71dfe8b43f9b4fbdbb6e5612b1ec6961"
      }
     },
     "metadata": {},
     "output_type": "display_data"
    },
    {
     "data": {
      "application/vnd.jupyter.widget-view+json": {
       "model_id": "724be7a4c79647b586d667030b6bc4d5"
      }
     },
     "metadata": {},
     "output_type": "display_data"
    },
    {
     "data": {
      "application/vnd.jupyter.widget-view+json": {
       "model_id": "46afaa820d3d4f63945a6b2f60f463c3"
      }
     },
     "metadata": {},
     "output_type": "display_data"
    },
    {
     "data": {
      "application/vnd.jupyter.widget-view+json": {
       "model_id": "1521afcb7d074c268420841d1408b892"
      }
     },
     "metadata": {},
     "output_type": "display_data"
    },
    {
     "data": {
      "application/vnd.jupyter.widget-view+json": {
       "model_id": "cbe309caddab4637a41634453734e396"
      }
     },
     "metadata": {},
     "output_type": "display_data"
    },
    {
     "data": {
      "application/vnd.jupyter.widget-view+json": {
       "model_id": "ecddc991146544fb9dab036de55091ec"
      }
     },
     "metadata": {},
     "output_type": "display_data"
    },
    {
     "data": {
      "application/vnd.jupyter.widget-view+json": {
       "model_id": "a7f41f11c1e54fc4915a6989bcdbc2fd"
      }
     },
     "metadata": {},
     "output_type": "display_data"
    },
    {
     "data": {
      "application/vnd.jupyter.widget-view+json": {
       "model_id": "2237bd85513c45f092e3dea0689a76cc"
      }
     },
     "metadata": {},
     "output_type": "display_data"
    },
    {
     "data": {
      "application/vnd.jupyter.widget-view+json": {
       "model_id": "8ad18495758144e6a0a9bd995787e71a"
      }
     },
     "metadata": {},
     "output_type": "display_data"
    },
    {
     "data": {
      "application/vnd.jupyter.widget-view+json": {
       "model_id": "2dae5f41d7994372892c280c45d852e6"
      }
     },
     "metadata": {},
     "output_type": "display_data"
    },
    {
     "data": {
      "application/vnd.jupyter.widget-view+json": {
       "model_id": "37861f4676e04fe0b53dd42881573d8f"
      }
     },
     "metadata": {},
     "output_type": "display_data"
    },
    {
     "data": {
      "application/vnd.jupyter.widget-view+json": {
       "model_id": "0fa921f0e53a487aa1bad254271a7541"
      }
     },
     "metadata": {},
     "output_type": "display_data"
    },
    {
     "data": {
      "application/vnd.jupyter.widget-view+json": {
       "model_id": "a69a6520dba1420585e03f32df034f2f"
      }
     },
     "metadata": {},
     "output_type": "display_data"
    },
    {
     "data": {
      "application/vnd.jupyter.widget-view+json": {
       "model_id": "b2471267e7f349a48e971232eadc3e12"
      }
     },
     "metadata": {},
     "output_type": "display_data"
    },
    {
     "data": {
      "application/vnd.jupyter.widget-view+json": {
       "model_id": "d550a90381de4589b0f88697134a99a0"
      }
     },
     "metadata": {},
     "output_type": "display_data"
    },
    {
     "data": {
      "application/vnd.jupyter.widget-view+json": {
       "model_id": "722bb43ad6464218a92d1b8b2f10f88c"
      }
     },
     "metadata": {},
     "output_type": "display_data"
    },
    {
     "data": {
      "application/vnd.jupyter.widget-view+json": {
       "model_id": "19cc184e42b942e5a2bad2f1ad463f70"
      }
     },
     "metadata": {},
     "output_type": "display_data"
    },
    {
     "data": {
      "application/vnd.jupyter.widget-view+json": {
       "model_id": "5a8c70ec2988407bac61cc1f6164c920"
      }
     },
     "metadata": {},
     "output_type": "display_data"
    },
    {
     "data": {
      "application/vnd.jupyter.widget-view+json": {
       "model_id": "ae5163de0fbc47a186aa53d2c0b83968"
      }
     },
     "metadata": {},
     "output_type": "display_data"
    },
    {
     "data": {
      "application/vnd.jupyter.widget-view+json": {
       "model_id": "22b6b5d498ac441db71e78117d08a7ac"
      }
     },
     "metadata": {},
     "output_type": "display_data"
    },
    {
     "data": {
      "application/vnd.jupyter.widget-view+json": {
       "model_id": "59ff4c541b1d4c6e967b800afce45b4b"
      }
     },
     "metadata": {},
     "output_type": "display_data"
    },
    {
     "data": {
      "application/vnd.jupyter.widget-view+json": {
       "model_id": "f1d065f79bb54ab98fd89908ce9bbd11"
      }
     },
     "metadata": {},
     "output_type": "display_data"
    },
    {
     "data": {
      "application/vnd.jupyter.widget-view+json": {
       "model_id": "c8052c28116b4e1787758d69eb56647e"
      }
     },
     "metadata": {},
     "output_type": "display_data"
    },
    {
     "data": {
      "application/vnd.jupyter.widget-view+json": {
       "model_id": "1aa4b4dd5daf484a8a82e68bc36c9603"
      }
     },
     "metadata": {},
     "output_type": "display_data"
    },
    {
     "data": {
      "application/vnd.jupyter.widget-view+json": {
       "model_id": "9a4bdfda02e644cfa19ee359d2b84f2d"
      }
     },
     "metadata": {},
     "output_type": "display_data"
    },
    {
     "data": {
      "application/vnd.jupyter.widget-view+json": {
       "model_id": "3a6c1ae8a6174782a1ddf17194e1c005"
      }
     },
     "metadata": {},
     "output_type": "display_data"
    },
    {
     "data": {
      "application/vnd.jupyter.widget-view+json": {
       "model_id": "cd165ab208614173aad92c4f86bea658"
      }
     },
     "metadata": {},
     "output_type": "display_data"
    },
    {
     "data": {
      "application/vnd.jupyter.widget-view+json": {
       "model_id": "cc08a0b2de96401d885fdc11109a2328"
      }
     },
     "metadata": {},
     "output_type": "display_data"
    },
    {
     "data": {
      "application/vnd.jupyter.widget-view+json": {
       "model_id": "3962d7b3ce81469cad6bbfd23f0c20d7"
      }
     },
     "metadata": {},
     "output_type": "display_data"
    },
    {
     "data": {
      "application/vnd.jupyter.widget-view+json": {
       "model_id": "ca724130cc814b6eace3d0c111714df9"
      }
     },
     "metadata": {},
     "output_type": "display_data"
    },
    {
     "data": {
      "application/vnd.jupyter.widget-view+json": {
       "model_id": "002ec562140640c0a30f6bb569c8ce21"
      }
     },
     "metadata": {},
     "output_type": "display_data"
    },
    {
     "data": {
      "application/vnd.jupyter.widget-view+json": {
       "model_id": "b2e9de1ba34041cc98686a0281285af9"
      }
     },
     "metadata": {},
     "output_type": "display_data"
    },
    {
     "data": {
      "application/vnd.jupyter.widget-view+json": {
       "model_id": "8059f08809054807afb7708f498d56f4"
      }
     },
     "metadata": {},
     "output_type": "display_data"
    },
    {
     "data": {
      "application/vnd.jupyter.widget-view+json": {
       "model_id": "f9cfb450c3194820a3adbbe155b14809"
      }
     },
     "metadata": {},
     "output_type": "display_data"
    },
    {
     "data": {
      "application/vnd.jupyter.widget-view+json": {
       "model_id": "a8fc4d8b9dd3413fbf1521f9a44b8f80"
      }
     },
     "metadata": {},
     "output_type": "display_data"
    },
    {
     "data": {
      "application/vnd.jupyter.widget-view+json": {
       "model_id": "38a4bc4bef9b481aaf145f99a291ad4a"
      }
     },
     "metadata": {},
     "output_type": "display_data"
    },
    {
     "data": {
      "application/vnd.jupyter.widget-view+json": {
       "model_id": "45e554e8964246b59902d32291bbd128"
      }
     },
     "metadata": {},
     "output_type": "display_data"
    },
    {
     "data": {
      "application/vnd.jupyter.widget-view+json": {
       "model_id": "a2995d4fc84a465aa322ddc12e1cbf55"
      }
     },
     "metadata": {},
     "output_type": "display_data"
    },
    {
     "data": {
      "application/vnd.jupyter.widget-view+json": {
       "model_id": "1ee1f78da4a84bf4a789ab7754be8b1a"
      }
     },
     "metadata": {},
     "output_type": "display_data"
    },
    {
     "data": {
      "application/vnd.jupyter.widget-view+json": {
       "model_id": "cdaa9d0e14104bffb8af73739552af0b"
      }
     },
     "metadata": {},
     "output_type": "display_data"
    },
    {
     "data": {
      "application/vnd.jupyter.widget-view+json": {
       "model_id": "ebe593f80bf44cf0a871baf11bf2b591"
      }
     },
     "metadata": {},
     "output_type": "display_data"
    },
    {
     "data": {
      "application/vnd.jupyter.widget-view+json": {
       "model_id": "4d5abcc9b0b8401eb68a143ebbf86b76"
      }
     },
     "metadata": {},
     "output_type": "display_data"
    },
    {
     "data": {
      "application/vnd.jupyter.widget-view+json": {
       "model_id": "636be3ad112a4e80a84ebc70dfdcd62f"
      }
     },
     "metadata": {},
     "output_type": "display_data"
    },
    {
     "data": {
      "application/vnd.jupyter.widget-view+json": {
       "model_id": "fb01610662fb4ed98742475b48976f08"
      }
     },
     "metadata": {},
     "output_type": "display_data"
    },
    {
     "data": {
      "application/vnd.jupyter.widget-view+json": {
       "model_id": "7aaaba4d76d7457f99f40e5005c296a4"
      }
     },
     "metadata": {},
     "output_type": "display_data"
    },
    {
     "data": {
      "application/vnd.jupyter.widget-view+json": {
       "model_id": "6ed16406141a4a3db46b262312e500c6"
      }
     },
     "metadata": {},
     "output_type": "display_data"
    },
    {
     "data": {
      "application/vnd.jupyter.widget-view+json": {
       "model_id": "cceb3f24b24e4108bace9987bbe3cc94"
      }
     },
     "metadata": {},
     "output_type": "display_data"
    },
    {
     "data": {
      "application/vnd.jupyter.widget-view+json": {
       "model_id": "3db5ad45b08143b4b6303c8e243445ed"
      }
     },
     "metadata": {},
     "output_type": "display_data"
    },
    {
     "data": {
      "application/vnd.jupyter.widget-view+json": {
       "model_id": "60cc3773d4af49a3addac6d5d0ec4f51"
      }
     },
     "metadata": {},
     "output_type": "display_data"
    },
    {
     "data": {
      "application/vnd.jupyter.widget-view+json": {
       "model_id": "c4ee16c74aa94282a4615a12a09bd4f0"
      }
     },
     "metadata": {},
     "output_type": "display_data"
    },
    {
     "data": {
      "application/vnd.jupyter.widget-view+json": {
       "model_id": "b071f1cf59c040769f3c0351c86640ce"
      }
     },
     "metadata": {},
     "output_type": "display_data"
    },
    {
     "data": {
      "application/vnd.jupyter.widget-view+json": {
       "model_id": "f2faa0c0f5cd4f1499cc02cded011dcc"
      }
     },
     "metadata": {},
     "output_type": "display_data"
    },
    {
     "data": {
      "application/vnd.jupyter.widget-view+json": {
       "model_id": "105c8b58e006451c8fcd179019cd290f"
      }
     },
     "metadata": {},
     "output_type": "display_data"
    },
    {
     "data": {
      "application/vnd.jupyter.widget-view+json": {
       "model_id": "d4beb7875d9743e4bd6acf0e623af1cf"
      }
     },
     "metadata": {},
     "output_type": "display_data"
    },
    {
     "data": {
      "application/vnd.jupyter.widget-view+json": {
       "model_id": "1ac8e9846ce543d8b769b3883cdbf61e"
      }
     },
     "metadata": {},
     "output_type": "display_data"
    },
    {
     "data": {
      "application/vnd.jupyter.widget-view+json": {
       "model_id": "4786fc0877d84aabb2225fe9b05a5eb4"
      }
     },
     "metadata": {},
     "output_type": "display_data"
    },
    {
     "data": {
      "application/vnd.jupyter.widget-view+json": {
       "model_id": "2cf40d2e74d04c949ae087ece6aac8ca"
      }
     },
     "metadata": {},
     "output_type": "display_data"
    },
    {
     "data": {
      "application/vnd.jupyter.widget-view+json": {
       "model_id": "d9c1e7f178044a5aa4268cab198d346b"
      }
     },
     "metadata": {},
     "output_type": "display_data"
    },
    {
     "data": {
      "application/vnd.jupyter.widget-view+json": {
       "model_id": "073d32d3ad4a414baab14a5669279311"
      }
     },
     "metadata": {},
     "output_type": "display_data"
    },
    {
     "data": {
      "application/vnd.jupyter.widget-view+json": {
       "model_id": "82e92497cd6047b3a7f2ed64928cf391"
      }
     },
     "metadata": {},
     "output_type": "display_data"
    },
    {
     "data": {
      "application/vnd.jupyter.widget-view+json": {
       "model_id": "c73f047be25b4939860f1c31c43aba53"
      }
     },
     "metadata": {},
     "output_type": "display_data"
    },
    {
     "data": {
      "application/vnd.jupyter.widget-view+json": {
       "model_id": "499156f0178e4fdea0e582a050fec430"
      }
     },
     "metadata": {},
     "output_type": "display_data"
    },
    {
     "data": {
      "application/vnd.jupyter.widget-view+json": {
       "model_id": "ae8a77e4e6424bca9f6f9d1a3f6f8c2a"
      }
     },
     "metadata": {},
     "output_type": "display_data"
    },
    {
     "data": {
      "application/vnd.jupyter.widget-view+json": {
       "model_id": "af0d34388bf9444cbab354398ec30c5b"
      }
     },
     "metadata": {},
     "output_type": "display_data"
    },
    {
     "data": {
      "application/vnd.jupyter.widget-view+json": {
       "model_id": "87d8e66bce924e6dba365056875ee0f8"
      }
     },
     "metadata": {},
     "output_type": "display_data"
    },
    {
     "data": {
      "application/vnd.jupyter.widget-view+json": {
       "model_id": "76ae8eaa4c254be68fe080377994cfab"
      }
     },
     "metadata": {},
     "output_type": "display_data"
    },
    {
     "data": {
      "application/vnd.jupyter.widget-view+json": {
       "model_id": "2813065e242c4978bbb8276d4adeb25d"
      }
     },
     "metadata": {},
     "output_type": "display_data"
    },
    {
     "data": {
      "application/vnd.jupyter.widget-view+json": {
       "model_id": "b439b8f8e94f450ab8ac50439e1dad35"
      }
     },
     "metadata": {},
     "output_type": "display_data"
    },
    {
     "data": {
      "application/vnd.jupyter.widget-view+json": {
       "model_id": "bd24fccafd104469aef6c1820593f36a"
      }
     },
     "metadata": {},
     "output_type": "display_data"
    },
    {
     "data": {
      "application/vnd.jupyter.widget-view+json": {
       "model_id": "961589f91983461d927c60e1c7fa0096"
      }
     },
     "metadata": {},
     "output_type": "display_data"
    },
    {
     "data": {
      "application/vnd.jupyter.widget-view+json": {
       "model_id": "30f907c8325d44599ccd75adc425bad9"
      }
     },
     "metadata": {},
     "output_type": "display_data"
    },
    {
     "data": {
      "application/vnd.jupyter.widget-view+json": {
       "model_id": "1e7bcc963ebe4721b8ecff71062b411b"
      }
     },
     "metadata": {},
     "output_type": "display_data"
    },
    {
     "data": {
      "application/vnd.jupyter.widget-view+json": {
       "model_id": "399b67e625a34882aee3f37f0662ae8a"
      }
     },
     "metadata": {},
     "output_type": "display_data"
    },
    {
     "data": {
      "application/vnd.jupyter.widget-view+json": {
       "model_id": "efe7b80ec32e483e9307e44ed549b4fa"
      }
     },
     "metadata": {},
     "output_type": "display_data"
    },
    {
     "data": {
      "application/vnd.jupyter.widget-view+json": {
       "model_id": "1680fdfc18944cd2b891f74c42529b9c"
      }
     },
     "metadata": {},
     "output_type": "display_data"
    },
    {
     "data": {
      "application/vnd.jupyter.widget-view+json": {
       "model_id": "f00487a4e9e547c397074c8da43d7c50"
      }
     },
     "metadata": {},
     "output_type": "display_data"
    },
    {
     "data": {
      "application/vnd.jupyter.widget-view+json": {
       "model_id": "b9375ca8c72f411a8236f816d0a74d1b"
      }
     },
     "metadata": {},
     "output_type": "display_data"
    },
    {
     "data": {
      "application/vnd.jupyter.widget-view+json": {
       "model_id": "857cce058b164d9599d42660ff791768"
      }
     },
     "metadata": {},
     "output_type": "display_data"
    },
    {
     "data": {
      "application/vnd.jupyter.widget-view+json": {
       "model_id": "7ead03f5a1d9466c812515d0beb24690"
      }
     },
     "metadata": {},
     "output_type": "display_data"
    },
    {
     "data": {
      "application/vnd.jupyter.widget-view+json": {
       "model_id": "87b3163b16164876bdf5d3c47a22544c"
      }
     },
     "metadata": {},
     "output_type": "display_data"
    },
    {
     "data": {
      "application/vnd.jupyter.widget-view+json": {
       "model_id": "e28632972b4f412f87eac5e52d9b4bb0"
      }
     },
     "metadata": {},
     "output_type": "display_data"
    },
    {
     "data": {
      "application/vnd.jupyter.widget-view+json": {
       "model_id": "7121f0ed62a540928a1111c974677c84"
      }
     },
     "metadata": {},
     "output_type": "display_data"
    },
    {
     "data": {
      "application/vnd.jupyter.widget-view+json": {
       "model_id": "55d0b5e739f34c869feecc93a85f81a9"
      }
     },
     "metadata": {},
     "output_type": "display_data"
    },
    {
     "data": {
      "application/vnd.jupyter.widget-view+json": {
       "model_id": "70128085d2b748f886564b2c56dd0be7"
      }
     },
     "metadata": {},
     "output_type": "display_data"
    },
    {
     "data": {
      "application/vnd.jupyter.widget-view+json": {
       "model_id": "2e8c7880a5b242ccac5e2f74177d3d6e"
      }
     },
     "metadata": {},
     "output_type": "display_data"
    },
    {
     "data": {
      "application/vnd.jupyter.widget-view+json": {
       "model_id": "8d35ac3422354b0196639f006e2b04f0"
      }
     },
     "metadata": {},
     "output_type": "display_data"
    },
    {
     "data": {
      "application/vnd.jupyter.widget-view+json": {
       "model_id": "2020816a478e4716b77e5b6009c63319"
      }
     },
     "metadata": {},
     "output_type": "display_data"
    },
    {
     "data": {
      "application/vnd.jupyter.widget-view+json": {
       "model_id": "e4534dec17ee4f9093877b1233bc5061"
      }
     },
     "metadata": {},
     "output_type": "display_data"
    },
    {
     "data": {
      "application/vnd.jupyter.widget-view+json": {
       "model_id": "575f7440770d4161899cf96c1703af90"
      }
     },
     "metadata": {},
     "output_type": "display_data"
    },
    {
     "data": {
      "application/vnd.jupyter.widget-view+json": {
       "model_id": "53a853e5c53242c2aa44e290de1c9f92"
      }
     },
     "metadata": {},
     "output_type": "display_data"
    },
    {
     "data": {
      "application/vnd.jupyter.widget-view+json": {
       "model_id": "0796c3b54e2f4ce490ab6b7c2224a131"
      }
     },
     "metadata": {},
     "output_type": "display_data"
    },
    {
     "data": {
      "application/vnd.jupyter.widget-view+json": {
       "model_id": "60787647b46b4453ad82a8517db5d68c"
      }
     },
     "metadata": {},
     "output_type": "display_data"
    },
    {
     "data": {
      "application/vnd.jupyter.widget-view+json": {
       "model_id": "b93fdcf6ab134b03bfa2422966cddda4"
      }
     },
     "metadata": {},
     "output_type": "display_data"
    },
    {
     "data": {
      "application/vnd.jupyter.widget-view+json": {
       "model_id": "c441c482463b48eba93436f738209383"
      }
     },
     "metadata": {},
     "output_type": "display_data"
    },
    {
     "data": {
      "application/vnd.jupyter.widget-view+json": {
       "model_id": "3fe91a58c3ce4a40bc5acde0876cac06"
      }
     },
     "metadata": {},
     "output_type": "display_data"
    },
    {
     "data": {
      "application/vnd.jupyter.widget-view+json": {
       "model_id": "ae50d9d56b4d4ee39a842e61b0e2c0e7"
      }
     },
     "metadata": {},
     "output_type": "display_data"
    },
    {
     "data": {
      "application/vnd.jupyter.widget-view+json": {
       "model_id": "60f3729c8cae47b4aa294290b1af90a2"
      }
     },
     "metadata": {},
     "output_type": "display_data"
    },
    {
     "data": {
      "application/vnd.jupyter.widget-view+json": {
       "model_id": "aed05e6825b44ea5975396e4c8270598"
      }
     },
     "metadata": {},
     "output_type": "display_data"
    },
    {
     "data": {
      "application/vnd.jupyter.widget-view+json": {
       "model_id": "a6fd76094152427297bd37b55da2eaee"
      }
     },
     "metadata": {},
     "output_type": "display_data"
    },
    {
     "data": {
      "application/vnd.jupyter.widget-view+json": {
       "model_id": "140b18e629644300978504069f70b2f9"
      }
     },
     "metadata": {},
     "output_type": "display_data"
    },
    {
     "data": {
      "application/vnd.jupyter.widget-view+json": {
       "model_id": "77ba06868935403b8f4031d5fd25a627"
      }
     },
     "metadata": {},
     "output_type": "display_data"
    },
    {
     "data": {
      "application/vnd.jupyter.widget-view+json": {
       "model_id": "cd8e78f13e9b44beb944bc805ad1f015"
      }
     },
     "metadata": {},
     "output_type": "display_data"
    },
    {
     "data": {
      "application/vnd.jupyter.widget-view+json": {
       "model_id": "04de4d10d319485b8f61e509451e4a68"
      }
     },
     "metadata": {},
     "output_type": "display_data"
    },
    {
     "data": {
      "application/vnd.jupyter.widget-view+json": {
       "model_id": "dfdd25a021034dcd807f703ba9420703"
      }
     },
     "metadata": {},
     "output_type": "display_data"
    },
    {
     "data": {
      "application/vnd.jupyter.widget-view+json": {
       "model_id": "4bfc9c5a2b64460a949cb9487d6e1c82"
      }
     },
     "metadata": {},
     "output_type": "display_data"
    },
    {
     "data": {
      "application/vnd.jupyter.widget-view+json": {
       "model_id": "54258aa8955145438aa45cfe15f1749b"
      }
     },
     "metadata": {},
     "output_type": "display_data"
    },
    {
     "data": {
      "application/vnd.jupyter.widget-view+json": {
       "model_id": "1928ad09e4c9450dba85e4996b11ac5b"
      }
     },
     "metadata": {},
     "output_type": "display_data"
    },
    {
     "data": {
      "application/vnd.jupyter.widget-view+json": {
       "model_id": "dafa3ce702284912a7cd210a5ea09872"
      }
     },
     "metadata": {},
     "output_type": "display_data"
    },
    {
     "data": {
      "application/vnd.jupyter.widget-view+json": {
       "model_id": "123fb9516f9e4ea6b41dd81dd04b9415"
      }
     },
     "metadata": {},
     "output_type": "display_data"
    },
    {
     "data": {
      "application/vnd.jupyter.widget-view+json": {
       "model_id": "3e3a33960efc4b9e82d53cb171a44a11"
      }
     },
     "metadata": {},
     "output_type": "display_data"
    },
    {
     "data": {
      "application/vnd.jupyter.widget-view+json": {
       "model_id": "20898f2493a54ca09817756d10000f0c"
      }
     },
     "metadata": {},
     "output_type": "display_data"
    },
    {
     "data": {
      "application/vnd.jupyter.widget-view+json": {
       "model_id": "e3f04690063444c4828b8b0324702a64"
      }
     },
     "metadata": {},
     "output_type": "display_data"
    },
    {
     "data": {
      "application/vnd.jupyter.widget-view+json": {
       "model_id": "29a5854800454c218bb943723ece9d70"
      }
     },
     "metadata": {},
     "output_type": "display_data"
    },
    {
     "data": {
      "application/vnd.jupyter.widget-view+json": {
       "model_id": "2d2e0598a174446f898569f01c882596"
      }
     },
     "metadata": {},
     "output_type": "display_data"
    },
    {
     "data": {
      "application/vnd.jupyter.widget-view+json": {
       "model_id": "8294fdf696124882bf6cdb3425e9a97e"
      }
     },
     "metadata": {},
     "output_type": "display_data"
    },
    {
     "data": {
      "application/vnd.jupyter.widget-view+json": {
       "model_id": "50d71b564fe243e9be48f4737fbfb05e"
      }
     },
     "metadata": {},
     "output_type": "display_data"
    },
    {
     "data": {
      "application/vnd.jupyter.widget-view+json": {
       "model_id": "a53118436bd84338acdf2be8458359df"
      }
     },
     "metadata": {},
     "output_type": "display_data"
    },
    {
     "data": {
      "application/vnd.jupyter.widget-view+json": {
       "model_id": "67d8ab19eeb845bea7334c3fc43600a3"
      }
     },
     "metadata": {},
     "output_type": "display_data"
    },
    {
     "data": {
      "application/vnd.jupyter.widget-view+json": {
       "model_id": "322647c4fd0644498bd2455e5c8817eb"
      }
     },
     "metadata": {},
     "output_type": "display_data"
    },
    {
     "data": {
      "application/vnd.jupyter.widget-view+json": {
       "model_id": "db28e540804f429abaf4fca8450a564f"
      }
     },
     "metadata": {},
     "output_type": "display_data"
    },
    {
     "data": {
      "application/vnd.jupyter.widget-view+json": {
       "model_id": "dc31cd6f77184be2a21c208c312a04cb"
      }
     },
     "metadata": {},
     "output_type": "display_data"
    },
    {
     "data": {
      "application/vnd.jupyter.widget-view+json": {
       "model_id": "af1d676237614bd9bb491d6b5aa85246"
      }
     },
     "metadata": {},
     "output_type": "display_data"
    },
    {
     "data": {
      "application/vnd.jupyter.widget-view+json": {
       "model_id": "9ca11ce5e9da4c71ba71923861e9189f"
      }
     },
     "metadata": {},
     "output_type": "display_data"
    },
    {
     "data": {
      "application/vnd.jupyter.widget-view+json": {
       "model_id": "2743d1df8a6f45b794b52db26ded2cb1"
      }
     },
     "metadata": {},
     "output_type": "display_data"
    },
    {
     "data": {
      "application/vnd.jupyter.widget-view+json": {
       "model_id": "3f113ab6717a4bc8a10e924e3574d451"
      }
     },
     "metadata": {},
     "output_type": "display_data"
    },
    {
     "data": {
      "application/vnd.jupyter.widget-view+json": {
       "model_id": "3f2395be33974548a18a4615e4f60649"
      }
     },
     "metadata": {},
     "output_type": "display_data"
    },
    {
     "data": {
      "application/vnd.jupyter.widget-view+json": {
       "model_id": "111a26f33a2e41e08b03afed5692bae9"
      }
     },
     "metadata": {},
     "output_type": "display_data"
    },
    {
     "data": {
      "application/vnd.jupyter.widget-view+json": {
       "model_id": "d4aa4eff97e84bfda8abecb3263250dd"
      }
     },
     "metadata": {},
     "output_type": "display_data"
    },
    {
     "data": {
      "application/vnd.jupyter.widget-view+json": {
       "model_id": "7e70bd20e3554c77bcf747c47edb64cb"
      }
     },
     "metadata": {},
     "output_type": "display_data"
    },
    {
     "data": {
      "application/vnd.jupyter.widget-view+json": {
       "model_id": "3bf96a6de5774aab88dc90be63ccfbfa"
      }
     },
     "metadata": {},
     "output_type": "display_data"
    },
    {
     "data": {
      "application/vnd.jupyter.widget-view+json": {
       "model_id": "d16caf37f0144720a2ec3562fac02e69"
      }
     },
     "metadata": {},
     "output_type": "display_data"
    },
    {
     "data": {
      "application/vnd.jupyter.widget-view+json": {
       "model_id": "f6bd4ed63f3e499abcb206f08c9b46d2"
      }
     },
     "metadata": {},
     "output_type": "display_data"
    },
    {
     "data": {
      "application/vnd.jupyter.widget-view+json": {
       "model_id": "b1bd6efe94ca40e8b12000323e27e601"
      }
     },
     "metadata": {},
     "output_type": "display_data"
    },
    {
     "data": {
      "application/vnd.jupyter.widget-view+json": {
       "model_id": "9c35ea06226c4108a4021644d15bd4e4"
      }
     },
     "metadata": {},
     "output_type": "display_data"
    },
    {
     "data": {
      "application/vnd.jupyter.widget-view+json": {
       "model_id": "7cae232b97844c4fa2f422ce9d1cbac4"
      }
     },
     "metadata": {},
     "output_type": "display_data"
    },
    {
     "data": {
      "application/vnd.jupyter.widget-view+json": {
       "model_id": "a47356752f38401bb271dd6620b25e47"
      }
     },
     "metadata": {},
     "output_type": "display_data"
    },
    {
     "data": {
      "application/vnd.jupyter.widget-view+json": {
       "model_id": "47dc807d1f3b482aaee0cd2b8a867e92"
      }
     },
     "metadata": {},
     "output_type": "display_data"
    },
    {
     "data": {
      "application/vnd.jupyter.widget-view+json": {
       "model_id": "d51f7f06957b44239bc17b17fe597078"
      }
     },
     "metadata": {},
     "output_type": "display_data"
    },
    {
     "data": {
      "application/vnd.jupyter.widget-view+json": {
       "model_id": "a51f84f03b7748bea9c5e924594b5903"
      }
     },
     "metadata": {},
     "output_type": "display_data"
    },
    {
     "data": {
      "application/vnd.jupyter.widget-view+json": {
       "model_id": "50ea47049a9a443690cf9bf0bd6cd330"
      }
     },
     "metadata": {},
     "output_type": "display_data"
    },
    {
     "data": {
      "application/vnd.jupyter.widget-view+json": {
       "model_id": "029b6bb27df048a7ad3622163b886a5f"
      }
     },
     "metadata": {},
     "output_type": "display_data"
    },
    {
     "data": {
      "application/vnd.jupyter.widget-view+json": {
       "model_id": "8c9f39b3ca4a487ebf72cb205446403d"
      }
     },
     "metadata": {},
     "output_type": "display_data"
    },
    {
     "data": {
      "application/vnd.jupyter.widget-view+json": {
       "model_id": "58ce0cb72c1e47d6a146dd62b522cd58"
      }
     },
     "metadata": {},
     "output_type": "display_data"
    },
    {
     "data": {
      "application/vnd.jupyter.widget-view+json": {
       "model_id": "ed779fe2046049f4b1b7ac7c767f96a4"
      }
     },
     "metadata": {},
     "output_type": "display_data"
    },
    {
     "data": {
      "application/vnd.jupyter.widget-view+json": {
       "model_id": "65f3fbad7fc94f64a54e3314e3a6e347"
      }
     },
     "metadata": {},
     "output_type": "display_data"
    },
    {
     "data": {
      "application/vnd.jupyter.widget-view+json": {
       "model_id": "be624fc7b193430d86109863d6045325"
      }
     },
     "metadata": {},
     "output_type": "display_data"
    },
    {
     "data": {
      "application/vnd.jupyter.widget-view+json": {
       "model_id": "3a811fb4bd054d1ca08c0a99547d8331"
      }
     },
     "metadata": {},
     "output_type": "display_data"
    },
    {
     "data": {
      "application/vnd.jupyter.widget-view+json": {
       "model_id": "8bd0236cffb048bda4989c967ae0ae1b"
      }
     },
     "metadata": {},
     "output_type": "display_data"
    },
    {
     "data": {
      "application/vnd.jupyter.widget-view+json": {
       "model_id": "d5ed78452a054572af4fc3b92c37b4e3"
      }
     },
     "metadata": {},
     "output_type": "display_data"
    },
    {
     "data": {
      "application/vnd.jupyter.widget-view+json": {
       "model_id": "23142b5726f0407babb1a5d14ef00150"
      }
     },
     "metadata": {},
     "output_type": "display_data"
    },
    {
     "data": {
      "application/vnd.jupyter.widget-view+json": {
       "model_id": "71691050408943588dfe11351236b19c"
      }
     },
     "metadata": {},
     "output_type": "display_data"
    },
    {
     "data": {
      "application/vnd.jupyter.widget-view+json": {
       "model_id": "5d48bda505df4d81838838d836cd19a7"
      }
     },
     "metadata": {},
     "output_type": "display_data"
    },
    {
     "data": {
      "application/vnd.jupyter.widget-view+json": {
       "model_id": "0112380c22d644b69552fe507abd70c4"
      }
     },
     "metadata": {},
     "output_type": "display_data"
    },
    {
     "data": {
      "application/vnd.jupyter.widget-view+json": {
       "model_id": "8f1b321ecf5b44afa7328804c1d3522a"
      }
     },
     "metadata": {},
     "output_type": "display_data"
    },
    {
     "data": {
      "application/vnd.jupyter.widget-view+json": {
       "model_id": "23ee2d3af18248299f8b5c4e4cac89a7"
      }
     },
     "metadata": {},
     "output_type": "display_data"
    },
    {
     "data": {
      "application/vnd.jupyter.widget-view+json": {
       "model_id": "b66f8976f4cf4b20b1bfa58256c21824"
      }
     },
     "metadata": {},
     "output_type": "display_data"
    },
    {
     "data": {
      "application/vnd.jupyter.widget-view+json": {
       "model_id": "efaea8e9f9ad419da50fd0cb73158583"
      }
     },
     "metadata": {},
     "output_type": "display_data"
    },
    {
     "data": {
      "application/vnd.jupyter.widget-view+json": {
       "model_id": "59784ad625164b8999a16080e8e22b81"
      }
     },
     "metadata": {},
     "output_type": "display_data"
    },
    {
     "data": {
      "application/vnd.jupyter.widget-view+json": {
       "model_id": "030b43886ae84a7c84a4a831249c4bb4"
      }
     },
     "metadata": {},
     "output_type": "display_data"
    },
    {
     "data": {
      "application/vnd.jupyter.widget-view+json": {
       "model_id": "2429c74bc5e54521973e03fd3bdca753"
      }
     },
     "metadata": {},
     "output_type": "display_data"
    },
    {
     "data": {
      "application/vnd.jupyter.widget-view+json": {
       "model_id": "e29ec99626a747a79684a9d5178aaec7"
      }
     },
     "metadata": {},
     "output_type": "display_data"
    },
    {
     "data": {
      "application/vnd.jupyter.widget-view+json": {
       "model_id": "45bff47483bb46048bf9945b6dbd9303"
      }
     },
     "metadata": {},
     "output_type": "display_data"
    },
    {
     "data": {
      "application/vnd.jupyter.widget-view+json": {
       "model_id": "c3b8e40d215440d9895484e532dd6783"
      }
     },
     "metadata": {},
     "output_type": "display_data"
    },
    {
     "data": {
      "application/vnd.jupyter.widget-view+json": {
       "model_id": "a8849d78772b4805909f17c5ee08ecc8"
      }
     },
     "metadata": {},
     "output_type": "display_data"
    },
    {
     "data": {
      "application/vnd.jupyter.widget-view+json": {
       "model_id": "303fab3c331a4e2f9dc16b68fca8ef0b"
      }
     },
     "metadata": {},
     "output_type": "display_data"
    },
    {
     "data": {
      "application/vnd.jupyter.widget-view+json": {
       "model_id": "9d2790799363414688a2f8937f8de0f4"
      }
     },
     "metadata": {},
     "output_type": "display_data"
    },
    {
     "data": {
      "application/vnd.jupyter.widget-view+json": {
       "model_id": "eb77bd73bf414197b9e30e9d3cdfc25f"
      }
     },
     "metadata": {},
     "output_type": "display_data"
    },
    {
     "data": {
      "application/vnd.jupyter.widget-view+json": {
       "model_id": "9b2d850cce6e439283624c514ab035b7"
      }
     },
     "metadata": {},
     "output_type": "display_data"
    },
    {
     "data": {
      "application/vnd.jupyter.widget-view+json": {
       "model_id": "b53480d61ccb4dcdb40c7983d7d871fb"
      }
     },
     "metadata": {},
     "output_type": "display_data"
    },
    {
     "data": {
      "application/vnd.jupyter.widget-view+json": {
       "model_id": "4fc2cf6b8ddc42ec8902deafe2a3ad4e"
      }
     },
     "metadata": {},
     "output_type": "display_data"
    },
    {
     "data": {
      "application/vnd.jupyter.widget-view+json": {
       "model_id": "d37e12ceada04d67a00fe49464e2862a"
      }
     },
     "metadata": {},
     "output_type": "display_data"
    },
    {
     "data": {
      "application/vnd.jupyter.widget-view+json": {
       "model_id": "c29afd59d71241dd8a23feb0c9c14074"
      }
     },
     "metadata": {},
     "output_type": "display_data"
    },
    {
     "data": {
      "application/vnd.jupyter.widget-view+json": {
       "model_id": "e5623c31dd68404fac4c73b8fb7d36eb"
      }
     },
     "metadata": {},
     "output_type": "display_data"
    },
    {
     "data": {
      "application/vnd.jupyter.widget-view+json": {
       "model_id": "09fb1aa6238144f3873e8a4c0094db4c"
      }
     },
     "metadata": {},
     "output_type": "display_data"
    },
    {
     "data": {
      "application/vnd.jupyter.widget-view+json": {
       "model_id": "6359fe5987fa47f2b11aed3eacfe5567"
      }
     },
     "metadata": {},
     "output_type": "display_data"
    },
    {
     "data": {
      "application/vnd.jupyter.widget-view+json": {
       "model_id": "f73edbaa4d2949489cab21eead8da747"
      }
     },
     "metadata": {},
     "output_type": "display_data"
    },
    {
     "data": {
      "application/vnd.jupyter.widget-view+json": {
       "model_id": "69d547a514014aa8b4da3dae95cb1733"
      }
     },
     "metadata": {},
     "output_type": "display_data"
    },
    {
     "data": {
      "application/vnd.jupyter.widget-view+json": {
       "model_id": "69f6c25d6df144898ead92c874e571b3"
      }
     },
     "metadata": {},
     "output_type": "display_data"
    },
    {
     "data": {
      "application/vnd.jupyter.widget-view+json": {
       "model_id": "429c24f721cd401bbc6d471e4af80954"
      }
     },
     "metadata": {},
     "output_type": "display_data"
    },
    {
     "data": {
      "application/vnd.jupyter.widget-view+json": {
       "model_id": "09cb7e50eca44831b31f6e6040f8723a"
      }
     },
     "metadata": {},
     "output_type": "display_data"
    },
    {
     "data": {
      "application/vnd.jupyter.widget-view+json": {
       "model_id": "38021611080446c5971a208eedf1a820"
      }
     },
     "metadata": {},
     "output_type": "display_data"
    },
    {
     "data": {
      "application/vnd.jupyter.widget-view+json": {
       "model_id": "a2b33475073349fcad0e23c0bdd59967"
      }
     },
     "metadata": {},
     "output_type": "display_data"
    },
    {
     "data": {
      "application/vnd.jupyter.widget-view+json": {
       "model_id": "41cd97d0982547b3aaa3e9146e626e17"
      }
     },
     "metadata": {},
     "output_type": "display_data"
    },
    {
     "data": {
      "application/vnd.jupyter.widget-view+json": {
       "model_id": "d2aa502305244a80952c74df3e85e25f"
      }
     },
     "metadata": {},
     "output_type": "display_data"
    },
    {
     "data": {
      "application/vnd.jupyter.widget-view+json": {
       "model_id": "4cffba5f534540f5b6d64900bbc5e18e"
      }
     },
     "metadata": {},
     "output_type": "display_data"
    },
    {
     "data": {
      "application/vnd.jupyter.widget-view+json": {
       "model_id": "5036ecc1768540fb9372dc53c199eb0b"
      }
     },
     "metadata": {},
     "output_type": "display_data"
    },
    {
     "data": {
      "application/vnd.jupyter.widget-view+json": {
       "model_id": "65c61fba9a7647bc963877eb6c484fa5"
      }
     },
     "metadata": {},
     "output_type": "display_data"
    },
    {
     "data": {
      "application/vnd.jupyter.widget-view+json": {
       "model_id": "8b7d3a2e9c4345a98e969bed3e557c53"
      }
     },
     "metadata": {},
     "output_type": "display_data"
    },
    {
     "data": {
      "application/vnd.jupyter.widget-view+json": {
       "model_id": "86df197584b34ab58e474b0b577fc6ec"
      }
     },
     "metadata": {},
     "output_type": "display_data"
    },
    {
     "data": {
      "application/vnd.jupyter.widget-view+json": {
       "model_id": "fd5c7480f7584cac85b8db4afd726d62"
      }
     },
     "metadata": {},
     "output_type": "display_data"
    },
    {
     "data": {
      "application/vnd.jupyter.widget-view+json": {
       "model_id": "9c8d1a5897414c5ca80fe313e5a13f21"
      }
     },
     "metadata": {},
     "output_type": "display_data"
    },
    {
     "data": {
      "application/vnd.jupyter.widget-view+json": {
       "model_id": "18b7b2e399094938b954645352c9126c"
      }
     },
     "metadata": {},
     "output_type": "display_data"
    },
    {
     "data": {
      "application/vnd.jupyter.widget-view+json": {
       "model_id": "ed2fc01ae7be49bcbe87eb1ef8a9c8eb"
      }
     },
     "metadata": {},
     "output_type": "display_data"
    },
    {
     "data": {
      "application/vnd.jupyter.widget-view+json": {
       "model_id": "70c1954f83504498aef26e90c3376835"
      }
     },
     "metadata": {},
     "output_type": "display_data"
    },
    {
     "data": {
      "application/vnd.jupyter.widget-view+json": {
       "model_id": "7ad7f68f2b7148fe8bcea09f73a534d0"
      }
     },
     "metadata": {},
     "output_type": "display_data"
    },
    {
     "data": {
      "application/vnd.jupyter.widget-view+json": {
       "model_id": "7e688e34b1a64aaea11f46687b7f7253"
      }
     },
     "metadata": {},
     "output_type": "display_data"
    },
    {
     "data": {
      "application/vnd.jupyter.widget-view+json": {
       "model_id": "dbdf27de5b1645bda97a70bca2351c9c"
      }
     },
     "metadata": {},
     "output_type": "display_data"
    },
    {
     "data": {
      "application/vnd.jupyter.widget-view+json": {
       "model_id": "9ac32c4c64d04bd3bcac4d55cc647ec4"
      }
     },
     "metadata": {},
     "output_type": "display_data"
    },
    {
     "data": {
      "application/vnd.jupyter.widget-view+json": {
       "model_id": "61ea625a023b4596ad3d82d67fbb7885"
      }
     },
     "metadata": {},
     "output_type": "display_data"
    },
    {
     "data": {
      "application/vnd.jupyter.widget-view+json": {
       "model_id": "92427e23b7eb4f0b86ee6307bab2559d"
      }
     },
     "metadata": {},
     "output_type": "display_data"
    },
    {
     "data": {
      "application/vnd.jupyter.widget-view+json": {
       "model_id": "e88eac4f9f2d45b3bf3239c01eebe1f7"
      }
     },
     "metadata": {},
     "output_type": "display_data"
    },
    {
     "data": {
      "application/vnd.jupyter.widget-view+json": {
       "model_id": "672108c967724a29bafbfb32f94d7ecb"
      }
     },
     "metadata": {},
     "output_type": "display_data"
    },
    {
     "data": {
      "application/vnd.jupyter.widget-view+json": {
       "model_id": "66014b44baab4d04a8e64344547f0ff9"
      }
     },
     "metadata": {},
     "output_type": "display_data"
    },
    {
     "data": {
      "application/vnd.jupyter.widget-view+json": {
       "model_id": "f8ee8c9f4a7642ffb35bde734e40da9e"
      }
     },
     "metadata": {},
     "output_type": "display_data"
    },
    {
     "data": {
      "application/vnd.jupyter.widget-view+json": {
       "model_id": "b7894e9a82964394bb99431be8cbd1cb"
      }
     },
     "metadata": {},
     "output_type": "display_data"
    },
    {
     "data": {
      "application/vnd.jupyter.widget-view+json": {
       "model_id": "c20a141d22ad4276945988a1c009e326"
      }
     },
     "metadata": {},
     "output_type": "display_data"
    },
    {
     "data": {
      "application/vnd.jupyter.widget-view+json": {
       "model_id": "b96949c93cae49b28d3eee51fd01ec72"
      }
     },
     "metadata": {},
     "output_type": "display_data"
    },
    {
     "data": {
      "application/vnd.jupyter.widget-view+json": {
       "model_id": "57110c53a8a642d29be3bac28f47dc4a"
      }
     },
     "metadata": {},
     "output_type": "display_data"
    },
    {
     "data": {
      "application/vnd.jupyter.widget-view+json": {
       "model_id": "0b094ea2e9664bd7bcd4d308162f344d"
      }
     },
     "metadata": {},
     "output_type": "display_data"
    },
    {
     "data": {
      "application/vnd.jupyter.widget-view+json": {
       "model_id": "77edbecb1ea247b280746fc4f753ccc4"
      }
     },
     "metadata": {},
     "output_type": "display_data"
    },
    {
     "data": {
      "application/vnd.jupyter.widget-view+json": {
       "model_id": "eca44607d34843dbb68ab052c6bf6ec7"
      }
     },
     "metadata": {},
     "output_type": "display_data"
    },
    {
     "data": {
      "application/vnd.jupyter.widget-view+json": {
       "model_id": "d69f313cb8fc4a45831b38476f62bd49"
      }
     },
     "metadata": {},
     "output_type": "display_data"
    },
    {
     "data": {
      "application/vnd.jupyter.widget-view+json": {
       "model_id": "52bbc41504a7444ba67a9803a446fe7b"
      }
     },
     "metadata": {},
     "output_type": "display_data"
    },
    {
     "data": {
      "application/vnd.jupyter.widget-view+json": {
       "model_id": "d00b2955eef9451a88da06ecf7e9e372"
      }
     },
     "metadata": {},
     "output_type": "display_data"
    },
    {
     "data": {
      "application/vnd.jupyter.widget-view+json": {
       "model_id": "ae740b61527b4953a09fa5dd574ca15c"
      }
     },
     "metadata": {},
     "output_type": "display_data"
    },
    {
     "data": {
      "application/vnd.jupyter.widget-view+json": {
       "model_id": "d15aab2e15784191be1214a85865d495"
      }
     },
     "metadata": {},
     "output_type": "display_data"
    },
    {
     "data": {
      "application/vnd.jupyter.widget-view+json": {
       "model_id": "a5eef18213ce4f3ca051938a914d5dfc"
      }
     },
     "metadata": {},
     "output_type": "display_data"
    },
    {
     "data": {
      "application/vnd.jupyter.widget-view+json": {
       "model_id": "590ec31089af46cca9e6b72e37c3f073"
      }
     },
     "metadata": {},
     "output_type": "display_data"
    },
    {
     "data": {
      "application/vnd.jupyter.widget-view+json": {
       "model_id": "449c8263250f48929fc9867ba83db261"
      }
     },
     "metadata": {},
     "output_type": "display_data"
    },
    {
     "data": {
      "application/vnd.jupyter.widget-view+json": {
       "model_id": "42f4b3fd63f34ddaa4126ec43987a676"
      }
     },
     "metadata": {},
     "output_type": "display_data"
    },
    {
     "data": {
      "application/vnd.jupyter.widget-view+json": {
       "model_id": "16d3d035745d4d97af06c88bc8ef6c92"
      }
     },
     "metadata": {},
     "output_type": "display_data"
    },
    {
     "data": {
      "application/vnd.jupyter.widget-view+json": {
       "model_id": "82f27cc493454f4e9465bfc62b3ec410"
      }
     },
     "metadata": {},
     "output_type": "display_data"
    },
    {
     "data": {
      "application/vnd.jupyter.widget-view+json": {
       "model_id": "86f4309b70ae4751aa9ab661dc610a77"
      }
     },
     "metadata": {},
     "output_type": "display_data"
    },
    {
     "data": {
      "application/vnd.jupyter.widget-view+json": {
       "model_id": "829c6ad58f1d47a6ab213e83b9755b76"
      }
     },
     "metadata": {},
     "output_type": "display_data"
    },
    {
     "data": {
      "application/vnd.jupyter.widget-view+json": {
       "model_id": "530a25e206fd4d388bbaee0ff037977f"
      }
     },
     "metadata": {},
     "output_type": "display_data"
    },
    {
     "data": {
      "application/vnd.jupyter.widget-view+json": {
       "model_id": "582d369bb6124178b0bfa6205f9fecd8"
      }
     },
     "metadata": {},
     "output_type": "display_data"
    },
    {
     "data": {
      "application/vnd.jupyter.widget-view+json": {
       "model_id": "64242279856143d488e35940820d40d9"
      }
     },
     "metadata": {},
     "output_type": "display_data"
    },
    {
     "data": {
      "application/vnd.jupyter.widget-view+json": {
       "model_id": "4999f2043c50416a95fb3bee580599b7"
      }
     },
     "metadata": {},
     "output_type": "display_data"
    },
    {
     "data": {
      "application/vnd.jupyter.widget-view+json": {
       "model_id": "a770a6b173b64aab8745e6ea44a4c4a9"
      }
     },
     "metadata": {},
     "output_type": "display_data"
    },
    {
     "data": {
      "application/vnd.jupyter.widget-view+json": {
       "model_id": "81ef8c11e22c4de5b0003dbc73e75129"
      }
     },
     "metadata": {},
     "output_type": "display_data"
    },
    {
     "data": {
      "application/vnd.jupyter.widget-view+json": {
       "model_id": "bca92d2dc900484b899c1a1dd5ad6cf2"
      }
     },
     "metadata": {},
     "output_type": "display_data"
    },
    {
     "data": {
      "application/vnd.jupyter.widget-view+json": {
       "model_id": "ccf1a080e91c410eaae66dea9f05273b"
      }
     },
     "metadata": {},
     "output_type": "display_data"
    },
    {
     "data": {
      "application/vnd.jupyter.widget-view+json": {
       "model_id": "48806a97447247289877b1abeef37699"
      }
     },
     "metadata": {},
     "output_type": "display_data"
    },
    {
     "data": {
      "application/vnd.jupyter.widget-view+json": {
       "model_id": "c80701e9855644bda13c5722cb8c3dda"
      }
     },
     "metadata": {},
     "output_type": "display_data"
    },
    {
     "data": {
      "application/vnd.jupyter.widget-view+json": {
       "model_id": "3ccb6b750b9347d9a2b935645bd32986"
      }
     },
     "metadata": {},
     "output_type": "display_data"
    },
    {
     "data": {
      "application/vnd.jupyter.widget-view+json": {
       "model_id": "2d441d7ec5c443c6bb02aa3af434eaa3"
      }
     },
     "metadata": {},
     "output_type": "display_data"
    },
    {
     "data": {
      "application/vnd.jupyter.widget-view+json": {
       "model_id": "4868ac5168f24f92a7691cb4d18c3e2d"
      }
     },
     "metadata": {},
     "output_type": "display_data"
    },
    {
     "data": {
      "application/vnd.jupyter.widget-view+json": {
       "model_id": "0cc9c1b599d848c6bfa4dcd34ad621bd"
      }
     },
     "metadata": {},
     "output_type": "display_data"
    },
    {
     "data": {
      "application/vnd.jupyter.widget-view+json": {
       "model_id": "8b969bed389f4ae188b8782b1fdc9813"
      }
     },
     "metadata": {},
     "output_type": "display_data"
    },
    {
     "data": {
      "application/vnd.jupyter.widget-view+json": {
       "model_id": "ff312113190e4d55aac0786e024286e0"
      }
     },
     "metadata": {},
     "output_type": "display_data"
    },
    {
     "data": {
      "application/vnd.jupyter.widget-view+json": {
       "model_id": "14c9a3d092ca443ea23783cfbfad9617"
      }
     },
     "metadata": {},
     "output_type": "display_data"
    },
    {
     "data": {
      "application/vnd.jupyter.widget-view+json": {
       "model_id": "15a9fb17dd5047ab82b87d1da79f522c"
      }
     },
     "metadata": {},
     "output_type": "display_data"
    },
    {
     "data": {
      "application/vnd.jupyter.widget-view+json": {
       "model_id": "9bf05f98bf29454cb5a2a2894c321a7b"
      }
     },
     "metadata": {},
     "output_type": "display_data"
    },
    {
     "data": {
      "application/vnd.jupyter.widget-view+json": {
       "model_id": "2e5f98cd1a4e4d5fa4b7cde0b1528b29"
      }
     },
     "metadata": {},
     "output_type": "display_data"
    },
    {
     "data": {
      "application/vnd.jupyter.widget-view+json": {
       "model_id": "53117b6da0bc45e7b7c463a2970656dd"
      }
     },
     "metadata": {},
     "output_type": "display_data"
    },
    {
     "data": {
      "application/vnd.jupyter.widget-view+json": {
       "model_id": "0eeb2eef0b004cec931be08814e2ef69"
      }
     },
     "metadata": {},
     "output_type": "display_data"
    },
    {
     "data": {
      "application/vnd.jupyter.widget-view+json": {
       "model_id": "e08adf7cd3554f5ba575d569b79a759d"
      }
     },
     "metadata": {},
     "output_type": "display_data"
    },
    {
     "data": {
      "application/vnd.jupyter.widget-view+json": {
       "model_id": "9e284a77ea294efa9c0a34d90d13ced7"
      }
     },
     "metadata": {},
     "output_type": "display_data"
    },
    {
     "data": {
      "application/vnd.jupyter.widget-view+json": {
       "model_id": "5ff81db863e2450ea5a4e28d1d2665f7"
      }
     },
     "metadata": {},
     "output_type": "display_data"
    },
    {
     "data": {
      "application/vnd.jupyter.widget-view+json": {
       "model_id": "fbab31c25ad746da80e4cce264ef2ac0"
      }
     },
     "metadata": {},
     "output_type": "display_data"
    },
    {
     "data": {
      "application/vnd.jupyter.widget-view+json": {
       "model_id": "d078f831cdcb4d83850f2a7041169b5e"
      }
     },
     "metadata": {},
     "output_type": "display_data"
    },
    {
     "data": {
      "application/vnd.jupyter.widget-view+json": {
       "model_id": "2491d4592fc843fd845906a107fe35c4"
      }
     },
     "metadata": {},
     "output_type": "display_data"
    },
    {
     "data": {
      "application/vnd.jupyter.widget-view+json": {
       "model_id": "2304c1c12e1243ee9b8d6d5bba7fc1a2"
      }
     },
     "metadata": {},
     "output_type": "display_data"
    },
    {
     "data": {
      "application/vnd.jupyter.widget-view+json": {
       "model_id": "f1ead425eef845f3b918b648d6379e82"
      }
     },
     "metadata": {},
     "output_type": "display_data"
    },
    {
     "data": {
      "application/vnd.jupyter.widget-view+json": {
       "model_id": "403bfa2ffbec427e8b13ba3c4a5f4a28"
      }
     },
     "metadata": {},
     "output_type": "display_data"
    },
    {
     "data": {
      "application/vnd.jupyter.widget-view+json": {
       "model_id": "e5281a8ec38d4455bb94357d2a5e3c9c"
      }
     },
     "metadata": {},
     "output_type": "display_data"
    },
    {
     "data": {
      "application/vnd.jupyter.widget-view+json": {
       "model_id": "20b704186de74cb286afe5ee33ff10e0"
      }
     },
     "metadata": {},
     "output_type": "display_data"
    },
    {
     "data": {
      "application/vnd.jupyter.widget-view+json": {
       "model_id": "c4ecd5da0c4c4a8693d8bb15a55020f0"
      }
     },
     "metadata": {},
     "output_type": "display_data"
    },
    {
     "data": {
      "application/vnd.jupyter.widget-view+json": {
       "model_id": "11532ea7be884ab1954d8eeed47b71c0"
      }
     },
     "metadata": {},
     "output_type": "display_data"
    },
    {
     "data": {
      "application/vnd.jupyter.widget-view+json": {
       "model_id": "3ef716a8bf9940159cdd2a3c765fff78"
      }
     },
     "metadata": {},
     "output_type": "display_data"
    },
    {
     "name": "stdout",
     "output_type": "stream",
     "text": [
      "\n",
      "CPU times: user 8min 14s, sys: 2min 37s, total: 10min 51s\n",
      "Wall time: 12min 10s\n"
     ]
    }
   ],
   "source": [
    "%%time\n",
    "hist = vae.fit(np.array(Exprframe_train),\n",
    "               shuffle=True,\n",
    "               epochs=epochs,\n",
    "               verbose=0,\n",
    "               batch_size=batch_size,\n",
    "               validation_data=(np.array(Exprframe_test), None),\n",
    "               callbacks=[WarmUpCallback(beta, kappa),\n",
    "                          TQDMNotebookCallback(leave_inner=True, leave_outer=True)])"
   ]
  },
  {
   "cell_type": "code",
   "execution_count": 29,
   "metadata": {},
   "outputs": [
    {
     "data": {
      "text/plain": [
       "loss        1037.676880\n",
       "val_loss    1076.858521\n",
       "Name: 699, dtype: float64"
      ]
     },
     "execution_count": 29,
     "metadata": {},
     "output_type": "execute_result"
    }
   ],
   "source": [
    "#hist.history\n",
    "#z180_df = pd.DataFrame(hist.history)\n",
    "#z180_df.loc[99]\n",
    "z5000_df = pd.DataFrame(hist.history)\n",
    "z5000_df.loc[699]\n",
    "#z90_df.head(10)"
   ]
  },
  {
   "cell_type": "code",
   "execution_count": 30,
   "metadata": {},
   "outputs": [
    {
     "data": {
      "image/png": "[encoded data removed]",
      "text/plain": [
       "<matplotlib.figure.Figure at 0x7f8cffeb5940>"
      ]
     },
     "metadata": {},
     "output_type": "display_data"
    }
   ],
   "source": [
    "# Visualize training performance\n",
    "history_df = pd.DataFrame(hist.history)\n",
    "history_df = history_df.iloc[40:699]\n",
    "\n",
    "#hist_plot_file = os.path.join('figures', 'onehidden_vae_training.pdf')\n",
    "\n",
    "hist_plot_file = \"(Lr_0.002)(NN6K_z100_a1.0_6L_0.1t)obj_func_per_dp(4cancers).pdf\"#\"temp.pdf\"#\n",
    "ax = history_df.plot()\n",
    "\n",
    "ratio = 0.95\n",
    "xleft, xright = ax.get_xlim()\n",
    "ybottom, ytop = ax.get_ylim()\n",
    "# the abs method is used to make sure that all numbers are positive\n",
    "# because x and y axis of an axes maybe inversed.\n",
    "ax.set_aspect(abs((xright-xleft)/(ybottom-ytop))*ratio)\n",
    "\n",
    "ax.set_xlabel('Epochs')\n",
    "ax.set_ylabel('objective function (include both reconstruct_loss, kl_loss)')\n",
    "ax.set_title('')\n",
    "fig = ax.get_figure()\n",
    "#fig.savefig(hist_plot_file)"
   ]
  },
  {
   "cell_type": "markdown",
   "metadata": {},
   "source": [
    "Encoder model"
   ]
  },
  {
   "cell_type": "code",
   "execution_count": 33,
   "metadata": {},
   "outputs": [
    {
     "name": "stdout",
     "output_type": "stream",
     "text": [
      "__________________________________________________________________________________________________\n",
      "Layer (type)                    Output Shape         Param #     Connected to                     \n",
      "==================================================================================================\n",
      "input_1 (InputLayer)            (None, 13854)        0                                            \n",
      "__________________________________________________________________________________________________\n",
      "dense_1 (Dense)                 (None, 6400)         88672000    input_1[0][0]                    \n",
      "__________________________________________________________________________________________________\n",
      "batch_normalization_1 (BatchNor (None, 6400)         25600       dense_1[0][0]                    \n",
      "__________________________________________________________________________________________________\n",
      "activation_1 (Activation)       (None, 6400)         0           batch_normalization_1[0][0]      \n",
      "__________________________________________________________________________________________________\n",
      "dense_2 (Dense)                 (None, 3200)         20483200    activation_1[0][0]               \n",
      "__________________________________________________________________________________________________\n",
      "batch_normalization_2 (BatchNor (None, 3200)         12800       dense_2[0][0]                    \n",
      "__________________________________________________________________________________________________\n",
      "activation_2 (Activation)       (None, 3200)         0           batch_normalization_2[0][0]      \n",
      "__________________________________________________________________________________________________\n",
      "dense_3 (Dense)                 (None, 1600)         5121600     activation_2[0][0]               \n",
      "__________________________________________________________________________________________________\n",
      "batch_normalization_3 (BatchNor (None, 1600)         6400        dense_3[0][0]                    \n",
      "__________________________________________________________________________________________________\n",
      "activation_3 (Activation)       (None, 1600)         0           batch_normalization_3[0][0]      \n",
      "__________________________________________________________________________________________________\n",
      "dense_4 (Dense)                 (None, 800)          1280800     activation_3[0][0]               \n",
      "__________________________________________________________________________________________________\n",
      "batch_normalization_4 (BatchNor (None, 800)          3200        dense_4[0][0]                    \n",
      "__________________________________________________________________________________________________\n",
      "activation_4 (Activation)       (None, 800)          0           batch_normalization_4[0][0]      \n",
      "__________________________________________________________________________________________________\n",
      "dense_5 (Dense)                 (None, 400)          320400      activation_4[0][0]               \n",
      "__________________________________________________________________________________________________\n",
      "batch_normalization_5 (BatchNor (None, 400)          1600        dense_5[0][0]                    \n",
      "__________________________________________________________________________________________________\n",
      "activation_5 (Activation)       (None, 400)          0           batch_normalization_5[0][0]      \n",
      "__________________________________________________________________________________________________\n",
      "dense_6 (Dense)                 (None, 200)          80200       activation_5[0][0]               \n",
      "__________________________________________________________________________________________________\n",
      "batch_normalization_6 (BatchNor (None, 200)          800         dense_6[0][0]                    \n",
      "__________________________________________________________________________________________________\n",
      "activation_6 (Activation)       (None, 200)          0           batch_normalization_6[0][0]      \n",
      "__________________________________________________________________________________________________\n",
      "dense_7 (Dense)                 (None, 100)          20100       activation_6[0][0]               \n",
      "__________________________________________________________________________________________________\n",
      "batch_normalization_7 (BatchNor (None, 100)          400         dense_7[0][0]                    \n",
      "__________________________________________________________________________________________________\n",
      "activation_7 (Activation)       (None, 100)          0           batch_normalization_7[0][0]      \n",
      "__________________________________________________________________________________________________\n",
      "dense_8 (Dense)                 (None, 50)           5050        activation_7[0][0]               \n",
      "__________________________________________________________________________________________________\n",
      "dense_9 (Dense)                 (None, 50)           5050        activation_7[0][0]               \n",
      "__________________________________________________________________________________________________\n",
      "batch_normalization_8 (BatchNor (None, 50)           200         dense_8[0][0]                    \n",
      "__________________________________________________________________________________________________\n",
      "batch_normalization_9 (BatchNor (None, 50)           200         dense_9[0][0]                    \n",
      "__________________________________________________________________________________________________\n",
      "activation_8 (Activation)       (None, 50)           0           batch_normalization_8[0][0]      \n",
      "__________________________________________________________________________________________________\n",
      "activation_9 (Activation)       (None, 50)           0           batch_normalization_9[0][0]      \n",
      "__________________________________________________________________________________________________\n",
      "lambda_1 (Lambda)               (None, 50)           0           activation_8[0][0]               \n",
      "                                                                 activation_9[0][0]               \n",
      "==================================================================================================\n",
      "Total params: 116,039,600\n",
      "Trainable params: 116,014,000\n",
      "Non-trainable params: 25,600\n",
      "__________________________________________________________________________________________________\n"
     ]
    }
   ],
   "source": [
    "#extract the encoder part\n",
    "\n",
    "# Model to compress input\n",
    "#encoder = Model(rnaseq_input, [z_mean_encoded, z_log_var_encoded])\n",
    "encoder = Model(rnaseq_input, z)\n",
    "encoder.summary()"
   ]
  },
  {
   "cell_type": "code",
   "execution_count": 34,
   "metadata": {},
   "outputs": [
    {
     "name": "stdout",
     "output_type": "stream",
     "text": [
      "__________________________________________________________________________________________________\n",
      "Layer (type)                    Output Shape         Param #     Connected to                     \n",
      "==================================================================================================\n",
      "input_1 (InputLayer)            (None, 13854)        0                                            \n",
      "__________________________________________________________________________________________________\n",
      "dense_1 (Dense)                 (None, 6400)         88672000    input_1[0][0]                    \n",
      "__________________________________________________________________________________________________\n",
      "batch_normalization_1 (BatchNor (None, 6400)         25600       dense_1[0][0]                    \n",
      "__________________________________________________________________________________________________\n",
      "activation_1 (Activation)       (None, 6400)         0           batch_normalization_1[0][0]      \n",
      "__________________________________________________________________________________________________\n",
      "dense_2 (Dense)                 (None, 3200)         20483200    activation_1[0][0]               \n",
      "__________________________________________________________________________________________________\n",
      "batch_normalization_2 (BatchNor (None, 3200)         12800       dense_2[0][0]                    \n",
      "__________________________________________________________________________________________________\n",
      "activation_2 (Activation)       (None, 3200)         0           batch_normalization_2[0][0]      \n",
      "__________________________________________________________________________________________________\n",
      "dense_3 (Dense)                 (None, 1600)         5121600     activation_2[0][0]               \n",
      "__________________________________________________________________________________________________\n",
      "batch_normalization_3 (BatchNor (None, 1600)         6400        dense_3[0][0]                    \n",
      "__________________________________________________________________________________________________\n",
      "activation_3 (Activation)       (None, 1600)         0           batch_normalization_3[0][0]      \n",
      "__________________________________________________________________________________________________\n",
      "dense_4 (Dense)                 (None, 800)          1280800     activation_3[0][0]               \n",
      "__________________________________________________________________________________________________\n",
      "batch_normalization_4 (BatchNor (None, 800)          3200        dense_4[0][0]                    \n",
      "__________________________________________________________________________________________________\n",
      "activation_4 (Activation)       (None, 800)          0           batch_normalization_4[0][0]      \n",
      "__________________________________________________________________________________________________\n",
      "dense_5 (Dense)                 (None, 400)          320400      activation_4[0][0]               \n",
      "__________________________________________________________________________________________________\n",
      "batch_normalization_5 (BatchNor (None, 400)          1600        dense_5[0][0]                    \n",
      "__________________________________________________________________________________________________\n",
      "activation_5 (Activation)       (None, 400)          0           batch_normalization_5[0][0]      \n",
      "__________________________________________________________________________________________________\n",
      "dense_6 (Dense)                 (None, 200)          80200       activation_5[0][0]               \n",
      "__________________________________________________________________________________________________\n",
      "batch_normalization_6 (BatchNor (None, 200)          800         dense_6[0][0]                    \n",
      "__________________________________________________________________________________________________\n",
      "activation_6 (Activation)       (None, 200)          0           batch_normalization_6[0][0]      \n",
      "__________________________________________________________________________________________________\n",
      "dense_7 (Dense)                 (None, 100)          20100       activation_6[0][0]               \n",
      "__________________________________________________________________________________________________\n",
      "batch_normalization_7 (BatchNor (None, 100)          400         dense_7[0][0]                    \n",
      "__________________________________________________________________________________________________\n",
      "activation_7 (Activation)       (None, 100)          0           batch_normalization_7[0][0]      \n",
      "__________________________________________________________________________________________________\n",
      "dense_8 (Dense)                 (None, 50)           5050        activation_7[0][0]               \n",
      "__________________________________________________________________________________________________\n",
      "dense_9 (Dense)                 (None, 50)           5050        activation_7[0][0]               \n",
      "__________________________________________________________________________________________________\n",
      "batch_normalization_8 (BatchNor (None, 50)           200         dense_8[0][0]                    \n",
      "__________________________________________________________________________________________________\n",
      "batch_normalization_9 (BatchNor (None, 50)           200         dense_9[0][0]                    \n",
      "__________________________________________________________________________________________________\n",
      "activation_8 (Activation)       (None, 50)           0           batch_normalization_8[0][0]      \n",
      "__________________________________________________________________________________________________\n",
      "activation_9 (Activation)       (None, 50)           0           batch_normalization_9[0][0]      \n",
      "==================================================================================================\n",
      "Total params: 116,039,600\n",
      "Trainable params: 116,014,000\n",
      "Non-trainable params: 25,600\n",
      "__________________________________________________________________________________________________\n"
     ]
    }
   ],
   "source": [
    "encoder2 = Model(rnaseq_input, [z_mean_encoded, z_log_var_encoded])\n",
    "encoder2.summary()"
   ]
  },
  {
   "cell_type": "code",
   "execution_count": 35,
   "metadata": {},
   "outputs": [],
   "source": [
    "# Encode rnaseq into the hidden/latent representation - and save output\n",
    "#encoded_rnaseq_df\n",
    "\n",
    "z_df = encoder.predict_on_batch(Exprframe_test)\n",
    "\n",
    "z_df = pd.DataFrame(z_df, index=Exprframe_test.index)\n",
    "\n",
    "z_df.columns.name = 'sample_id'\n",
    "z_df.columns = z_df.columns + 1\n",
    "z_df.head(10)\n",
    "\n",
    "[z_mean_d, z_log_var_d]= encoder2.predict_on_batch(Exprframe_test)\n",
    "z_mean_df = pd.DataFrame(z_mean_d, index=Exprframe_test.index)\n",
    "\n",
    "z_mean_df.columns.name = 'sample_id'\n",
    "z_mean_df.columns = z_mean_df.columns + 1\n",
    "\n",
    "\n",
    "z_log_var_df = pd.DataFrame(z_log_var_d, index=Exprframe_test.index)\n",
    "\n",
    "z_log_var_df.columns.name = 'sample_id'\n",
    "z_log_var_df.columns = z_log_var_df.columns + 1\n"
   ]
  },
  {
   "cell_type": "markdown",
   "metadata": {},
   "source": [
    "Decoder model"
   ]
  },
  {
   "cell_type": "code",
   "execution_count": 36,
   "metadata": {},
   "outputs": [
    {
     "name": "stdout",
     "output_type": "stream",
     "text": [
      "_________________________________________________________________\n",
      "Layer (type)                 Output Shape              Param #   \n",
      "=================================================================\n",
      "input_2 (InputLayer)         (None, 50)                0         \n",
      "_________________________________________________________________\n",
      "dense_10 (Dense)             (None, 100)               5100      \n",
      "_________________________________________________________________\n",
      "dense_11 (Dense)             (None, 200)               20200     \n",
      "_________________________________________________________________\n",
      "dense_12 (Dense)             (None, 400)               80400     \n",
      "_________________________________________________________________\n",
      "dense_13 (Dense)             (None, 800)               320800    \n",
      "_________________________________________________________________\n",
      "dense_14 (Dense)             (None, 1600)              1281600   \n",
      "_________________________________________________________________\n",
      "dense_15 (Dense)             (None, 3200)              5123200   \n",
      "_________________________________________________________________\n",
      "dense_16 (Dense)             (None, 6400)              20486400  \n",
      "_________________________________________________________________\n",
      "dense_17 (Dense)             (None, 13854)             88679454  \n",
      "=================================================================\n",
      "Total params: 115,997,154\n",
      "Trainable params: 115,997,154\n",
      "Non-trainable params: 0\n",
      "_________________________________________________________________\n"
     ]
    }
   ],
   "source": [
    "# build a generator that can sample from the learned distribution\n",
    "decoder_input = Input(shape=(latent_dim, ))  # can generate from any sampled z vector\n",
    "\n",
    "_x_decoded_l7 = decoderl7_reconstruct(decoder_input)\n",
    "_x_decoded_l6 = decoderl6_reconstruct(_x_decoded_l7)\n",
    "_x_decoded_l5 = decoderl5_reconstruct(_x_decoded_l6)\n",
    "_x_decoded_l4 = decoderl4_reconstruct(_x_decoded_l5)\n",
    "_x_decoded_l3 = decoderl3_reconstruct(_x_decoded_l4)\n",
    "\n",
    "_x_decoded_l2 = decoderl2_reconstruct(_x_decoded_l3)\n",
    "\n",
    "_x_decoded_l1 = decoderl1_reconstruct(_x_decoded_l2)\n",
    "_x_decoded_l0 = decoderl0_reconstruct(_x_decoded_l1)\n",
    "\n",
    "decoder = Model(decoder_input, _x_decoded_l0)\n",
    "decoder.summary()"
   ]
  },
  {
   "cell_type": "markdown",
   "metadata": {},
   "source": [
    "Observe reconstruction fidelity"
   ]
  },
  {
   "cell_type": "code",
   "execution_count": 37,
   "metadata": {},
   "outputs": [
    {
     "data": {
      "text/html": [
       "<div>\n",
       "<style scoped>\n",
       "    .dataframe tbody tr th:only-of-type {\n",
       "        vertical-align: middle;\n",
       "    }\n",
       "\n",
       "    .dataframe tbody tr th {\n",
       "        vertical-align: top;\n",
       "    }\n",
       "\n",
       "    .dataframe thead th {\n",
       "        text-align: right;\n",
       "    }\n",
       "</style>\n",
       "<table border=\"1\" class=\"dataframe\">\n",
       "  <thead>\n",
       "    <tr style=\"text-align: right;\">\n",
       "      <th></th>\n",
       "      <th>ENSG00000000003.13</th>\n",
       "      <th>ENSG00000000419.11</th>\n",
       "      <th>ENSG00000000457.12</th>\n",
       "      <th>ENSG00000000460.15</th>\n",
       "      <th>ENSG00000000938.11</th>\n",
       "      <th>ENSG00000000971.14</th>\n",
       "      <th>ENSG00000001036.12</th>\n",
       "      <th>ENSG00000001084.9</th>\n",
       "      <th>ENSG00000001167.13</th>\n",
       "      <th>ENSG00000001460.16</th>\n",
       "      <th>...</th>\n",
       "      <th>ENSG00000280237.1</th>\n",
       "      <th>ENSG00000280411.1</th>\n",
       "      <th>ENSG00000280734.1</th>\n",
       "      <th>ENSG00000280789.1</th>\n",
       "      <th>ENSG00000280798.1</th>\n",
       "      <th>ENSG00000280832.1</th>\n",
       "      <th>ENSG00000281332.1</th>\n",
       "      <th>ENSG00000281398.1</th>\n",
       "      <th>ENSG00000281406.1</th>\n",
       "      <th>ENSG00000281649.1</th>\n",
       "    </tr>\n",
       "  </thead>\n",
       "  <tbody>\n",
       "    <tr>\n",
       "      <th>TCGA-CK-6748-01A</th>\n",
       "      <td>0.749073</td>\n",
       "      <td>0.528939</td>\n",
       "      <td>0.205384</td>\n",
       "      <td>0.212993</td>\n",
       "      <td>0.416002</td>\n",
       "      <td>0.344308</td>\n",
       "      <td>0.399756</td>\n",
       "      <td>0.324282</td>\n",
       "      <td>0.210181</td>\n",
       "      <td>0.373076</td>\n",
       "      <td>...</td>\n",
       "      <td>0.260418</td>\n",
       "      <td>0.220510</td>\n",
       "      <td>0.463019</td>\n",
       "      <td>0.185867</td>\n",
       "      <td>0.208294</td>\n",
       "      <td>0.139837</td>\n",
       "      <td>0.250657</td>\n",
       "      <td>0.485760</td>\n",
       "      <td>0.558515</td>\n",
       "      <td>0.481088</td>\n",
       "    </tr>\n",
       "    <tr>\n",
       "      <th>TCGA-CM-4746-01A</th>\n",
       "      <td>0.675663</td>\n",
       "      <td>0.526757</td>\n",
       "      <td>0.222663</td>\n",
       "      <td>0.403797</td>\n",
       "      <td>0.164909</td>\n",
       "      <td>0.155398</td>\n",
       "      <td>0.472256</td>\n",
       "      <td>0.316475</td>\n",
       "      <td>0.197026</td>\n",
       "      <td>0.393945</td>\n",
       "      <td>...</td>\n",
       "      <td>0.314234</td>\n",
       "      <td>0.160185</td>\n",
       "      <td>0.485230</td>\n",
       "      <td>0.286112</td>\n",
       "      <td>0.044239</td>\n",
       "      <td>0.424512</td>\n",
       "      <td>0.107287</td>\n",
       "      <td>0.519237</td>\n",
       "      <td>0.584396</td>\n",
       "      <td>0.317193</td>\n",
       "    </tr>\n",
       "    <tr>\n",
       "      <th>TCGA-AA-3715-01A</th>\n",
       "      <td>0.383964</td>\n",
       "      <td>0.159524</td>\n",
       "      <td>0.203441</td>\n",
       "      <td>0.438150</td>\n",
       "      <td>0.626420</td>\n",
       "      <td>0.406272</td>\n",
       "      <td>0.285641</td>\n",
       "      <td>0.195765</td>\n",
       "      <td>0.193426</td>\n",
       "      <td>0.367600</td>\n",
       "      <td>...</td>\n",
       "      <td>0.338382</td>\n",
       "      <td>0.331248</td>\n",
       "      <td>0.443230</td>\n",
       "      <td>0.221247</td>\n",
       "      <td>0.145159</td>\n",
       "      <td>0.294008</td>\n",
       "      <td>0.146868</td>\n",
       "      <td>0.587215</td>\n",
       "      <td>0.440557</td>\n",
       "      <td>0.247084</td>\n",
       "    </tr>\n",
       "    <tr>\n",
       "      <th>TCGA-ZF-AA4X-01A</th>\n",
       "      <td>0.815071</td>\n",
       "      <td>0.442609</td>\n",
       "      <td>0.414677</td>\n",
       "      <td>0.523911</td>\n",
       "      <td>0.240663</td>\n",
       "      <td>0.250479</td>\n",
       "      <td>0.430704</td>\n",
       "      <td>0.710042</td>\n",
       "      <td>0.303903</td>\n",
       "      <td>0.585601</td>\n",
       "      <td>...</td>\n",
       "      <td>0.235394</td>\n",
       "      <td>0.205337</td>\n",
       "      <td>0.494290</td>\n",
       "      <td>0.339904</td>\n",
       "      <td>0.542905</td>\n",
       "      <td>0.628186</td>\n",
       "      <td>0.350470</td>\n",
       "      <td>0.505609</td>\n",
       "      <td>0.322389</td>\n",
       "      <td>0.534488</td>\n",
       "    </tr>\n",
       "    <tr>\n",
       "      <th>TCGA-E2-A15I-01A</th>\n",
       "      <td>0.445437</td>\n",
       "      <td>0.440366</td>\n",
       "      <td>0.708878</td>\n",
       "      <td>0.406047</td>\n",
       "      <td>0.460415</td>\n",
       "      <td>0.433581</td>\n",
       "      <td>0.350823</td>\n",
       "      <td>0.496033</td>\n",
       "      <td>0.456054</td>\n",
       "      <td>0.531784</td>\n",
       "      <td>...</td>\n",
       "      <td>0.583568</td>\n",
       "      <td>0.372217</td>\n",
       "      <td>0.557864</td>\n",
       "      <td>0.432056</td>\n",
       "      <td>0.343792</td>\n",
       "      <td>0.544838</td>\n",
       "      <td>0.280159</td>\n",
       "      <td>0.480700</td>\n",
       "      <td>0.344123</td>\n",
       "      <td>0.724999</td>\n",
       "    </tr>\n",
       "  </tbody>\n",
       "</table>\n",
       "<p>5 rows × 13854 columns</p>\n",
       "</div>"
      ],
      "text/plain": [
       "                  ENSG00000000003.13  ENSG00000000419.11  ENSG00000000457.12  \\\n",
       "TCGA-CK-6748-01A            0.749073            0.528939            0.205384   \n",
       "TCGA-CM-4746-01A            0.675663            0.526757            0.222663   \n",
       "TCGA-AA-3715-01A            0.383964            0.159524            0.203441   \n",
       "TCGA-ZF-AA4X-01A            0.815071            0.442609            0.414677   \n",
       "TCGA-E2-A15I-01A            0.445437            0.440366            0.708878   \n",
       "\n",
       "                  ENSG00000000460.15  ENSG00000000938.11  ENSG00000000971.14  \\\n",
       "TCGA-CK-6748-01A            0.212993            0.416002            0.344308   \n",
       "TCGA-CM-4746-01A            0.403797            0.164909            0.155398   \n",
       "TCGA-AA-3715-01A            0.438150            0.626420            0.406272   \n",
       "TCGA-ZF-AA4X-01A            0.523911            0.240663            0.250479   \n",
       "TCGA-E2-A15I-01A            0.406047            0.460415            0.433581   \n",
       "\n",
       "                  ENSG00000001036.12  ENSG00000001084.9  ENSG00000001167.13  \\\n",
       "TCGA-CK-6748-01A            0.399756           0.324282            0.210181   \n",
       "TCGA-CM-4746-01A            0.472256           0.316475            0.197026   \n",
       "TCGA-AA-3715-01A            0.285641           0.195765            0.193426   \n",
       "TCGA-ZF-AA4X-01A            0.430704           0.710042            0.303903   \n",
       "TCGA-E2-A15I-01A            0.350823           0.496033            0.456054   \n",
       "\n",
       "                  ENSG00000001460.16        ...          ENSG00000280237.1  \\\n",
       "TCGA-CK-6748-01A            0.373076        ...                   0.260418   \n",
       "TCGA-CM-4746-01A            0.393945        ...                   0.314234   \n",
       "TCGA-AA-3715-01A            0.367600        ...                   0.338382   \n",
       "TCGA-ZF-AA4X-01A            0.585601        ...                   0.235394   \n",
       "TCGA-E2-A15I-01A            0.531784        ...                   0.583568   \n",
       "\n",
       "                  ENSG00000280411.1  ENSG00000280734.1  ENSG00000280789.1  \\\n",
       "TCGA-CK-6748-01A           0.220510           0.463019           0.185867   \n",
       "TCGA-CM-4746-01A           0.160185           0.485230           0.286112   \n",
       "TCGA-AA-3715-01A           0.331248           0.443230           0.221247   \n",
       "TCGA-ZF-AA4X-01A           0.205337           0.494290           0.339904   \n",
       "TCGA-E2-A15I-01A           0.372217           0.557864           0.432056   \n",
       "\n",
       "                  ENSG00000280798.1  ENSG00000280832.1  ENSG00000281332.1  \\\n",
       "TCGA-CK-6748-01A           0.208294           0.139837           0.250657   \n",
       "TCGA-CM-4746-01A           0.044239           0.424512           0.107287   \n",
       "TCGA-AA-3715-01A           0.145159           0.294008           0.146868   \n",
       "TCGA-ZF-AA4X-01A           0.542905           0.628186           0.350470   \n",
       "TCGA-E2-A15I-01A           0.343792           0.544838           0.280159   \n",
       "\n",
       "                  ENSG00000281398.1  ENSG00000281406.1  ENSG00000281649.1  \n",
       "TCGA-CK-6748-01A           0.485760           0.558515           0.481088  \n",
       "TCGA-CM-4746-01A           0.519237           0.584396           0.317193  \n",
       "TCGA-AA-3715-01A           0.587215           0.440557           0.247084  \n",
       "TCGA-ZF-AA4X-01A           0.505609           0.322389           0.534488  \n",
       "TCGA-E2-A15I-01A           0.480700           0.344123           0.724999  \n",
       "\n",
       "[5 rows x 13854 columns]"
      ]
     },
     "execution_count": 37,
     "metadata": {},
     "output_type": "execute_result"
    }
   ],
   "source": [
    "#original input RNAseq data\n",
    "rnaseq_df = Exprframe_test\n",
    "rnaseq_df.head(5)"
   ]
  },
  {
   "cell_type": "code",
   "execution_count": 38,
   "metadata": {},
   "outputs": [
    {
     "data": {
      "text/html": [
       "<div>\n",
       "<style scoped>\n",
       "    .dataframe tbody tr th:only-of-type {\n",
       "        vertical-align: middle;\n",
       "    }\n",
       "\n",
       "    .dataframe tbody tr th {\n",
       "        vertical-align: top;\n",
       "    }\n",
       "\n",
       "    .dataframe thead th {\n",
       "        text-align: right;\n",
       "    }\n",
       "</style>\n",
       "<table border=\"1\" class=\"dataframe\">\n",
       "  <thead>\n",
       "    <tr style=\"text-align: right;\">\n",
       "      <th></th>\n",
       "      <th>ENSG00000000003.13</th>\n",
       "      <th>ENSG00000000419.11</th>\n",
       "      <th>ENSG00000000457.12</th>\n",
       "      <th>ENSG00000000460.15</th>\n",
       "      <th>ENSG00000000938.11</th>\n",
       "      <th>ENSG00000000971.14</th>\n",
       "      <th>ENSG00000001036.12</th>\n",
       "      <th>ENSG00000001084.9</th>\n",
       "      <th>ENSG00000001167.13</th>\n",
       "      <th>ENSG00000001460.16</th>\n",
       "      <th>...</th>\n",
       "      <th>ENSG00000280237.1</th>\n",
       "      <th>ENSG00000280411.1</th>\n",
       "      <th>ENSG00000280734.1</th>\n",
       "      <th>ENSG00000280789.1</th>\n",
       "      <th>ENSG00000280798.1</th>\n",
       "      <th>ENSG00000280832.1</th>\n",
       "      <th>ENSG00000281332.1</th>\n",
       "      <th>ENSG00000281398.1</th>\n",
       "      <th>ENSG00000281406.1</th>\n",
       "      <th>ENSG00000281649.1</th>\n",
       "    </tr>\n",
       "  </thead>\n",
       "  <tbody>\n",
       "    <tr>\n",
       "      <th>TCGA-CK-6748-01A</th>\n",
       "      <td>0.630104</td>\n",
       "      <td>0.358433</td>\n",
       "      <td>0.264448</td>\n",
       "      <td>0.288246</td>\n",
       "      <td>0.386009</td>\n",
       "      <td>0.390725</td>\n",
       "      <td>0.428127</td>\n",
       "      <td>0.330503</td>\n",
       "      <td>0.188066</td>\n",
       "      <td>0.445461</td>\n",
       "      <td>...</td>\n",
       "      <td>0.367091</td>\n",
       "      <td>0.458372</td>\n",
       "      <td>0.362405</td>\n",
       "      <td>0.252112</td>\n",
       "      <td>0.323799</td>\n",
       "      <td>0.221584</td>\n",
       "      <td>0.275924</td>\n",
       "      <td>0.503156</td>\n",
       "      <td>0.473347</td>\n",
       "      <td>0.378491</td>\n",
       "    </tr>\n",
       "    <tr>\n",
       "      <th>TCGA-CM-4746-01A</th>\n",
       "      <td>0.669615</td>\n",
       "      <td>0.422436</td>\n",
       "      <td>0.193599</td>\n",
       "      <td>0.360877</td>\n",
       "      <td>0.314524</td>\n",
       "      <td>0.227667</td>\n",
       "      <td>0.441841</td>\n",
       "      <td>0.320122</td>\n",
       "      <td>0.199381</td>\n",
       "      <td>0.398690</td>\n",
       "      <td>...</td>\n",
       "      <td>0.328461</td>\n",
       "      <td>0.334631</td>\n",
       "      <td>0.408812</td>\n",
       "      <td>0.278008</td>\n",
       "      <td>0.202333</td>\n",
       "      <td>0.230239</td>\n",
       "      <td>0.284486</td>\n",
       "      <td>0.545402</td>\n",
       "      <td>0.600694</td>\n",
       "      <td>0.337249</td>\n",
       "    </tr>\n",
       "    <tr>\n",
       "      <th>TCGA-AA-3715-01A</th>\n",
       "      <td>0.622518</td>\n",
       "      <td>0.326648</td>\n",
       "      <td>0.190627</td>\n",
       "      <td>0.313258</td>\n",
       "      <td>0.418419</td>\n",
       "      <td>0.342763</td>\n",
       "      <td>0.411562</td>\n",
       "      <td>0.281887</td>\n",
       "      <td>0.183362</td>\n",
       "      <td>0.410195</td>\n",
       "      <td>...</td>\n",
       "      <td>0.330843</td>\n",
       "      <td>0.433983</td>\n",
       "      <td>0.373656</td>\n",
       "      <td>0.248503</td>\n",
       "      <td>0.248951</td>\n",
       "      <td>0.245783</td>\n",
       "      <td>0.267233</td>\n",
       "      <td>0.480531</td>\n",
       "      <td>0.539360</td>\n",
       "      <td>0.291560</td>\n",
       "    </tr>\n",
       "    <tr>\n",
       "      <th>TCGA-ZF-AA4X-01A</th>\n",
       "      <td>0.644204</td>\n",
       "      <td>0.507525</td>\n",
       "      <td>0.354691</td>\n",
       "      <td>0.470252</td>\n",
       "      <td>0.431265</td>\n",
       "      <td>0.479479</td>\n",
       "      <td>0.473065</td>\n",
       "      <td>0.458074</td>\n",
       "      <td>0.302620</td>\n",
       "      <td>0.540033</td>\n",
       "      <td>...</td>\n",
       "      <td>0.272192</td>\n",
       "      <td>0.340921</td>\n",
       "      <td>0.489686</td>\n",
       "      <td>0.349190</td>\n",
       "      <td>0.364265</td>\n",
       "      <td>0.504401</td>\n",
       "      <td>0.345156</td>\n",
       "      <td>0.526444</td>\n",
       "      <td>0.491752</td>\n",
       "      <td>0.432605</td>\n",
       "    </tr>\n",
       "    <tr>\n",
       "      <th>TCGA-E2-A15I-01A</th>\n",
       "      <td>0.565914</td>\n",
       "      <td>0.462406</td>\n",
       "      <td>0.637629</td>\n",
       "      <td>0.462654</td>\n",
       "      <td>0.461906</td>\n",
       "      <td>0.548986</td>\n",
       "      <td>0.418634</td>\n",
       "      <td>0.427729</td>\n",
       "      <td>0.398890</td>\n",
       "      <td>0.532044</td>\n",
       "      <td>...</td>\n",
       "      <td>0.499792</td>\n",
       "      <td>0.386805</td>\n",
       "      <td>0.376231</td>\n",
       "      <td>0.392165</td>\n",
       "      <td>0.421785</td>\n",
       "      <td>0.459153</td>\n",
       "      <td>0.409231</td>\n",
       "      <td>0.507025</td>\n",
       "      <td>0.387143</td>\n",
       "      <td>0.674823</td>\n",
       "    </tr>\n",
       "  </tbody>\n",
       "</table>\n",
       "<p>5 rows × 13854 columns</p>\n",
       "</div>"
      ],
      "text/plain": [
       "                  ENSG00000000003.13  ENSG00000000419.11  ENSG00000000457.12  \\\n",
       "TCGA-CK-6748-01A            0.630104            0.358433            0.264448   \n",
       "TCGA-CM-4746-01A            0.669615            0.422436            0.193599   \n",
       "TCGA-AA-3715-01A            0.622518            0.326648            0.190627   \n",
       "TCGA-ZF-AA4X-01A            0.644204            0.507525            0.354691   \n",
       "TCGA-E2-A15I-01A            0.565914            0.462406            0.637629   \n",
       "\n",
       "                  ENSG00000000460.15  ENSG00000000938.11  ENSG00000000971.14  \\\n",
       "TCGA-CK-6748-01A            0.288246            0.386009            0.390725   \n",
       "TCGA-CM-4746-01A            0.360877            0.314524            0.227667   \n",
       "TCGA-AA-3715-01A            0.313258            0.418419            0.342763   \n",
       "TCGA-ZF-AA4X-01A            0.470252            0.431265            0.479479   \n",
       "TCGA-E2-A15I-01A            0.462654            0.461906            0.548986   \n",
       "\n",
       "                  ENSG00000001036.12  ENSG00000001084.9  ENSG00000001167.13  \\\n",
       "TCGA-CK-6748-01A            0.428127           0.330503            0.188066   \n",
       "TCGA-CM-4746-01A            0.441841           0.320122            0.199381   \n",
       "TCGA-AA-3715-01A            0.411562           0.281887            0.183362   \n",
       "TCGA-ZF-AA4X-01A            0.473065           0.458074            0.302620   \n",
       "TCGA-E2-A15I-01A            0.418634           0.427729            0.398890   \n",
       "\n",
       "                  ENSG00000001460.16        ...          ENSG00000280237.1  \\\n",
       "TCGA-CK-6748-01A            0.445461        ...                   0.367091   \n",
       "TCGA-CM-4746-01A            0.398690        ...                   0.328461   \n",
       "TCGA-AA-3715-01A            0.410195        ...                   0.330843   \n",
       "TCGA-ZF-AA4X-01A            0.540033        ...                   0.272192   \n",
       "TCGA-E2-A15I-01A            0.532044        ...                   0.499792   \n",
       "\n",
       "                  ENSG00000280411.1  ENSG00000280734.1  ENSG00000280789.1  \\\n",
       "TCGA-CK-6748-01A           0.458372           0.362405           0.252112   \n",
       "TCGA-CM-4746-01A           0.334631           0.408812           0.278008   \n",
       "TCGA-AA-3715-01A           0.433983           0.373656           0.248503   \n",
       "TCGA-ZF-AA4X-01A           0.340921           0.489686           0.349190   \n",
       "TCGA-E2-A15I-01A           0.386805           0.376231           0.392165   \n",
       "\n",
       "                  ENSG00000280798.1  ENSG00000280832.1  ENSG00000281332.1  \\\n",
       "TCGA-CK-6748-01A           0.323799           0.221584           0.275924   \n",
       "TCGA-CM-4746-01A           0.202333           0.230239           0.284486   \n",
       "TCGA-AA-3715-01A           0.248951           0.245783           0.267233   \n",
       "TCGA-ZF-AA4X-01A           0.364265           0.504401           0.345156   \n",
       "TCGA-E2-A15I-01A           0.421785           0.459153           0.409231   \n",
       "\n",
       "                  ENSG00000281398.1  ENSG00000281406.1  ENSG00000281649.1  \n",
       "TCGA-CK-6748-01A           0.503156           0.473347           0.378491  \n",
       "TCGA-CM-4746-01A           0.545402           0.600694           0.337249  \n",
       "TCGA-AA-3715-01A           0.480531           0.539360           0.291560  \n",
       "TCGA-ZF-AA4X-01A           0.526444           0.491752           0.432605  \n",
       "TCGA-E2-A15I-01A           0.507025           0.387143           0.674823  \n",
       "\n",
       "[5 rows x 13854 columns]"
      ]
     },
     "execution_count": 38,
     "metadata": {},
     "output_type": "execute_result"
    }
   ],
   "source": [
    "# How well does the model reconstruct the input RNAseq data\n",
    "input_rnaseq_reconstruct = decoder.predict(np.array(z_df))\n",
    "input_rnaseq_reconstruct = pd.DataFrame(input_rnaseq_reconstruct, index=rnaseq_df.index,\n",
    "                                        columns=rnaseq_df.columns)\n",
    "input_rnaseq_reconstruct.head(5)"
   ]
  },
  {
   "cell_type": "code",
   "execution_count": 39,
   "metadata": {},
   "outputs": [],
   "source": [
    "#test the fidelity\n",
    "reconstruction_fidelity = abs(rnaseq_df - input_rnaseq_reconstruct)\n",
    "\n",
    "reconstruction_loss = reconstruction_fidelity.mean(axis = 1)\n",
    "\n",
    "#print(reconstruction_loss)\n",
    "\n",
    "gene_mean = reconstruction_fidelity.mean(axis=0)\n",
    "gene_abssum = reconstruction_fidelity.abs().sum(axis=0).divide(rnaseq_df.shape[0])\n",
    "gene_summary = pd.DataFrame([gene_mean, gene_abssum], index=['gene mean', 'gene abs(sum)']).T\n",
    "#gene_summary.sort_values(by='gene abs(sum)', ascending=False).head(20)"
   ]
  },
  {
   "cell_type": "code",
   "execution_count": 40,
   "metadata": {},
   "outputs": [
    {
     "name": "stdout",
     "output_type": "stream",
     "text": [
      "0.07543522471\n"
     ]
    }
   ],
   "source": [
    "reconstruction_loss_used = losses.mean_absolute_error(rnaseq_df, input_rnaseq_reconstruct) #* original_dim\n",
    "with tf.Session() as sess:\n",
    "    #print the reconstruction loss that we calculated\n",
    "    mean_reconstruct_loss = sess.run(K.mean(reconstruction_loss_used))\n",
    "    print (\"%.11f\" % mean_reconstruct_loss)"
   ]
  },
  {
   "cell_type": "code",
   "execution_count": 41,
   "metadata": {
    "scrolled": true
   },
   "outputs": [
    {
     "name": "stdout",
     "output_type": "stream",
     "text": [
      "0.42316198349\n"
     ]
    }
   ],
   "source": [
    "kl_loss = - 0.5 * K.sum(1 + z_log_var_d - K.square(z_mean_d) - \n",
    "                                K.exp(z_log_var_d), axis=-1) / latent_dim\n",
    "with tf.Session() as sess:\n",
    "    #print the kl loss that we calculated\n",
    "    mean_kl_loss = sess.run(K.mean(kl_loss))\n",
    "    print (\"%.11f\" %mean_kl_loss)"
   ]
  },
  {
   "cell_type": "code",
   "execution_count": 42,
   "metadata": {},
   "outputs": [
    {
     "name": "stdout",
     "output_type": "stream",
     "text": [
      "0.49859720820\n"
     ]
    }
   ],
   "source": [
    "print (\"%.11f\" % (mean_reconstruct_loss + alpha * mean_kl_loss))"
   ]
  },
  {
   "cell_type": "code",
   "execution_count": null,
   "metadata": {},
   "outputs": [],
   "source": [
    "# Encode rnaseq into the hidden/latent representation - and save output\n",
    "#encoded_rnaseq_df\n",
    "\n",
    "z_df = encoder.predict_on_batch(Exprframe)\n",
    "\n",
    "z_df = pd.DataFrame(z_df, index=Exprframe.index)\n",
    "\n",
    "z_df.columns.name = 'sample_id'\n",
    "z_df.columns = z_df.columns + 1\n",
    "z_df.head(10)\n",
    "\n",
    "encoded_file = \"counts_data/vae_compressed/encoded_5cancers_rnaseq_vae(perSp,a1.0,unlabel,0.2_var,8LF6k4,z50,minmax).tsv\"\n",
    "#encoded_file = \"counts_data/vae_compressed/encoded_4_cancers_rnaseq_vae(perSp,a0,unlabel,0.2_var,3LF6k,z500,minmax).tsv\"\n",
    "z_df.to_csv(encoded_file, sep='\\t')"
   ]
  },
  {
   "cell_type": "code",
   "execution_count": null,
   "metadata": {},
   "outputs": [],
   "source": [
    "#####################################################"
   ]
  }
 ],
 "metadata": {
  "kernelspec": {
   "display_name": "Python [conda env:tensorflow-gpu-test]",
   "language": "python",
   "name": "conda-env-tensorflow-gpu-test-py"
  },
  "language_info": {
   "codemirror_mode": {
    "name": "ipython",
    "version": 3
   },
   "file_extension": ".py",
   "mimetype": "text/x-python",
   "name": "python",
   "nbconvert_exporter": "python",
   "pygments_lexer": "ipython3",
   "version": "3.5.5"
  }
 },
 "nbformat": 4,
 "nbformat_minor": 1
}
